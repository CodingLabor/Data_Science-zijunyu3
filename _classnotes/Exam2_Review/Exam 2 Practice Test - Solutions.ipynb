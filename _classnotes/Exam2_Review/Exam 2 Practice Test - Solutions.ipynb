{
 "cells": [
  {
   "cell_type": "markdown",
   "metadata": {},
   "source": [
    "# Exam 2 Review - Solutions\n",
    "\n",
    "## <u>Case Study</u>: U.K. Smoker's Dataset\n",
    "\n",
    "In this Exam 2 Review, we will explore our U.K. smoking dataset again.\n",
    "\n",
    "Recall, that this dataset is comprised of a random sample of 421 smokers that live in the U.K.\n",
    "\n",
    "The dataset contains information about the smokers including their:\n",
    "* sex\n",
    "* age\n",
    "* marital status\n",
    "* highest qualification\n",
    "* nationality\n",
    "* gross income\n",
    "* region of the U.K. that live in.\n",
    "\n",
    "The dataset also contains information about the habits of each of the smokers including:\n",
    "* the amount of cigarettes that they smoke on the weekends\n",
    "* the amount of cigarettes that they smoke on the weekdays\n",
    "* the type of cigarettes that they smoke.\n",
    "\n",
    "\n"
   ]
  },
  {
   "cell_type": "markdown",
   "metadata": {},
   "source": [
    "## Preliminary\n",
    "### Imports"
   ]
  },
  {
   "cell_type": "code",
   "execution_count": 1,
   "metadata": {},
   "outputs": [],
   "source": [
    "import pandas as pd\n",
    "import numpy as np\n",
    "import seaborn as sns\n",
    "import matplotlib.pyplot as plt\n",
    "\n",
    "from scipy.stats import t, norm, f\n",
    "\n",
    "import statsmodels.api as sm\n",
    "import statsmodels.formula.api as smf"
   ]
  },
  {
   "cell_type": "markdown",
   "metadata": {},
   "source": [
    "### Read the smoking.csv into a dataframe called df."
   ]
  },
  {
   "cell_type": "code",
   "execution_count": 2,
   "metadata": {},
   "outputs": [
    {
     "data": {
      "text/html": [
       "<div>\n",
       "<style scoped>\n",
       "    .dataframe tbody tr th:only-of-type {\n",
       "        vertical-align: middle;\n",
       "    }\n",
       "\n",
       "    .dataframe tbody tr th {\n",
       "        vertical-align: top;\n",
       "    }\n",
       "\n",
       "    .dataframe thead th {\n",
       "        text-align: right;\n",
       "    }\n",
       "</style>\n",
       "<table border=\"1\" class=\"dataframe\">\n",
       "  <thead>\n",
       "    <tr style=\"text-align: right;\">\n",
       "      <th></th>\n",
       "      <th>sex</th>\n",
       "      <th>age</th>\n",
       "      <th>marital_status</th>\n",
       "      <th>highest_qualification</th>\n",
       "      <th>nationality</th>\n",
       "      <th>gross_income</th>\n",
       "      <th>region</th>\n",
       "      <th>smoke</th>\n",
       "      <th>amt_weekends</th>\n",
       "      <th>amt_weekdays</th>\n",
       "      <th>type</th>\n",
       "    </tr>\n",
       "  </thead>\n",
       "  <tbody>\n",
       "    <tr>\n",
       "      <th>0</th>\n",
       "      <td>Female</td>\n",
       "      <td>42</td>\n",
       "      <td>Single</td>\n",
       "      <td>No Qualification</td>\n",
       "      <td>British</td>\n",
       "      <td>Under 2,600</td>\n",
       "      <td>The North</td>\n",
       "      <td>Yes</td>\n",
       "      <td>12</td>\n",
       "      <td>12</td>\n",
       "      <td>Packets</td>\n",
       "    </tr>\n",
       "    <tr>\n",
       "      <th>1</th>\n",
       "      <td>Male</td>\n",
       "      <td>53</td>\n",
       "      <td>Married</td>\n",
       "      <td>Degree</td>\n",
       "      <td>British</td>\n",
       "      <td>Above 36,400</td>\n",
       "      <td>The North</td>\n",
       "      <td>Yes</td>\n",
       "      <td>6</td>\n",
       "      <td>6</td>\n",
       "      <td>Packets</td>\n",
       "    </tr>\n",
       "    <tr>\n",
       "      <th>2</th>\n",
       "      <td>Male</td>\n",
       "      <td>40</td>\n",
       "      <td>Single</td>\n",
       "      <td>GCSE/CSE</td>\n",
       "      <td>English</td>\n",
       "      <td>2,600 to 5,200</td>\n",
       "      <td>The North</td>\n",
       "      <td>Yes</td>\n",
       "      <td>8</td>\n",
       "      <td>8</td>\n",
       "      <td>Hand-Rolled</td>\n",
       "    </tr>\n",
       "    <tr>\n",
       "      <th>3</th>\n",
       "      <td>Female</td>\n",
       "      <td>41</td>\n",
       "      <td>Married</td>\n",
       "      <td>No Qualification</td>\n",
       "      <td>English</td>\n",
       "      <td>5,200 to 10,400</td>\n",
       "      <td>The North</td>\n",
       "      <td>Yes</td>\n",
       "      <td>15</td>\n",
       "      <td>12</td>\n",
       "      <td>Packets</td>\n",
       "    </tr>\n",
       "    <tr>\n",
       "      <th>4</th>\n",
       "      <td>Female</td>\n",
       "      <td>34</td>\n",
       "      <td>Married</td>\n",
       "      <td>GCSE/CSE</td>\n",
       "      <td>British</td>\n",
       "      <td>2,600 to 5,200</td>\n",
       "      <td>The North</td>\n",
       "      <td>Yes</td>\n",
       "      <td>6</td>\n",
       "      <td>12</td>\n",
       "      <td>Packets</td>\n",
       "    </tr>\n",
       "  </tbody>\n",
       "</table>\n",
       "</div>"
      ],
      "text/plain": [
       "      sex  age marital_status highest_qualification nationality  \\\n",
       "0  Female   42         Single      No Qualification     British   \n",
       "1    Male   53        Married                Degree     British   \n",
       "2    Male   40         Single              GCSE/CSE     English   \n",
       "3  Female   41        Married      No Qualification     English   \n",
       "4  Female   34        Married              GCSE/CSE     British   \n",
       "\n",
       "      gross_income     region smoke  amt_weekends  amt_weekdays         type  \n",
       "0      Under 2,600  The North   Yes            12            12      Packets  \n",
       "1     Above 36,400  The North   Yes             6             6      Packets  \n",
       "2   2,600 to 5,200  The North   Yes             8             8  Hand-Rolled  \n",
       "3  5,200 to 10,400  The North   Yes            15            12      Packets  \n",
       "4   2,600 to 5,200  The North   Yes             6            12      Packets  "
      ]
     },
     "execution_count": 2,
     "metadata": {},
     "output_type": "execute_result"
    }
   ],
   "source": [
    "df=pd.read_csv('smoking.csv')\n",
    "df.head()"
   ]
  },
  {
   "cell_type": "code",
   "execution_count": 3,
   "metadata": {},
   "outputs": [
    {
     "data": {
      "text/plain": [
       "sex                      object\n",
       "age                       int64\n",
       "marital_status           object\n",
       "highest_qualification    object\n",
       "nationality              object\n",
       "gross_income             object\n",
       "region                   object\n",
       "smoke                    object\n",
       "amt_weekends              int64\n",
       "amt_weekdays              int64\n",
       "type                     object\n",
       "dtype: object"
      ]
     },
     "execution_count": 3,
     "metadata": {},
     "output_type": "execute_result"
    }
   ],
   "source": [
    "df.dtypes"
   ]
  },
  {
   "cell_type": "code",
   "execution_count": 4,
   "metadata": {},
   "outputs": [
    {
     "data": {
      "text/plain": [
       "array(['Under 2,600', 'Above 36,400', '2,600 to 5,200', '5,200 to 10,400',\n",
       "       'Refused', '15,600 to 20,800', '20,800 to 28,600',\n",
       "       '10,400 to 15,600', '28,600 to 36,400', 'Unknown'], dtype=object)"
      ]
     },
     "execution_count": 4,
     "metadata": {},
     "output_type": "execute_result"
    }
   ],
   "source": [
    "df['gross_income'].unique()"
   ]
  },
  {
   "cell_type": "markdown",
   "metadata": {},
   "source": [
    "## Population Mean Inference\n",
    "\n",
    "We would first like to conduct inference on the average number of cigarettes ALL UK smokers smoke on the weekends.\n",
    "\n",
    "### First, check the conditions on conducting this type of inference."
   ]
  },
  {
   "cell_type": "markdown",
   "metadata": {},
   "source": [
    "1. The sample size is n = 421 >30 (we could have also tried to check if the sample/population distribution of the number of cigarettes smoked on the weekends is normally distributed.\n",
    "2. The sample is randomly collected.\n",
    "3. The sample size n=421 <10% of the UK smoker population. \n",
    "\n",
    "Thus because the conditions are met, we are allowed to conduct inference on the population mean number of cigarettes smoked on the weekends for all of the UK smokers."
   ]
  },
  {
   "cell_type": "code",
   "execution_count": 5,
   "metadata": {},
   "outputs": [
    {
     "data": {
      "text/plain": [
       "(421, 11)"
      ]
     },
     "execution_count": 5,
     "metadata": {},
     "output_type": "execute_result"
    }
   ],
   "source": [
    "df.shape"
   ]
  },
  {
   "cell_type": "markdown",
   "metadata": {},
   "source": [
    "### Next, calculate a 90% confidence interval for this population mean."
   ]
  },
  {
   "cell_type": "markdown",
   "metadata": {},
   "source": [
    "Because we don't know $\\sigma$ (the population standard deviation), we must use $s$ instead of $\\sigma$ and use the t distribution (with $df=n-1=421-1$ degrees of freedom) for the critical value instead of the z-distribution (ie. standard normal distribution)."
   ]
  },
  {
   "cell_type": "code",
   "execution_count": 6,
   "metadata": {},
   "outputs": [
    {
     "name": "stdout",
     "output_type": "stream",
     "text": [
      "n 421\n",
      "alpha 0.1\n",
      "critical_value 1.648489713050696\n",
      "sample mean 13.750593824228028\n",
      "sample standard deviation 9.388292145456381\n",
      "standard error 0.4575573621826023\n"
     ]
    }
   ],
   "source": [
    "\n",
    "#n\n",
    "n=421\n",
    "print('n',n)\n",
    "\n",
    "#alpha = 1- confidence level\n",
    "alpha=0.10\n",
    "print('alpha', alpha)\n",
    "\n",
    "# Critical Value\n",
    "critical_value=t.ppf(1-alpha/2, df=n-1)\n",
    "print('critical_value', critical_value)\n",
    "\n",
    "# sample mean\n",
    "sample_mean=df['amt_weekdays'].mean()\n",
    "print('sample mean', sample_mean)\n",
    "\n",
    "\n",
    "# sample standard deviation\n",
    "sample_std=df['amt_weekdays'].std()\n",
    "print('sample standard deviation', sample_std)\n",
    "\n",
    "# standard error\n",
    "se=sample_std/np.sqrt(n)\n",
    "print('standard error', se)"
   ]
  },
  {
   "cell_type": "code",
   "execution_count": 7,
   "metadata": {},
   "outputs": [
    {
     "name": "stdout",
     "output_type": "stream",
     "text": [
      "90% Confidence Interval\n",
      "12.996315219539397 14.50487242891666\n"
     ]
    }
   ],
   "source": [
    "# Confidence interval lower bound\n",
    "cl_lower=sample_mean-critical_value*se\n",
    "\n",
    "# Confidence interval upper bound\n",
    "cl_upper=sample_mean+critical_value*se\n",
    "\n",
    "print('90% Confidence Interval')\n",
    "print(cl_lower,cl_upper)"
   ]
  },
  {
   "cell_type": "markdown",
   "metadata": {},
   "source": [
    "### Put this confidence interval into words (ie. interpret it)."
   ]
  },
  {
   "cell_type": "markdown",
   "metadata": {},
   "source": [
    "We are 90% confident that the average number of cigarattes smoked by all people in the UK on a weekend is between 12.996 and 14.505."
   ]
  },
  {
   "cell_type": "markdown",
   "metadata": {},
   "source": [
    "### If we were to collect 1000 random samples, each of size n=421 of UK smokers with replacement, and create a 90% confidence interval with each of these random samples for the average number of weekend cigarettes smoked by all UK smokers, what percent of these confidence intervals would we expect to contain the *actual* average average number of weekend cigarettes smoked by all UK smokers?"
   ]
  },
  {
   "cell_type": "markdown",
   "metadata": {},
   "source": [
    "900=0.90*1000"
   ]
  },
  {
   "cell_type": "markdown",
   "metadata": {},
   "source": [
    "### We would like to test if the average UK smoker smokes a number of weekend cigarattes that is different than the amount in a general pack of cigarettes (ie 20). Formulate the hypotheses that would test this claim."
   ]
  },
  {
   "cell_type": "markdown",
   "metadata": {},
   "source": [
    "$H_0: \\mu=20$\n",
    "\n",
    "$H_A: \\mu\\neq 20$"
   ]
  },
  {
   "cell_type": "markdown",
   "metadata": {},
   "source": [
    "### Evaluate these hypotheses with the 90% confidence interval."
   ]
  },
  {
   "cell_type": "markdown",
   "metadata": {},
   "source": [
    "The null value ($\\mu=20$) is not inside the 90% confidence interval, therefore we reject the null hypothesis. Thus there is sufficient evidence to suggest that the average UK smoker smokes a number of weekend cigarettes that is not equal to 20."
   ]
  },
  {
   "cell_type": "markdown",
   "metadata": {},
   "source": [
    "### Evaluate these hypotheses using a p-value and the $\\alpha$ that corresponds to a 90% confidence interval."
   ]
  },
  {
   "cell_type": "code",
   "execution_count": 8,
   "metadata": {},
   "outputs": [
    {
     "data": {
      "text/plain": [
       "-13.658191720403254"
      ]
     },
     "execution_count": 8,
     "metadata": {},
     "output_type": "execute_result"
    }
   ],
   "source": [
    "t_stat=(sample_mean-20)/se\n",
    "t_stat"
   ]
  },
  {
   "cell_type": "code",
   "execution_count": 9,
   "metadata": {},
   "outputs": [
    {
     "data": {
      "text/plain": [
       "0.0"
      ]
     },
     "execution_count": 9,
     "metadata": {},
     "output_type": "execute_result"
    }
   ],
   "source": [
    "p_value=2*(1-t.cdf(np.abs(t_stat), df=n-1))\n",
    "p_value"
   ]
  },
  {
   "cell_type": "markdown",
   "metadata": {},
   "source": [
    "Because the $p-value\\approx 0<\\alpha=.10$, we reject the null hypothesis. Thus there is sufficient evidence to suggest that the average UK smoker smokes a number of weekend cigarettes that is not equal to 20."
   ]
  },
  {
   "cell_type": "markdown",
   "metadata": {},
   "source": [
    "### Standard Normal Distribution and t-distribution Theory/Properties Questions \n",
    "\n",
    "1. Does the standard normal distribution or the t-distribution have thicker tails?\n",
    "<br/>\n",
    "<br/>\n",
    "<br/>\n",
    "<br/>\n",
    "<br/>\n",
    "<br/>\n",
    "<br/>\n",
    "<br/>\n",
    "<br/>\n",
    "<br/>\n",
    "<br/>\n",
    "<br/>\n",
    "<br/>\n",
    "<br/>\n",
    "\n"
   ]
  },
  {
   "cell_type": "markdown",
   "metadata": {},
   "source": [
    "The t-distribution."
   ]
  },
  {
   "cell_type": "markdown",
   "metadata": {},
   "source": [
    "2. In general, (all else held equal) which will produce a wider 95% confidence interval: one created with a critical value that is an observation from the standard normal (z) distribution or one created with a critical value that is an observation from the t-distribution?\n",
    "<br/>\n",
    "<br/>\n",
    "<br/>\n",
    "<br/>\n",
    "<br/>\n",
    "<br/>\n",
    "<br/>\n",
    "<br/>\n",
    "<br/>\n",
    "<br/>\n",
    "<br/>\n",
    "<br/>\n",
    "<br/>\n",
    "<br/>\n",
    "<br/>\n",
    "<br/>"
   ]
  },
  {
   "cell_type": "markdown",
   "metadata": {},
   "source": [
    "Because the t-distribution has thicker tails, the critical value (t) (and -t) have to be further away from the center of the distribution (ie 0) in order to encapsulate 95% in the middle. Thus the critical value (t) from the t-distribution will be larger than the critical value (Z) from the z-distribution. Thus the 95% confidence interval will be wider, all else held equal."
   ]
  },
  {
   "cell_type": "markdown",
   "metadata": {},
   "source": [
    "## Population Mean Difference Inference\n",
    "\n",
    "Next, we would first like to conduct inference on the difference between the average number of cigarettes ALL female UK smokers smoke on the weekends and the average number of cigarettes ALL male UK smokers smoke on the weekends.\n",
    "\n",
    "### First, check the conditions on conducting this type of inference."
   ]
  },
  {
   "cell_type": "markdown",
   "metadata": {},
   "source": [
    "1. The sample size of females is n = 234 >30 (we could have also tried to check if the sample/population distribution of the number of cigarettes smoked by females on the weekends is normally distributed).\n",
    "2. The sample of UK females is randomly collected.\n",
    "3. The sample size n=234 <10% of the UK female smoker population. \n",
    "\n",
    "4. The sample size of males is n = 187 >30 (we could have also tried to check if the sample/population distribution of the number of cigarettes smoked by males on the weekends is normally distributed).\n",
    "5. The sample of UK males is randomly collected.\n",
    "6. The sample size n=187 <10% of the UK males smoker population. \n",
    "\n",
    "7. We should also check that the males and females were collected independently in this study. (For instance, if the males and females in this sample were married to to eachother, then the male and female respondents would not be indenpendent of each other).\n",
    "\n",
    "Thus because the conditions are met, we are allowed to conduct inference on the difference between the average number of cigarettes ALL female UK smokers smoke on the weekends and the average number of cigarettes ALL male UK smokers smoke on the weekends."
   ]
  },
  {
   "cell_type": "code",
   "execution_count": 10,
   "metadata": {},
   "outputs": [
    {
     "data": {
      "text/plain": [
       "Female    234\n",
       "Male      187\n",
       "Name: sex, dtype: int64"
      ]
     },
     "execution_count": 10,
     "metadata": {},
     "output_type": "execute_result"
    }
   ],
   "source": [
    "df['sex'].value_counts()"
   ]
  },
  {
   "cell_type": "markdown",
   "metadata": {},
   "source": [
    "### Next, calculate a 99% confidence interval for this population mean difference."
   ]
  },
  {
   "cell_type": "markdown",
   "metadata": {},
   "source": [
    "Because we don't know $\\sigma_f$ and $\\sigma_m$ (the population standard deviations), we must use $s_f$ and $s_m$ instead and use the t distribution (with $df=min(n_f-1,n_m-1)=min(234-1,187-1)=186$ degrees of freedom) for the critical value instead of the z-distribution (ie. standard normal distribution)."
   ]
  },
  {
   "cell_type": "code",
   "execution_count": 11,
   "metadata": {},
   "outputs": [
    {
     "name": "stdout",
     "output_type": "stream",
     "text": [
      "nf 234\n",
      "nm 187\n",
      "alpha 0.01\n",
      "critical_value 2.6025196219606745\n",
      "sample mean females 12.02991452991453\n",
      "sample mean males 15.903743315508022\n",
      "sample standard deviation females 7.353370836127314\n",
      "sample standard deviation male 11.086237564277987\n",
      "standard error 0.9425080263671314\n"
     ]
    }
   ],
   "source": [
    "\n",
    "#n\n",
    "nf=234\n",
    "nm=187\n",
    "print('nf',nf)\n",
    "print('nm',nm)\n",
    "\n",
    "#alpha = 1- confidence level\n",
    "alpha=0.01\n",
    "print('alpha', alpha)\n",
    "\n",
    "# Critical Value\n",
    "critical_value=t.ppf(1-alpha/2, df=186)\n",
    "print('critical_value', critical_value)\n",
    "\n",
    "# sample mean\n",
    "sample_mean_f=df[df['sex']=='Female']['amt_weekdays'].mean()\n",
    "print('sample mean females', sample_mean_f)\n",
    "sample_mean_m=df[df['sex']=='Male']['amt_weekdays'].mean()\n",
    "print('sample mean males', sample_mean_m)\n",
    "\n",
    "# sample standard deviation\n",
    "sample_std_f=df[df['sex']=='Female']['amt_weekdays'].std()\n",
    "print('sample standard deviation females', sample_std_f)\n",
    "sample_std_m=df[df['sex']=='Male']['amt_weekdays'].std()\n",
    "print('sample standard deviation male', sample_std_m)\n",
    "\n",
    "# standard error\n",
    "se=np.sqrt(sample_std_f**2/nf+sample_std_m**2/nm)\n",
    "print('standard error', se)"
   ]
  },
  {
   "cell_type": "code",
   "execution_count": 12,
   "metadata": {},
   "outputs": [
    {
     "name": "stdout",
     "output_type": "stream",
     "text": [
      "99% Confidence Interval\n",
      "-6.3267244180693805 -1.4209331531176037\n"
     ]
    }
   ],
   "source": [
    "# Confidence interval lower bound\n",
    "cl_lower=(sample_mean_f-sample_mean_m)-critical_value*se\n",
    "\n",
    "# Confidence interval upper bound\n",
    "cl_upper=(sample_mean_f-sample_mean_m)+critical_value*se\n",
    "\n",
    "print('99% Confidence Interval')\n",
    "print(cl_lower,cl_upper)"
   ]
  },
  {
   "cell_type": "markdown",
   "metadata": {},
   "source": [
    "### Put this confidence interval into words (ie. interpret it)."
   ]
  },
  {
   "cell_type": "markdown",
   "metadata": {},
   "source": [
    "We are 99% confident that the difference in the average number of cigarattes smoked by all females in the UK on a weekend and the average number of cigarattes smoked by all males in the UK on a weekend is between -6.327 and -1.421."
   ]
  },
  {
   "cell_type": "markdown",
   "metadata": {},
   "source": [
    "### We would like to test if there is a difference in the average number of weekend cigarettes females in the UK smoke vs the average number of weekend cigarettes males in the UK smoke. Formulate the hypotheses that would test this claim."
   ]
  },
  {
   "cell_type": "markdown",
   "metadata": {},
   "source": [
    "$H_0: \\mu_f-\\mu_m=0$\n",
    "\n",
    "$H_A: \\mu_f-\\mu_m\\neq 0$"
   ]
  },
  {
   "cell_type": "markdown",
   "metadata": {},
   "source": [
    "### Evaluate these hypotheses with the 99% confidence interval."
   ]
  },
  {
   "cell_type": "markdown",
   "metadata": {},
   "source": [
    "The null value ($\\mu_{f}-\\mu_m=0$) is not inside the 99% confidence interval, therefore we reject the null hypothesis. Thus there is sufficient evidence to suggest  there is a difference in the average number of weekend cigarettes females in the UK smoke vs the average number of weekend cigarettes males in the UK smoke. In other words, there is sufficient evidence to suggest that there is an association between sex and weekend smoking habits in the UK."
   ]
  },
  {
   "cell_type": "markdown",
   "metadata": {},
   "source": [
    "### Evaluate these hypotheses using a p-value and the $\\alpha$ that corresponds to a 99% confidence interval."
   ]
  },
  {
   "cell_type": "code",
   "execution_count": 13,
   "metadata": {},
   "outputs": [
    {
     "name": "stdout",
     "output_type": "stream",
     "text": [
      "Test Statistic -4.110128165725069\n"
     ]
    }
   ],
   "source": [
    "t_stat=((sample_mean_f-sample_mean_m)-0)/se\n",
    "print('Test Statistic', t_stat)"
   ]
  },
  {
   "cell_type": "code",
   "execution_count": 14,
   "metadata": {},
   "outputs": [
    {
     "name": "stdout",
     "output_type": "stream",
     "text": [
      "p-value 5.925187558109002e-05\n"
     ]
    }
   ],
   "source": [
    "p_value=2*(1-t.cdf(np.abs(t_stat), df=186))\n",
    "print('p-value', p_value)"
   ]
  },
  {
   "cell_type": "markdown",
   "metadata": {},
   "source": [
    "Because the $p-value\\approx 0 <\\alpha=.01$, we reject the null hypothesis. Thus there is sufficient evidence to there is a difference in the average number of weekend cigarettes females in the UK smoke vs the average number of weekend cigarettes males in the UK smoke. In other words, there is sufficient evidence to suggest that there is an association between sex and weekend smoking habits in the UK."
   ]
  },
  {
   "cell_type": "markdown",
   "metadata": {},
   "source": [
    "### Intuition Behind Population Mean Difference Infererence\n",
    "\n",
    "Use the test statistic and p-value that you calculated in this problem to fill in the blanks for (1)-(20) in the attached pdf.\n",
    "\n",
    "The questions in the pdf are to designed to test that you know that's \"going on behind the scenes\" when we calculate the p-value and use it to make a conclusion."
   ]
  },
  {
   "cell_type": "markdown",
   "metadata": {},
   "source": [
    "<u>Answers:</u>:\n",
    "\n",
    "(1) sa\n"
   ]
  },
  {
   "cell_type": "code",
   "execution_count": null,
   "metadata": {},
   "outputs": [],
   "source": []
  },
  {
   "cell_type": "markdown",
   "metadata": {},
   "source": [
    "## Population Proportion Inference\n",
    "\n",
    "We would first like to conduct inference on the proportion of all UK smokers that smoke packets.\n",
    "\n",
    "### Confidence Interval\n",
    "\n",
    "#### First, check the conditions for creating a confidence interval (first assuming we have no hypothesis we'd like to test)."
   ]
  },
  {
   "cell_type": "markdown",
   "metadata": {},
   "source": [
    "<u>Because we are not assuming that there is a hypothesis test (yet), we will use $\\hat{p}$ in the conditions as well as the standard error.</u>\n",
    "\n",
    "1. The sample size is $n\\hat{p} = 421(0.705) \\geq 10$ and $n(1-\\hat{p})=421(1-\\hat{p})\\geq 10$\n",
    "2. The sample is randomly collected.\n",
    "3. The sample size n=421 <10% of the UK smoker population. \n",
    "\n",
    "Thus because the conditions are met, we are allowed to create a confidence interval for the proportion of all UK smokers that smoke packets."
   ]
  },
  {
   "cell_type": "code",
   "execution_count": 15,
   "metadata": {},
   "outputs": [
    {
     "data": {
      "text/plain": [
       "(421, 11)"
      ]
     },
     "execution_count": 15,
     "metadata": {},
     "output_type": "execute_result"
    }
   ],
   "source": [
    "df.shape"
   ]
  },
  {
   "cell_type": "code",
   "execution_count": 16,
   "metadata": {},
   "outputs": [
    {
     "data": {
      "text/plain": [
       "Packets                    297\n",
       "Hand-Rolled                 72\n",
       "Both/Mainly Packets         42\n",
       "Both/Mainly Hand-Rolled     10\n",
       "Name: type, dtype: int64"
      ]
     },
     "execution_count": 16,
     "metadata": {},
     "output_type": "execute_result"
    }
   ],
   "source": [
    "df['type'].value_counts()"
   ]
  },
  {
   "cell_type": "code",
   "execution_count": 17,
   "metadata": {},
   "outputs": [
    {
     "data": {
      "text/plain": [
       "0.7054631828978623"
      ]
     },
     "execution_count": 17,
     "metadata": {},
     "output_type": "execute_result"
    }
   ],
   "source": [
    "sample_proportion = 297/421\n",
    "sample_proportion"
   ]
  },
  {
   "cell_type": "markdown",
   "metadata": {},
   "source": [
    "#### Next, calculate a 95% confidence interval for this population proportion."
   ]
  },
  {
   "cell_type": "markdown",
   "metadata": {},
   "source": [
    "We always use the z-distribution for inference on a population proportion."
   ]
  },
  {
   "cell_type": "code",
   "execution_count": 18,
   "metadata": {},
   "outputs": [
    {
     "name": "stdout",
     "output_type": "stream",
     "text": [
      "n 421\n",
      "alpha 0.05\n",
      "critical_value 1.959963984540054\n",
      "sample proportion 0.7054631828978623\n",
      "standard error 0.022216002902696867\n"
     ]
    }
   ],
   "source": [
    "\n",
    "#n\n",
    "n=421\n",
    "print('n',n)\n",
    "\n",
    "#alpha = 1- confidence level\n",
    "alpha=0.05\n",
    "print('alpha', alpha)\n",
    "\n",
    "# Critical Value\n",
    "critical_value=norm.ppf(1-alpha/2)\n",
    "print('critical_value', critical_value)\n",
    "\n",
    "# sample proportion\n",
    "sample_proportion=(df['type']=='Packets').sum()/n\n",
    "print('sample proportion', sample_proportion)\n",
    "\n",
    "# standard error\n",
    "se=np.sqrt(sample_proportion*(1-sample_proportion)/n)\n",
    "print('standard error', se)"
   ]
  },
  {
   "cell_type": "code",
   "execution_count": 19,
   "metadata": {},
   "outputs": [
    {
     "name": "stdout",
     "output_type": "stream",
     "text": [
      "99% Confidence Interval\n",
      "0.6619206173281391 0.7490057484675854\n"
     ]
    }
   ],
   "source": [
    "# Confidence interval lower bound\n",
    "cl_lower=sample_proportion-critical_value*se\n",
    "\n",
    "# Confidence interval upper bound\n",
    "cl_upper=sample_proportion+critical_value*se\n",
    "\n",
    "print('99% Confidence Interval')\n",
    "print(cl_lower,cl_upper)"
   ]
  },
  {
   "cell_type": "markdown",
   "metadata": {},
   "source": [
    "#### Put this confidence interval into words (ie. interpret it)."
   ]
  },
  {
   "cell_type": "markdown",
   "metadata": {},
   "source": [
    "We are 99% confident that the proportion of UK smokers that smoke packets is between 66.19% and 74.90%."
   ]
  },
  {
   "cell_type": "markdown",
   "metadata": {},
   "source": [
    "### Hypothesis Testing\n",
    "\n",
    "#### Next, we would like to test if the proportion of UK smokers smoke packets is different from 70%. Formulate the hypotheses that would test this claim."
   ]
  },
  {
   "cell_type": "markdown",
   "metadata": {},
   "source": [
    "$H_0: p=0.7$\n",
    "\n",
    "$H_A: p \\neq 0.7$"
   ]
  },
  {
   "cell_type": "markdown",
   "metadata": {},
   "source": [
    "#### Next, check the conditions for conducting this hypothesis test."
   ]
  },
  {
   "cell_type": "markdown",
   "metadata": {},
   "source": [
    "<u>Because in our hypothesis tests we assume $H_0: p=0.7$, we will use  $p_0=0.7$ in the conditions as well as the standard error in this hyopthesis test.</u>\n",
    "\n",
    "1. The sample size is $np_0 = 421(0.70) \\geq 10$ and $n(1-p_0)=421(1-0.70)\\geq 10$\n",
    "2. The sample is randomly collected.\n",
    "3. The sample size n=421 <10% of the UK smoker population. \n",
    "\n",
    "Thus because the conditions are met, we are allowed to conduct this hypothesis test."
   ]
  },
  {
   "cell_type": "markdown",
   "metadata": {},
   "source": [
    "#### Next, calculate a 95% confidence interval for this population proportion, that will be used to evaluate our hypotheses above."
   ]
  },
  {
   "cell_type": "markdown",
   "metadata": {},
   "source": [
    "This will be the same calculations as before, except now we will use the null value $p_0=0.70$ in the standard error (instead of the sample proportion."
   ]
  },
  {
   "cell_type": "code",
   "execution_count": 20,
   "metadata": {},
   "outputs": [],
   "source": [
    "p_0=0.70"
   ]
  },
  {
   "cell_type": "code",
   "execution_count": 21,
   "metadata": {},
   "outputs": [
    {
     "name": "stdout",
     "output_type": "stream",
     "text": [
      "n 421\n",
      "alpha 0.05\n",
      "critical_value 1.959963984540054\n",
      "null value 0.7\n",
      "standard error 0.02233410735946129\n"
     ]
    }
   ],
   "source": [
    "\n",
    "#n\n",
    "n=421\n",
    "print('n',n)\n",
    "\n",
    "#alpha = 1- confidence level\n",
    "alpha=0.05\n",
    "print('alpha', alpha)\n",
    "\n",
    "# Critical Value\n",
    "critical_value=norm.ppf(1-alpha/2)\n",
    "print('critical_value', critical_value)\n",
    "\n",
    "print('null value', p_0)\n",
    "\n",
    "# standard error\n",
    "se=np.sqrt(p_0*(1-p_0)/n)\n",
    "print('standard error', se)"
   ]
  },
  {
   "cell_type": "code",
   "execution_count": 22,
   "metadata": {},
   "outputs": [
    {
     "name": "stdout",
     "output_type": "stream",
     "text": [
      "99% Confidence Interval\n",
      "0.6616891368464671 0.7492372289492574\n"
     ]
    }
   ],
   "source": [
    "# Confidence interval lower bound\n",
    "cl_lower=sample_proportion-critical_value*se\n",
    "\n",
    "# Confidence interval upper bound\n",
    "cl_upper=sample_proportion+critical_value*se\n",
    "\n",
    "print('99% Confidence Interval')\n",
    "print(cl_lower,cl_upper)"
   ]
  },
  {
   "cell_type": "markdown",
   "metadata": {},
   "source": [
    "#### Evaluate these hypotheses with the 95% confidence interval."
   ]
  },
  {
   "cell_type": "markdown",
   "metadata": {},
   "source": [
    "The null value ($p=0.70$) is inside the 95% confidence interval, therefore we fail to reject the null hypothesis. Thus there is not sufficient evidence to suggest that the proportion of UK smokers that smoke packets is different from 70%."
   ]
  },
  {
   "cell_type": "markdown",
   "metadata": {},
   "source": [
    "#### Evaluate these hypotheses using a p-value and the $\\alpha$ that corresponds to a 95% confidence interval."
   ]
  },
  {
   "cell_type": "code",
   "execution_count": 23,
   "metadata": {},
   "outputs": [
    {
     "data": {
      "text/plain": [
       "0.2446116520321979"
      ]
     },
     "execution_count": 23,
     "metadata": {},
     "output_type": "execute_result"
    }
   ],
   "source": [
    "z_stat=(sample_proportion-.7)/se\n",
    "z_stat"
   ]
  },
  {
   "cell_type": "code",
   "execution_count": 24,
   "metadata": {},
   "outputs": [
    {
     "data": {
      "text/plain": [
       "0.8067571410919188"
      ]
     },
     "execution_count": 24,
     "metadata": {},
     "output_type": "execute_result"
    }
   ],
   "source": [
    "p_value=2*(1-norm.cdf(np.abs(z_stat)))\n",
    "p_value"
   ]
  },
  {
   "cell_type": "markdown",
   "metadata": {},
   "source": [
    "Because the $p-value=0.807\\geq \\alpha=.05$, we fail to reject the null hypothesis. Thus there is not sufficient evidence to suggest that the proportion of UK smokers that smoke packets is different from 70%."
   ]
  },
  {
   "cell_type": "markdown",
   "metadata": {},
   "source": [
    "## Population Proportion Difference Inference\n",
    "\n",
    "Next we would like to see if there is a difference in the proportion of Scottish people that smoke packets and the proportion of non-Scottish people that smoke packets."
   ]
  },
  {
   "cell_type": "markdown",
   "metadata": {},
   "source": [
    "### First do the necessary data manipulations to df in order to set up this test."
   ]
  },
  {
   "cell_type": "code",
   "execution_count": 25,
   "metadata": {},
   "outputs": [
    {
     "data": {
      "text/plain": [
       "array(['British', 'English', 'Welsh', 'Irish', 'Scottish', 'Other',\n",
       "       'Unknown', 'Refused'], dtype=object)"
      ]
     },
     "execution_count": 25,
     "metadata": {},
     "output_type": "execute_result"
    }
   ],
   "source": [
    "df['nationality'].unique()"
   ]
  },
  {
   "cell_type": "code",
   "execution_count": 26,
   "metadata": {},
   "outputs": [
    {
     "name": "stderr",
     "output_type": "stream",
     "text": [
      "<ipython-input-26-ca02f3b98d2f>:2: SettingWithCopyWarning: \n",
      "A value is trying to be set on a copy of a slice from a DataFrame\n",
      "\n",
      "See the caveats in the documentation: https://pandas.pydata.org/pandas-docs/stable/user_guide/indexing.html#returning-a-view-versus-a-copy\n",
      "  df['is_scottish'][df['is_scottish']!='Scottish']='Not_Scottish'\n"
     ]
    }
   ],
   "source": [
    "df['is_scottish']=df['nationality']\n",
    "df['is_scottish'][df['is_scottish']!='Scottish']='Not_Scottish'\n"
   ]
  },
  {
   "cell_type": "code",
   "execution_count": 27,
   "metadata": {},
   "outputs": [
    {
     "name": "stderr",
     "output_type": "stream",
     "text": [
      "<ipython-input-27-167b46b47bfa>:2: SettingWithCopyWarning: \n",
      "A value is trying to be set on a copy of a slice from a DataFrame\n",
      "\n",
      "See the caveats in the documentation: https://pandas.pydata.org/pandas-docs/stable/user_guide/indexing.html#returning-a-view-versus-a-copy\n",
      "  df['is_packet'][df['is_packet']!='Packets']='Not_Packets'\n"
     ]
    },
    {
     "data": {
      "text/html": [
       "<div>\n",
       "<style scoped>\n",
       "    .dataframe tbody tr th:only-of-type {\n",
       "        vertical-align: middle;\n",
       "    }\n",
       "\n",
       "    .dataframe tbody tr th {\n",
       "        vertical-align: top;\n",
       "    }\n",
       "\n",
       "    .dataframe thead th {\n",
       "        text-align: right;\n",
       "    }\n",
       "</style>\n",
       "<table border=\"1\" class=\"dataframe\">\n",
       "  <thead>\n",
       "    <tr style=\"text-align: right;\">\n",
       "      <th></th>\n",
       "      <th>sex</th>\n",
       "      <th>age</th>\n",
       "      <th>marital_status</th>\n",
       "      <th>highest_qualification</th>\n",
       "      <th>nationality</th>\n",
       "      <th>gross_income</th>\n",
       "      <th>region</th>\n",
       "      <th>smoke</th>\n",
       "      <th>amt_weekends</th>\n",
       "      <th>amt_weekdays</th>\n",
       "      <th>type</th>\n",
       "      <th>is_scottish</th>\n",
       "      <th>is_packet</th>\n",
       "    </tr>\n",
       "  </thead>\n",
       "  <tbody>\n",
       "    <tr>\n",
       "      <th>0</th>\n",
       "      <td>Female</td>\n",
       "      <td>42</td>\n",
       "      <td>Single</td>\n",
       "      <td>No Qualification</td>\n",
       "      <td>British</td>\n",
       "      <td>Under 2,600</td>\n",
       "      <td>The North</td>\n",
       "      <td>Yes</td>\n",
       "      <td>12</td>\n",
       "      <td>12</td>\n",
       "      <td>Packets</td>\n",
       "      <td>Not_Scottish</td>\n",
       "      <td>Packets</td>\n",
       "    </tr>\n",
       "    <tr>\n",
       "      <th>1</th>\n",
       "      <td>Male</td>\n",
       "      <td>53</td>\n",
       "      <td>Married</td>\n",
       "      <td>Degree</td>\n",
       "      <td>British</td>\n",
       "      <td>Above 36,400</td>\n",
       "      <td>The North</td>\n",
       "      <td>Yes</td>\n",
       "      <td>6</td>\n",
       "      <td>6</td>\n",
       "      <td>Packets</td>\n",
       "      <td>Not_Scottish</td>\n",
       "      <td>Packets</td>\n",
       "    </tr>\n",
       "    <tr>\n",
       "      <th>2</th>\n",
       "      <td>Male</td>\n",
       "      <td>40</td>\n",
       "      <td>Single</td>\n",
       "      <td>GCSE/CSE</td>\n",
       "      <td>English</td>\n",
       "      <td>2,600 to 5,200</td>\n",
       "      <td>The North</td>\n",
       "      <td>Yes</td>\n",
       "      <td>8</td>\n",
       "      <td>8</td>\n",
       "      <td>Hand-Rolled</td>\n",
       "      <td>Not_Scottish</td>\n",
       "      <td>Not_Packets</td>\n",
       "    </tr>\n",
       "    <tr>\n",
       "      <th>3</th>\n",
       "      <td>Female</td>\n",
       "      <td>41</td>\n",
       "      <td>Married</td>\n",
       "      <td>No Qualification</td>\n",
       "      <td>English</td>\n",
       "      <td>5,200 to 10,400</td>\n",
       "      <td>The North</td>\n",
       "      <td>Yes</td>\n",
       "      <td>15</td>\n",
       "      <td>12</td>\n",
       "      <td>Packets</td>\n",
       "      <td>Not_Scottish</td>\n",
       "      <td>Packets</td>\n",
       "    </tr>\n",
       "    <tr>\n",
       "      <th>4</th>\n",
       "      <td>Female</td>\n",
       "      <td>34</td>\n",
       "      <td>Married</td>\n",
       "      <td>GCSE/CSE</td>\n",
       "      <td>British</td>\n",
       "      <td>2,600 to 5,200</td>\n",
       "      <td>The North</td>\n",
       "      <td>Yes</td>\n",
       "      <td>6</td>\n",
       "      <td>12</td>\n",
       "      <td>Packets</td>\n",
       "      <td>Not_Scottish</td>\n",
       "      <td>Packets</td>\n",
       "    </tr>\n",
       "  </tbody>\n",
       "</table>\n",
       "</div>"
      ],
      "text/plain": [
       "      sex  age marital_status highest_qualification nationality  \\\n",
       "0  Female   42         Single      No Qualification     British   \n",
       "1    Male   53        Married                Degree     British   \n",
       "2    Male   40         Single              GCSE/CSE     English   \n",
       "3  Female   41        Married      No Qualification     English   \n",
       "4  Female   34        Married              GCSE/CSE     British   \n",
       "\n",
       "      gross_income     region smoke  amt_weekends  amt_weekdays         type  \\\n",
       "0      Under 2,600  The North   Yes            12            12      Packets   \n",
       "1     Above 36,400  The North   Yes             6             6      Packets   \n",
       "2   2,600 to 5,200  The North   Yes             8             8  Hand-Rolled   \n",
       "3  5,200 to 10,400  The North   Yes            15            12      Packets   \n",
       "4   2,600 to 5,200  The North   Yes             6            12      Packets   \n",
       "\n",
       "    is_scottish    is_packet  \n",
       "0  Not_Scottish      Packets  \n",
       "1  Not_Scottish      Packets  \n",
       "2  Not_Scottish  Not_Packets  \n",
       "3  Not_Scottish      Packets  \n",
       "4  Not_Scottish      Packets  "
      ]
     },
     "execution_count": 27,
     "metadata": {},
     "output_type": "execute_result"
    }
   ],
   "source": [
    "df['is_packet']=df['type']\n",
    "df['is_packet'][df['is_packet']!='Packets']='Not_Packets'\n",
    "df.head()"
   ]
  },
  {
   "cell_type": "markdown",
   "metadata": {},
   "source": [
    "### Now, check the conditions for creating a confidence interval for the difference in the proportion of Scottish citizens that smoke packets vs the proportion of non-Scottish citizens that smoke packets."
   ]
  },
  {
   "cell_type": "markdown",
   "metadata": {},
   "source": [
    "1. $n_{scot}\\hat{p}_{scot} = 45(.73) \\geq 10$ and $n_{scot}(1-\\hat{p}_{scot}) = 45(1-.73) \\geq 10$\n",
    "2. The sample Scottish citizens that smoke is randomly collected.\n",
    "3. The sample size $n_{scot}=45 <10$% of all Scottish citizens that smoke. \n",
    "4. $n_{nonscot}\\hat{p}_{nonscot} = 376(.70) \\geq 10$ and $n_{nonscot}(1-\\hat{p}_{nonscot}) = 376(1-.70) \\geq 10$\n",
    "5. The sample non-Scottish citizens that smoke is randomly collected.\n",
    "6. The sample size $n_{nonscot}=376 <10$% of all non-Scottish citizens that smoke. \n",
    "7. The observtions in the sample of Scottish citizens that smoke is independent of the observations in the sample of non-Scottish citizens that smoke.\n",
    "\n",
    "Thus because the conditions are met, we are allowed to conduct inference on the difference in the proportion of ALL Scottish citizens that smoke packets vs the proportion of ALL non-Scottish citizens that smoke packets."
   ]
  },
  {
   "cell_type": "code",
   "execution_count": 28,
   "metadata": {},
   "outputs": [
    {
     "data": {
      "text/plain": [
       "Not_Scottish    376\n",
       "Scottish         45\n",
       "Name: is_scottish, dtype: int64"
      ]
     },
     "execution_count": 28,
     "metadata": {},
     "output_type": "execute_result"
    }
   ],
   "source": [
    "df['is_scottish'].value_counts()"
   ]
  },
  {
   "cell_type": "code",
   "execution_count": 29,
   "metadata": {},
   "outputs": [
    {
     "data": {
      "text/html": [
       "<div>\n",
       "<style scoped>\n",
       "    .dataframe tbody tr th:only-of-type {\n",
       "        vertical-align: middle;\n",
       "    }\n",
       "\n",
       "    .dataframe tbody tr th {\n",
       "        vertical-align: top;\n",
       "    }\n",
       "\n",
       "    .dataframe thead th {\n",
       "        text-align: right;\n",
       "    }\n",
       "</style>\n",
       "<table border=\"1\" class=\"dataframe\">\n",
       "  <thead>\n",
       "    <tr style=\"text-align: right;\">\n",
       "      <th>is_packet</th>\n",
       "      <th>Not_Packets</th>\n",
       "      <th>Packets</th>\n",
       "    </tr>\n",
       "    <tr>\n",
       "      <th>is_scottish</th>\n",
       "      <th></th>\n",
       "      <th></th>\n",
       "    </tr>\n",
       "  </thead>\n",
       "  <tbody>\n",
       "    <tr>\n",
       "      <th>Not_Scottish</th>\n",
       "      <td>0.297872</td>\n",
       "      <td>0.702128</td>\n",
       "    </tr>\n",
       "    <tr>\n",
       "      <th>Scottish</th>\n",
       "      <td>0.266667</td>\n",
       "      <td>0.733333</td>\n",
       "    </tr>\n",
       "  </tbody>\n",
       "</table>\n",
       "</div>"
      ],
      "text/plain": [
       "is_packet     Not_Packets   Packets\n",
       "is_scottish                        \n",
       "Not_Scottish     0.297872  0.702128\n",
       "Scottish         0.266667  0.733333"
      ]
     },
     "execution_count": 29,
     "metadata": {},
     "output_type": "execute_result"
    }
   ],
   "source": [
    "df_cross=pd.crosstab(df['is_scottish'], df['is_packet'], normalize='index')\n",
    "df_cross"
   ]
  },
  {
   "cell_type": "markdown",
   "metadata": {},
   "source": [
    "### Now create a 92% confidence interval for the difference in the proportion of Scottish citizens that smoke packets vs the proportion of non-Scottish citizens that smoke packets."
   ]
  },
  {
   "cell_type": "markdown",
   "metadata": {},
   "source": [
    "We always use the z-distribution for inference on a population proportion differences."
   ]
  },
  {
   "cell_type": "code",
   "execution_count": 30,
   "metadata": {},
   "outputs": [
    {
     "name": "stdout",
     "output_type": "stream",
     "text": [
      "n_scot 45\n",
      "n_not_scot 376\n",
      "alpha 0.08\n",
      "critical_value 1.7506860712521692\n",
      "sample_prop_scot 0.7333333333333333\n",
      "sample_prop_non_scot 0.7021276595744681\n",
      "standard error 0.0700136711170732\n"
     ]
    }
   ],
   "source": [
    "\n",
    "#n\n",
    "n_scot=45\n",
    "n_not_scot=376\n",
    "print('n_scot',n_scot)\n",
    "print('n_not_scot',n_not_scot)\n",
    "\n",
    "#alpha = 1- confidence level\n",
    "alpha=0.08\n",
    "print('alpha', alpha)\n",
    "\n",
    "# Critical Value\n",
    "critical_value=norm.ppf(1-alpha/2)\n",
    "print('critical_value', critical_value)\n",
    "\n",
    "# sample proportions\n",
    "sample_prop_scot=df_cross['Packets']['Scottish']\n",
    "print('sample_prop_scot', sample_prop_scot)\n",
    "sample_prop_non_scot=df_cross['Packets']['Not_Scottish']\n",
    "print('sample_prop_non_scot', sample_prop_non_scot)\n",
    "\n",
    "\n",
    "# standard error\n",
    "se=np.sqrt((sample_prop_scot*(1-sample_prop_scot))/n_scot +   (sample_prop_non_scot*(1-sample_prop_non_scot))/n_not_scot)\n",
    "print('standard error', se)"
   ]
  },
  {
   "cell_type": "code",
   "execution_count": 31,
   "metadata": {},
   "outputs": [
    {
     "name": "stdout",
     "output_type": "stream",
     "text": [
      "92% Confidence Interval\n",
      "-0.09136628506302517 0.15377763258075555\n"
     ]
    }
   ],
   "source": [
    "# Confidence interval lower bound\n",
    "cl_lower=(sample_prop_scot-sample_prop_non_scot)-critical_value*se\n",
    "\n",
    "# Confidence interval upper bound\n",
    "cl_upper=(sample_prop_scot-sample_prop_non_scot)+critical_value*se\n",
    "\n",
    "print('92% Confidence Interval')\n",
    "print(cl_lower,cl_upper)"
   ]
  },
  {
   "cell_type": "markdown",
   "metadata": {},
   "source": [
    "### Put this confidence interval into words (ie. interpret it)."
   ]
  },
  {
   "cell_type": "markdown",
   "metadata": {},
   "source": [
    "We are 92% confident that the difference in the proportion of Scottish smokers that smoke packets and the proportion of non-Scottish smokers that smoke packets is between -9.1% and 15.4%."
   ]
  },
  {
   "cell_type": "markdown",
   "metadata": {},
   "source": [
    "### We would like to test if ther is a difference in the proportion of Scottish smokers that smoke Packets is different than the proportion of non-Scottish smokers that smoke packets. Formulate these hypotheses."
   ]
  },
  {
   "cell_type": "markdown",
   "metadata": {},
   "source": [
    "$H_0: p_{scot}-p_{nonscot}=0$\n",
    "\n",
    "$H_A: p_{scot}-p_{nonscot}\\neq 0$"
   ]
  },
  {
   "cell_type": "markdown",
   "metadata": {},
   "source": [
    "### Evaluate these hypotheses with the 92% confidence interval."
   ]
  },
  {
   "cell_type": "markdown",
   "metadata": {},
   "source": [
    "The null value ($\\mu_{scot}-\\mu_{nonscot}=0$) is in the 92% confidence interval, therefore we fail to reject the null hypothesis. Thus there is not sufficient evidence to suggest that there is a difference in the proportion of Scottish smokers that smoke Packets is different than the proportion of non-Scottish smokers that smoke packets. In other words, there is not sufficient evidence to suggest that there is an association with being Scottish and smoking Packets."
   ]
  },
  {
   "cell_type": "markdown",
   "metadata": {},
   "source": [
    "### Evaluate these hypotheses using a p-value and the $\\alpha$ that corresponds to a 95% confidence interval."
   ]
  },
  {
   "cell_type": "code",
   "execution_count": 32,
   "metadata": {},
   "outputs": [
    {
     "data": {
      "text/plain": [
       "0.44570829183752825"
      ]
     },
     "execution_count": 32,
     "metadata": {},
     "output_type": "execute_result"
    }
   ],
   "source": [
    "z_stat=((sample_prop_scot-sample_prop_non_scot)-0)/se\n",
    "z_stat"
   ]
  },
  {
   "cell_type": "code",
   "execution_count": 33,
   "metadata": {},
   "outputs": [
    {
     "data": {
      "text/plain": [
       "0.6558079742088874"
      ]
     },
     "execution_count": 33,
     "metadata": {},
     "output_type": "execute_result"
    }
   ],
   "source": [
    "p_value=2*(1-norm.cdf(np.abs(z_stat)))\n",
    "p_value"
   ]
  },
  {
   "cell_type": "markdown",
   "metadata": {},
   "source": [
    "Because the $p-value=0.656\\geq \\alpha=.08$, therefore we fail to reject the null hypothesis. Thus there is not sufficient evidence to suggest that there is a difference in the proportion of Scottish smokers that smoke Packets is different than the proportion of non-Scottish smokers that smoke packets. In other words, there is not sufficient evidence to suggest that there is an association with being Scottish and smoking Packets."
   ]
  },
  {
   "cell_type": "markdown",
   "metadata": {},
   "source": [
    "## Linear Regression"
   ]
  },
  {
   "cell_type": "markdown",
   "metadata": {},
   "source": [
    "### Full Linear Regression Model\n",
    "Next we would like to formulate a 'full' linear regression model modeling a response variable of amt_weekends with the following explanatory variables:\n",
    "* amt_weekdays\n",
    "* age\n",
    "* sex\n",
    "* and interaction of age and sex\n",
    "\n",
    "### First give the linear regression equation."
   ]
  },
  {
   "cell_type": "code",
   "execution_count": 34,
   "metadata": {},
   "outputs": [
    {
     "data": {
      "text/html": [
       "<table class=\"simpletable\">\n",
       "<caption>OLS Regression Results</caption>\n",
       "<tr>\n",
       "  <th>Dep. Variable:</th>      <td>amt_weekends</td>   <th>  R-squared:         </th> <td>   0.653</td>\n",
       "</tr>\n",
       "<tr>\n",
       "  <th>Model:</th>                   <td>OLS</td>       <th>  Adj. R-squared:    </th> <td>   0.650</td>\n",
       "</tr>\n",
       "<tr>\n",
       "  <th>Method:</th>             <td>Least Squares</td>  <th>  F-statistic:       </th> <td>   195.8</td>\n",
       "</tr>\n",
       "<tr>\n",
       "  <th>Date:</th>             <td>Wed, 14 Apr 2021</td> <th>  Prob (F-statistic):</th> <td>3.22e-94</td>\n",
       "</tr>\n",
       "<tr>\n",
       "  <th>Time:</th>                 <td>21:54:47</td>     <th>  Log-Likelihood:    </th> <td> -1338.9</td>\n",
       "</tr>\n",
       "<tr>\n",
       "  <th>No. Observations:</th>      <td>   421</td>      <th>  AIC:               </th> <td>   2688.</td>\n",
       "</tr>\n",
       "<tr>\n",
       "  <th>Df Residuals:</th>          <td>   416</td>      <th>  BIC:               </th> <td>   2708.</td>\n",
       "</tr>\n",
       "<tr>\n",
       "  <th>Df Model:</th>              <td>     4</td>      <th>                     </th>     <td> </td>   \n",
       "</tr>\n",
       "<tr>\n",
       "  <th>Covariance Type:</th>      <td>nonrobust</td>    <th>                     </th>     <td> </td>   \n",
       "</tr>\n",
       "</table>\n",
       "<table class=\"simpletable\">\n",
       "<tr>\n",
       "         <td></td>            <th>coef</th>     <th>std err</th>      <th>t</th>      <th>P>|t|</th>  <th>[0.025</th>    <th>0.975]</th>  \n",
       "</tr>\n",
       "<tr>\n",
       "  <th>Intercept</th>       <td>    6.8249</td> <td>    1.126</td> <td>    6.064</td> <td> 0.000</td> <td>    4.613</td> <td>    9.037</td>\n",
       "</tr>\n",
       "<tr>\n",
       "  <th>sex[T.Male]</th>     <td>    0.5727</td> <td>    1.627</td> <td>    0.352</td> <td> 0.725</td> <td>   -2.625</td> <td>    3.771</td>\n",
       "</tr>\n",
       "<tr>\n",
       "  <th>amt_weekdays</th>    <td>    0.8685</td> <td>    0.032</td> <td>   27.217</td> <td> 0.000</td> <td>    0.806</td> <td>    0.931</td>\n",
       "</tr>\n",
       "<tr>\n",
       "  <th>age</th>             <td>   -0.0538</td> <td>    0.024</td> <td>   -2.247</td> <td> 0.025</td> <td>   -0.101</td> <td>   -0.007</td>\n",
       "</tr>\n",
       "<tr>\n",
       "  <th>age:sex[T.Male]</th> <td>   -0.0163</td> <td>    0.036</td> <td>   -0.457</td> <td> 0.648</td> <td>   -0.087</td> <td>    0.054</td>\n",
       "</tr>\n",
       "</table>\n",
       "<table class=\"simpletable\">\n",
       "<tr>\n",
       "  <th>Omnibus:</th>       <td>98.192</td> <th>  Durbin-Watson:     </th> <td>   1.913</td>\n",
       "</tr>\n",
       "<tr>\n",
       "  <th>Prob(Omnibus):</th> <td> 0.000</td> <th>  Jarque-Bera (JB):  </th> <td>2471.956</td>\n",
       "</tr>\n",
       "<tr>\n",
       "  <th>Skew:</th>          <td> 0.237</td> <th>  Prob(JB):          </th> <td>    0.00</td>\n",
       "</tr>\n",
       "<tr>\n",
       "  <th>Kurtosis:</th>      <td>14.861</td> <th>  Cond. No.          </th> <td>    340.</td>\n",
       "</tr>\n",
       "</table><br/><br/>Notes:<br/>[1] Standard Errors assume that the covariance matrix of the errors is correctly specified."
      ],
      "text/plain": [
       "<class 'statsmodels.iolib.summary.Summary'>\n",
       "\"\"\"\n",
       "                            OLS Regression Results                            \n",
       "==============================================================================\n",
       "Dep. Variable:           amt_weekends   R-squared:                       0.653\n",
       "Model:                            OLS   Adj. R-squared:                  0.650\n",
       "Method:                 Least Squares   F-statistic:                     195.8\n",
       "Date:                Wed, 14 Apr 2021   Prob (F-statistic):           3.22e-94\n",
       "Time:                        21:54:47   Log-Likelihood:                -1338.9\n",
       "No. Observations:                 421   AIC:                             2688.\n",
       "Df Residuals:                     416   BIC:                             2708.\n",
       "Df Model:                           4                                         \n",
       "Covariance Type:            nonrobust                                         \n",
       "===================================================================================\n",
       "                      coef    std err          t      P>|t|      [0.025      0.975]\n",
       "-----------------------------------------------------------------------------------\n",
       "Intercept           6.8249      1.126      6.064      0.000       4.613       9.037\n",
       "sex[T.Male]         0.5727      1.627      0.352      0.725      -2.625       3.771\n",
       "amt_weekdays        0.8685      0.032     27.217      0.000       0.806       0.931\n",
       "age                -0.0538      0.024     -2.247      0.025      -0.101      -0.007\n",
       "age:sex[T.Male]    -0.0163      0.036     -0.457      0.648      -0.087       0.054\n",
       "==============================================================================\n",
       "Omnibus:                       98.192   Durbin-Watson:                   1.913\n",
       "Prob(Omnibus):                  0.000   Jarque-Bera (JB):             2471.956\n",
       "Skew:                           0.237   Prob(JB):                         0.00\n",
       "Kurtosis:                      14.861   Cond. No.                         340.\n",
       "==============================================================================\n",
       "\n",
       "Notes:\n",
       "[1] Standard Errors assume that the covariance matrix of the errors is correctly specified.\n",
       "\"\"\""
      ]
     },
     "execution_count": 34,
     "metadata": {},
     "output_type": "execute_result"
    }
   ],
   "source": [
    "full_model = smf.ols('amt_weekends ~ amt_weekdays  + age + sex +age*sex', \n",
    "               data=df).fit()\n",
    "full_model.summary()"
   ]
  },
  {
   "cell_type": "markdown",
   "metadata": {},
   "source": [
    "$\\hat{amtweekend} = 6.82+.5727*(sexmale) + .8685*amtweekdays -0.0538*age -0.0163*(age*sexmale)$"
   ]
  },
  {
   "cell_type": "markdown",
   "metadata": {},
   "source": [
    "### Predict the number of cigarettes a 25 year old male smokes on the weekend, that smokes 10 cigarettes on the weekdays, BY HAND."
   ]
  },
  {
   "cell_type": "code",
   "execution_count": 35,
   "metadata": {},
   "outputs": [
    {
     "data": {
      "text/plain": [
       "14.325199999999999"
      ]
     },
     "execution_count": 35,
     "metadata": {},
     "output_type": "execute_result"
    }
   ],
   "source": [
    "amt_weekend = 6.82+.5727*(1) + .8685*10 -0.0538*25 -0.0163*(25*1)\n",
    "amt_weekend"
   ]
  },
  {
   "cell_type": "markdown",
   "metadata": {},
   "source": [
    "### Then make this prediction with Python."
   ]
  },
  {
   "cell_type": "code",
   "execution_count": 36,
   "metadata": {},
   "outputs": [
    {
     "data": {
      "text/plain": [
       "0    14.330227\n",
       "dtype: float64"
      ]
     },
     "execution_count": 36,
     "metadata": {},
     "output_type": "execute_result"
    }
   ],
   "source": [
    "full_model.predict(exog=dict(age=25, amt_weekdays=10, sex='Male'))"
   ]
  },
  {
   "cell_type": "markdown",
   "metadata": {},
   "source": [
    "### Next, check the linear regression conditions."
   ]
  },
  {
   "cell_type": "code",
   "execution_count": 37,
   "metadata": {},
   "outputs": [
    {
     "data": {
      "image/png": "[encoded data removed]",
      "text/plain": [
       "<Figure size 432x288 with 1 Axes>"
      ]
     },
     "metadata": {
      "needs_background": "light"
     },
     "output_type": "display_data"
    }
   ],
   "source": [
    "# residual plot for inital check on the model fit\n",
    "sns.regplot(x=full_model.fittedvalues, y=full_model.resid, ci=None)\n",
    "plt.xlabel('Fitted Values')\n",
    "plt.ylabel('Residuals')\n",
    "plt.title('Residuals versus Fitted Values')\n",
    "plt.show()"
   ]
  },
  {
   "cell_type": "markdown",
   "metadata": {},
   "source": [
    "1. **Linearity Condition**: This condition looks mostly met. For most x-axis windows (going left to right) in the plot above, we see that the points are mostly equally distributed above and below the line.\n",
    "\n",
    "2. **Constant Variance of Residuals Condition:** This condition, however is not met. We see that the y-axis spread changes as we move from left to right in the plot above."
   ]
  },
  {
   "cell_type": "code",
   "execution_count": 38,
   "metadata": {},
   "outputs": [
    {
     "data": {
      "image/png": "[encoded data removed]",
      "text/plain": [
       "<Figure size 432x288 with 1 Axes>"
      ]
     },
     "metadata": {
      "needs_background": "light"
     },
     "output_type": "display_data"
    }
   ],
   "source": [
    "plt.hist(full_model.resid)\n",
    "plt.xlabel('Residuals')\n",
    "plt.show()"
   ]
  },
  {
   "cell_type": "markdown",
   "metadata": {},
   "source": [
    "3. **Normally Distributed Residuals and Mean of 0 Condition':** This condition looks like it is mostly met as the histogram is mostly symmetric, unimodal, and centered at 0."
   ]
  },
  {
   "cell_type": "code",
   "execution_count": 39,
   "metadata": {},
   "outputs": [
    {
     "data": {
      "image/png": "[encoded data removed]",
      "text/plain": [
       "<Figure size 540x540 with 12 Axes>"
      ]
     },
     "metadata": {
      "needs_background": "light"
     },
     "output_type": "display_data"
    }
   ],
   "source": [
    "sns.pairplot(df)\n",
    "plt.show()"
   ]
  },
  {
   "cell_type": "code",
   "execution_count": 40,
   "metadata": {},
   "outputs": [
    {
     "data": {
      "text/html": [
       "<div>\n",
       "<style scoped>\n",
       "    .dataframe tbody tr th:only-of-type {\n",
       "        vertical-align: middle;\n",
       "    }\n",
       "\n",
       "    .dataframe tbody tr th {\n",
       "        vertical-align: top;\n",
       "    }\n",
       "\n",
       "    .dataframe thead th {\n",
       "        text-align: right;\n",
       "    }\n",
       "</style>\n",
       "<table border=\"1\" class=\"dataframe\">\n",
       "  <thead>\n",
       "    <tr style=\"text-align: right;\">\n",
       "      <th></th>\n",
       "      <th>age</th>\n",
       "      <th>amt_weekends</th>\n",
       "      <th>amt_weekdays</th>\n",
       "    </tr>\n",
       "  </thead>\n",
       "  <tbody>\n",
       "    <tr>\n",
       "      <th>age</th>\n",
       "      <td>1.000000</td>\n",
       "      <td>0.058642</td>\n",
       "      <td>0.192783</td>\n",
       "    </tr>\n",
       "    <tr>\n",
       "      <th>amt_weekends</th>\n",
       "      <td>0.058642</td>\n",
       "      <td>1.000000</td>\n",
       "      <td>0.802052</td>\n",
       "    </tr>\n",
       "    <tr>\n",
       "      <th>amt_weekdays</th>\n",
       "      <td>0.192783</td>\n",
       "      <td>0.802052</td>\n",
       "      <td>1.000000</td>\n",
       "    </tr>\n",
       "  </tbody>\n",
       "</table>\n",
       "</div>"
      ],
      "text/plain": [
       "                   age  amt_weekends  amt_weekdays\n",
       "age           1.000000      0.058642      0.192783\n",
       "amt_weekends  0.058642      1.000000      0.802052\n",
       "amt_weekdays  0.192783      0.802052      1.000000"
      ]
     },
     "execution_count": 40,
     "metadata": {},
     "output_type": "execute_result"
    }
   ],
   "source": [
    "df.corr()"
   ]
  },
  {
   "cell_type": "markdown",
   "metadata": {},
   "source": [
    "4. **No Multi-Collinearity Condition**: The two numerical explanatory variables (age and amt_weekdays) do not have a strong linear relationship. Thus the explanatory variables are not collinear and so this condition (just for multiple linear regression) is met."
   ]
  },
  {
   "cell_type": "markdown",
   "metadata": {},
   "source": [
    "5. **Independence of Residuals Condition**\n",
    "\n",
    "Because the sample of U.K. Smokers is random and $n<10$% of all U.K. smokers, we know that this condition is not violated in this particular way."
   ]
  },
  {
   "cell_type": "markdown",
   "metadata": {},
   "source": [
    "## Linear Transformations of a Linear Regression\n",
    "Refit a new 'full' linear regression model modeling a response variable of sqrt(amt_weekends) with the following explanatory variables:\n",
    "* sqrt(amt_weekdays)\n",
    "* age\n",
    "* sex\n",
    "* and interaction of age and sex"
   ]
  },
  {
   "cell_type": "code",
   "execution_count": 41,
   "metadata": {},
   "outputs": [
    {
     "data": {
      "text/html": [
       "<div>\n",
       "<style scoped>\n",
       "    .dataframe tbody tr th:only-of-type {\n",
       "        vertical-align: middle;\n",
       "    }\n",
       "\n",
       "    .dataframe tbody tr th {\n",
       "        vertical-align: top;\n",
       "    }\n",
       "\n",
       "    .dataframe thead th {\n",
       "        text-align: right;\n",
       "    }\n",
       "</style>\n",
       "<table border=\"1\" class=\"dataframe\">\n",
       "  <thead>\n",
       "    <tr style=\"text-align: right;\">\n",
       "      <th></th>\n",
       "      <th>sex</th>\n",
       "      <th>age</th>\n",
       "      <th>marital_status</th>\n",
       "      <th>highest_qualification</th>\n",
       "      <th>nationality</th>\n",
       "      <th>gross_income</th>\n",
       "      <th>region</th>\n",
       "      <th>smoke</th>\n",
       "      <th>amt_weekends</th>\n",
       "      <th>amt_weekdays</th>\n",
       "      <th>type</th>\n",
       "      <th>is_scottish</th>\n",
       "      <th>is_packet</th>\n",
       "      <th>sqrt_amt_weekends</th>\n",
       "      <th>sqrt_amt_weekdays</th>\n",
       "    </tr>\n",
       "  </thead>\n",
       "  <tbody>\n",
       "    <tr>\n",
       "      <th>0</th>\n",
       "      <td>Female</td>\n",
       "      <td>42</td>\n",
       "      <td>Single</td>\n",
       "      <td>No Qualification</td>\n",
       "      <td>British</td>\n",
       "      <td>Under 2,600</td>\n",
       "      <td>The North</td>\n",
       "      <td>Yes</td>\n",
       "      <td>12</td>\n",
       "      <td>12</td>\n",
       "      <td>Packets</td>\n",
       "      <td>Not_Scottish</td>\n",
       "      <td>Packets</td>\n",
       "      <td>3.464102</td>\n",
       "      <td>3.464102</td>\n",
       "    </tr>\n",
       "    <tr>\n",
       "      <th>1</th>\n",
       "      <td>Male</td>\n",
       "      <td>53</td>\n",
       "      <td>Married</td>\n",
       "      <td>Degree</td>\n",
       "      <td>British</td>\n",
       "      <td>Above 36,400</td>\n",
       "      <td>The North</td>\n",
       "      <td>Yes</td>\n",
       "      <td>6</td>\n",
       "      <td>6</td>\n",
       "      <td>Packets</td>\n",
       "      <td>Not_Scottish</td>\n",
       "      <td>Packets</td>\n",
       "      <td>2.449490</td>\n",
       "      <td>2.449490</td>\n",
       "    </tr>\n",
       "    <tr>\n",
       "      <th>2</th>\n",
       "      <td>Male</td>\n",
       "      <td>40</td>\n",
       "      <td>Single</td>\n",
       "      <td>GCSE/CSE</td>\n",
       "      <td>English</td>\n",
       "      <td>2,600 to 5,200</td>\n",
       "      <td>The North</td>\n",
       "      <td>Yes</td>\n",
       "      <td>8</td>\n",
       "      <td>8</td>\n",
       "      <td>Hand-Rolled</td>\n",
       "      <td>Not_Scottish</td>\n",
       "      <td>Not_Packets</td>\n",
       "      <td>2.828427</td>\n",
       "      <td>2.828427</td>\n",
       "    </tr>\n",
       "    <tr>\n",
       "      <th>3</th>\n",
       "      <td>Female</td>\n",
       "      <td>41</td>\n",
       "      <td>Married</td>\n",
       "      <td>No Qualification</td>\n",
       "      <td>English</td>\n",
       "      <td>5,200 to 10,400</td>\n",
       "      <td>The North</td>\n",
       "      <td>Yes</td>\n",
       "      <td>15</td>\n",
       "      <td>12</td>\n",
       "      <td>Packets</td>\n",
       "      <td>Not_Scottish</td>\n",
       "      <td>Packets</td>\n",
       "      <td>3.872983</td>\n",
       "      <td>3.464102</td>\n",
       "    </tr>\n",
       "    <tr>\n",
       "      <th>4</th>\n",
       "      <td>Female</td>\n",
       "      <td>34</td>\n",
       "      <td>Married</td>\n",
       "      <td>GCSE/CSE</td>\n",
       "      <td>British</td>\n",
       "      <td>2,600 to 5,200</td>\n",
       "      <td>The North</td>\n",
       "      <td>Yes</td>\n",
       "      <td>6</td>\n",
       "      <td>12</td>\n",
       "      <td>Packets</td>\n",
       "      <td>Not_Scottish</td>\n",
       "      <td>Packets</td>\n",
       "      <td>2.449490</td>\n",
       "      <td>3.464102</td>\n",
       "    </tr>\n",
       "  </tbody>\n",
       "</table>\n",
       "</div>"
      ],
      "text/plain": [
       "      sex  age marital_status highest_qualification nationality  \\\n",
       "0  Female   42         Single      No Qualification     British   \n",
       "1    Male   53        Married                Degree     British   \n",
       "2    Male   40         Single              GCSE/CSE     English   \n",
       "3  Female   41        Married      No Qualification     English   \n",
       "4  Female   34        Married              GCSE/CSE     British   \n",
       "\n",
       "      gross_income     region smoke  amt_weekends  amt_weekdays         type  \\\n",
       "0      Under 2,600  The North   Yes            12            12      Packets   \n",
       "1     Above 36,400  The North   Yes             6             6      Packets   \n",
       "2   2,600 to 5,200  The North   Yes             8             8  Hand-Rolled   \n",
       "3  5,200 to 10,400  The North   Yes            15            12      Packets   \n",
       "4   2,600 to 5,200  The North   Yes             6            12      Packets   \n",
       "\n",
       "    is_scottish    is_packet  sqrt_amt_weekends  sqrt_amt_weekdays  \n",
       "0  Not_Scottish      Packets           3.464102           3.464102  \n",
       "1  Not_Scottish      Packets           2.449490           2.449490  \n",
       "2  Not_Scottish  Not_Packets           2.828427           2.828427  \n",
       "3  Not_Scottish      Packets           3.872983           3.464102  \n",
       "4  Not_Scottish      Packets           2.449490           3.464102  "
      ]
     },
     "execution_count": 41,
     "metadata": {},
     "output_type": "execute_result"
    }
   ],
   "source": [
    "df['sqrt_amt_weekends']=np.sqrt(df['amt_weekends'])\n",
    "df['sqrt_amt_weekdays']=np.sqrt(df['amt_weekdays'])\n",
    "\n",
    "df.head()"
   ]
  },
  {
   "cell_type": "code",
   "execution_count": 42,
   "metadata": {},
   "outputs": [
    {
     "data": {
      "text/html": [
       "<table class=\"simpletable\">\n",
       "<caption>OLS Regression Results</caption>\n",
       "<tr>\n",
       "  <th>Dep. Variable:</th>    <td>sqrt_amt_weekends</td> <th>  R-squared:         </th> <td>   0.644</td>\n",
       "</tr>\n",
       "<tr>\n",
       "  <th>Model:</th>                   <td>OLS</td>        <th>  Adj. R-squared:    </th> <td>   0.641</td>\n",
       "</tr>\n",
       "<tr>\n",
       "  <th>Method:</th>             <td>Least Squares</td>   <th>  F-statistic:       </th> <td>   188.4</td>\n",
       "</tr>\n",
       "<tr>\n",
       "  <th>Date:</th>             <td>Wed, 14 Apr 2021</td>  <th>  Prob (F-statistic):</th> <td>5.79e-92</td>\n",
       "</tr>\n",
       "<tr>\n",
       "  <th>Time:</th>                 <td>21:54:49</td>      <th>  Log-Likelihood:    </th> <td> -486.05</td>\n",
       "</tr>\n",
       "<tr>\n",
       "  <th>No. Observations:</th>      <td>   421</td>       <th>  AIC:               </th> <td>   982.1</td>\n",
       "</tr>\n",
       "<tr>\n",
       "  <th>Df Residuals:</th>          <td>   416</td>       <th>  BIC:               </th> <td>   1002.</td>\n",
       "</tr>\n",
       "<tr>\n",
       "  <th>Df Model:</th>              <td>     4</td>       <th>                     </th>     <td> </td>   \n",
       "</tr>\n",
       "<tr>\n",
       "  <th>Covariance Type:</th>      <td>nonrobust</td>     <th>                     </th>     <td> </td>   \n",
       "</tr>\n",
       "</table>\n",
       "<table class=\"simpletable\">\n",
       "<tr>\n",
       "          <td></td>             <th>coef</th>     <th>std err</th>      <th>t</th>      <th>P>|t|</th>  <th>[0.025</th>    <th>0.975]</th>  \n",
       "</tr>\n",
       "<tr>\n",
       "  <th>Intercept</th>         <td>    1.5595</td> <td>    0.165</td> <td>    9.463</td> <td> 0.000</td> <td>    1.236</td> <td>    1.883</td>\n",
       "</tr>\n",
       "<tr>\n",
       "  <th>sex[T.Male]</th>       <td>   -0.1012</td> <td>    0.214</td> <td>   -0.472</td> <td> 0.637</td> <td>   -0.523</td> <td>    0.320</td>\n",
       "</tr>\n",
       "<tr>\n",
       "  <th>sqrt_amt_weekdays</th> <td>    0.7695</td> <td>    0.029</td> <td>   26.974</td> <td> 0.000</td> <td>    0.713</td> <td>    0.826</td>\n",
       "</tr>\n",
       "<tr>\n",
       "  <th>age</th>               <td>   -0.0084</td> <td>    0.003</td> <td>   -2.672</td> <td> 0.008</td> <td>   -0.015</td> <td>   -0.002</td>\n",
       "</tr>\n",
       "<tr>\n",
       "  <th>age:sex[T.Male]</th>   <td>    0.0017</td> <td>    0.005</td> <td>    0.361</td> <td> 0.718</td> <td>   -0.008</td> <td>    0.011</td>\n",
       "</tr>\n",
       "</table>\n",
       "<table class=\"simpletable\">\n",
       "<tr>\n",
       "  <th>Omnibus:</th>       <td>59.185</td> <th>  Durbin-Watson:     </th> <td>   1.928</td>\n",
       "</tr>\n",
       "<tr>\n",
       "  <th>Prob(Omnibus):</th> <td> 0.000</td> <th>  Jarque-Bera (JB):  </th> <td> 339.806</td>\n",
       "</tr>\n",
       "<tr>\n",
       "  <th>Skew:</th>          <td>-0.404</td> <th>  Prob(JB):          </th> <td>1.63e-74</td>\n",
       "</tr>\n",
       "<tr>\n",
       "  <th>Kurtosis:</th>      <td> 7.327</td> <th>  Cond. No.          </th> <td>    332.</td>\n",
       "</tr>\n",
       "</table><br/><br/>Notes:<br/>[1] Standard Errors assume that the covariance matrix of the errors is correctly specified."
      ],
      "text/plain": [
       "<class 'statsmodels.iolib.summary.Summary'>\n",
       "\"\"\"\n",
       "                            OLS Regression Results                            \n",
       "==============================================================================\n",
       "Dep. Variable:      sqrt_amt_weekends   R-squared:                       0.644\n",
       "Model:                            OLS   Adj. R-squared:                  0.641\n",
       "Method:                 Least Squares   F-statistic:                     188.4\n",
       "Date:                Wed, 14 Apr 2021   Prob (F-statistic):           5.79e-92\n",
       "Time:                        21:54:49   Log-Likelihood:                -486.05\n",
       "No. Observations:                 421   AIC:                             982.1\n",
       "Df Residuals:                     416   BIC:                             1002.\n",
       "Df Model:                           4                                         \n",
       "Covariance Type:            nonrobust                                         \n",
       "=====================================================================================\n",
       "                        coef    std err          t      P>|t|      [0.025      0.975]\n",
       "-------------------------------------------------------------------------------------\n",
       "Intercept             1.5595      0.165      9.463      0.000       1.236       1.883\n",
       "sex[T.Male]          -0.1012      0.214     -0.472      0.637      -0.523       0.320\n",
       "sqrt_amt_weekdays     0.7695      0.029     26.974      0.000       0.713       0.826\n",
       "age                  -0.0084      0.003     -2.672      0.008      -0.015      -0.002\n",
       "age:sex[T.Male]       0.0017      0.005      0.361      0.718      -0.008       0.011\n",
       "==============================================================================\n",
       "Omnibus:                       59.185   Durbin-Watson:                   1.928\n",
       "Prob(Omnibus):                  0.000   Jarque-Bera (JB):              339.806\n",
       "Skew:                          -0.404   Prob(JB):                     1.63e-74\n",
       "Kurtosis:                       7.327   Cond. No.                         332.\n",
       "==============================================================================\n",
       "\n",
       "Notes:\n",
       "[1] Standard Errors assume that the covariance matrix of the errors is correctly specified.\n",
       "\"\"\""
      ]
     },
     "execution_count": 42,
     "metadata": {},
     "output_type": "execute_result"
    }
   ],
   "source": [
    "full_model = smf.ols('sqrt_amt_weekends ~ sqrt_amt_weekdays  +sex+ age+ age*sex', \n",
    "               data=df).fit()\n",
    "full_model.summary()"
   ]
  },
  {
   "cell_type": "markdown",
   "metadata": {},
   "source": [
    "### Check the conditions again."
   ]
  },
  {
   "cell_type": "code",
   "execution_count": 43,
   "metadata": {},
   "outputs": [
    {
     "data": {
      "image/png": "[encoded data removed]",
      "text/plain": [
       "<Figure size 432x288 with 1 Axes>"
      ]
     },
     "metadata": {
      "needs_background": "light"
     },
     "output_type": "display_data"
    }
   ],
   "source": [
    "# residual plot for inital check on the model fit\n",
    "sns.regplot(x=full_model.fittedvalues, y=full_model.resid, ci=None)\n",
    "plt.xlabel('Fitted Values')\n",
    "plt.ylabel('Residuals')\n",
    "plt.title('Residuals versus Fitted Values')\n",
    "plt.show()"
   ]
  },
  {
   "cell_type": "markdown",
   "metadata": {},
   "source": [
    "1. **Linearity Condition**: This condition looks mostly met. For most x-axis windows (going left to right) in the plot above, we see that the points are mostly equally distributed above and below the line.\n",
    "\n",
    "2. **Costant Variance of Residuals Condition:** This condition, now looks mostly met. We see that the y-axis spread mostly does not change as we move from left to right in the plot above."
   ]
  },
  {
   "cell_type": "code",
   "execution_count": 44,
   "metadata": {},
   "outputs": [
    {
     "data": {
      "image/png": "[encoded data removed]",
      "text/plain": [
       "<Figure size 432x288 with 1 Axes>"
      ]
     },
     "metadata": {
      "needs_background": "light"
     },
     "output_type": "display_data"
    }
   ],
   "source": [
    "plt.hist(full_model.resid)\n",
    "plt.xlabel('Residuals')\n",
    "plt.show()"
   ]
  },
  {
   "cell_type": "markdown",
   "metadata": {},
   "source": [
    "3. **Normally Distributed Residuals and Mean of 0 Condition':** This condition looks like it is mostly met as the histogram is mostly symmetric, unimodal, and centered at 0."
   ]
  },
  {
   "cell_type": "code",
   "execution_count": 45,
   "metadata": {},
   "outputs": [
    {
     "data": {
      "image/png": "[encoded data removed]",
      "text/plain": [
       "<Figure size 900x900 with 30 Axes>"
      ]
     },
     "metadata": {
      "needs_background": "light"
     },
     "output_type": "display_data"
    }
   ],
   "source": [
    "sns.pairplot(df)\n",
    "plt.show()"
   ]
  },
  {
   "cell_type": "markdown",
   "metadata": {},
   "source": [
    "4. **No Multi-Collinearity Condition**: The two numerical explanatory variables (age and sqrt_amt_weekdays) do not have a strong linear relationship. Thus the explanatory variables are not collinear and so this condition (just for multiple linear regression) is met."
   ]
  },
  {
   "cell_type": "markdown",
   "metadata": {},
   "source": [
    "5. **Independence of Residuals Condition**\n",
    "\n",
    "Because the sample of U.K. Smokers is random and $n<10$% of all U.K. smokers, we know that this condition is not violated in this particular way."
   ]
  },
  {
   "cell_type": "markdown",
   "metadata": {},
   "source": [
    "## Linear Regression Inference\n",
    "### Create a 95% confidence interval for the population slope for sex_male in this model. Use it to evaluate whether there is sufficient evidence to suggest the population slope for this explanatory variable indicator is non-zero.\n",
    "\n",
    "#### First formulate the hypotheses."
   ]
  },
  {
   "cell_type": "markdown",
   "metadata": {},
   "source": [
    "$H_0: \\beta_1=0$\n",
    "\n",
    "$H_A: \\beta_1\\neq 0$"
   ]
  },
  {
   "cell_type": "markdown",
   "metadata": {},
   "source": [
    "Remember, for inference on population slopes in a LINEAR regression equation, we use the t-distribution."
   ]
  },
  {
   "cell_type": "code",
   "execution_count": 46,
   "metadata": {},
   "outputs": [
    {
     "name": "stdout",
     "output_type": "stream",
     "text": [
      "n 421\n",
      "Number of slopes = p 4\n",
      "alpha 0.05\n",
      "critical_value 1.965682904909613\n",
      "95% Confidence Interval\n",
      "-0.5218561416506572 0.31945614165065717\n"
     ]
    }
   ],
   "source": [
    "#n\n",
    "n=421\n",
    "print('n',n)\n",
    "\n",
    "#p\n",
    "p=4\n",
    "print('Number of slopes = p',p)\n",
    "\n",
    "#alpha = 1- confidence level\n",
    "alpha=0.05\n",
    "print('alpha', alpha)\n",
    "\n",
    "# Critical Value\n",
    "critical_value=t.ppf(1-alpha/2, df=n-p-1)\n",
    "print('critical_value', critical_value)\n",
    "\n",
    "#Sample slope\n",
    "sample_slope=-0.1012\n",
    "\n",
    "#Standard Error\n",
    "se=0.214\n",
    "\n",
    "# Confidence interval lower bound\n",
    "cl_lower=sample_slope-critical_value*se\n",
    "\n",
    "# Confidence interval upper bound\n",
    "cl_upper=sample_slope+critical_value*se\n",
    "\n",
    "print('95% Confidence Interval')\n",
    "print(cl_lower,cl_upper)"
   ]
  },
  {
   "cell_type": "markdown",
   "metadata": {},
   "source": [
    "Because the null value ($\\beta_1=0$) is in the confidence interval, we fail to reject the null hypothesis. Thus, there is not sufficient evidence to suggest that the population slope associated with sex_male is non-zero."
   ]
  },
  {
   "cell_type": "markdown",
   "metadata": {},
   "source": [
    "### If we were conduct a hypothesis test on each slope individually, how many hypothesis tests would we have to use? What are potential issues if we test this many hypotheses in the same analysis?"
   ]
  },
  {
   "cell_type": "markdown",
   "metadata": {},
   "source": [
    "There are 4 slopes in our full model. Thus we would individually test the following four hypotheses one at a time.\n",
    "$H_0: \\beta_1=0$\n",
    "\n",
    "$H_A: \\beta_1\\neq 0$\n",
    "\n",
    "$H_0: \\beta_2=0$\n",
    "\n",
    "$H_A: \\beta_2\\neq 0$\n",
    "\n",
    "$H_0: \\beta_3=0$\n",
    "\n",
    "$H_A: \\beta_3\\neq 0$\n",
    "\n",
    "$H_0: \\beta_4=0$\n",
    "\n",
    "$H_A: \\beta_4\\neq 0$\n",
    "\n",
    "If we were to use a significance level of $\\alpha=0.05$ for all of these tests, then the probability that any one of our tests incorrectly rejects a null hypothesis (when we shouldn't have). Therefore with more tests, the likelihood that at least one of them makes this type of error increases."
   ]
  },
  {
   "cell_type": "markdown",
   "metadata": {},
   "source": [
    "### Now we would like to test (in just one test) if there is sufficient evidence to suggest at least one population slope is non-zero. Set up the hypotheses, find the test-statistic, corresponding p-value and evaluate the hypotheses."
   ]
  },
  {
   "cell_type": "markdown",
   "metadata": {},
   "source": [
    "$H_0: \\beta_1=\\beta_2=\\beta_3=\\beta_4=0$\n",
    "\n",
    "$H_A:$ at least one of these slopes is non-zero\n",
    "\n",
    "\n",
    "The summary output gives us a F-statistic of 188.4 and a p-value of $5.79\\times 10^{-92}$.\n",
    "\n",
    "Thus because $p-value <\\alpha=0.05$ we reject the null hypothesis. Thus there is sufficient evidence to suggest that at least one of the population slopes is non-zero."
   ]
  },
  {
   "cell_type": "markdown",
   "metadata": {},
   "source": [
    "### Using the F-statistic from the output, verify the p-value with Python code (ie. don't use the p-value in the output). (If it's small, it may be different due to precision/rounding issues)."
   ]
  },
  {
   "cell_type": "code",
   "execution_count": 47,
   "metadata": {},
   "outputs": [
    {
     "data": {
      "text/plain": [
       "1.1102230246251565e-16"
      ]
     },
     "execution_count": 47,
     "metadata": {},
     "output_type": "execute_result"
    }
   ],
   "source": [
    "1-f.cdf(188.4, dfn=p, dfd=n-p-1)"
   ]
  },
  {
   "cell_type": "markdown",
   "metadata": {},
   "source": [
    "### What percent of the variability of sqrt_amt_weekend is explained by the model?"
   ]
  },
  {
   "cell_type": "markdown",
   "metadata": {},
   "source": [
    "The $R^2=0.644$. Thus 64.4% of the variability of sqrt_amt_weekend is explained by the model."
   ]
  },
  {
   "cell_type": "markdown",
   "metadata": {},
   "source": [
    "## Nested Models\n",
    "Next, refit a new 'reduced' linear regression model modeling a response variable of sqrt(amt_weekends) with the following explanatory variables:\n",
    "* sqrt(amt_weekdays)\n",
    "* age"
   ]
  },
  {
   "cell_type": "code",
   "execution_count": 48,
   "metadata": {},
   "outputs": [
    {
     "data": {
      "text/html": [
       "<table class=\"simpletable\">\n",
       "<caption>OLS Regression Results</caption>\n",
       "<tr>\n",
       "  <th>Dep. Variable:</th>    <td>sqrt_amt_weekends</td> <th>  R-squared:         </th> <td>   0.644</td>\n",
       "</tr>\n",
       "<tr>\n",
       "  <th>Model:</th>                   <td>OLS</td>        <th>  Adj. R-squared:    </th> <td>   0.642</td>\n",
       "</tr>\n",
       "<tr>\n",
       "  <th>Method:</th>             <td>Least Squares</td>   <th>  F-statistic:       </th> <td>   378.1</td>\n",
       "</tr>\n",
       "<tr>\n",
       "  <th>Date:</th>             <td>Wed, 14 Apr 2021</td>  <th>  Prob (F-statistic):</th> <td>1.75e-94</td>\n",
       "</tr>\n",
       "<tr>\n",
       "  <th>Time:</th>                 <td>21:54:54</td>      <th>  Log-Likelihood:    </th> <td> -486.18</td>\n",
       "</tr>\n",
       "<tr>\n",
       "  <th>No. Observations:</th>      <td>   421</td>       <th>  AIC:               </th> <td>   978.4</td>\n",
       "</tr>\n",
       "<tr>\n",
       "  <th>Df Residuals:</th>          <td>   418</td>       <th>  BIC:               </th> <td>   990.5</td>\n",
       "</tr>\n",
       "<tr>\n",
       "  <th>Df Model:</th>              <td>     2</td>       <th>                     </th>     <td> </td>   \n",
       "</tr>\n",
       "<tr>\n",
       "  <th>Covariance Type:</th>      <td>nonrobust</td>     <th>                     </th>     <td> </td>   \n",
       "</tr>\n",
       "</table>\n",
       "<table class=\"simpletable\">\n",
       "<tr>\n",
       "          <td></td>             <th>coef</th>     <th>std err</th>      <th>t</th>      <th>P>|t|</th>  <th>[0.025</th>    <th>0.975]</th>  \n",
       "</tr>\n",
       "<tr>\n",
       "  <th>Intercept</th>         <td>    1.5186</td> <td>    0.133</td> <td>   11.438</td> <td> 0.000</td> <td>    1.258</td> <td>    1.780</td>\n",
       "</tr>\n",
       "<tr>\n",
       "  <th>sqrt_amt_weekdays</th> <td>    0.7685</td> <td>    0.028</td> <td>   27.469</td> <td> 0.000</td> <td>    0.714</td> <td>    0.824</td>\n",
       "</tr>\n",
       "<tr>\n",
       "  <th>age</th>               <td>   -0.0077</td> <td>    0.002</td> <td>   -3.261</td> <td> 0.001</td> <td>   -0.012</td> <td>   -0.003</td>\n",
       "</tr>\n",
       "</table>\n",
       "<table class=\"simpletable\">\n",
       "<tr>\n",
       "  <th>Omnibus:</th>       <td>60.165</td> <th>  Durbin-Watson:     </th> <td>   1.937</td>\n",
       "</tr>\n",
       "<tr>\n",
       "  <th>Prob(Omnibus):</th> <td> 0.000</td> <th>  Jarque-Bera (JB):  </th> <td> 346.313</td>\n",
       "</tr>\n",
       "<tr>\n",
       "  <th>Skew:</th>          <td>-0.416</td> <th>  Prob(JB):          </th> <td>6.30e-76</td>\n",
       "</tr>\n",
       "<tr>\n",
       "  <th>Kurtosis:</th>      <td> 7.365</td> <th>  Cond. No.          </th> <td>    163.</td>\n",
       "</tr>\n",
       "</table><br/><br/>Notes:<br/>[1] Standard Errors assume that the covariance matrix of the errors is correctly specified."
      ],
      "text/plain": [
       "<class 'statsmodels.iolib.summary.Summary'>\n",
       "\"\"\"\n",
       "                            OLS Regression Results                            \n",
       "==============================================================================\n",
       "Dep. Variable:      sqrt_amt_weekends   R-squared:                       0.644\n",
       "Model:                            OLS   Adj. R-squared:                  0.642\n",
       "Method:                 Least Squares   F-statistic:                     378.1\n",
       "Date:                Wed, 14 Apr 2021   Prob (F-statistic):           1.75e-94\n",
       "Time:                        21:54:54   Log-Likelihood:                -486.18\n",
       "No. Observations:                 421   AIC:                             978.4\n",
       "Df Residuals:                     418   BIC:                             990.5\n",
       "Df Model:                           2                                         \n",
       "Covariance Type:            nonrobust                                         \n",
       "=====================================================================================\n",
       "                        coef    std err          t      P>|t|      [0.025      0.975]\n",
       "-------------------------------------------------------------------------------------\n",
       "Intercept             1.5186      0.133     11.438      0.000       1.258       1.780\n",
       "sqrt_amt_weekdays     0.7685      0.028     27.469      0.000       0.714       0.824\n",
       "age                  -0.0077      0.002     -3.261      0.001      -0.012      -0.003\n",
       "==============================================================================\n",
       "Omnibus:                       60.165   Durbin-Watson:                   1.937\n",
       "Prob(Omnibus):                  0.000   Jarque-Bera (JB):              346.313\n",
       "Skew:                          -0.416   Prob(JB):                     6.30e-76\n",
       "Kurtosis:                       7.365   Cond. No.                         163.\n",
       "==============================================================================\n",
       "\n",
       "Notes:\n",
       "[1] Standard Errors assume that the covariance matrix of the errors is correctly specified.\n",
       "\"\"\""
      ]
     },
     "execution_count": 48,
     "metadata": {},
     "output_type": "execute_result"
    }
   ],
   "source": [
    "reduced_model = smf.ols('sqrt_amt_weekends ~ sqrt_amt_weekdays  + age', \n",
    "               data=df).fit()\n",
    "reduced_model.summary()"
   ]
  },
  {
   "cell_type": "markdown",
   "metadata": {},
   "source": [
    "### Is there evidence to suggest that at least one of the population slope for the sex_male or the slope for the interaction of sex_male and age are non-zero?\n",
    "* Set up your hypotheses that answer this question. \n",
    "* Give the test statistic and the p-value.\n",
    "* Use the p-value to make a conclusion about the hypotheses."
   ]
  },
  {
   "cell_type": "markdown",
   "metadata": {},
   "source": [
    "$H_0: \\beta_1=\\beta_4=0$ (from the full model)\n",
    "\n",
    "$H_A: \\beta_1\\neq 0$ or $\\beta_4\\neq0$ (from the full model)\n"
   ]
  },
  {
   "cell_type": "code",
   "execution_count": 49,
   "metadata": {},
   "outputs": [
    {
     "name": "stdout",
     "output_type": "stream",
     "text": [
      "0.1361676827011888\n",
      "0.8727351652067878\n"
     ]
    }
   ],
   "source": [
    "f, p, dfreedom = full_model.compare_f_test(reduced_model)\n",
    "print(f)\n",
    "print(p)"
   ]
  },
  {
   "cell_type": "markdown",
   "metadata": {},
   "source": [
    "Because $p-value\\geq \\alpha=0.05$ we fail to reject the null hypothesis. Thus there is not sufficient evidence to suggest that either of these two population slopes for age and the interaction of age and sex is non-zero."
   ]
  },
  {
   "cell_type": "markdown",
   "metadata": {},
   "source": [
    "## Descriptive analytics\n",
    "\n",
    "Plot the relationship between the amount smoked on the weekend and the amount smoked on the weekdays. Color code the points in your plot by sex."
   ]
  },
  {
   "cell_type": "code",
   "execution_count": 50,
   "metadata": {},
   "outputs": [
    {
     "data": {
      "image/png": "[encoded data removed]",
      "text/plain": [
       "<Figure size 432x288 with 1 Axes>"
      ]
     },
     "metadata": {
      "needs_background": "light"
     },
     "output_type": "display_data"
    }
   ],
   "source": [
    "sns.scatterplot(x=\"amt_weekends\", y=\"amt_weekdays\", hue=\"sex\", data=df)\n",
    "plt.show()"
   ]
  },
  {
   "cell_type": "markdown",
   "metadata": {},
   "source": [
    "## ANOVA\n",
    "Next we would like to test if there is an association between the type of cigarettes UK smokers smoke and the amount that is smoked on the weekend. Specifically we would like to test if at least one pair of the cigarette types have means of the amount of cigarettes smoked on the weekend that are different.\n",
    "\n",
    "First set up the hypotheses for this analysis. Give the test statistic, give the p-value. Finally make a conclusion with the p-value."
   ]
  },
  {
   "cell_type": "code",
   "execution_count": 51,
   "metadata": {},
   "outputs": [
    {
     "data": {
      "text/plain": [
       "Packets                    297\n",
       "Hand-Rolled                 72\n",
       "Both/Mainly Packets         42\n",
       "Both/Mainly Hand-Rolled     10\n",
       "Name: type, dtype: int64"
      ]
     },
     "execution_count": 51,
     "metadata": {},
     "output_type": "execute_result"
    }
   ],
   "source": [
    "df['type'].value_counts()"
   ]
  },
  {
   "cell_type": "markdown",
   "metadata": {},
   "source": [
    "$H_0: \\mu_{packets}=\\mu_{handrolled}=\\mu_{bothmainlypackets}=\\mu_{bothmainlyhandrolled}$\n",
    "\n",
    "$H_A:$ at least one pair of population means (shown above) are different.\n"
   ]
  },
  {
   "cell_type": "code",
   "execution_count": 52,
   "metadata": {},
   "outputs": [
    {
     "data": {
      "text/html": [
       "<table class=\"simpletable\">\n",
       "<caption>OLS Regression Results</caption>\n",
       "<tr>\n",
       "  <th>Dep. Variable:</th>      <td>amt_weekends</td>   <th>  R-squared:         </th> <td>   0.012</td>\n",
       "</tr>\n",
       "<tr>\n",
       "  <th>Model:</th>                   <td>OLS</td>       <th>  Adj. R-squared:    </th> <td>   0.005</td>\n",
       "</tr>\n",
       "<tr>\n",
       "  <th>Method:</th>             <td>Least Squares</td>  <th>  F-statistic:       </th> <td>   1.692</td>\n",
       "</tr>\n",
       "<tr>\n",
       "  <th>Date:</th>             <td>Wed, 14 Apr 2021</td> <th>  Prob (F-statistic):</th>  <td> 0.168</td> \n",
       "</tr>\n",
       "<tr>\n",
       "  <th>Time:</th>                 <td>21:54:54</td>     <th>  Log-Likelihood:    </th> <td> -1559.2</td>\n",
       "</tr>\n",
       "<tr>\n",
       "  <th>No. Observations:</th>      <td>   421</td>      <th>  AIC:               </th> <td>   3126.</td>\n",
       "</tr>\n",
       "<tr>\n",
       "  <th>Df Residuals:</th>          <td>   417</td>      <th>  BIC:               </th> <td>   3143.</td>\n",
       "</tr>\n",
       "<tr>\n",
       "  <th>Df Model:</th>              <td>     3</td>      <th>                     </th>     <td> </td>   \n",
       "</tr>\n",
       "<tr>\n",
       "  <th>Covariance Type:</th>      <td>nonrobust</td>    <th>                     </th>     <td> </td>   \n",
       "</tr>\n",
       "</table>\n",
       "<table class=\"simpletable\">\n",
       "<tr>\n",
       "               <td></td>                  <th>coef</th>     <th>std err</th>      <th>t</th>      <th>P>|t|</th>  <th>[0.025</th>    <th>0.975]</th>  \n",
       "</tr>\n",
       "<tr>\n",
       "  <th>Intercept</th>                   <td>   19.5000</td> <td>    3.121</td> <td>    6.249</td> <td> 0.000</td> <td>   13.366</td> <td>   25.634</td>\n",
       "</tr>\n",
       "<tr>\n",
       "  <th>type[T.Both/Mainly Packets]</th> <td>   -0.7143</td> <td>    3.472</td> <td>   -0.206</td> <td> 0.837</td> <td>   -7.540</td> <td>    6.111</td>\n",
       "</tr>\n",
       "<tr>\n",
       "  <th>type[T.Hand-Rolled]</th>         <td>   -2.3056</td> <td>    3.330</td> <td>   -0.692</td> <td> 0.489</td> <td>   -8.852</td> <td>    4.241</td>\n",
       "</tr>\n",
       "<tr>\n",
       "  <th>type[T.Packets]</th>             <td>   -3.7189</td> <td>    3.173</td> <td>   -1.172</td> <td> 0.242</td> <td>   -9.956</td> <td>    2.518</td>\n",
       "</tr>\n",
       "</table>\n",
       "<table class=\"simpletable\">\n",
       "<tr>\n",
       "  <th>Omnibus:</th>       <td>74.151</td> <th>  Durbin-Watson:     </th> <td>   2.030</td>\n",
       "</tr>\n",
       "<tr>\n",
       "  <th>Prob(Omnibus):</th> <td> 0.000</td> <th>  Jarque-Bera (JB):  </th> <td> 130.576</td>\n",
       "</tr>\n",
       "<tr>\n",
       "  <th>Skew:</th>          <td> 1.017</td> <th>  Prob(JB):          </th> <td>4.42e-29</td>\n",
       "</tr>\n",
       "<tr>\n",
       "  <th>Kurtosis:</th>      <td> 4.819</td> <th>  Cond. No.          </th> <td>    16.6</td>\n",
       "</tr>\n",
       "</table><br/><br/>Notes:<br/>[1] Standard Errors assume that the covariance matrix of the errors is correctly specified."
      ],
      "text/plain": [
       "<class 'statsmodels.iolib.summary.Summary'>\n",
       "\"\"\"\n",
       "                            OLS Regression Results                            \n",
       "==============================================================================\n",
       "Dep. Variable:           amt_weekends   R-squared:                       0.012\n",
       "Model:                            OLS   Adj. R-squared:                  0.005\n",
       "Method:                 Least Squares   F-statistic:                     1.692\n",
       "Date:                Wed, 14 Apr 2021   Prob (F-statistic):              0.168\n",
       "Time:                        21:54:54   Log-Likelihood:                -1559.2\n",
       "No. Observations:                 421   AIC:                             3126.\n",
       "Df Residuals:                     417   BIC:                             3143.\n",
       "Df Model:                           3                                         \n",
       "Covariance Type:            nonrobust                                         \n",
       "===============================================================================================\n",
       "                                  coef    std err          t      P>|t|      [0.025      0.975]\n",
       "-----------------------------------------------------------------------------------------------\n",
       "Intercept                      19.5000      3.121      6.249      0.000      13.366      25.634\n",
       "type[T.Both/Mainly Packets]    -0.7143      3.472     -0.206      0.837      -7.540       6.111\n",
       "type[T.Hand-Rolled]            -2.3056      3.330     -0.692      0.489      -8.852       4.241\n",
       "type[T.Packets]                -3.7189      3.173     -1.172      0.242      -9.956       2.518\n",
       "==============================================================================\n",
       "Omnibus:                       74.151   Durbin-Watson:                   2.030\n",
       "Prob(Omnibus):                  0.000   Jarque-Bera (JB):              130.576\n",
       "Skew:                           1.017   Prob(JB):                     4.42e-29\n",
       "Kurtosis:                       4.819   Cond. No.                         16.6\n",
       "==============================================================================\n",
       "\n",
       "Notes:\n",
       "[1] Standard Errors assume that the covariance matrix of the errors is correctly specified.\n",
       "\"\"\""
      ]
     },
     "execution_count": 52,
     "metadata": {},
     "output_type": "execute_result"
    }
   ],
   "source": [
    "amod = smf.ols('amt_weekends ~ type', \n",
    "               data=df).fit()\n",
    "amod.summary()"
   ]
  },
  {
   "cell_type": "markdown",
   "metadata": {},
   "source": [
    "The test-statistic for this test is 1.692 and the p-value is .168.\n",
    "\n",
    "Thus, because $p-value\\geq alpha=0.05$ we fail to reject the null hypothesis. Thus we do not have sufficient evidence to suggest that at least one pair of mean number of cigarettes smoked over the weekend for different smoking types are different."
   ]
  },
  {
   "cell_type": "markdown",
   "metadata": {},
   "source": [
    "### Visualize the relationship between smoking type and the amount smoked on the weekends in the data."
   ]
  },
  {
   "cell_type": "code",
   "execution_count": 53,
   "metadata": {},
   "outputs": [
    {
     "data": {
      "image/png": "[encoded data removed]",
      "text/plain": [
       "<Figure size 432x288 with 1 Axes>"
      ]
     },
     "metadata": {
      "needs_background": "light"
     },
     "output_type": "display_data"
    }
   ],
   "source": [
    "sns.boxplot(x=\"type\", y=\"amt_weekends\", data=df)\n",
    "plt.show()"
   ]
  },
  {
   "cell_type": "markdown",
   "metadata": {},
   "source": [
    "## Logistic Regression"
   ]
  },
  {
   "cell_type": "markdown",
   "metadata": {},
   "source": [
    "### Build a logistic regression model with a response variable of being a packet (=1) vs. not-packet (=0) cigarette smoker and the following explanatory variables:\n",
    "* amt_weekends\n",
    "* amt_weekdays\n",
    "* sex"
   ]
  },
  {
   "cell_type": "code",
   "execution_count": 54,
   "metadata": {},
   "outputs": [
    {
     "data": {
      "text/html": [
       "<div>\n",
       "<style scoped>\n",
       "    .dataframe tbody tr th:only-of-type {\n",
       "        vertical-align: middle;\n",
       "    }\n",
       "\n",
       "    .dataframe tbody tr th {\n",
       "        vertical-align: top;\n",
       "    }\n",
       "\n",
       "    .dataframe thead th {\n",
       "        text-align: right;\n",
       "    }\n",
       "</style>\n",
       "<table border=\"1\" class=\"dataframe\">\n",
       "  <thead>\n",
       "    <tr style=\"text-align: right;\">\n",
       "      <th></th>\n",
       "      <th>sex</th>\n",
       "      <th>age</th>\n",
       "      <th>marital_status</th>\n",
       "      <th>highest_qualification</th>\n",
       "      <th>nationality</th>\n",
       "      <th>gross_income</th>\n",
       "      <th>region</th>\n",
       "      <th>smoke</th>\n",
       "      <th>amt_weekends</th>\n",
       "      <th>amt_weekdays</th>\n",
       "      <th>type</th>\n",
       "      <th>is_scottish</th>\n",
       "      <th>is_packet</th>\n",
       "      <th>sqrt_amt_weekends</th>\n",
       "      <th>sqrt_amt_weekdays</th>\n",
       "      <th>y</th>\n",
       "    </tr>\n",
       "  </thead>\n",
       "  <tbody>\n",
       "    <tr>\n",
       "      <th>0</th>\n",
       "      <td>Female</td>\n",
       "      <td>42</td>\n",
       "      <td>Single</td>\n",
       "      <td>No Qualification</td>\n",
       "      <td>British</td>\n",
       "      <td>Under 2,600</td>\n",
       "      <td>The North</td>\n",
       "      <td>Yes</td>\n",
       "      <td>12</td>\n",
       "      <td>12</td>\n",
       "      <td>Packets</td>\n",
       "      <td>Not_Scottish</td>\n",
       "      <td>Packets</td>\n",
       "      <td>3.464102</td>\n",
       "      <td>3.464102</td>\n",
       "      <td>1</td>\n",
       "    </tr>\n",
       "    <tr>\n",
       "      <th>1</th>\n",
       "      <td>Male</td>\n",
       "      <td>53</td>\n",
       "      <td>Married</td>\n",
       "      <td>Degree</td>\n",
       "      <td>British</td>\n",
       "      <td>Above 36,400</td>\n",
       "      <td>The North</td>\n",
       "      <td>Yes</td>\n",
       "      <td>6</td>\n",
       "      <td>6</td>\n",
       "      <td>Packets</td>\n",
       "      <td>Not_Scottish</td>\n",
       "      <td>Packets</td>\n",
       "      <td>2.449490</td>\n",
       "      <td>2.449490</td>\n",
       "      <td>1</td>\n",
       "    </tr>\n",
       "    <tr>\n",
       "      <th>2</th>\n",
       "      <td>Male</td>\n",
       "      <td>40</td>\n",
       "      <td>Single</td>\n",
       "      <td>GCSE/CSE</td>\n",
       "      <td>English</td>\n",
       "      <td>2,600 to 5,200</td>\n",
       "      <td>The North</td>\n",
       "      <td>Yes</td>\n",
       "      <td>8</td>\n",
       "      <td>8</td>\n",
       "      <td>Hand-Rolled</td>\n",
       "      <td>Not_Scottish</td>\n",
       "      <td>Not_Packets</td>\n",
       "      <td>2.828427</td>\n",
       "      <td>2.828427</td>\n",
       "      <td>0</td>\n",
       "    </tr>\n",
       "    <tr>\n",
       "      <th>3</th>\n",
       "      <td>Female</td>\n",
       "      <td>41</td>\n",
       "      <td>Married</td>\n",
       "      <td>No Qualification</td>\n",
       "      <td>English</td>\n",
       "      <td>5,200 to 10,400</td>\n",
       "      <td>The North</td>\n",
       "      <td>Yes</td>\n",
       "      <td>15</td>\n",
       "      <td>12</td>\n",
       "      <td>Packets</td>\n",
       "      <td>Not_Scottish</td>\n",
       "      <td>Packets</td>\n",
       "      <td>3.872983</td>\n",
       "      <td>3.464102</td>\n",
       "      <td>1</td>\n",
       "    </tr>\n",
       "    <tr>\n",
       "      <th>4</th>\n",
       "      <td>Female</td>\n",
       "      <td>34</td>\n",
       "      <td>Married</td>\n",
       "      <td>GCSE/CSE</td>\n",
       "      <td>British</td>\n",
       "      <td>2,600 to 5,200</td>\n",
       "      <td>The North</td>\n",
       "      <td>Yes</td>\n",
       "      <td>6</td>\n",
       "      <td>12</td>\n",
       "      <td>Packets</td>\n",
       "      <td>Not_Scottish</td>\n",
       "      <td>Packets</td>\n",
       "      <td>2.449490</td>\n",
       "      <td>3.464102</td>\n",
       "      <td>1</td>\n",
       "    </tr>\n",
       "    <tr>\n",
       "      <th>...</th>\n",
       "      <td>...</td>\n",
       "      <td>...</td>\n",
       "      <td>...</td>\n",
       "      <td>...</td>\n",
       "      <td>...</td>\n",
       "      <td>...</td>\n",
       "      <td>...</td>\n",
       "      <td>...</td>\n",
       "      <td>...</td>\n",
       "      <td>...</td>\n",
       "      <td>...</td>\n",
       "      <td>...</td>\n",
       "      <td>...</td>\n",
       "      <td>...</td>\n",
       "      <td>...</td>\n",
       "      <td>...</td>\n",
       "    </tr>\n",
       "    <tr>\n",
       "      <th>416</th>\n",
       "      <td>Female</td>\n",
       "      <td>31</td>\n",
       "      <td>Single</td>\n",
       "      <td>GCSE/O Level</td>\n",
       "      <td>Scottish</td>\n",
       "      <td>15,600 to 20,800</td>\n",
       "      <td>Scotland</td>\n",
       "      <td>Yes</td>\n",
       "      <td>20</td>\n",
       "      <td>10</td>\n",
       "      <td>Packets</td>\n",
       "      <td>Scottish</td>\n",
       "      <td>Packets</td>\n",
       "      <td>4.472136</td>\n",
       "      <td>3.162278</td>\n",
       "      <td>1</td>\n",
       "    </tr>\n",
       "    <tr>\n",
       "      <th>417</th>\n",
       "      <td>Male</td>\n",
       "      <td>24</td>\n",
       "      <td>Single</td>\n",
       "      <td>No Qualification</td>\n",
       "      <td>Scottish</td>\n",
       "      <td>Under 2,600</td>\n",
       "      <td>Scotland</td>\n",
       "      <td>Yes</td>\n",
       "      <td>15</td>\n",
       "      <td>15</td>\n",
       "      <td>Hand-Rolled</td>\n",
       "      <td>Scottish</td>\n",
       "      <td>Not_Packets</td>\n",
       "      <td>3.872983</td>\n",
       "      <td>3.872983</td>\n",
       "      <td>0</td>\n",
       "    </tr>\n",
       "    <tr>\n",
       "      <th>418</th>\n",
       "      <td>Male</td>\n",
       "      <td>35</td>\n",
       "      <td>Married</td>\n",
       "      <td>No Qualification</td>\n",
       "      <td>Scottish</td>\n",
       "      <td>10,400 to 15,600</td>\n",
       "      <td>Scotland</td>\n",
       "      <td>Yes</td>\n",
       "      <td>3</td>\n",
       "      <td>12</td>\n",
       "      <td>Packets</td>\n",
       "      <td>Scottish</td>\n",
       "      <td>Packets</td>\n",
       "      <td>1.732051</td>\n",
       "      <td>3.464102</td>\n",
       "      <td>1</td>\n",
       "    </tr>\n",
       "    <tr>\n",
       "      <th>419</th>\n",
       "      <td>Female</td>\n",
       "      <td>49</td>\n",
       "      <td>Divorced</td>\n",
       "      <td>Other/Sub Degree</td>\n",
       "      <td>English</td>\n",
       "      <td>2,600 to 5,200</td>\n",
       "      <td>Scotland</td>\n",
       "      <td>Yes</td>\n",
       "      <td>20</td>\n",
       "      <td>20</td>\n",
       "      <td>Hand-Rolled</td>\n",
       "      <td>Not_Scottish</td>\n",
       "      <td>Not_Packets</td>\n",
       "      <td>4.472136</td>\n",
       "      <td>4.472136</td>\n",
       "      <td>0</td>\n",
       "    </tr>\n",
       "    <tr>\n",
       "      <th>420</th>\n",
       "      <td>Female</td>\n",
       "      <td>51</td>\n",
       "      <td>Married</td>\n",
       "      <td>No Qualification</td>\n",
       "      <td>English</td>\n",
       "      <td>2,600 to 5,200</td>\n",
       "      <td>Scotland</td>\n",
       "      <td>Yes</td>\n",
       "      <td>20</td>\n",
       "      <td>20</td>\n",
       "      <td>Packets</td>\n",
       "      <td>Not_Scottish</td>\n",
       "      <td>Packets</td>\n",
       "      <td>4.472136</td>\n",
       "      <td>4.472136</td>\n",
       "      <td>1</td>\n",
       "    </tr>\n",
       "  </tbody>\n",
       "</table>\n",
       "<p>421 rows × 16 columns</p>\n",
       "</div>"
      ],
      "text/plain": [
       "        sex  age marital_status highest_qualification nationality  \\\n",
       "0    Female   42         Single      No Qualification     British   \n",
       "1      Male   53        Married                Degree     British   \n",
       "2      Male   40         Single              GCSE/CSE     English   \n",
       "3    Female   41        Married      No Qualification     English   \n",
       "4    Female   34        Married              GCSE/CSE     British   \n",
       "..      ...  ...            ...                   ...         ...   \n",
       "416  Female   31         Single          GCSE/O Level    Scottish   \n",
       "417    Male   24         Single      No Qualification    Scottish   \n",
       "418    Male   35        Married      No Qualification    Scottish   \n",
       "419  Female   49       Divorced      Other/Sub Degree     English   \n",
       "420  Female   51        Married      No Qualification     English   \n",
       "\n",
       "         gross_income     region smoke  amt_weekends  amt_weekdays  \\\n",
       "0         Under 2,600  The North   Yes            12            12   \n",
       "1        Above 36,400  The North   Yes             6             6   \n",
       "2      2,600 to 5,200  The North   Yes             8             8   \n",
       "3     5,200 to 10,400  The North   Yes            15            12   \n",
       "4      2,600 to 5,200  The North   Yes             6            12   \n",
       "..                ...        ...   ...           ...           ...   \n",
       "416  15,600 to 20,800   Scotland   Yes            20            10   \n",
       "417       Under 2,600   Scotland   Yes            15            15   \n",
       "418  10,400 to 15,600   Scotland   Yes             3            12   \n",
       "419    2,600 to 5,200   Scotland   Yes            20            20   \n",
       "420    2,600 to 5,200   Scotland   Yes            20            20   \n",
       "\n",
       "            type   is_scottish    is_packet  sqrt_amt_weekends  \\\n",
       "0        Packets  Not_Scottish      Packets           3.464102   \n",
       "1        Packets  Not_Scottish      Packets           2.449490   \n",
       "2    Hand-Rolled  Not_Scottish  Not_Packets           2.828427   \n",
       "3        Packets  Not_Scottish      Packets           3.872983   \n",
       "4        Packets  Not_Scottish      Packets           2.449490   \n",
       "..           ...           ...          ...                ...   \n",
       "416      Packets      Scottish      Packets           4.472136   \n",
       "417  Hand-Rolled      Scottish  Not_Packets           3.872983   \n",
       "418      Packets      Scottish      Packets           1.732051   \n",
       "419  Hand-Rolled  Not_Scottish  Not_Packets           4.472136   \n",
       "420      Packets  Not_Scottish      Packets           4.472136   \n",
       "\n",
       "     sqrt_amt_weekdays  y  \n",
       "0             3.464102  1  \n",
       "1             2.449490  1  \n",
       "2             2.828427  0  \n",
       "3             3.464102  1  \n",
       "4             3.464102  1  \n",
       "..                 ... ..  \n",
       "416           3.162278  1  \n",
       "417           3.872983  0  \n",
       "418           3.464102  1  \n",
       "419           4.472136  0  \n",
       "420           4.472136  1  \n",
       "\n",
       "[421 rows x 16 columns]"
      ]
     },
     "execution_count": 54,
     "metadata": {},
     "output_type": "execute_result"
    }
   ],
   "source": [
    "df['y']=df['is_packet'].map({'Packets':1, 'Not_Packets':0})\n",
    "df"
   ]
  },
  {
   "cell_type": "code",
   "execution_count": 55,
   "metadata": {},
   "outputs": [
    {
     "name": "stdout",
     "output_type": "stream",
     "text": [
      "Optimization terminated successfully.\n",
      "         Current function value: 0.580035\n",
      "         Iterations 5\n"
     ]
    },
    {
     "data": {
      "text/html": [
       "<table class=\"simpletable\">\n",
       "<caption>Logit Regression Results</caption>\n",
       "<tr>\n",
       "  <th>Dep. Variable:</th>           <td>y</td>        <th>  No. Observations:  </th>  <td>   421</td>  \n",
       "</tr>\n",
       "<tr>\n",
       "  <th>Model:</th>                 <td>Logit</td>      <th>  Df Residuals:      </th>  <td>   418</td>  \n",
       "</tr>\n",
       "<tr>\n",
       "  <th>Method:</th>                 <td>MLE</td>       <th>  Df Model:          </th>  <td>     2</td>  \n",
       "</tr>\n",
       "<tr>\n",
       "  <th>Date:</th>            <td>Wed, 14 Apr 2021</td> <th>  Pseudo R-squ.:     </th>  <td>0.04311</td> \n",
       "</tr>\n",
       "<tr>\n",
       "  <th>Time:</th>                <td>21:54:54</td>     <th>  Log-Likelihood:    </th> <td> -244.19</td> \n",
       "</tr>\n",
       "<tr>\n",
       "  <th>converged:</th>             <td>True</td>       <th>  LL-Null:           </th> <td> -255.20</td> \n",
       "</tr>\n",
       "<tr>\n",
       "  <th>Covariance Type:</th>     <td>nonrobust</td>    <th>  LLR p-value:       </th> <td>1.669e-05</td>\n",
       "</tr>\n",
       "</table>\n",
       "<table class=\"simpletable\">\n",
       "<tr>\n",
       "        <td></td>          <th>coef</th>     <th>std err</th>      <th>z</th>      <th>P>|z|</th>  <th>[0.025</th>    <th>0.975]</th>  \n",
       "</tr>\n",
       "<tr>\n",
       "  <th>Intercept</th>    <td>    1.5738</td> <td>    0.234</td> <td>    6.712</td> <td> 0.000</td> <td>    1.114</td> <td>    2.033</td>\n",
       "</tr>\n",
       "<tr>\n",
       "  <th>sex[T.Male]</th>  <td>   -0.9327</td> <td>    0.223</td> <td>   -4.191</td> <td> 0.000</td> <td>   -1.369</td> <td>   -0.497</td>\n",
       "</tr>\n",
       "<tr>\n",
       "  <th>amt_weekends</th> <td>   -0.0143</td> <td>    0.011</td> <td>   -1.320</td> <td> 0.187</td> <td>   -0.036</td> <td>    0.007</td>\n",
       "</tr>\n",
       "</table>"
      ],
      "text/plain": [
       "<class 'statsmodels.iolib.summary.Summary'>\n",
       "\"\"\"\n",
       "                           Logit Regression Results                           \n",
       "==============================================================================\n",
       "Dep. Variable:                      y   No. Observations:                  421\n",
       "Model:                          Logit   Df Residuals:                      418\n",
       "Method:                           MLE   Df Model:                            2\n",
       "Date:                Wed, 14 Apr 2021   Pseudo R-squ.:                 0.04311\n",
       "Time:                        21:54:54   Log-Likelihood:                -244.19\n",
       "converged:                       True   LL-Null:                       -255.20\n",
       "Covariance Type:            nonrobust   LLR p-value:                 1.669e-05\n",
       "================================================================================\n",
       "                   coef    std err          z      P>|z|      [0.025      0.975]\n",
       "--------------------------------------------------------------------------------\n",
       "Intercept        1.5738      0.234      6.712      0.000       1.114       2.033\n",
       "sex[T.Male]     -0.9327      0.223     -4.191      0.000      -1.369      -0.497\n",
       "amt_weekends    -0.0143      0.011     -1.320      0.187      -0.036       0.007\n",
       "================================================================================\n",
       "\"\"\""
      ]
     },
     "execution_count": 55,
     "metadata": {},
     "output_type": "execute_result"
    }
   ],
   "source": [
    "logmod=smf.logit('y~amt_weekends+sex', data=df).fit()\n",
    "logmod.summary()"
   ]
  },
  {
   "cell_type": "markdown",
   "metadata": {},
   "source": [
    "### Give the fitted logistic regression equation here."
   ]
  },
  {
   "cell_type": "markdown",
   "metadata": {},
   "source": [
    "$log(\\frac{\\hat{p}}{(1-\\hat{p})})=1.5738-.9327sexmale-0.0143amtweekends$"
   ]
  },
  {
   "cell_type": "markdown",
   "metadata": {},
   "source": [
    "### What are the *odds* that a UK female that smokes 2 cigarettes on the weekend smokes packets?"
   ]
  },
  {
   "cell_type": "code",
   "execution_count": 56,
   "metadata": {},
   "outputs": [
    {
     "name": "stdout",
     "output_type": "stream",
     "text": [
      "log odds 1.5452000000000001\n",
      "odds 4.688909315113102\n"
     ]
    }
   ],
   "source": [
    "logodds=1.5738-.9327*0-0.0143*2\n",
    "print('log odds',logodds)\n",
    "odds=np.exp(logodds)\n",
    "print('odds',odds)"
   ]
  },
  {
   "cell_type": "markdown",
   "metadata": {},
   "source": [
    "The odds that a UK female (that smokes 2 cigarettes on the weekend) smokes packets is 4.66.\n",
    "\n",
    "(Put another way, the odds are 466 to 100)."
   ]
  },
  {
   "cell_type": "markdown",
   "metadata": {},
   "source": [
    "### What is the predicted probability that a UK female that smokes 2 cigarettes on the weekends smokes packets?"
   ]
  },
  {
   "cell_type": "code",
   "execution_count": 57,
   "metadata": {},
   "outputs": [
    {
     "name": "stdout",
     "output_type": "stream",
     "text": [
      "0.8242193811486133\n"
     ]
    }
   ],
   "source": [
    "p=odds/(1+odds)\n",
    "print(p)"
   ]
  },
  {
   "cell_type": "markdown",
   "metadata": {},
   "source": [
    "### Calculate the p-value that determines whether there exists sufficient evidence to suggest that the odds multiplier for amt_weekends variable in the population logistic regression model is not equal to 1 by hand."
   ]
  },
  {
   "cell_type": "markdown",
   "metadata": {},
   "source": [
    "Because $\\beta_2$ represents the population slope for amt_weekends, $e^{\\beta_2}$ is the odds multiplier for the amt_weekends variable in the population logistic regression model."
   ]
  },
  {
   "cell_type": "markdown",
   "metadata": {},
   "source": [
    "$H_0: e^{\\beta_2}=1$\n",
    "\n",
    "$H_A: e^{\\beta_2} \\neq 1$\n",
    "\n",
    "is equivalent to\n",
    "\n",
    "$H_0: \\beta_2=0$\n",
    "\n",
    "$H_A: \\beta_2 \\neq 0$"
   ]
  },
  {
   "cell_type": "code",
   "execution_count": 58,
   "metadata": {},
   "outputs": [
    {
     "name": "stdout",
     "output_type": "stream",
     "text": [
      "Test Statistic -1.3\n",
      "pvalue 0.1936009691712206\n"
     ]
    }
   ],
   "source": [
    "sample_slope=-.0143\n",
    "se=.011\n",
    "null_value=0\n",
    "\n",
    "z_stat=(sample_slope-null_value)/se\n",
    "print(\"Test Statistic\",z_stat)\n",
    "\n",
    "p_value=2*(1-norm.cdf(np.abs(z_stat)))\n",
    "print('pvalue', p_value)"
   ]
  },
  {
   "cell_type": "markdown",
   "metadata": {},
   "source": [
    "Because the $p-value \\geq \\alpha=0.05$ we fail to reject the null hypothesis. Thus there is not sufficient evidence to suggest $e^{\\beta_2}$ is not equal to 1."
   ]
  },
  {
   "cell_type": "markdown",
   "metadata": {},
   "source": [
    "### If we increase the amount of cigarettes smoked on the weekend by 1, how do we expect the odds of smoking packets to change in the sample logistic regression model?"
   ]
  },
  {
   "cell_type": "markdown",
   "metadata": {},
   "source": [
    "We expect the odds of smoking packets to change by a factor of .985."
   ]
  },
  {
   "cell_type": "code",
   "execution_count": 59,
   "metadata": {},
   "outputs": [
    {
     "data": {
      "text/plain": [
       "0.9858017593695354"
      ]
     },
     "execution_count": 59,
     "metadata": {},
     "output_type": "execute_result"
    }
   ],
   "source": [
    "np.exp(sample_slope)"
   ]
  },
  {
   "cell_type": "markdown",
   "metadata": {},
   "source": [
    "### What is the odds ratio for smoking packets for male smokers vs. female smokers? Interpret this."
   ]
  },
  {
   "cell_type": "code",
   "execution_count": 60,
   "metadata": {},
   "outputs": [
    {
     "data": {
      "text/plain": [
       "0.39348985220841187"
      ]
     },
     "execution_count": 60,
     "metadata": {},
     "output_type": "execute_result"
    }
   ],
   "source": [
    "np.exp(-0.9327)"
   ]
  },
  {
   "cell_type": "markdown",
   "metadata": {},
   "source": [
    "The odds of UK males smoking packets is smaller (by a factor of 0.39) than the odds of UK females smoking packets."
   ]
  },
  {
   "cell_type": "code",
   "execution_count": null,
   "metadata": {},
   "outputs": [],
   "source": []
  }
 ],
 "metadata": {
  "kernelspec": {
   "display_name": "Python 3",
   "language": "python",
   "name": "python3"
  },
  "language_info": {
   "codemirror_mode": {
    "name": "ipython",
    "version": 3
   },
   "file_extension": ".py",
   "mimetype": "text/x-python",
   "name": "python",
   "nbconvert_exporter": "python",
   "pygments_lexer": "ipython3",
   "version": "3.8.5"
  }
 },
 "nbformat": 4,
 "nbformat_minor": 4
}
