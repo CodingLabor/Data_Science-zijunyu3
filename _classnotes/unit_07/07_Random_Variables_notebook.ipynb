{
 "cells": [
  {
   "cell_type": "markdown",
   "metadata": {},
   "source": [
    "<!--# STAT 207: Data Science Exploration-->\n",
    "# <u> Unit 7 Notebook</u>: Introduction to Random Variables - Building Blocks for Inference \n",
    "\n",
    "\n",
    "\n"
   ]
  },
  {
   "cell_type": "markdown",
   "metadata": {},
   "source": [
    "## 1. Goals of Unit 7\n",
    "\n",
    "* Probability rules that work for any type of event\n",
    "\n",
    "* What is a **random variable**?\n",
    "\n",
    "* What are some types of random variable and what are their properties?\n",
    "\n",
    "* How do we calculate probabilities involving a random variable?"
   ]
  },
  {
   "cell_type": "markdown",
   "metadata": {},
   "source": [
    "## 2. General Probability Rules\n",
    "\n",
    "#### See Unit 7 slides (section 2)"
   ]
  },
  {
   "cell_type": "markdown",
   "metadata": {},
   "source": [
    "## 3. Random Variable Definitions and Main Types\n",
    "\n",
    "#### See Unit 7 slides (section 3)"
   ]
  },
  {
   "cell_type": "markdown",
   "metadata": {},
   "source": [
    "## 4. How to calculate the probability of events involving random variables.\n",
    "\n",
    "#### See Unit 7 slides (section 4)"
   ]
  },
  {
   "cell_type": "markdown",
   "metadata": {},
   "source": [
    "## 5. How to identify if a random variable \"fits the definition\" of a well-known random variable.\n",
    "\n",
    "#### See Unit 7 slides (section 5)"
   ]
  },
  {
   "cell_type": "markdown",
   "metadata": {},
   "source": [
    "## 6. <u>Discrete Random Variables</u>: Functions that Calculate Random Variable Probabilities\n",
    "\n",
    "<u>Fitting the Definition of a Random Variable</u>: From the unit 7 slides (section 5), we determined that the random variable **X = number of times you flip a coin until you get a head** \"fits the definition\" of being a **geometric random variable** with p=0.5. Thus we say that **X** is a geometric random variable (ie. $X\\sim Geom(p=0.5)$).\n",
    "\n",
    "<u>Distribution Python Objects</u>: Because **geometric random variables** are well-known and well-studied by the statistics community, the **scipy.stats** package in Python has a **geom** <u>object</u> which contains a series of related functions involving **geometric random variables**. "
   ]
  },
  {
   "cell_type": "markdown",
   "metadata": {},
   "source": [
    "### 6.1. Probability Mass Functions\n",
    "\n",
    "#### See Unit 7 slides (section 6.1)\n",
    "\n",
    "<u>.pmf() Functions</u>: For instance, the **.pmf()** function which is associated with many **distribution scipy objects** calculates the probability that the corresponding random variable is equal to a given value (ie. $P(X=value)$).\n",
    "\n",
    "For instance, the code below calculates $P(X=1)=0.5$, wehere $X$ is a geometric random variable with parameter $p=0.5$ (ie. $X\\sim Geom(p=0.5)$).\n"
   ]
  },
  {
   "cell_type": "code",
   "execution_count": 1,
   "metadata": {},
   "outputs": [],
   "source": [
    "from scipy.stats import geom"
   ]
  },
  {
   "cell_type": "code",
   "execution_count": 2,
   "metadata": {},
   "outputs": [
    {
     "data": {
      "text/plain": [
       "scipy.stats._discrete_distns.geom_gen"
      ]
     },
     "execution_count": 2,
     "metadata": {},
     "output_type": "execute_result"
    }
   ],
   "source": [
    "type(geom)"
   ]
  },
  {
   "cell_type": "code",
   "execution_count": 3,
   "metadata": {},
   "outputs": [
    {
     "data": {
      "text/plain": [
       "0.5"
      ]
     },
     "execution_count": 3,
     "metadata": {},
     "output_type": "execute_result"
    }
   ],
   "source": [
    "geom.pmf(1,p=0.5)"
   ]
  },
  {
   "cell_type": "markdown",
   "metadata": {},
   "source": [
    "$P(X=2)=0.25$"
   ]
  },
  {
   "cell_type": "code",
   "execution_count": 4,
   "metadata": {},
   "outputs": [
    {
     "data": {
      "text/plain": [
       "0.25"
      ]
     },
     "execution_count": 4,
     "metadata": {},
     "output_type": "execute_result"
    }
   ],
   "source": [
    "geom.pmf(2,p=0.5)"
   ]
  },
  {
   "cell_type": "markdown",
   "metadata": {},
   "source": [
    "$P(X=3)=0.125$"
   ]
  },
  {
   "cell_type": "code",
   "execution_count": 5,
   "metadata": {},
   "outputs": [
    {
     "data": {
      "text/plain": [
       "0.125"
      ]
     },
     "execution_count": 5,
     "metadata": {},
     "output_type": "execute_result"
    }
   ],
   "source": [
    "geom.pmf(3,p=0.5)"
   ]
  },
  {
   "cell_type": "markdown",
   "metadata": {},
   "source": [
    "#### These probability values match what we calculated by hand in the Unit 7 slides (section 4)."
   ]
  },
  {
   "cell_type": "markdown",
   "metadata": {},
   "source": [
    "### 6.2 Cumulative Distribution Functions\n",
    "\n",
    "#### See Unit 7 slides (section 6.2)\n",
    "\n",
    "<u>.cdf() Functions</u>: For instance, the **.cdf()** function which is associated with many **distribution scipy objects** (like **geom**) calculates the probability that the corresponding random variable is less than or equal to a given value (ie. $P(X\\leq value)$).\n",
    "\n",
    "For instance, the code below calculates $P(X\\leq 2)=0.75$, wehere $X$ is a geometric random variable with parameter $p=0.5$ (ie. $X\\sim Geom(p=0.5)$)."
   ]
  },
  {
   "cell_type": "code",
   "execution_count": 6,
   "metadata": {},
   "outputs": [
    {
     "data": {
      "text/plain": [
       "0.75"
      ]
     },
     "execution_count": 6,
     "metadata": {},
     "output_type": "execute_result"
    }
   ],
   "source": [
    "geom.cdf(2,p=0.5)"
   ]
  },
  {
   "cell_type": "markdown",
   "metadata": {},
   "source": [
    "#### This probability value matches what we calculated by hand in the Unit 7 slides (section 6.2)."
   ]
  },
  {
   "cell_type": "markdown",
   "metadata": {},
   "source": [
    "## 7. Examples of how to randomly generate values for a random variable"
   ]
  },
  {
   "cell_type": "markdown",
   "metadata": {},
   "source": [
    "### 7.1. When we *don't know* if the random variable \"fits the definition\" of a *well-known* random variable.\n",
    "\n",
    "#### For now, we will pretend that we \"don't know\" that our random variable X is a geometric random variable.\n",
    "\n",
    "<u>Experiment</u> Keep flipping a coin until you get a head. Observe the total number of flips before stopping (including the head).\n",
    "\n",
    "<u>Simulation of Experiment</u>: Let's first design a simulation that will mimic this experiment ourselves (\"from scratch\"). We will simulate the act of flipping a coin until we get a head. After we flip a head, we will define **X** to be the total number of flips in the experiment.\n",
    "\n",
    "<u>Randomly Generating a Value for a Random Variable</u>: Thus we can think of this **X** as a **randomly generated value for the random variable** **X=number of times you flip a coin until you get a head** from the slides."
   ]
  },
  {
   "cell_type": "markdown",
   "metadata": {},
   "source": [
    "#### 7.1.1 Simulating Flipping a Coin\n",
    "This is like sampling repeatedly from the following data frame until we get an \"H\"."
   ]
  },
  {
   "cell_type": "code",
   "execution_count": 7,
   "metadata": {},
   "outputs": [],
   "source": [
    "import pandas as pd\n",
    "import numpy as np\n",
    "import matplotlib.pyplot as plt\n",
    "import seaborn as sns; sns.set()"
   ]
  },
  {
   "cell_type": "code",
   "execution_count": 8,
   "metadata": {},
   "outputs": [
    {
     "data": {
      "text/html": [
       "<div>\n",
       "<style scoped>\n",
       "    .dataframe tbody tr th:only-of-type {\n",
       "        vertical-align: middle;\n",
       "    }\n",
       "\n",
       "    .dataframe tbody tr th {\n",
       "        vertical-align: top;\n",
       "    }\n",
       "\n",
       "    .dataframe thead th {\n",
       "        text-align: right;\n",
       "    }\n",
       "</style>\n",
       "<table border=\"1\" class=\"dataframe\">\n",
       "  <thead>\n",
       "    <tr style=\"text-align: right;\">\n",
       "      <th></th>\n",
       "      <th>side</th>\n",
       "    </tr>\n",
       "  </thead>\n",
       "  <tbody>\n",
       "    <tr>\n",
       "      <th>0</th>\n",
       "      <td>T</td>\n",
       "    </tr>\n",
       "    <tr>\n",
       "      <th>1</th>\n",
       "      <td>H</td>\n",
       "    </tr>\n",
       "  </tbody>\n",
       "</table>\n",
       "</div>"
      ],
      "text/plain": [
       "  side\n",
       "0    T\n",
       "1    H"
      ]
     },
     "execution_count": 8,
     "metadata": {},
     "output_type": "execute_result"
    }
   ],
   "source": [
    "coin = pd.DataFrame({'side': ['T', 'H']}, index=[0,1])\n",
    "coin"
   ]
  },
  {
   "cell_type": "markdown",
   "metadata": {},
   "source": [
    "#### 7.1.2 Using a \"while loop\" to keep \"flipping\" until we get a head.\n",
    "Here is some code using a **\"while\"** loop to keep flipping our simulated coin until we get 'heads'. Rerun the cell to see how the the count 'X' varies randomly.\n",
    "\n",
    "The **.item()** function pulls the value from the generated 1 item Series, so we can check if it equals 'H' or not. "
   ]
  },
  {
   "cell_type": "code",
   "execution_count": 9,
   "metadata": {},
   "outputs": [
    {
     "name": "stdout",
     "output_type": "stream",
     "text": [
      "Flip: T\n",
      "Current Value of X: 1\n",
      "-----------------\n",
      "Flip: H\n",
      "Current Value of X: 2\n",
      "-----------------\n",
      "Final Value of Randomly Generated Value for X: 2\n"
     ]
    }
   ],
   "source": [
    "#This will be your randomly generate value for the random variable X\n",
    "X = 0\n",
    "\n",
    "#Set flop to anything but 'H' so we can \"enter\" the while loop\n",
    "flip='T'\n",
    "\n",
    "#Keep executing the code in this loop WHILE the 'flip' variable is not equal to 'H'\n",
    "while flip != 'H':\n",
    "    \n",
    "    #Draw a random sample (of size n=1) from the population of flip outcomes\n",
    "    flip = coin.sample(1)['side'].item()\n",
    "    print('Flip:',flip)\n",
    "    \n",
    "    #Update the random variable to be one more head\n",
    "    X = X + 1\n",
    "    print('Current Value of X:',X)\n",
    "    print('-----------------')\n",
    "\n",
    "print('Final Value of Randomly Generated Value for X:',X)"
   ]
  },
  {
   "cell_type": "markdown",
   "metadata": {},
   "source": [
    "### 7.2. When we *know*  the random variable \"fits the definition\" of a *well-known* random variable.\n",
    "\n",
    "Because we know that X is a geometric random variable, we can also use the **.rvs()** function to randomly generate values for the random variable. In this case, the **.rvs()** also performs a simulation of conducting a series of \"independent trials\" until we get a \"success\" (where the probability of success in any given trial is always p).\n",
    "\n",
    "<u>.rvs() Function</u>: The **.rvs()** function randomly generates a series of values for a corresponding random variable.\n",
    "\n",
    "Remember that for our coin flip random variable **X**, this $p=0.5$ (where \"success\" is flipping a head)."
   ]
  },
  {
   "cell_type": "markdown",
   "metadata": {},
   "source": [
    "#### One Randomly Generated Value for X"
   ]
  },
  {
   "cell_type": "code",
   "execution_count": 10,
   "metadata": {},
   "outputs": [
    {
     "data": {
      "text/plain": [
       "array([1])"
      ]
     },
     "execution_count": 10,
     "metadata": {},
     "output_type": "execute_result"
    }
   ],
   "source": [
    "X=geom.rvs(p=0.5, size=1)\n",
    "X"
   ]
  },
  {
   "cell_type": "markdown",
   "metadata": {},
   "source": [
    "#### Ten Randomly Generated Values for X"
   ]
  },
  {
   "cell_type": "code",
   "execution_count": 11,
   "metadata": {},
   "outputs": [
    {
     "data": {
      "text/plain": [
       "array([1, 2, 3, 4, 1, 1, 3, 1, 3, 1])"
      ]
     },
     "execution_count": 11,
     "metadata": {},
     "output_type": "execute_result"
    }
   ],
   "source": [
    "X=geom.rvs(p=0.5, size=10)\n",
    "X"
   ]
  },
  {
   "cell_type": "markdown",
   "metadata": {},
   "source": [
    "## 8. <u> Continuous Random Variables</u>: Functions that Calculate Random Variable Probabilities"
   ]
  },
  {
   "cell_type": "markdown",
   "metadata": {},
   "source": [
    "### 8.1. Why do we not use probability mass functions (ie. P(Y=value)) for continuous random variables?\n",
    "\n",
    "#### See Unit 7 slides (section 8.1).\n",
    "\n",
    "### 8.2. Cumulative Density Functions (cdf) and Probability Density Functions (pdf)\n",
    "\n",
    "#### See Unit 7 slides (section 8.2).\n",
    "\n",
    "### 8.3. Properties of Cumulative Density Functions (cdf) and Probability Density Functions (pdf)\n",
    "\n",
    "#### See Unit 7 slides (section 8.3\n",
    "\n",
    "### 8.4. Calculating the probabilities of events involving random variables using pdf and cdf curves\n",
    "\n",
    "#### See Unit 7 slides (section 8.4)."
   ]
  },
  {
   "cell_type": "markdown",
   "metadata": {},
   "source": [
    "### 8.5 Calculating the probabilites of events involving well-known random variables in Python.\n",
    "\n",
    "\n",
    "Suppose that after collecting data on the Youtube watching habits on a large sample of adults, researchers decided that the random variable X = the number of hours a randomly selected adult spends watching Youtube each week closely “fits the definition” of another well-known random variable called a truncated normal random variable.\n",
    "\n",
    "A **truncated normal random variable** has four parameters that are associated with it:\n",
    "* µ = mean of the random variable (had it not been truncated)\n",
    "* σ = standard deviation of the random variable (had it not been truncated)\n",
    "* a = lower bound of the random variable\n",
    "* b = upper bound of the random variable\n",
    "\n",
    "Suppose that the researchers specifically know the parameters associated with our X truncated random variable are µ=0, σ=2, a=0, and b=20.\n",
    "\n",
    "We can now import the **truncnorm** object from **scipy.stats** to use a series of functions related to **truncated normal random variables**.\n"
   ]
  },
  {
   "cell_type": "code",
   "execution_count": 12,
   "metadata": {},
   "outputs": [],
   "source": [
    "from scipy.stats import truncnorm"
   ]
  },
  {
   "cell_type": "markdown",
   "metadata": {},
   "source": [
    "Most functions involving a **random variable** object (like **truncnorm**, **geom**, and others) require us to specify the corresponding random variable parameters inside of that function as well as potentially other information.\n",
    "\n",
    "For a **truncated normal random variable** these parameters are:\n",
    "* loc = mean of the random variable (had it not been truncated)\n",
    "* scale = standard deviation of the random variable (had it not been truncated)\n",
    "* a = lower bound of the random variable\n",
    "* b = upper bound of the random variable\n",
    "\n",
    "Thus we can use the **.cdf()** function for **truncnorm** below to calculate $P(X\\leq 2)=0.683$."
   ]
  },
  {
   "cell_type": "code",
   "execution_count": 13,
   "metadata": {},
   "outputs": [
    {
     "data": {
      "text/plain": [
       "0.6826894921370859"
      ]
     },
     "execution_count": 13,
     "metadata": {},
     "output_type": "execute_result"
    }
   ],
   "source": [
    "a, b, loc, scale = 0.0, 20, 0, 2\n",
    "truncnorm.cdf(2, a=a, b=b, loc=loc, scale=scale)"
   ]
  },
  {
   "cell_type": "markdown",
   "metadata": {},
   "source": [
    "Because the **.cdf()** only calculates areas to going to the left (ie. $P(X\\leq value)$), we need to use the relationship of $P(X> value)=1-P(X\\leq value)$.\n",
    "\n",
    "\n",
    "$P(X\\leq 2)=1-P(X< 2)=1-0.683=0.317$."
   ]
  },
  {
   "cell_type": "code",
   "execution_count": 14,
   "metadata": {},
   "outputs": [
    {
     "data": {
      "text/plain": [
       "0.31731050786291415"
      ]
     },
     "execution_count": 14,
     "metadata": {},
     "output_type": "execute_result"
    }
   ],
   "source": [
    "a, b, loc, scale = 0.0, 20, 0, 2\n",
    "1-truncnorm.cdf(2, a=a, b=b, loc=loc, scale=scale)"
   ]
  },
  {
   "cell_type": "markdown",
   "metadata": {},
   "source": [
    "## 9. Calculating Summary Statistics of a Random Variable\n",
    "\n",
    "#### See Unit 7 slides (section 9).\n",
    "\n",
    "### 9.1 Calculating a Summary Statistic of a Random Variable - \"by hand\"\n",
    "\n",
    "#### See Unit 7 slides (section 9.1).\n",
    "\n",
    "### 9.2 Calculating a Summary Statistic of a Random Variable - in Python\n"
   ]
  },
  {
   "cell_type": "markdown",
   "metadata": {},
   "source": [
    "**Example: X=number of flips until getting a head**\n",
    "\n",
    "Remember $X\\sim Geom(p=0.5)$.\n",
    "\n",
    "Using ScyPy functions, we compute the mean, the median, the standard deviation, and the proportion less than 2 hours for this population."
   ]
  },
  {
   "cell_type": "code",
   "execution_count": 15,
   "metadata": {},
   "outputs": [
    {
     "data": {
      "text/html": [
       "<div>\n",
       "<style scoped>\n",
       "    .dataframe tbody tr th:only-of-type {\n",
       "        vertical-align: middle;\n",
       "    }\n",
       "\n",
       "    .dataframe tbody tr th {\n",
       "        vertical-align: top;\n",
       "    }\n",
       "\n",
       "    .dataframe thead th {\n",
       "        text-align: right;\n",
       "    }\n",
       "</style>\n",
       "<table border=\"1\" class=\"dataframe\">\n",
       "  <thead>\n",
       "    <tr style=\"text-align: right;\">\n",
       "      <th></th>\n",
       "      <th>population</th>\n",
       "    </tr>\n",
       "  </thead>\n",
       "  <tbody>\n",
       "    <tr>\n",
       "      <th>mean</th>\n",
       "      <td>2.000000</td>\n",
       "    </tr>\n",
       "    <tr>\n",
       "      <th>median</th>\n",
       "      <td>1.000000</td>\n",
       "    </tr>\n",
       "    <tr>\n",
       "      <th>std</th>\n",
       "      <td>1.414214</td>\n",
       "    </tr>\n",
       "    <tr>\n",
       "      <th>prop</th>\n",
       "      <td>0.750000</td>\n",
       "    </tr>\n",
       "  </tbody>\n",
       "</table>\n",
       "</div>"
      ],
      "text/plain": [
       "        population\n",
       "mean      2.000000\n",
       "median    1.000000\n",
       "std       1.414214\n",
       "prop      0.750000"
      ]
     },
     "execution_count": 15,
     "metadata": {},
     "output_type": "execute_result"
    }
   ],
   "source": [
    "params = ['mean', 'median', 'std', 'prop']\n",
    "pop = [geom.mean(p=0.5),\n",
    "      geom.median(p=0.5),\n",
    "      geom.std(p=0.5),\n",
    "      geom.cdf(2, p=0.5)]\n",
    "pd.DataFrame({'population': pop}, index=params)"
   ]
  },
  {
   "cell_type": "markdown",
   "metadata": {},
   "source": [
    "#### How does this compare with what we calculated by hand in the Unit 7 slides (section 9)?"
   ]
  },
  {
   "cell_type": "markdown",
   "metadata": {},
   "source": [
    "## 10. <u>Coding</u>: while loops\n",
    "\n",
    "#### See section 7.1 of this Jupyter notebook."
   ]
  },
  {
   "cell_type": "markdown",
   "metadata": {},
   "source": [
    "---\n",
    "STAT 207, Victoria Ellison and Douglas Simpson, University of Illinois at Urbana-Champaign"
   ]
  },
  {
   "cell_type": "code",
   "execution_count": null,
   "metadata": {},
   "outputs": [],
   "source": []
  }
 ],
 "metadata": {
  "kernelspec": {
   "display_name": "Python 3",
   "language": "python",
   "name": "python3"
  },
  "language_info": {
   "codemirror_mode": {
    "name": "ipython",
    "version": 3
   },
   "file_extension": ".py",
   "mimetype": "text/x-python",
   "name": "python",
   "nbconvert_exporter": "python",
   "pygments_lexer": "ipython3",
   "version": "3.8.3"
  }
 },
 "nbformat": 4,
 "nbformat_minor": 2
}
