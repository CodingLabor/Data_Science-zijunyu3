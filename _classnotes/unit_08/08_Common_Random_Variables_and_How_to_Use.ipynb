{
 "cells": [
  {
   "cell_type": "markdown",
   "metadata": {},
   "source": [
    "<!--# STAT 207: Data Science Exploration-->\n",
    "# <u> Unit 8 Notebook</u>: Common Types of Random Variables and How to Use Them - Building Blocks for Inference \n",
    "\n",
    "\n",
    "## 1. <u>A well-known type of discrete random variable</u>: Bernoulli Random Variable \n",
    "\n",
    "#### See unit 8 slides (section 1).\n",
    "\n",
    "## 2. <u>A well-known type of continuous random variable</u>: Normal Random Variable \n",
    "\n",
    "### 2.1. <u>Normal Random Variable</u>: Definition\n",
    "\n",
    "#### See unit 8 slides (section 2.1).\n",
    "\n",
    "### 2.2. <u>Normal Random Variable</u>: Mean, Variance, and, Standard Deviation\n",
    "\n",
    "#### See unit 8 slides (section 2.2).\n",
    "\n",
    "### 2.3. <u>Normal Random Variable</u>: Other Properties\n",
    "\n",
    "#### See unit 8 slides (section 2.3).\n",
    "\n",
    "### 2.4. <u>Normal Random Variable</u>: How do you KNOW when a distribution is approximately normal?\n",
    "\n",
    "#### See unit 8 slides (section 2.4).\n",
    "\n",
    "### 2.5. Calculating <u>probabilities</u> involving normal random variables - in Python?\n",
    "\n",
    "#### See unit 8 slides (section 2.5) for more explanations."
   ]
  },
  {
   "cell_type": "code",
   "execution_count": 25,
   "metadata": {},
   "outputs": [],
   "source": [
    "import pandas as pd\n",
    "import numpy as np\n",
    "import matplotlib.pyplot as plt\n",
    "import seaborn as sns; sns.set()"
   ]
  },
  {
   "cell_type": "markdown",
   "metadata": {},
   "source": [
    "#### <u>norm distribution object</u>\n",
    "\n",
    "Like with other well-studied random variables we've looked at, you can import the **norm** object from the **scipy.stats** package to perform various tasks related to **normal random variables.**\n"
   ]
  },
  {
   "cell_type": "code",
   "execution_count": 1,
   "metadata": {},
   "outputs": [],
   "source": [
    "from scipy.stats import norm"
   ]
  },
  {
   "cell_type": "markdown",
   "metadata": {},
   "source": [
    "#### <u>Parameters</u> needed for functions involving the norm object.\n",
    "\n",
    "Most random variables have one or more parameters associated with them, that dictate various aspects of the shape and nature of the distribution. As we discussed, the normal distribution has two parameters:\n",
    "* the **mean** parameter that dictates the **\"location** of the normal distribution, and\n",
    "* the **standard deviation** parameter that dictates the **scale** of the normal distribution.\n",
    "\n",
    "In all Python functions involving a normal random varible, we need to provide:\n",
    "* <u>loc</u>=mean\n",
    "* <u>scale</u>=standard deviation."
   ]
  },
  {
   "cell_type": "markdown",
   "metadata": {},
   "source": [
    "#### <u> Normal Distribution CDF</u>:\n",
    "\n",
    "If X is a random variable we can use the function\n",
    "\n",
    "**norm.cdf(x , loc = mean, scale = standard deviation)**\n",
    "\n",
    "to calculate\n",
    "\n",
    "$P(X\\leq x)=P(X<x)$."
   ]
  },
  {
   "cell_type": "markdown",
   "metadata": {},
   "source": [
    "**Ex:** If X is a normal random variable with mean 64 and standard deviation 2.5, what is the probability that a randomly selected woman in the U.S. is **at most** 70\"?\n",
    "\n",
    "<u>Answer</u>:\n",
    "\n",
    "$P(X\\leq 70) = P(X<70) = 0.9918$ "
   ]
  },
  {
   "cell_type": "code",
   "execution_count": 2,
   "metadata": {},
   "outputs": [
    {
     "data": {
      "text/plain": [
       "0.9918024640754038"
      ]
     },
     "execution_count": 2,
     "metadata": {},
     "output_type": "execute_result"
    }
   ],
   "source": [
    "norm.cdf(70, loc=64, scale=2.5)"
   ]
  },
  {
   "cell_type": "markdown",
   "metadata": {},
   "source": [
    "<br/>\n",
    "<br/>\n",
    "<br/>\n",
    "<br/>\n",
    "<br/>\n",
    "<br/>\n",
    "<br/>\n",
    "<br/>\n",
    "<br/>\n",
    "<br/>\n",
    "<br/>\n",
    "\n",
    "**Ex:** If X is a normal random variable with mean 64 and standard deviation 2.5, what is the probability that a randomly selected woman in the U.S. is **greater than** 70\"?\n",
    "\n",
    "<u>Answer</u>:\n",
    "\n",
    "We can also indirectly use this function to calculate:\n",
    "\n",
    "$P(X> 70) = 1-P(X\\geq 70) = 1-0.9918 = 0.0082$ "
   ]
  },
  {
   "cell_type": "code",
   "execution_count": 4,
   "metadata": {},
   "outputs": [
    {
     "data": {
      "text/plain": [
       "0.008197535924596155"
      ]
     },
     "execution_count": 4,
     "metadata": {},
     "output_type": "execute_result"
    }
   ],
   "source": [
    "1-norm.cdf(70, loc=64, scale=2.5)"
   ]
  },
  {
   "cell_type": "markdown",
   "metadata": {},
   "source": [
    "#### <u>Important Note</u>: the **.cdf()** always finds areas/probabilies to the LEFT of the observation supplied. To find areas to the right you need to use 1 - .cdf()!"
   ]
  },
  {
   "cell_type": "markdown",
   "metadata": {},
   "source": [
    "<br/>\n",
    "<br/>\n",
    "<br/>\n",
    "<br/>\n",
    "<br/>\n",
    "<br/>\n",
    "<br/>\n",
    "<br/>\n",
    "<br/>\n",
    "<br/>\n",
    "<br/>\n",
    "\n",
    "**Ex:** If X is a normal random variable with mean 64 and standard deviation 2.5, what is the probability that a randomly selected woman height is between 60\" and 70\"?\n",
    "\n",
    "<u> Answer: </u>\n",
    "We can use our cdf properties (from Unit 7) to calculate:\n",
    "\n",
    "$P(60<X<70) = P(X<70) - P(X<60) = 0.9918 - 0.0548 = 0.9370$"
   ]
  },
  {
   "cell_type": "code",
   "execution_count": 10,
   "metadata": {},
   "outputs": [
    {
     "data": {
      "text/plain": [
       "0.9370031723758458"
      ]
     },
     "execution_count": 10,
     "metadata": {},
     "output_type": "execute_result"
    }
   ],
   "source": [
    "norm.cdf(70, loc=64, scale=2.5) - norm.cdf(60, loc=64, scale=2.5)"
   ]
  },
  {
   "cell_type": "markdown",
   "metadata": {},
   "source": [
    "<br/>\n",
    "<br/>\n",
    "<br/>\n",
    "<br/>\n",
    "<br/>\n",
    "<br/>\n",
    "<br/>\n",
    "<br/>\n",
    "<br/>\n",
    "<br/>\n",
    "<br/>"
   ]
  },
  {
   "cell_type": "markdown",
   "metadata": {},
   "source": [
    "### 2.6. Calculating <u>percentiles</u> involving normal random variables - in Python\n",
    "\n",
    "#### See unit 8 slides (section 2.6) for more explanations.\n",
    "\n",
    "#### <u> Normal Percentile Function</u>\n",
    "\n",
    "If X is a random variable we can use the function\n",
    "\n",
    "**norm.ppf(p , loc = mean, scale = standard deviation)**\n",
    "\n",
    "to calculate the value of x in which\n",
    "\n",
    "$P(X\\leq x)=P(X<x) = p$.\n",
    "\n",
    "**Ex:** The average height of a woman in the U.S. is about 64” with a standard deviation of 2.5”. Assume that the heights of women in the U.S. has a normal distribution. So if we let X = height of a randomly selected woman in the U.S., then we know that X is a normal random variable.\n",
    "\n",
    "How tall does a woman in the U.S. have to be in order to be in the top 10% of women’s heights?\n",
    "\n",
    "<u>Answer</u>:\n",
    "This is equivalent to asking what is the value of x in which $P(X<x) = 0.90$?\n"
   ]
  },
  {
   "cell_type": "code",
   "execution_count": 6,
   "metadata": {},
   "outputs": [
    {
     "data": {
      "text/plain": [
       "67.2038789138615"
      ]
     },
     "execution_count": 6,
     "metadata": {},
     "output_type": "execute_result"
    }
   ],
   "source": [
    "norm.ppf(0.90, loc=64, scale=2.5)"
   ]
  },
  {
   "cell_type": "markdown",
   "metadata": {},
   "source": [
    "Thus, a woman that is 67.2\" will be taller than 90% of women in the U.S. and shorter than 10% of women in the U.S.\n",
    "\n",
    "#### <u>Important Note</u>: the **.ppf()** always finds x-axis values that correspond to the LEFT-TAIL AREA SUPPLIED. To find the x-axis value that corresponds to a RIGHT-TAIL AREA, you should supply the LEFT-TAIL AREA = 1 - RIGHT TAIL AREA to the function.\n",
    "\n",
    "<br>\n",
    "<br>\n",
    "<br>\n",
    "<br>\n",
    "<br>\n",
    "<br>\n",
    "<br>\n",
    "<br>\n",
    "<br>\n",
    "<br>\n",
    "<br>\n",
    "<br>\n",
    "<br>\n",
    "<br>"
   ]
  },
  {
   "cell_type": "markdown",
   "metadata": {},
   "source": [
    "## <u>3. z-scores</u>\n",
    "\n",
    "#### See unit 8 slides (section 3).\n",
    "\n",
    "### <u>3.1. z-scores</u>: Definitions\n",
    "\n",
    "#### See unit 8 slides (section 3.1).\n",
    "\n",
    "### <u>3.2. z-scores</u>: Relationship between a <u>Random Variable X</u> and the <u>z-score of X</u>\n",
    "\n",
    "#### See unit 8 slides (section 3.2).\n",
    "\n",
    "## 4. <u>A well-known type of continous random variable</u>: Standard Normal Random Variable \n",
    "\n",
    "### <u>4.1. Standard Normal Random Variable</u>: Definitions\n",
    "\n",
    "#### See unit 8 slides (section 4.1).\n",
    "\n",
    "### 4.2 Relationship between the <u>z-Score of a Normal Random Variable X</u> and a <u>standard normal random variable</u>\n",
    "\n",
    "#### See unit 8 slides (section 3.2).\n",
    "\n",
    "### 4.3 Calculating <u>probabilities</u> involving standard normal random variables - in Python\n",
    "\n",
    "#### See unit 8 slides (section 4.3) for more information."
   ]
  },
  {
   "cell_type": "markdown",
   "metadata": {},
   "source": [
    "Because the **standard normal random variable** is just a special kind of **normal random variable**, specifically one in which the mean = 0 and the standard deviation = 1, we use the same **norm** object from **scipy.stats** and the corresponding functions to perform any tasks related to **standard normal random variables** as well.\n",
    "\n",
    "In each of these **norm** functions, we can either:\n",
    "* set **loc = 0** (ie. *explicitly* set the mean to 0) and **scale = 1** (ie. *explicitly* set the standard deviation to 1 OR\n",
    "* NOT specify values for the **loc** and **scale** parameters. (The **default values** for the **norm** object are set to **0** and **1** automatically)."
   ]
  },
  {
   "cell_type": "markdown",
   "metadata": {},
   "source": [
    "**Ex:** What is the probability that a standard normal random variable is between -1.96 and 1.96?\n",
    "\n",
    "<u>Answer</u>:\n",
    "\n",
    "$P(-1.96<Z<1.96) = P(Z<1.96) - P(Z<-1.96) = 0.975 - 0.025 = 0.95$"
   ]
  },
  {
   "cell_type": "code",
   "execution_count": 14,
   "metadata": {},
   "outputs": [
    {
     "data": {
      "text/plain": [
       "0.950004209703559"
      ]
     },
     "execution_count": 14,
     "metadata": {},
     "output_type": "execute_result"
    }
   ],
   "source": [
    "norm.cdf(1.96,loc=0,scale=1) - norm.cdf(-1.96,loc=0,scale=1)"
   ]
  },
  {
   "cell_type": "code",
   "execution_count": 15,
   "metadata": {},
   "outputs": [
    {
     "data": {
      "text/plain": [
       "0.950004209703559"
      ]
     },
     "execution_count": 15,
     "metadata": {},
     "output_type": "execute_result"
    }
   ],
   "source": [
    "norm.cdf(1.96) - norm.cdf(-1.96)"
   ]
  },
  {
   "cell_type": "markdown",
   "metadata": {},
   "source": [
    "<br>\n",
    "<br>\n",
    "<br>\n",
    "<br>\n",
    "<br>\n",
    "<br>\n",
    "<br>\n",
    "<br>\n",
    "<br>\n",
    "<br>\n",
    "<br>\n",
    "<br>\n",
    "<br>\n",
    "<br>\n"
   ]
  },
  {
   "cell_type": "markdown",
   "metadata": {},
   "source": [
    "### 4.4 Calculating <u>percentiles</u> involving standard normal random variables - in Python\n",
    "\n",
    "#### See unit 8 slides (section 4.4) for more information.\n",
    "\n",
    "**Ex:** What is the value in the standard normal distribution that is greater than 20% of observations?\n",
    "\n",
    "<u>Answer</u>:\n",
    "\n",
    "The value of z in which \n",
    "\n",
    "$P(Z\\geq z) = 0.20$\n",
    "\n",
    "is $z=-0.8416$."
   ]
  },
  {
   "cell_type": "code",
   "execution_count": 17,
   "metadata": {},
   "outputs": [
    {
     "data": {
      "text/plain": [
       "-0.8416212335729142"
      ]
     },
     "execution_count": 17,
     "metadata": {},
     "output_type": "execute_result"
    }
   ],
   "source": [
    "norm.ppf(0.20, loc=0, scale=1)"
   ]
  },
  {
   "cell_type": "code",
   "execution_count": 18,
   "metadata": {},
   "outputs": [
    {
     "data": {
      "text/plain": [
       "-0.8416212335729142"
      ]
     },
     "execution_count": 18,
     "metadata": {},
     "output_type": "execute_result"
    }
   ],
   "source": [
    "norm.ppf(0.20)"
   ]
  },
  {
   "cell_type": "markdown",
   "metadata": {},
   "source": [
    "<br>\n",
    "<br>\n",
    "<br>\n",
    "<br>\n",
    "<br>\n",
    "<br>\n",
    "<br>\n",
    "<br>\n",
    "<br>\n",
    "<br>\n",
    "<br>\n",
    "<br>\n",
    "<br>\n",
    "<br>\n",
    "<br>\n",
    "<br>\n",
    "\n",
    "### 4.5 Using <u>standard normal random variables</u> to help solve problems involving <u>normal random variables</u>.\n",
    "\n",
    "#### See unit 8 slides (section 4.5) for more information.\n",
    "\n",
    "**Ex:** The average time it took for all seniors at a local high school to finish a race was 8 minutes. The finishing times followed a normal distribution.\n",
    "\n",
    "You ran the race in 7 minutes and your time was in the top 20% (ie. your time was higher than 20% of the participants). What was the standard deviation of the finishing times?\n",
    "\n",
    "\n",
    "<u> Answer </u>:\n",
    "\n",
    "Let X = finishing time of a randomly selected senior from the high school.\n",
    "\n",
    "Because **X is a normal random variable**, the **z-score of X $(Z=\\frac{X-E[X]}{SD[X})$** is a **standard normal random variable**.\n",
    "\n",
    "Two things we know about the z-score of *your* finishing time (x=7).\n",
    "\n",
    "1. The z-score of your finishing time of 7 minutes =$\\frac{7-\\mu}{\\sigma}=\\frac{7-8}{\\sigma}$.\n",
    "2. The z-score of your finishing time of 7 minutes is greater than 20% of other z-scores from the standard normal distribution. Using the ppf function, we know that this value is $z=-0.8416.$\n",
    "\n",
    "So we can set these two pieces of information equal to eachother to get:\n",
    "\n",
    "The z-score of your finishing time of 7 minutes = $-0.8416=\\frac{7-8}{\\sigma}$ and solve for $\\sigma$ to get $\\sigma = 1.188$ minutes.\n",
    "\n",
    "\n"
   ]
  },
  {
   "cell_type": "code",
   "execution_count": 19,
   "metadata": {},
   "outputs": [
    {
     "data": {
      "text/plain": [
       "-0.8416212335729142"
      ]
     },
     "execution_count": 19,
     "metadata": {},
     "output_type": "execute_result"
    }
   ],
   "source": [
    "norm.ppf(0.20)"
   ]
  },
  {
   "cell_type": "markdown",
   "metadata": {},
   "source": [
    "## 5. <u>Representing a Sample Statistic</u> with Multiple Random Variables\n",
    "\n",
    "#### Go to unit 8 slides (section 5).\n",
    "\n",
    "### 5.1. Sample Statistics of the Coin Flip Experiment in Python.\n",
    "\n",
    "\n",
    "Ex: Consider our coin toss experiment from Unit 7. This is where we keep flipping a coin until we get a head.\n",
    "We let X=number of flips until stopping.\n",
    "We also learned that $X\\sim geom(p=0.5)$.\n",
    "\n",
    "Suppose we decided to repeat this coin flip experiment multiple 20 times, we can represent\n",
    "$X_i$=number of flips in the ith experiment until stopping.\n",
    "\n",
    "Generate a random value for each $X_i$. Use these values to generate a random values for:\n",
    "* $\\bar{X} ̅=(X_1+X_2+⋯+X_{20})/20$: the mean number of flips until stopping from the 20 experiments\n",
    "* $M$: the median number of flips until stopping from the 20 experiments\n",
    "* $S$: the standard deviation number of flips until stopping from the 20 experiments\n",
    "* $P_2$: the proportion of the 20 experiments in which the number of flips (until stopping) was at most 2.\n",
    "\n",
    "Also use these values to generate a random sample distribution.\n",
    "\n",
    "#### 5.1.1. First we randomly generate values for $X_1,X_2,...,X_{20}$."
   ]
  },
  {
   "cell_type": "code",
   "execution_count": 22,
   "metadata": {},
   "outputs": [],
   "source": [
    "from scipy.stats import geom"
   ]
  },
  {
   "cell_type": "code",
   "execution_count": 28,
   "metadata": {},
   "outputs": [
    {
     "data": {
      "text/plain": [
       "array([2, 2, 2, 1, 1, 2, 2, 2, 3, 2, 2, 1, 1, 1, 1, 1, 1, 2, 2, 2])"
      ]
     },
     "execution_count": 28,
     "metadata": {},
     "output_type": "execute_result"
    }
   ],
   "source": [
    "sample = geom.rvs(p=0.5, size=20)\n",
    "sample"
   ]
  },
  {
   "cell_type": "code",
   "execution_count": 29,
   "metadata": {},
   "outputs": [
    {
     "data": {
      "text/plain": [
       "0     2\n",
       "1     2\n",
       "2     2\n",
       "3     1\n",
       "4     1\n",
       "5     2\n",
       "6     2\n",
       "7     2\n",
       "8     3\n",
       "9     2\n",
       "10    2\n",
       "11    1\n",
       "12    1\n",
       "13    1\n",
       "14    1\n",
       "15    1\n",
       "16    1\n",
       "17    2\n",
       "18    2\n",
       "19    2\n",
       "dtype: int32"
      ]
     },
     "execution_count": 29,
     "metadata": {},
     "output_type": "execute_result"
    }
   ],
   "source": [
    "# convert the numpy array into a pandas series\n",
    "sample = pd.Series(sample)\n",
    "sample"
   ]
  },
  {
   "cell_type": "markdown",
   "metadata": {},
   "source": [
    "#### 5.1.2. Next, we use these randomly generated values to randomly generate values for the sample statistics described above."
   ]
  },
  {
   "cell_type": "code",
   "execution_count": 31,
   "metadata": {},
   "outputs": [
    {
     "data": {
      "text/html": [
       "<div>\n",
       "<style scoped>\n",
       "    .dataframe tbody tr th:only-of-type {\n",
       "        vertical-align: middle;\n",
       "    }\n",
       "\n",
       "    .dataframe tbody tr th {\n",
       "        vertical-align: top;\n",
       "    }\n",
       "\n",
       "    .dataframe thead th {\n",
       "        text-align: right;\n",
       "    }\n",
       "</style>\n",
       "<table border=\"1\" class=\"dataframe\">\n",
       "  <thead>\n",
       "    <tr style=\"text-align: right;\">\n",
       "      <th></th>\n",
       "      <th>sample</th>\n",
       "    </tr>\n",
       "  </thead>\n",
       "  <tbody>\n",
       "    <tr>\n",
       "      <th>mean</th>\n",
       "      <td>1.650000</td>\n",
       "    </tr>\n",
       "    <tr>\n",
       "      <th>median</th>\n",
       "      <td>2.000000</td>\n",
       "    </tr>\n",
       "    <tr>\n",
       "      <th>std</th>\n",
       "      <td>0.587143</td>\n",
       "    </tr>\n",
       "    <tr>\n",
       "      <th>prop &lt;= 2</th>\n",
       "      <td>0.950000</td>\n",
       "    </tr>\n",
       "  </tbody>\n",
       "</table>\n",
       "</div>"
      ],
      "text/plain": [
       "             sample\n",
       "mean       1.650000\n",
       "median     2.000000\n",
       "std        0.587143\n",
       "prop <= 2  0.950000"
      ]
     },
     "execution_count": 31,
     "metadata": {},
     "output_type": "execute_result"
    }
   ],
   "source": [
    "params = ['mean', 'median', 'std', 'prop <= 2']\n",
    "samp = [sample.mean(), \n",
    "        sample.median(), \n",
    "        sample.std(), \n",
    "        (sample<=2).mean()]\n",
    "pd.DataFrame({'sample': samp}, index=params)"
   ]
  },
  {
   "cell_type": "markdown",
   "metadata": {},
   "source": [
    "#### 5.1.3 Finally, we use these randomly generated values to create a randomly generated sample distribution."
   ]
  },
  {
   "cell_type": "code",
   "execution_count": 32,
   "metadata": {
    "scrolled": true
   },
   "outputs": [
    {
     "data": {
      "image/png": "[encoded data removed]",
      "text/plain": [
       "<Figure size 432x288 with 1 Axes>"
      ]
     },
     "metadata": {},
     "output_type": "display_data"
    }
   ],
   "source": [
    "sample.hist(density=True)\n",
    "plt.show()"
   ]
  },
  {
   "cell_type": "markdown",
   "metadata": {},
   "source": [
    "How do the sample statistics compare to the population parameters?"
   ]
  },
  {
   "cell_type": "markdown",
   "metadata": {},
   "source": [
    "---\n",
    "STAT 207, Victoria Ellison and Douglas Simpson, University of Illinois at Urbana-Champaign"
   ]
  },
  {
   "cell_type": "code",
   "execution_count": null,
   "metadata": {},
   "outputs": [],
   "source": []
  }
 ],
 "metadata": {
  "kernelspec": {
   "display_name": "Python 3",
   "language": "python",
   "name": "python3"
  },
  "language_info": {
   "codemirror_mode": {
    "name": "ipython",
    "version": 3
   },
   "file_extension": ".py",
   "mimetype": "text/x-python",
   "name": "python",
   "nbconvert_exporter": "python",
   "pygments_lexer": "ipython3",
   "version": "3.8.3"
  }
 },
 "nbformat": 4,
 "nbformat_minor": 2
}
