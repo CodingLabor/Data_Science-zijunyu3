{
 "cells": [
  {
   "cell_type": "markdown",
   "metadata": {},
   "source": [
    "<!--# STAT 207: Data Science Exploration-->\n",
    "\n",
    "# <u> Unit 10 Notebook</u>: Introduction to Inference – Hypothesis Testing for Population Means (µ) and Population Proportions (p)\n",
    "\n",
    "## <u>Case Study</u> Pew Survey Analysis 1\n",
    "Is there sufficient evidence to suggest that the average age of an adult living in the U.S (in 2017) is NOT equal to 50?\n",
    "\n",
    "## <u>Case Study</u> Pew Survey Analysis 2\n",
    "Is there sufficient evidence to suggest that the proportion of adults living in the U.S. that approve of the way things are going in the country (in 2017) is NOT equal to 0.75?\n",
    "\n",
    "\n",
    "<hr style=\"height:1px;border:none;color:#333;background-color:#333;\" />"
   ]
  },
  {
   "cell_type": "code",
   "execution_count": 1,
   "metadata": {},
   "outputs": [],
   "source": [
    "import pandas as pd\n",
    "import numpy as np\n",
    "import matplotlib.pyplot as plt\n",
    "import seaborn as sns; sns.set()"
   ]
  },
  {
   "cell_type": "markdown",
   "metadata": {},
   "source": [
    "## 1. Two Main Types of Inference for Unknown Population Parameters\n",
    "\n",
    "#### See Unit 10 slides (section 1)\n",
    "\n",
    "## 2. Frequentist Hypothesis Testing - Like a Court Case\n",
    "\n",
    "#### See Unit 10 slides (section 2)\n",
    "\n",
    "## 3. Ways to Conduct Frequentist Hypothesis Testing about a Large Unknown Population\n",
    "\n",
    "#### See Unit 10 slides (section 3)\n",
    "\n",
    "## 4. Properties of Sampling Distributions of Sample Means\n",
    "\n",
    "#### See Unit 10 slides (section 4)\n",
    "\n",
    "## 5. General Frequentist Hypothesis Testing - Using p-values\n",
    "\n",
    "#### See Unit 10 slides (section 5)\n",
    "\n",
    "## 6. Frequentist Hypothesis Testing for a Population Mean $\\mu$ - Using p-values - Preliminary Example - Intuition\n",
    "\n",
    "#### See Unit 10 slides (section 6)\n",
    "\n",
    "**Ex:** Suppose that in 2007 the average age of all adults living in the U.S. was thought to have been 50. In 2017, researchers are skeptical that that is still the case. We would like to conduct hypothesis testing to test these claims. \n",
    "So in 2017, we collect a random sample of size 1489 with an average of 50.49 years and a standard deviation of 17.84 years. Suppose we also know that the standard deviation of ALL adults living in the U.S. in 2017 is σ=18.\n",
    "\n",
    "\n",
    "\n"
   ]
  },
  {
   "cell_type": "markdown",
   "metadata": {},
   "source": [
    "### 6.0 Preliminary Dataset Cleaning and Inspection\n",
    "The February 2017 Pew Research Center random phone number dialing survey had 1,503 respondents in total.\n",
    "\n",
    "First, let's learn a little more about this dataset."
   ]
  },
  {
   "cell_type": "code",
   "execution_count": 2,
   "metadata": {},
   "outputs": [
    {
     "data": {
      "text/html": [
       "<div>\n",
       "<style scoped>\n",
       "    .dataframe tbody tr th:only-of-type {\n",
       "        vertical-align: middle;\n",
       "    }\n",
       "\n",
       "    .dataframe tbody tr th {\n",
       "        vertical-align: top;\n",
       "    }\n",
       "\n",
       "    .dataframe thead th {\n",
       "        text-align: right;\n",
       "    }\n",
       "</style>\n",
       "<table border=\"1\" class=\"dataframe\">\n",
       "  <thead>\n",
       "    <tr style=\"text-align: right;\">\n",
       "      <th></th>\n",
       "      <th>psraid</th>\n",
       "      <th>sample</th>\n",
       "      <th>int_date</th>\n",
       "      <th>fcall</th>\n",
       "      <th>version</th>\n",
       "      <th>attempts</th>\n",
       "      <th>refusal</th>\n",
       "      <th>ilang</th>\n",
       "      <th>cregion</th>\n",
       "      <th>state</th>\n",
       "      <th>...</th>\n",
       "      <th>ql1a</th>\n",
       "      <th>qc1</th>\n",
       "      <th>money2</th>\n",
       "      <th>money3</th>\n",
       "      <th>iphoneuse</th>\n",
       "      <th>hphoneuse</th>\n",
       "      <th>ll</th>\n",
       "      <th>cp</th>\n",
       "      <th>cellweight</th>\n",
       "      <th>weight</th>\n",
       "    </tr>\n",
       "  </thead>\n",
       "  <tbody>\n",
       "    <tr>\n",
       "      <th>0</th>\n",
       "      <td>100008</td>\n",
       "      <td>Landline</td>\n",
       "      <td>21017</td>\n",
       "      <td>170207</td>\n",
       "      <td>Client changes</td>\n",
       "      <td>4</td>\n",
       "      <td>No</td>\n",
       "      <td>English</td>\n",
       "      <td>Midwest</td>\n",
       "      <td>Illinois</td>\n",
       "      <td>...</td>\n",
       "      <td>NaN</td>\n",
       "      <td>NaN</td>\n",
       "      <td>NaN</td>\n",
       "      <td>NaN</td>\n",
       "      <td>Dual</td>\n",
       "      <td>Dual HH</td>\n",
       "      <td>1</td>\n",
       "      <td>1</td>\n",
       "      <td>NaN</td>\n",
       "      <td>1.733333</td>\n",
       "    </tr>\n",
       "    <tr>\n",
       "      <th>1</th>\n",
       "      <td>100019</td>\n",
       "      <td>Landline</td>\n",
       "      <td>21217</td>\n",
       "      <td>170207</td>\n",
       "      <td>Client changes</td>\n",
       "      <td>4</td>\n",
       "      <td>Yes</td>\n",
       "      <td>English</td>\n",
       "      <td>South</td>\n",
       "      <td>North Carolina</td>\n",
       "      <td>...</td>\n",
       "      <td>NaN</td>\n",
       "      <td>NaN</td>\n",
       "      <td>NaN</td>\n",
       "      <td>NaN</td>\n",
       "      <td>Dual</td>\n",
       "      <td>Dual HH</td>\n",
       "      <td>1</td>\n",
       "      <td>1</td>\n",
       "      <td>NaN</td>\n",
       "      <td>1.500000</td>\n",
       "    </tr>\n",
       "    <tr>\n",
       "      <th>2</th>\n",
       "      <td>100020</td>\n",
       "      <td>Landline</td>\n",
       "      <td>21217</td>\n",
       "      <td>170207</td>\n",
       "      <td>Client changes</td>\n",
       "      <td>4</td>\n",
       "      <td>Yes</td>\n",
       "      <td>English</td>\n",
       "      <td>Northeast</td>\n",
       "      <td>New York</td>\n",
       "      <td>...</td>\n",
       "      <td>NaN</td>\n",
       "      <td>NaN</td>\n",
       "      <td>NaN</td>\n",
       "      <td>NaN</td>\n",
       "      <td>Dual</td>\n",
       "      <td>Dual HH</td>\n",
       "      <td>1</td>\n",
       "      <td>1</td>\n",
       "      <td>NaN</td>\n",
       "      <td>1.533333</td>\n",
       "    </tr>\n",
       "    <tr>\n",
       "      <th>3</th>\n",
       "      <td>100021</td>\n",
       "      <td>Landline</td>\n",
       "      <td>20717</td>\n",
       "      <td>170207</td>\n",
       "      <td>Initial version</td>\n",
       "      <td>1</td>\n",
       "      <td>No</td>\n",
       "      <td>English</td>\n",
       "      <td>Midwest</td>\n",
       "      <td>Minnesota</td>\n",
       "      <td>...</td>\n",
       "      <td>NaN</td>\n",
       "      <td>NaN</td>\n",
       "      <td>NaN</td>\n",
       "      <td>NaN</td>\n",
       "      <td>Dual</td>\n",
       "      <td>Dual HH</td>\n",
       "      <td>1</td>\n",
       "      <td>1</td>\n",
       "      <td>NaN</td>\n",
       "      <td>5.866667</td>\n",
       "    </tr>\n",
       "    <tr>\n",
       "      <th>4</th>\n",
       "      <td>100024</td>\n",
       "      <td>Landline</td>\n",
       "      <td>20717</td>\n",
       "      <td>170207</td>\n",
       "      <td>Initial version</td>\n",
       "      <td>1</td>\n",
       "      <td>No</td>\n",
       "      <td>English</td>\n",
       "      <td>Midwest</td>\n",
       "      <td>Illinois</td>\n",
       "      <td>...</td>\n",
       "      <td>NaN</td>\n",
       "      <td>NaN</td>\n",
       "      <td>NaN</td>\n",
       "      <td>NaN</td>\n",
       "      <td>Dual</td>\n",
       "      <td>Dual HH</td>\n",
       "      <td>1</td>\n",
       "      <td>1</td>\n",
       "      <td>NaN</td>\n",
       "      <td>1.700000</td>\n",
       "    </tr>\n",
       "  </tbody>\n",
       "</table>\n",
       "<p>5 rows × 130 columns</p>\n",
       "</div>"
      ],
      "text/plain": [
       "   psraid    sample  int_date   fcall          version  attempts refusal  \\\n",
       "0  100008  Landline     21017  170207   Client changes         4      No   \n",
       "1  100019  Landline     21217  170207   Client changes         4     Yes   \n",
       "2  100020  Landline     21217  170207   Client changes         4     Yes   \n",
       "3  100021  Landline     20717  170207  Initial version         1      No   \n",
       "4  100024  Landline     20717  170207  Initial version         1      No   \n",
       "\n",
       "     ilang    cregion           state  ... ql1a  qc1 money2  money3 iphoneuse  \\\n",
       "0  English    Midwest        Illinois  ...  NaN  NaN    NaN     NaN      Dual   \n",
       "1  English      South  North Carolina  ...  NaN  NaN    NaN     NaN      Dual   \n",
       "2  English  Northeast        New York  ...  NaN  NaN    NaN     NaN      Dual   \n",
       "3  English    Midwest       Minnesota  ...  NaN  NaN    NaN     NaN      Dual   \n",
       "4  English    Midwest        Illinois  ...  NaN  NaN    NaN     NaN      Dual   \n",
       "\n",
       "  hphoneuse ll cp cellweight    weight  \n",
       "0   Dual HH  1  1        NaN  1.733333  \n",
       "1   Dual HH  1  1        NaN  1.500000  \n",
       "2   Dual HH  1  1        NaN  1.533333  \n",
       "3   Dual HH  1  1        NaN  5.866667  \n",
       "4   Dual HH  1  1        NaN  1.700000  \n",
       "\n",
       "[5 rows x 130 columns]"
      ]
     },
     "execution_count": 2,
     "metadata": {},
     "output_type": "execute_result"
    }
   ],
   "source": [
    "# Read in the data\n",
    "missing_values = [\"NaN\", \"nan\", \"Don't know/Refused (VOL.)\"]\n",
    "df_pew = pd.read_csv('Feb17public.csv', \n",
    "                   na_values=missing_values)\n",
    "df_pew.head()"
   ]
  },
  {
   "cell_type": "markdown",
   "metadata": {},
   "source": [
    "#### What is the shape of this dataset?"
   ]
  },
  {
   "cell_type": "code",
   "execution_count": 3,
   "metadata": {},
   "outputs": [
    {
     "data": {
      "text/plain": [
       "(1503, 130)"
      ]
     },
     "execution_count": 3,
     "metadata": {},
     "output_type": "execute_result"
    }
   ],
   "source": [
    "df_pew.shape"
   ]
  },
  {
   "cell_type": "markdown",
   "metadata": {},
   "source": [
    "#### Let's create a pandas series that is just the the age column of this dataframe and drop the missing values from this series.\n"
   ]
  },
  {
   "cell_type": "code",
   "execution_count": 4,
   "metadata": {},
   "outputs": [
    {
     "data": {
      "text/plain": [
       "0       80.0\n",
       "1       70.0\n",
       "2       69.0\n",
       "3       50.0\n",
       "4       70.0\n",
       "        ... \n",
       "1498    37.0\n",
       "1499    30.0\n",
       "1500    72.0\n",
       "1501    67.0\n",
       "1502    35.0\n",
       "Name: age, Length: 1489, dtype: float64"
      ]
     },
     "execution_count": 4,
     "metadata": {},
     "output_type": "execute_result"
    }
   ],
   "source": [
    "df_pew_age=df_pew['age'].dropna()\n",
    "df_pew_age"
   ]
  },
  {
   "cell_type": "markdown",
   "metadata": {},
   "source": [
    "#### What is the shape of this series?"
   ]
  },
  {
   "cell_type": "code",
   "execution_count": 5,
   "metadata": {},
   "outputs": [
    {
     "data": {
      "text/plain": [
       "(1489,)"
      ]
     },
     "execution_count": 5,
     "metadata": {},
     "output_type": "execute_result"
    }
   ],
   "source": [
    "df_pew_age.shape"
   ]
  },
  {
   "cell_type": "markdown",
   "metadata": {},
   "source": [
    "#### Collecting Sample Information"
   ]
  },
  {
   "cell_type": "code",
   "execution_count": 6,
   "metadata": {},
   "outputs": [
    {
     "name": "stdout",
     "output_type": "stream",
     "text": [
      "sample mean age= 50.49 sample std age= 17.84 sample size n= 1489\n",
      "popuolation standard deviation age= 18\n"
     ]
    }
   ],
   "source": [
    "# compute and display sample statistics\n",
    "sample_mean_age = df_pew_age.mean()\n",
    "sample_std_age = df_pew_age.std()\n",
    "n_age = df_pew_age.shape[0]\n",
    "print('sample mean age=', round(sample_mean_age, 2), \n",
    "      'sample std age=', round(sample_std_age,2), \n",
    "      'sample size n=', n_age)\n",
    "\n",
    "pop_std_age=18\n",
    "\n",
    "print('popuolation standard deviation age=',pop_std_age) "
   ]
  },
  {
   "cell_type": "markdown",
   "metadata": {},
   "source": [
    "#### Sample Distribution Shape"
   ]
  },
  {
   "cell_type": "code",
   "execution_count": 7,
   "metadata": {},
   "outputs": [
    {
     "data": {
      "image/png": "[encoded data removed]",
      "text/plain": [
       "<Figure size 432x288 with 1 Axes>"
      ]
     },
     "metadata": {},
     "output_type": "display_data"
    }
   ],
   "source": [
    "df_pew_age.hist(color='orange')\n",
    "plt.title('Sample Distribution')\n",
    "plt.xlabel('Age')\n",
    "plt.ylabel('Frequency')\n",
    "plt.show()"
   ]
  },
  {
   "cell_type": "markdown",
   "metadata": {},
   "source": [
    "### 6.1. Set up your hypotheses for this test.\n",
    "\n",
    "$H_0: \\mu=50$.\n",
    "\n",
    "$H_A: \\mu\\neq 50$.\n",
    "\n",
    "Where $\\mu=$ the mean age of ALL adults living in the U.S. in 2017.\n",
    "\n",
    "\n",
    "### 6.2. Are the Central Limit Theorem Conditions (for Sample Means) met by this example?\n",
    "\n",
    "Yes, the Central Limit Theorem Conditions (for Sample Means) below are met by this sample.\n",
    "\n",
    "1. <u>Condition: The observations are independent</u>.\n",
    "    - Because the sample is collected via random sampling and $n<10\\%$ of the population of ALL adults living in the U.S.\n",
    "2. <u>Condition: Either n>30 OR the population distribution is normal.</u>.\n",
    "    - It looks like the population distribution of ages is NOT normal. How do we know?\n",
    "        - The sample distribution and the population distribution tend to mirror each other.\n",
    "        - The sample distribution above is NOT symmetric and unimodal, therefore, it is not a good assumption to say that it is normal.\n",
    "    - However, because our sample size $n=1489>30$,this condition is met.\n"
   ]
  },
  {
   "cell_type": "markdown",
   "metadata": {},
   "source": [
    "### 6.3 If so, describe what we know about the sampling distribution of sample means (of random samples of size n=1489) so far. Describe what we know about the distribution of z-scores of the sample means in our sampling distribution so far.\n",
    "\n",
    "<u>Sampling Distribution Information We KNOW So Far</u>:\n",
    "* Because the the Central Limit Theorem conditions (for sample means) holds, this means that the **sampling distribution of sample means** (collected from random samples of size n=1489) is approximately normal.\n",
    "* We also (for now) can assume that we know the **standard deviation of the sampling distribution (of sample means)** (ie. the **standard error**) which is: $\\frac{\\sigma}{\\sqrt{n}}=\\frac{18}{\\sqrt{1489}}=0.466$.\n",
    "\n",
    "**To summarize, we know: $\\bar{X}\\sim N(mean=\\mu=?, stddev=\\frac{\\sigma}{\\sqrt{n}}=\\frac{18}{\\sqrt{1489}}=0.466)$**\n",
    "\n",
    "<br/>\n",
    "<br/>\n",
    "<br/>\n",
    "<br/>\n",
    "<br/>\n",
    "<br/>\n",
    "<br/>\n",
    "<br/>\n",
    "<br/>\n",
    "<br/>\n",
    "<br/>\n",
    "<br/>\n",
    "<br/>\n",
    "<br/>\n",
    "<br/>\n",
    "<br/>\n",
    "<br/>\n",
    "\n",
    "\n",
    "<u>Sampling Distribution Information We DON'T KNOW YET</u>:\n",
    "* While we know that the **mean of the sampling distribution (of sample means)** is $\\mu$, because we are conducting inference on $\\mu$, we don't actually know what this is.\n",
    "\n",
    "<u>Information We KNOW So Far About the Z-scores of the Sample Means in the Sampling Distribution</u>:\n",
    "* If we let $Z=\\frac{\\bar{X}-E[\\bar{X}]}{SD[\\bar{X}]} =\\frac{\\bar{X}-\\mu}{\\frac{\\sigma}{\\sqrt{n}}}$, then because $\\bar{X}$ is a normal random variable, then $Z$ is a standard normal random variable (ie. $Z\\sim N(mean=0, std=1)$).\n",
    "\n",
    "<br/>\n",
    "<br/>\n",
    "<br/>\n",
    "<br/>\n",
    "<br/>\n",
    "<br/>\n",
    "<br/>\n",
    "<br/>\n",
    "<br/>\n",
    "<br/>\n",
    "<br/>\n",
    "<br/>\n",
    "<br/>\n",
    "<br/>\n",
    "<br/>\n",
    "<br/>\n",
    "<br/>"
   ]
  },
  {
   "cell_type": "markdown",
   "metadata": {},
   "source": [
    "### 6.4. If we assume the null hypothesis is true, what other information can we add/assume about our sampling distribution of sample means (of random samples of size n=1489) so far?\n",
    "\n",
    "<u>Sampling Distribution Information We KNOW So Far (or ASSUME)</u>:\n",
    "* We can also now ASSUME that we know the **mean of the sampling distribution (of sample means)** to be $\\mu=50$.\n",
    "\n",
    "**To summarize, we know or ASSUME: $\\bar{X}\\sim N(mean=\\mu=50, stddev=\\frac{\\sigma}{\\sqrt{n}}=\\frac{18}{\\sqrt{1489}}=0.466)$**\n",
    "\n",
    "<br/>\n",
    "<br/>\n",
    "<br/>\n",
    "<br/>\n",
    "<br/>\n",
    "<br/>\n",
    "<br/>\n",
    "<br/>\n",
    "<br/>\n",
    "<br/>\n",
    "<br/>\n",
    "<br/>\n",
    "<br/>\n",
    "<br/>\n",
    "<br/>\n",
    "<br/>\n",
    "<br/>\n",
    "\n",
    "### 6.5 What types of sample means would make us “suspicious” that our alternative hypothesis is true?\n",
    "\n",
    "<br/>\n",
    "<br/>\n",
    "<br/>\n",
    "<br/>\n",
    "<br/>\n",
    "<br/>\n",
    "<br/>\n",
    "<br/>\n",
    "<br/>\n",
    "<br/>\n",
    "<br/>\n",
    "<br/>\n",
    "<br/>\n",
    "<br/>\n",
    "<br/>\n",
    "<br/>\n",
    "<br/>\n",
    "\n",
    "### 6.6 Calculate the p-value for this hypothesis test.\n",
    "\n",
    "p-value = P(sample statistic that is at least as suspicious (in favor of the alternative hypothesis) as the observed sample statistic | null hypothesis is true)\n",
    "\n",
    " = P(sample MEAN that is at least as suspicious (in favor of the alternative hypothesis) as $\\bar{x}_0=50.49$ | null hypothesis is true)\n",
    " \n",
    "  = $P(\\bar{X}\\geq 50.49\\: OR \\: \\bar{X}\\leq 49.51)$ (Assuming $H_0: \\mu=50$)\n",
    "  \n",
    "  = $P(\\bar{X}\\geq 50.49) + P(\\bar{X}\\leq 49.51)$ (Assuming $H_0: \\mu=50$)\n",
    "  \n",
    "   = $2P(\\bar{X}\\geq 50.49)$ (Assuming $H_0: \\mu=50$)\n",
    "   \n",
    "   =0.29\n",
    "   \n",
    "<br/>\n",
    "<br/>\n",
    "<br/>\n",
    "<br/>\n",
    "<br/>\n",
    "<br/>\n",
    "<br/>\n",
    "<br/>\n",
    "<br/>\n",
    "<br/>\n",
    "<br/>\n",
    "<br/>\n",
    "<br/>\n",
    "<br/>\n",
    "<br/>\n",
    "<br/>\n",
    "<br/>\n",
    "<br/>\n",
    "<br/>\n",
    "<br/>\n",
    "<br/>\n",
    "<br/>"
   ]
  },
  {
   "cell_type": "code",
   "execution_count": 8,
   "metadata": {},
   "outputs": [
    {
     "name": "stdout",
     "output_type": "stream",
     "text": [
      "p-value: 0.29351622690913737\n"
     ]
    }
   ],
   "source": [
    "from scipy.stats import norm\n",
    "\n",
    "assumed_pop_mean=50\n",
    "std_error=pop_std_age/np.sqrt(n_age)\n",
    "\n",
    "pvalue=2*(1-norm.cdf(50.49, loc=assumed_pop_mean, scale=std_error))\n",
    "print('p-value:',pvalue)"
   ]
  },
  {
   "cell_type": "markdown",
   "metadata": {},
   "source": [
    "### 6.7 Using a significance level of α=0.05, make a conclusion about your hypotheses.\n",
    "\n",
    "Because $p-value = 0.29 \\geq \\alpha =0.05$, we **fail to reject the null hypothesis.** Thus, we say that we **DON'T HAVE sufficient evidence to suggest the alternative hypothesis** (that average age of ALL adults in the U.S. is different from 50.)."
   ]
  },
  {
   "cell_type": "markdown",
   "metadata": {},
   "source": [
    "## 7. Frequentist Hypothesis Testing: for a Population Mean µ - Using a p-value - Testing Claim: $μ\\neq μ_0$\n",
    "\n",
    "#### See Unit 10 slides (section 7)\n",
    "\n",
    "## 8. What do you do if you don’t know σ?\n",
    "\n",
    "#### See Unit 10 slides (section 8)\n",
    "\n",
    "**Ex:** Suppose that in 2007 the average age of all adults living in the U.S. was thought to have been 50. In 2017, researchers are skeptical that that is still the case. We would like to conduct hypothesis testing to test these claims. \n",
    "So in 2017, we collect a random sample of size 1489 with an average of 50.49 years and a standard deviation of 17.84 years. **Suppose we do not know the standard deviation of ALL adults living in the U.S. Conduct another hypothesis test.**\n"
   ]
  },
  {
   "cell_type": "markdown",
   "metadata": {},
   "source": [
    "#### <u>Set up hypotheses</u>\n",
    "\n",
    "$H_0: \\mu=50$.\n",
    "\n",
    "$H_A: \\mu\\neq 50$.\n",
    "\n",
    "Where $\\mu=$ the mean age of ALL adults living in the U.S. in 2017.\n",
    "\n",
    "\n",
    "#### <u>Check Central Limit Theorem Conditions (for Sample Means)</u>\n",
    "\n",
    "Yes, the Central Limit Theorem Conditions (for Sample Means) below are met by this sample. **THUS WE CAN PROCEED WITH CONDUCTING THIS HYPOTHESIS TEST.**\n",
    "\n",
    "1. <u>Condition: The observations are independent</u>.\n",
    "    - Because the sample is collected via random sampling and $n<10\\%$ of the population of ALL adults living in the U.S.\n",
    "2. <u>Condition: Either n>30 OR the population distribution is normal.</u>.\n",
    "    - It looks like the population distribution of ages is NOT normal. How do we know?\n",
    "        - The sample distribution and the population distribution tend to mirror each other.\n",
    "        - The sample distribution above is NOT symmetric and unimodal, therefore, it is not a good assumption to say that it is normal.\n",
    "    - However, because our sample size $n=1489>30$,this condition is met.\n"
   ]
  },
  {
   "cell_type": "markdown",
   "metadata": {},
   "source": [
    "#### <u>Calculate the p-value</u>\n",
    "\n",
    "<u>Way 1</u>:\n",
    "Because our observed sample mean $\\bar{x}_0=50.49$ is **greater than** our assumed population mean $\\mu_0=50 (aka: the null value), then we can use this (short-cut) forumla to calculate probability:\n",
    "\n",
    "$2P(\\bar{X}\\geq 50.49) =0.289$ , this time assuming $\\bar{X}\\sim N(mean=\\mu=50, stddev=\\frac{\\sigma}{\\sqrt{n}}\\approx\\frac{s}{\\sqrt{n}}=\\frac{17.84}{\\sqrt{1489}}=0.462)$\n",
    "\n",
    "<br/>\n",
    "<br/>\n",
    "<br/>\n",
    "<br/>\n",
    "<br/>\n",
    "<br/>\n",
    "<br/>\n",
    "<br/>\n",
    "<br/>\n",
    "<br/>\n",
    "<br/>\n",
    "<br/>\n",
    "<br/>\n",
    "<br/>\n",
    "<br/>\n",
    "<br/>\n",
    "<br/>\n",
    "<br/>"
   ]
  },
  {
   "cell_type": "code",
   "execution_count": 9,
   "metadata": {},
   "outputs": [
    {
     "name": "stdout",
     "output_type": "stream",
     "text": [
      "Assumed Population Mean (ie. null value):  50\n",
      "Standard Error:  0.46242802997862303\n",
      "p-value: 0.291044151497716\n"
     ]
    }
   ],
   "source": [
    "assumed_pop_mean=50\n",
    "print('Assumed Population Mean (ie. null value): ',assumed_pop_mean)\n",
    "\n",
    "\n",
    "std_error=sample_std_age/np.sqrt(n_age)\n",
    "print('Standard Error: ', std_error)\n",
    "\n",
    "pvalue=2*(1-norm.cdf(sample_mean_age, loc=assumed_pop_mean, scale=std_error))\n",
    "print('p-value:',pvalue)"
   ]
  },
  {
   "cell_type": "markdown",
   "metadata": {},
   "source": [
    "<u>Way 2</u>:\n",
    "Or we can use the (short-cut) formula that involves taking the z-score of \n",
    "\n",
    "$2P(Z\\geq |\\frac{\\bar{x}_0 - \\mu_0}{\\frac{\\sigma}{\\sqrt{n}}}|) \\approx 2P(Z\\geq|\\frac{\\bar{x}_0 - \\mu_0}{\\frac{s}{\\sqrt{n}}} |)=2P(Z\\geq|\\frac{50.49 - 50}{\\frac{17.84}{\\sqrt{1489}}}|)=2P(Z\\geq |1.056|) =0.291$ \n",
    "\n",
    "<br/>\n",
    "<br/>\n",
    "<br/>\n",
    "<br/>\n",
    "<br/>\n",
    "<br/>\n",
    "<br/>\n",
    "<br/>\n",
    "<br/>\n",
    "<br/>\n",
    "<br/>\n",
    "<br/>\n",
    "<br/>\n",
    "<br/>\n",
    "<br/>\n",
    "<br/>\n",
    "<br/>"
   ]
  },
  {
   "cell_type": "code",
   "execution_count": 10,
   "metadata": {},
   "outputs": [
    {
     "name": "stdout",
     "output_type": "stream",
     "text": [
      "Assumed Population Mean (ie. null value):  50\n",
      "Standard Error:  0.46242802997862303\n",
      "Test Statistic:  1.0558338034957861\n",
      "p-value: 0.291044151497716\n"
     ]
    }
   ],
   "source": [
    "assumed_pop_mean=50\n",
    "print('Assumed Population Mean (ie. null value): ',assumed_pop_mean)\n",
    "\n",
    "\n",
    "std_error=sample_std_age/np.sqrt(n_age)\n",
    "print('Standard Error: ', std_error)\n",
    "\n",
    "test_statistic=(sample_mean_age-assumed_pop_mean)/std_error\n",
    "\n",
    "print('Test Statistic: ',test_statistic)\n",
    "\n",
    "pvalue=2*(1-norm.cdf(np.abs(test_statistic), loc=0, scale=1))\n",
    "print('p-value:',pvalue)"
   ]
  },
  {
   "cell_type": "markdown",
   "metadata": {},
   "source": [
    "#### <u>Make a Decision</u>:\n",
    "\n",
    "Because $p-value = 0.29 \\geq \\alpha =0.05$, we **fail to reject the null hypothesis.** Thus, we say that we **DON'T HAVE sufficient evidence to suggest the alternative hypothesis** (that average age of ALL adults in the U.S. is different from 50.)."
   ]
  },
  {
   "cell_type": "markdown",
   "metadata": {},
   "source": [
    "## 9. General Frequentist Hypothesis Testing - Using Test Statistics\n",
    "\n",
    "#### See Unit 10 slides (section 9)\n",
    "\n",
    "\n",
    "## 10. Frequentist Hypothesis Testing: for a Population Mean µ - Using a Test Statistic -Testing Claim: $μ\\neq μ_0$\n",
    "\n",
    "#### See Unit 10 slides (section 10)\n",
    "\n",
    "\n",
    "**Ex:** Suppose that in 2007 the average age of all adults living in the U.S. was thought to have been 50. In 2017, researchers are skeptical that that is still the case. We would like to conduct hypothesis testing to test these claims. \n",
    "So in 2017, we collect a random sample of size 1489 with an average of 50.49 years and a standard deviation of 17.84 years. Suppose we do not know the standard deviation of ALL adults living in the U.S. **Conduct another hypothesis test using the <u>test statistic</u> to make a decision.**\n"
   ]
  },
  {
   "cell_type": "markdown",
   "metadata": {},
   "source": [
    "#### <u>Set up hypotheses</u>\n",
    "\n",
    "$H_0: \\mu=50$.\n",
    "\n",
    "$H_A: \\mu\\neq 50$.\n",
    "\n",
    "Where $\\mu=$ the mean age of ALL adults living in the U.S. in 2017.\n",
    "\n",
    "\n",
    "#### <u>Check Central Limit Theorem Conditions (for Sample Means)</u>\n",
    "\n",
    "Yes, the Central Limit Theorem Conditions (for Sample Means) below are met by this sample. **THUS WE CAN PROCEED WITH CONDUCTING THIS HYPOTHESIS TEST.**\n",
    "\n",
    "1. <u>Condition: The observations are independent</u>.\n",
    "    - Because the sample is collected via random sampling and $n<10\\%$ of the population of ALL adults living in the U.S.\n",
    "2. <u>Condition: Either n>30 OR the population distribution is normal.</u>.\n",
    "    - It looks like the population distribution of ages is NOT normal. How do we know?\n",
    "        - The sample distribution and the population distribution tend to mirror each other.\n",
    "        - The sample distribution above is NOT symmetric and unimodal, therefore, it is not a good assumption to say that it is normal.\n",
    "    - However, because our sample size $n=1489>30$,this condition is met.\n"
   ]
  },
  {
   "cell_type": "markdown",
   "metadata": {},
   "source": [
    "#### <u>Calculate the Test Statistic</u>\n",
    "\n",
    "$z_0 = \\frac{\\bar{x}_0 - \\mu_0}{\\frac{\\sigma}{\\sqrt{n}}} \\approx \\frac{\\bar{x}_0 - \\mu_0}{\\frac{s}{\\sqrt{n}}} = \\frac{50.49 - 50}{\\frac{17.84}{\\sqrt{1489}}} =1.056$"
   ]
  },
  {
   "cell_type": "code",
   "execution_count": 11,
   "metadata": {},
   "outputs": [
    {
     "name": "stdout",
     "output_type": "stream",
     "text": [
      "Assumed Population Mean (ie. null value):  50\n",
      "Standard Error:  0.46242802997862303\n",
      "Test Statistic:  1.0558338034957861\n"
     ]
    }
   ],
   "source": [
    "assumed_pop_mean=50\n",
    "print('Assumed Population Mean (ie. null value): ',assumed_pop_mean)\n",
    "\n",
    "\n",
    "std_error=sample_std_age/np.sqrt(n_age)\n",
    "print('Standard Error: ', std_error)\n",
    "\n",
    "test_statistic=(sample_mean_age-assumed_pop_mean)/std_error\n",
    "\n",
    "print('Test Statistic: ',test_statistic)"
   ]
  },
  {
   "cell_type": "markdown",
   "metadata": {},
   "source": [
    "#### <u> Calculate the Critical Value</u>:\n",
    "$Z_{1-\\alpha/2} = 1.96$\n",
    "\n",
    "\n",
    "The critical value ($Z_{1-\\alpha/2} =1.96$) is the positive z-score that creates:\n",
    "* a left tail area of $\\alpha/2=0.025$ (which also creates a right area of ($1-\\alpha/2=0.975$) under the standard normal pdf curve\n",
    "* and where ($-Z_{1-\\alpha/2} =-1.96$) creates right tail area of $\\alpha/2=0.025$ under the standard normal pdf curve\n",
    "\n",
    "<br/>\n",
    "<br/>\n",
    "<br/>\n",
    "<br/>\n",
    "<br/>\n",
    "<br/>\n",
    "<br/>\n",
    "<br/>\n",
    "<br/>\n",
    "<br/>\n",
    "<br/>\n",
    "<br/>\n",
    "<br/>\n",
    "<br/>\n",
    "<br/>\n",
    "<br/>\n"
   ]
  },
  {
   "cell_type": "code",
   "execution_count": 12,
   "metadata": {},
   "outputs": [
    {
     "name": "stdout",
     "output_type": "stream",
     "text": [
      "Critical Value:  1.959963984540054\n"
     ]
    }
   ],
   "source": [
    "alpha = 0.05\n",
    "critical_value=norm.ppf(1-alpha/2)\n",
    "#critical_value=norm.ppf(0.975)\n",
    "\n",
    "print('Critical Value: ',critical_value)"
   ]
  },
  {
   "cell_type": "markdown",
   "metadata": {},
   "source": [
    "#### <u>Make a Decision</u>:\n",
    "Because $|test statistic|=|1.056|\\leq Z_{1-\\alpha/2} = 1.96$, we **fail to reject the null hypothesis.** Thus, we say that we **DON'T HAVE sufficient evidence to suggest the alternative hypothesis** (that average age of ALL adults in the U.S. is different from 50.).\n",
    "\n",
    "<hr style=\"height:1px;border:none;color:#333;background-color:#333;\" />"
   ]
  },
  {
   "cell_type": "markdown",
   "metadata": {},
   "source": [
    "## 11. General Frequentist Hypothesis Testing – Using Confidence Intervals\n",
    "\n",
    "####  See Unit 10 slides (section 11)\n",
    "\n",
    "**Ex:** Suppose that in 2007 the average age of all adults living in the U.S. was thought to have been 50. In 2017, researchers are skeptical that that is still the case. We would like to conduct hypothesis testing to test these claims. \n",
    "So in 2017, we collect a random sample of size 1489 with an average of 50.49 years and a standard deviation of 17.84 years. Suppose we don’t know the standard deviation of ALL adults living in the U.S. \n",
    "**Conduct your hypothesis test using a <u>95% confidence interval</u>.**\n",
    "\n"
   ]
  },
  {
   "cell_type": "markdown",
   "metadata": {},
   "source": [
    "#### <u>Set up hypotheses</u>\n",
    "\n",
    "$H_0: \\mu=50$.\n",
    "\n",
    "$H_A: \\mu\\neq 50$.\n",
    "\n",
    "Where $\\mu=$ the mean age of ALL adults living in the U.S. in 2017.\n",
    "\n",
    "\n",
    "#### <u>Check Central Limit Theorem Conditions (for Sample Means)</u>\n",
    "\n",
    "Yes, the Central Limit Theorem Conditions (for Sample Means) below are met by this sample. **THUS WE CAN PROCEED WITH CONDUCTING THIS HYPOTHESIS TEST.**\n",
    "\n",
    "1. <u>Condition: The observations are independent</u>.\n",
    "    - Because the sample is collected via random sampling and $n<10\\%$ of the population of ALL adults living in the U.S.\n",
    "2. <u>Condition: Either n>30 OR the population distribution is normal.</u>.\n",
    "    - It looks like the population distribution of ages is NOT normal. How do we know?\n",
    "        - The sample distribution and the population distribution tend to mirror each other.\n",
    "        - The sample distribution above is NOT symmetric and unimodal, therefore, it is not a good assumption to say that it is normal.\n",
    "    - However, because our sample size $n=1489>30$,this condition is met.\n",
    "\n",
    "#### <u>Create a 95% Confidence Interval</u>:\n",
    "\n",
    "<br/>\n",
    "<br/>\n",
    "\n",
    "<br/>\n",
    "\n",
    "<br/>\n",
    "\n",
    "<br/>\n",
    "\n",
    "<br/>\n",
    "<br/>\n",
    "<br/>\n",
    "<br/>\n",
    "<br/>\n",
    "<br/>\n",
    "<br/>\n",
    "<br/>\n"
   ]
  },
  {
   "cell_type": "code",
   "execution_count": 13,
   "metadata": {},
   "outputs": [
    {
     "name": "stdout",
     "output_type": "stream",
     "text": [
      "Critical Value:  1.959963984540054\n"
     ]
    },
    {
     "data": {
      "text/plain": [
       "1.959963984540054"
      ]
     },
     "execution_count": 13,
     "metadata": {},
     "output_type": "execute_result"
    }
   ],
   "source": [
    "alpha = 0.05\n",
    "critical_value=norm.ppf(1-alpha/2)\n",
    "#Equivalent to...\n",
    "#critical_value=norm.ppf(0.975)\n",
    "\n",
    "print('Critical Value: ',critical_value)\n",
    "critical_value"
   ]
  },
  {
   "cell_type": "markdown",
   "metadata": {},
   "source": [
    "\n",
    "$(\\bar{x} - z^*\\frac{\\sigma}{\\sqrt{n}},\\bar{x} + z^*\\frac{\\sigma}{\\sqrt{n}})$\n",
    "\n",
    "$(50.49 - (1.96)\\frac{17.84}{\\sqrt{1489}},50.49  + (1.96)\\frac{17.84}{\\sqrt{1489}})$\n",
    "\n",
    "$(49.58,51.39)$."
   ]
  },
  {
   "cell_type": "code",
   "execution_count": 14,
   "metadata": {},
   "outputs": [
    {
     "name": "stdout",
     "output_type": "stream",
     "text": [
      "49.581904861535484 , 51.3945894299353\n"
     ]
    }
   ],
   "source": [
    "lower_bound=sample_mean_age-critical_value*(sample_std_age/np.sqrt(n_age))\n",
    "upper_bound=sample_mean_age+critical_value*(sample_std_age/np.sqrt(n_age))\n",
    "\n",
    "print(lower_bound,',',upper_bound)"
   ]
  },
  {
   "cell_type": "markdown",
   "metadata": {},
   "source": [
    "#### <u>Make a Decision</u>:\n",
    "\n",
    "Because the null value $\\mu_0=50$ is **inside** the confidence interval we **fail to reject the null hypothesis.** Thus, we say that we **DON'T HAVE sufficient evidence to suggest the alternative hypothesis** (that average age of ALL adults in the U.S. is different from 50.).\n",
    "\n",
    "<hr style=\"height:1px;border:none;color:#333;background-color:#333;\" />"
   ]
  },
  {
   "cell_type": "markdown",
   "metadata": {},
   "source": [
    "## 12. Properties of Sampling Distributions of Sample Proportions\n",
    "\n",
    "####  See Unit 10 slides (section 12)\n",
    "\n",
    "## 13. Frequentist Hypothesis Testing for a Population Proportion p - Using p-values - Preliminary Example - Intuition\n",
    "\n",
    "####  See Unit 10 slides (section 13)\n",
    "\n",
    "**Ex:** Suppose that a politician claims that 75% of all adults living in the U.S. (in 2017) are satisfied with the way things are going in the country. A team of researchers is skeptical of this claim and would like to test it. They collect a random sample of size n=1435 that has a sample proportion of 0.301 that approve."
   ]
  },
  {
   "cell_type": "markdown",
   "metadata": {},
   "source": [
    "### 13.0 Dataset Cleaning and Inspection\n",
    "\n",
    "We wil be using the same 2017 Pew dataset as in the previous case study. The 'q2' column contains responses to the following question: 'All in all, are you satisfied or dissatisfied with the way things are going in this country today?'\n",
    "\n",
    "#### Let's create a pandas series that is just the the q2 column of this dataframe and drop the missing values from this series."
   ]
  },
  {
   "cell_type": "code",
   "execution_count": 15,
   "metadata": {},
   "outputs": [
    {
     "data": {
      "text/plain": [
       "0       Dissatisfied\n",
       "1       Dissatisfied\n",
       "2       Dissatisfied\n",
       "3          Satisfied\n",
       "4       Dissatisfied\n",
       "            ...     \n",
       "1498       Satisfied\n",
       "1499    Dissatisfied\n",
       "1500    Dissatisfied\n",
       "1501    Dissatisfied\n",
       "1502       Satisfied\n",
       "Name: q2, Length: 1435, dtype: object"
      ]
     },
     "execution_count": 15,
     "metadata": {},
     "output_type": "execute_result"
    }
   ],
   "source": [
    "df_pew_q2=df_pew['q2'].dropna()\n",
    "df_pew_q2"
   ]
  },
  {
   "cell_type": "code",
   "execution_count": 16,
   "metadata": {},
   "outputs": [
    {
     "data": {
      "text/plain": [
       "(1435,)"
      ]
     },
     "execution_count": 16,
     "metadata": {},
     "output_type": "execute_result"
    }
   ],
   "source": [
    "df_pew_q2.shape"
   ]
  },
  {
   "cell_type": "markdown",
   "metadata": {},
   "source": [
    "#### Collecting Sample Information"
   ]
  },
  {
   "cell_type": "code",
   "execution_count": 17,
   "metadata": {},
   "outputs": [
    {
     "data": {
      "text/plain": [
       "Dissatisfied    1003\n",
       "Satisfied        432\n",
       "Name: q2, dtype: int64"
      ]
     },
     "execution_count": 17,
     "metadata": {},
     "output_type": "execute_result"
    }
   ],
   "source": [
    "q2sum=df_pew_q2.value_counts()\n",
    "q2sum"
   ]
  },
  {
   "cell_type": "markdown",
   "metadata": {},
   "source": [
    "#### Sample Proportion that are Satisfied: $\\hat{p}=0.301$."
   ]
  },
  {
   "cell_type": "code",
   "execution_count": 18,
   "metadata": {},
   "outputs": [
    {
     "data": {
      "text/plain": [
       "0.301"
      ]
     },
     "execution_count": 18,
     "metadata": {},
     "output_type": "execute_result"
    }
   ],
   "source": [
    "prop = q2sum['Satisfied']/q2sum.sum()\n",
    "round(prop, 4)"
   ]
  },
  {
   "cell_type": "markdown",
   "metadata": {},
   "source": [
    "#### Sample Size n=1435"
   ]
  },
  {
   "cell_type": "code",
   "execution_count": 19,
   "metadata": {},
   "outputs": [
    {
     "data": {
      "text/plain": [
       "1435"
      ]
     },
     "execution_count": 19,
     "metadata": {},
     "output_type": "execute_result"
    }
   ],
   "source": [
    "n_prop=df_pew_q2.shape[0]\n",
    "n_prop"
   ]
  },
  {
   "cell_type": "markdown",
   "metadata": {},
   "source": [
    "### 13.1 Set up your hypotheses for this test\n",
    "\n",
    "$H_0: p=0.75$\n",
    "\n",
    "$H_A: p\\neq0.75$\n",
    "\n",
    "p=the proportion of all adults in the U.S. (in 2017) that approve of the way that the country is going\n",
    "\n"
   ]
  },
  {
   "cell_type": "markdown",
   "metadata": {},
   "source": [
    "### 13.2 Are the Central Limit Theorem Conditions (for Sample Proportions) met by this sample? \n",
    "\n",
    "Yes, the Central Limit Theorem Conditions (for Sample Proportions) below are met by this sample.\n",
    "\n",
    "1. <u>Condition: The observations are independent</u>.\n",
    "    - Because the sample is collected via random sampling and $n<10\\%$ of the population of ALL adults living in the U.S.\n",
    "2. <u>Condition: $np\\geq 10$ and $n(1-p)\\geq 10$.</u>.\n",
    "    - Because we don't know $p$, we plug in $p_0=0.75$ in for $p$ in the conditions above.\n",
    "    - $np_0 = 1435\\cdot 0.75\\geq 10$\n",
    "    - $n(1-p_0)=1435\\cdot(1-0.75)\\geq 10$.\n",
    "    \n",
    "### 13.3\tIf so, describe what we know about the sampling distribution of sample proportions (of random samples of size n=1435) so far. Describe what we know about the distribution of z-scores of the sample proportions in our sampling distribution so far.\n",
    "\n",
    "<u>Sampling Distribution Information We KNOW So Far</u>:\n",
    "* Because the the Central Limit Theorem conditions (for sample proportions) holds, this means that the **sampling distribution of sample proportions** (collected from random samples of size n=1435) is approximately normal.\n",
    "\n",
    "\n",
    "**To summarize, we know: $\\hat{p}\\sim N(mean=p=?, stddev=\\sqrt{\\frac{p(1-p)}{n}} = ?)$**\n",
    "\n",
    "<br/>\n",
    "<br/>\n",
    "<br/>\n",
    "<br/>\n",
    "<br/>\n",
    "<br/>\n",
    "<br/>\n",
    "<br/>\n",
    "<br/>\n",
    "<br/>\n",
    "<br/>\n",
    "<br/>\n",
    "<br/>\n",
    "<br/>\n",
    "<br/>\n",
    "<br/>\n",
    "<br/>\n",
    "\n",
    "\n",
    "<u>Sampling Distribution Information We DON'T KNOW YET</u>:\n",
    "* While we know that the **mean of the sampling distribution (of sample proportions)** is $p$, because we are conducting inference on $p$, we don't actually know what this is.\n",
    "\n",
    "* While we know that the **standard deviation of the sampling distribution (of sample proportions)** (ie. the **standard error**) which is: $\\sqrt{\\frac{p(1-p)}{n}}$, we don't know $p$ plug into this expression here.\n",
    "\n",
    "<u>Information We KNOW So Far About the Z-scores of the Sample Proportions in the Sampling Distribution</u>:\n",
    "* If we let $Z=\\frac{\\hat{p}-E[\\hat{p}]}{SD[\\hat{p}]} =\\frac{\\hat{p}-p}{\\sqrt{\\frac{p(1-p)}{n}}}$, then because $\\bar{X}$ is a normal random variable, then $Z$ is a standard normal random variable (ie. $Z\\sim N(mean=0, std=1)$).\n",
    "\n",
    "<br/>\n",
    "<br/>\n",
    "<br/>\n",
    "<br/>\n",
    "<br/>\n",
    "<br/>\n",
    "<br/>\n",
    "<br/>\n",
    "<br/>\n",
    "<br/>\n",
    "<br/>\n",
    "<br/>\n",
    "<br/>\n",
    "<br/>\n",
    "<br/>\n",
    "<br/>\n",
    "<br/>"
   ]
  },
  {
   "cell_type": "markdown",
   "metadata": {},
   "source": [
    "### 13.4 If we assume the null hypothesis is true, what other information can we add/assume about our sampling distribution of sample proportions (of random samples of size n=1435) so far?\n",
    "\n",
    "<u>Sampling Distribution Information We KNOW So Far (or ASSUME)</u>:\n",
    "* We can also now ASSUME that we know the **mean of the sampling distribution (of sample proportions)** to be $p=p_0=0.75$.\n",
    "\n",
    "**To summarize, we know OR ASSUME: $\\hat{p}\\sim N(mean=p=0.75, stddev=\\sqrt{\\frac{p(1-p)}{n}}\\approx \\sqrt{\\frac{p_0(1-p_0)}{n}}=\\sqrt{\\frac{0.75(1-0.75)}{1435}}=0.0114)$**\n",
    "\n",
    "<br/>\n",
    "<br/>\n",
    "<br/>\n",
    "<br/>\n",
    "<br/>\n",
    "<br/>\n",
    "<br/>\n",
    "<br/>\n",
    "<br/>\n",
    "<br/>\n",
    "<br/>\n",
    "<br/>\n",
    "<br/>\n",
    "<br/>\n",
    "<br/>\n",
    "<br/>\n",
    "<br/>\n",
    "\n",
    "### 13.5 What types of sample proportions would make us “suspicious” that our alternative hypothesis is true?\n",
    "\n",
    "<br/>\n",
    "<br/>\n",
    "<br/>\n",
    "<br/>\n",
    "<br/>\n",
    "<br/>\n",
    "<br/>\n",
    "<br/>\n",
    "<br/>\n",
    "<br/>\n",
    "<br/>\n",
    "<br/>\n",
    "<br/>\n",
    "<br/>\n",
    "<br/>\n",
    "<br/>\n",
    "<br/>\n",
    "\n",
    "### 13.6 Calculate the p-value for this hypothesis test.\n",
    "\n",
    "p-value = P(sample statistic that is at least as suspicious (in favor of the alternative hypothesis) as the observed sample statistic | null hypothesis is true)\n",
    "\n",
    " = P(sample PROPORTION that is at least as suspicious (in favor of the alternative hypothesis) as $\\hat{p}_0=0.301$ | null hypothesis is true)\n",
    " \n",
    "  = $P(\\hat{p}\\leq 0.301\\: OR \\: \\hat{p}\\geq 1.199)$ (Assuming $H_0: p=0.75$)\n",
    "  \n",
    "  = $P(\\hat{p}\\leq 0.301) + P(\\hat{p}\\leq 1.199)$ (Assuming $H_0: p=0.75$)\n",
    "  \n",
    "   = $2P(\\hat{p}\\leq 0.301)$ (Assuming $H_0: p=0.75$)\n",
    "   \n",
    "<br/>\n",
    "<br/>\n",
    "<br/>\n",
    "<br/>\n",
    "<br/>\n",
    "<br/>\n",
    "<br/>\n",
    "<br/>\n",
    "<br/>\n",
    "<br/>\n",
    "<br/>\n",
    "<br/>\n",
    "<br/>\n",
    "<br/>\n",
    "<br/>\n",
    "<br/>\n",
    "<br/>"
   ]
  },
  {
   "cell_type": "markdown",
   "metadata": {},
   "source": [
    "**Question:** What type of sample proportion is EQUALLY as suspicious as 0.301\n",
    "\n",
    "**Answer:** A sample proportion that is equally as far away from $p_0=0.75$, but on the right.\n",
    "\n",
    "$\\hat{p}=1.199$ (tecnically impossible for a proportion)."
   ]
  },
  {
   "cell_type": "code",
   "execution_count": 20,
   "metadata": {},
   "outputs": [
    {
     "data": {
      "text/plain": [
       "0.449"
      ]
     },
     "execution_count": 20,
     "metadata": {},
     "output_type": "execute_result"
    }
   ],
   "source": [
    "dist_samp_prop_is_from_null_value=.75-0.301\n",
    "dist_samp_prop_is_from_null_value"
   ]
  },
  {
   "cell_type": "code",
   "execution_count": 21,
   "metadata": {},
   "outputs": [
    {
     "data": {
      "text/plain": [
       "1.199"
      ]
     },
     "execution_count": 21,
     "metadata": {},
     "output_type": "execute_result"
    }
   ],
   "source": [
    "assumed_pop_prop=0.75\n",
    "\n",
    "assumed_pop_prop+dist_samp_prop_is_from_null_value\n",
    "\n"
   ]
  },
  {
   "cell_type": "code",
   "execution_count": 22,
   "metadata": {},
   "outputs": [
    {
     "name": "stdout",
     "output_type": "stream",
     "text": [
      "Assumed Population Proportion (ie. null value): 0.75\n",
      "Standard Error: 0.011430748921480313\n",
      "p-value: 0.0\n"
     ]
    }
   ],
   "source": [
    "from scipy.stats import norm\n",
    "\n",
    "assumed_pop_prop=0.75\n",
    "print('Assumed Population Proportion (ie. null value):', assumed_pop_prop)\n",
    "\n",
    "std_error=np.sqrt(assumed_pop_prop*(1-assumed_pop_prop)/n_prop)\n",
    "print('Standard Error:', std_error)\n",
    "\n",
    "pvalue=2*(norm.cdf(0.301, loc=assumed_pop_prop, scale=std_error))\n",
    "print('p-value:',pvalue)"
   ]
  },
  {
   "cell_type": "markdown",
   "metadata": {},
   "source": [
    "### 13.7 Use a significance level of α=0.10, make a conclusion about your hypotheses.\n",
    "\n",
    "Because $p-value \\approx 0 < \\alpha =0.10$, we **reject the null hypothesis.** Thus, we say that we **HAVE sufficient evidence to suggest the alternative hypothesis** (that proportion of ALL adults living in the U.S. that approve of the way the country is going is DIFFERENT from 0.75)."
   ]
  },
  {
   "cell_type": "markdown",
   "metadata": {},
   "source": [
    "## 14. Frequentist Hypothesis Testing: for a Population Proportion p - Using a p-value = Testing Claim: $p\\neq p_0$\n",
    "\n",
    "####  See Unit 10 slides (section 14)"
   ]
  },
  {
   "cell_type": "markdown",
   "metadata": {},
   "source": [
    "## 15. Frequentist Hypothesis Testing: for a Population Mean p - Using a Test Statistic - Testing Claim: $p\\neq p_0$\n",
    "\n",
    "####  See Unit 10 slides (section 15)\n",
    "\n",
    "**Ex:** Suppose that a politician claims that 75% of all adults living in the U.S. (in 2017) are satisfied with the way things are going in the country. A team of researchers is skeptical of this claim and would like to test it. They collect a random sample of size n=1435 that has a sample proportion of 0.301 that approve. **Evaluate these hypotheses by using a <u>test statistic</u>.**"
   ]
  },
  {
   "cell_type": "markdown",
   "metadata": {},
   "source": [
    "#### <u>Set up Hypotheses</u>\n",
    "\n",
    "$H_0: p=0.75$\n",
    "\n",
    "$H_A: p\\neq0.75$\n",
    "\n",
    "#### <u>Check the Central Limit Theorem Conditions (for Sample Proportions)</u>\n",
    "The Central Limit Theorem Conditions (for Sample Proportions) below are met by this sample.\n",
    "\n",
    "1. <u>Condition: The observations are independent</u>.\n",
    "    - Because the sample is collected via random sampling and $n<10\\%$ of the population of ALL adults living in the U.S.\n",
    "2. <u>Condition: $np\\geq 10$ and $n(1-p)\\geq 10$.</u>.\n",
    "    - Because we don't know $p$, we plug in $p_0=0.75$ in for $p$ in the conditions above.\n",
    "    - $np_0 = 1435\\cdot 0.75\\geq 10$\n",
    "    - $n(1-p_0)=1435\\cdot(1-0.75)\\geq 10$.\n",
    "    \n",
    "\n",
    "    "
   ]
  },
  {
   "cell_type": "markdown",
   "metadata": {},
   "source": [
    "#### <u>Calculate the Test Statistic</u>\n",
    "\n",
    "$z_0 = \\frac{\\hat{p}-p_0}{\\sqrt{\\frac{p(1-p)}{n}}} \\approx \\frac{\\hat{p}-p_0}{\\sqrt{\\frac{p_0(1-p_0)}{n}}} = \\frac{0.301-0.75}{\\sqrt{\\frac{0.75(1-0.75)}{1435}}} =-4347.83$"
   ]
  },
  {
   "cell_type": "code",
   "execution_count": 23,
   "metadata": {},
   "outputs": [
    {
     "name": "stdout",
     "output_type": "stream",
     "text": [
      "Sample Proportion: 0.3010452961672474\n",
      "Assumed Population Proportion (ie. null value): 0.75\n",
      "Standard Error: 0.011430748921480313\n",
      "Test Statistic:  -4347.8301417713765\n"
     ]
    }
   ],
   "source": [
    "print('Sample Proportion:',prop)\n",
    "\n",
    "assumed_pop_prop=0.75\n",
    "print('Assumed Population Proportion (ie. null value):', assumed_pop_prop)\n",
    "\n",
    "std_error=np.sqrt(assumed_pop_prop*(1-assumed_pop_prop)/n_prop)\n",
    "print('Standard Error:', std_error)\n",
    "\n",
    "test_statistic=(prop-assumed_pop_mean)/std_error\n",
    "\n",
    "print('Test Statistic: ',test_statistic)"
   ]
  },
  {
   "cell_type": "markdown",
   "metadata": {},
   "source": [
    "#### <u> Calculate the Critical Value</u>:\n",
    "$Z_{1-\\alpha/2} = 1.64$\n",
    "\n",
    "\n",
    "The critical value ($Z_{1-\\alpha/2} =1.64$) is the positive z-score that creates:\n",
    "* a left tail area of $\\alpha/2=0.05$ (which also creates a right area of ($1-\\alpha/2=0.95$) under the standard normal pdf curve\n",
    "* and where ($-Z_{1-\\alpha/2} =-1.64$) creates right tail area of $\\alpha/2=0.05$ under the standard normal pdf curve\n",
    "\n",
    "<br/>\n",
    "<br/>\n",
    "<br/>\n",
    "<br/>\n",
    "<br/>\n",
    "<br/>\n",
    "<br/>\n",
    "<br/>\n",
    "<br/>\n",
    "<br/>\n",
    "<br/>\n",
    "<br/>\n",
    "<br/>\n",
    "<br/>\n",
    "<br/>\n",
    "<br/>\n"
   ]
  },
  {
   "cell_type": "code",
   "execution_count": 24,
   "metadata": {},
   "outputs": [
    {
     "name": "stdout",
     "output_type": "stream",
     "text": [
      "Critical Value:  1.6448536269514722\n"
     ]
    }
   ],
   "source": [
    "alpha = 0.10\n",
    "critical_value=norm.ppf(1-alpha/2)\n",
    "print('Critical Value: ',critical_value)"
   ]
  },
  {
   "cell_type": "markdown",
   "metadata": {},
   "source": [
    "#### <u>Make a Decision</u>:\n",
    "Because $|test statistic|=|-4347.83|> Z_{1-\\alpha/2} = 1.645$, we **reject the null hypothesis.** Thus, we say that we **HAVE sufficient evidence to suggest the alternative hypothesis** (that proportion of ALL adults living in the U.S. that approve of the way the country is going is DIFFERENT from 0.75)."
   ]
  },
  {
   "cell_type": "markdown",
   "metadata": {},
   "source": [
    "## 16. Frequentist Hypothesis Testing: for a Population Mean p - Using a Confidence Interval - Testing Claim: $p\\neq p_0$\n",
    "\n",
    "#### See unit 10 slides (section 16)\n",
    "\n",
    "**Ex:** Suppose that a politician claims that 75% of all adults living in the U.S. (in 2017) are satisfied with the way things are going in the country. A team of researchers is skeptical of this claim and would like to test it. They collect a random sample of size n=1435 that has a sample proportion of 0.301 that approve. **Evaluate these hypotheses by using a <u>90% confidence interval</u>.**"
   ]
  },
  {
   "cell_type": "markdown",
   "metadata": {},
   "source": [
    "#### <u>Set up Hypotheses</u>\n",
    "\n",
    "$H_0: p=0.75$\n",
    "\n",
    "$H_A: p\\neq0.75$\n",
    "\n",
    "#### <u>Check the Central Limit Theorem Conditions (for Sample Proportions)</u>\n",
    "The Central Limit Theorem Conditions (for Sample Proportions) below are met by this sample.\n",
    "\n",
    "1. <u>Condition: The observations are independent</u>.\n",
    "    - Because the sample is collected via random sampling and $n<10\\%$ of the population of ALL adults living in the U.S.\n",
    "2. <u>Condition: $np\\geq 10$ and $n(1-p)\\geq 10$.</u>.\n",
    "    - Because we don't know $p$, we plug in $p_0=0.75$ in for $p$ in the conditions above.\n",
    "    - $np_0 = 1435\\cdot 0.75\\geq 10$\n",
    "    - $n(1-p_0)=1435\\cdot(1-0.75)\\geq 10$.\n",
    "    \n",
    "\n",
    "    "
   ]
  },
  {
   "cell_type": "markdown",
   "metadata": {},
   "source": [
    "#### <u>Find the Critical Value for This Confidence Interval</u>\n",
    "\n",
    "Find the POSITIVE z-score $z^*$ in the standard normal distribution in which:\n",
    "* an area of 0.90 is in between $-z^*$ and $z^*$.\n",
    "\n",
    "<br/>\n",
    "<br/>\n",
    "<br/>\n",
    "<br/>\n",
    "<br/>\n",
    "<br/>\n",
    "<br/>\n",
    "<br/>\n",
    "<br/>\n",
    "<br/>\n",
    "<br/>\n",
    "<br/>\n",
    "<br/>\n",
    "\n",
    "\n",
    "<u>Put another way:</u> We want to find the POSITIVE z-score $z^*$ in the standard normal distribution in which:\n",
    "* an area of 0.95=0.05+0.90 is to the left of $z^*$ and \n",
    "* an area of 0.05 is to the right of $z^*$. \n",
    "\n",
    "\n",
    "We can find the x-axis value (ie. the z-score) that has a left tail area of 0.995 by using the **norm.ppf()** function."
   ]
  },
  {
   "cell_type": "code",
   "execution_count": 25,
   "metadata": {},
   "outputs": [
    {
     "name": "stdout",
     "output_type": "stream",
     "text": [
      "Critical Value: 1.6448536269514722\n"
     ]
    }
   ],
   "source": [
    "from scipy.stats import norm\n",
    "#critical_value=norm.ppf(0.95)\n",
    "alpha=0.10\n",
    "critical_value=norm.ppf(1-alpha/2)\n",
    "print('Critical Value:',critical_value)"
   ]
  },
  {
   "cell_type": "markdown",
   "metadata": {},
   "source": [
    "#### <u>Calculate the 90% Confidence Interval for p</u>\n",
    "\n",
    "$(\\hat{p} - z^*\\sqrt{\\frac{p(1-p)}{n}},\\hat{p} - z^*\\sqrt{\\frac{p(1-p)}{n}})$\n",
    "\n",
    "$\\approx (\\hat{p} - z^*\\sqrt{\\frac{p_0(1-p_0)}{n}},\\hat{p} - z^*\\sqrt{\\frac{p_0(1-p_0)}{n}})$\n",
    "\n",
    "$(0.301 - 1.645\\sqrt{\\frac{0.75(1-0.75)}{1435}},0.301 + 1.645\\sqrt{\\frac{0.75(1-0.75)}{1435}})$\n",
    "\n",
    "$(0.282,0.320)$."
   ]
  },
  {
   "cell_type": "code",
   "execution_count": 26,
   "metadata": {},
   "outputs": [
    {
     "name": "stdout",
     "output_type": "stream",
     "text": [
      "0.2822433873449789 , 0.3198472049895159\n"
     ]
    }
   ],
   "source": [
    "lower_bound=prop-critical_value*np.sqrt(assumed_pop_prop*(1-assumed_pop_prop)/n_prop)\n",
    "upper_bound=prop+critical_value*np.sqrt(assumed_pop_prop*(1-assumed_pop_prop)/n_prop)\n",
    "\n",
    "print(lower_bound,',',upper_bound)"
   ]
  },
  {
   "cell_type": "markdown",
   "metadata": {},
   "source": [
    "#### <u>Make a Decision</u>:\n",
    "Because the null value $p_0=0.75$ is **not in the confidence interval**, we **reject the null hypothesis.** Thus, we say that we **HAVE sufficient evidence to suggest the alternative hypothesis** (that proportion of ALL adults living in the U.S. that approve of the way the country is going is DIFFERENT from 0.75)."
   ]
  },
  {
   "cell_type": "code",
   "execution_count": null,
   "metadata": {},
   "outputs": [],
   "source": []
  },
  {
   "cell_type": "code",
   "execution_count": null,
   "metadata": {},
   "outputs": [],
   "source": []
  },
  {
   "cell_type": "code",
   "execution_count": null,
   "metadata": {},
   "outputs": [],
   "source": []
  },
  {
   "cell_type": "markdown",
   "metadata": {},
   "source": [
    "---\n",
    "STAT 207, Victoria Ellison and Douglas Simpson, University of Illinois at Urbana-Champaign"
   ]
  },
  {
   "cell_type": "code",
   "execution_count": null,
   "metadata": {},
   "outputs": [],
   "source": []
  }
 ],
 "metadata": {
  "kernelspec": {
   "display_name": "Python 3",
   "language": "python",
   "name": "python3"
  },
  "language_info": {
   "codemirror_mode": {
    "name": "ipython",
    "version": 3
   },
   "file_extension": ".py",
   "mimetype": "text/x-python",
   "name": "python",
   "nbconvert_exporter": "python",
   "pygments_lexer": "ipython3",
   "version": "3.8.5"
  }
 },
 "nbformat": 4,
 "nbformat_minor": 2
}
