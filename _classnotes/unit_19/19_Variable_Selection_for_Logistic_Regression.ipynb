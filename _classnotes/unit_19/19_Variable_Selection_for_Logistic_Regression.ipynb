{
 "cells": [
  {
   "cell_type": "markdown",
   "metadata": {},
   "source": [
    "# Unit 19: Logistic Regression Variable Selection\n",
    "\n",
    "## <u>Case Study</u>: Building a Model that is Good at Predicting Approval for the President's Foreign Policy with Age, Sex, and Political Affiliation *with New Data*\n",
    "\n",
    "Suppose we work at a political advertising agency. Rather than seek to **understand the relationship** between approval for the president's foreign policy with sex, age, and political affiliation, we would like build a model that will give us the **best predictions** for adults living in the U.S. in which we *don't know what they think about the president's foreign policy*.\n",
    "\n",
    "We can assume that this agency has the age, sex, political affiliation, and address of all registered voters in the state. So one goal that this political advertising agency might have is to use this data to make predictions about whether a given person that lives at a particular house approves of the president's foreign policy. They could then use that information to decide whether to mail political advertising pamphplets to this address.\n",
    "\n"
   ]
  },
  {
   "cell_type": "markdown",
   "metadata": {},
   "source": [
    "## Data Preliminaries"
   ]
  },
  {
   "cell_type": "code",
   "execution_count": 1,
   "metadata": {},
   "outputs": [],
   "source": [
    "import numpy as np\n",
    "import pandas as pd\n",
    "import zipfile as zp\n",
    "import statsmodels.api as sm\n",
    "import statsmodels.formula.api as smf"
   ]
  },
  {
   "cell_type": "code",
   "execution_count": 2,
   "metadata": {},
   "outputs": [],
   "source": [
    "missing_values = [\"NaN\", \"nan\", \"Don't know/Refused (VOL.)\"]\n",
    "df = pd.read_csv('Feb17public.csv', \n",
    "                 na_values=missing_values)[['age', 'sex', 'q5cf1', 'party']]"
   ]
  },
  {
   "cell_type": "code",
   "execution_count": 3,
   "metadata": {},
   "outputs": [],
   "source": [
    "# reduce q52 responses to two categories \n",
    "# and create binary reponse variable\n",
    "df['y'] = df['q5cf1'].map({'Disapprove':0,'Approve':1})\n",
    "# use cleaned data without records that have missing values\n",
    "dfclean = df.dropna()"
   ]
  },
  {
   "cell_type": "code",
   "execution_count": 4,
   "metadata": {},
   "outputs": [
    {
     "data": {
      "text/html": [
       "<div>\n",
       "<style scoped>\n",
       "    .dataframe tbody tr th:only-of-type {\n",
       "        vertical-align: middle;\n",
       "    }\n",
       "\n",
       "    .dataframe tbody tr th {\n",
       "        vertical-align: top;\n",
       "    }\n",
       "\n",
       "    .dataframe thead th {\n",
       "        text-align: right;\n",
       "    }\n",
       "</style>\n",
       "<table border=\"1\" class=\"dataframe\">\n",
       "  <thead>\n",
       "    <tr style=\"text-align: right;\">\n",
       "      <th></th>\n",
       "      <th>age</th>\n",
       "      <th>sex</th>\n",
       "      <th>q5cf1</th>\n",
       "      <th>party</th>\n",
       "      <th>y</th>\n",
       "    </tr>\n",
       "  </thead>\n",
       "  <tbody>\n",
       "    <tr>\n",
       "      <th>1</th>\n",
       "      <td>70.0</td>\n",
       "      <td>Female</td>\n",
       "      <td>Disapprove</td>\n",
       "      <td>Democrat</td>\n",
       "      <td>0.0</td>\n",
       "    </tr>\n",
       "    <tr>\n",
       "      <th>2</th>\n",
       "      <td>69.0</td>\n",
       "      <td>Female</td>\n",
       "      <td>Disapprove</td>\n",
       "      <td>Independent</td>\n",
       "      <td>0.0</td>\n",
       "    </tr>\n",
       "    <tr>\n",
       "      <th>4</th>\n",
       "      <td>70.0</td>\n",
       "      <td>Female</td>\n",
       "      <td>Disapprove</td>\n",
       "      <td>Democrat</td>\n",
       "      <td>0.0</td>\n",
       "    </tr>\n",
       "    <tr>\n",
       "      <th>6</th>\n",
       "      <td>89.0</td>\n",
       "      <td>Female</td>\n",
       "      <td>Disapprove</td>\n",
       "      <td>Independent</td>\n",
       "      <td>0.0</td>\n",
       "    </tr>\n",
       "    <tr>\n",
       "      <th>7</th>\n",
       "      <td>92.0</td>\n",
       "      <td>Female</td>\n",
       "      <td>Approve</td>\n",
       "      <td>Republican</td>\n",
       "      <td>1.0</td>\n",
       "    </tr>\n",
       "  </tbody>\n",
       "</table>\n",
       "</div>"
      ],
      "text/plain": [
       "    age     sex       q5cf1        party    y\n",
       "1  70.0  Female  Disapprove     Democrat  0.0\n",
       "2  69.0  Female  Disapprove  Independent  0.0\n",
       "4  70.0  Female  Disapprove     Democrat  0.0\n",
       "6  89.0  Female  Disapprove  Independent  0.0\n",
       "7  92.0  Female     Approve   Republican  1.0"
      ]
     },
     "execution_count": 4,
     "metadata": {},
     "output_type": "execute_result"
    }
   ],
   "source": [
    "dfclean.head()"
   ]
  },
  {
   "cell_type": "code",
   "execution_count": 5,
   "metadata": {},
   "outputs": [
    {
     "data": {
      "text/plain": [
       "Democrat                256\n",
       "Independent             235\n",
       "Republican              172\n",
       "No preference (VOL.)     12\n",
       "Other party (VOL.)        4\n",
       "Name: party, dtype: int64"
      ]
     },
     "execution_count": 5,
     "metadata": {},
     "output_type": "execute_result"
    }
   ],
   "source": [
    "dfclean['party'].value_counts()"
   ]
  },
  {
   "cell_type": "code",
   "execution_count": 6,
   "metadata": {},
   "outputs": [
    {
     "data": {
      "text/plain": [
       "Female    352\n",
       "Male      327\n",
       "Name: sex, dtype: int64"
      ]
     },
     "execution_count": 6,
     "metadata": {},
     "output_type": "execute_result"
    }
   ],
   "source": [
    "dfclean['sex'].value_counts()"
   ]
  },
  {
   "cell_type": "code",
   "execution_count": 7,
   "metadata": {},
   "outputs": [
    {
     "data": {
      "text/html": [
       "<div>\n",
       "<style scoped>\n",
       "    .dataframe tbody tr th:only-of-type {\n",
       "        vertical-align: middle;\n",
       "    }\n",
       "\n",
       "    .dataframe tbody tr th {\n",
       "        vertical-align: top;\n",
       "    }\n",
       "\n",
       "    .dataframe thead th {\n",
       "        text-align: right;\n",
       "    }\n",
       "</style>\n",
       "<table border=\"1\" class=\"dataframe\">\n",
       "  <thead>\n",
       "    <tr style=\"text-align: right;\">\n",
       "      <th></th>\n",
       "      <th>age</th>\n",
       "      <th>y</th>\n",
       "    </tr>\n",
       "  </thead>\n",
       "  <tbody>\n",
       "    <tr>\n",
       "      <th>count</th>\n",
       "      <td>679.000000</td>\n",
       "      <td>679.000000</td>\n",
       "    </tr>\n",
       "    <tr>\n",
       "      <th>mean</th>\n",
       "      <td>50.338733</td>\n",
       "      <td>0.366716</td>\n",
       "    </tr>\n",
       "    <tr>\n",
       "      <th>std</th>\n",
       "      <td>17.951594</td>\n",
       "      <td>0.482263</td>\n",
       "    </tr>\n",
       "    <tr>\n",
       "      <th>min</th>\n",
       "      <td>18.000000</td>\n",
       "      <td>0.000000</td>\n",
       "    </tr>\n",
       "    <tr>\n",
       "      <th>25%</th>\n",
       "      <td>35.000000</td>\n",
       "      <td>0.000000</td>\n",
       "    </tr>\n",
       "    <tr>\n",
       "      <th>50%</th>\n",
       "      <td>52.000000</td>\n",
       "      <td>0.000000</td>\n",
       "    </tr>\n",
       "    <tr>\n",
       "      <th>75%</th>\n",
       "      <td>65.000000</td>\n",
       "      <td>1.000000</td>\n",
       "    </tr>\n",
       "    <tr>\n",
       "      <th>max</th>\n",
       "      <td>94.000000</td>\n",
       "      <td>1.000000</td>\n",
       "    </tr>\n",
       "  </tbody>\n",
       "</table>\n",
       "</div>"
      ],
      "text/plain": [
       "              age           y\n",
       "count  679.000000  679.000000\n",
       "mean    50.338733    0.366716\n",
       "std     17.951594    0.482263\n",
       "min     18.000000    0.000000\n",
       "25%     35.000000    0.000000\n",
       "50%     52.000000    0.000000\n",
       "75%     65.000000    1.000000\n",
       "max     94.000000    1.000000"
      ]
     },
     "execution_count": 7,
     "metadata": {},
     "output_type": "execute_result"
    }
   ],
   "source": [
    "dfclean.describe()"
   ]
  },
  {
   "cell_type": "markdown",
   "metadata": {},
   "source": [
    "## 1. Overfitting by Using Too Many Uninformative Explanatory Variables\n",
    "\n",
    "#### See Unit 19 slides section 1\n",
    "\n",
    "## 2. Some Pros and Cons of Overfitting vs. Underfitting a Model (via too Many or too Little Explanatory Variables\n",
    "\n",
    "#### See Unit 19 slides section 2\n",
    "\n",
    "## 3. <u>Theory</u>: Overfitting vs. Underfitting a Model\n",
    "\n",
    "#### See Unit 19 slides section 3\n",
    "\n",
    "\n",
    "### 3.1. A General Goal of Machine Learning\n",
    "\n",
    "#### See Unit 19 slides section 3.1\n",
    "\n",
    "\n",
    "### 3.2. Properties of the Estimation Function\n",
    "\n",
    "#### See Unit 19 slides section 3.2\n",
    "\n",
    "\n",
    "### 3.3 Estimation Function Definitions\n",
    "\n",
    "#### See Unit 19 slides section 3.3\n",
    "\n",
    "\n",
    "### 3.4. Relationship between Bias, Variance, Overfitting, Underfitting, and Mean Squared Error of a Model\n",
    "\n",
    "#### See Unit 19 slides section 3.4\n",
    "\n",
    "\n",
    "### 3.5. Goal of Selecting a Model that will Make Good Predictions on *New Data*\n",
    "\n",
    "#### See Unit 19 slides section 3.5\n",
    "\n",
    "\n",
    "## 4. <u>Goal</u>: Find a \"Parsimonious\" Model\n",
    "\n",
    "#### See Unit 19 slides section 4\n",
    "\n",
    "## 5. More about Fitting a Logistic Regression Model\n",
    "\n",
    "#### See Unit 19 slides section 5\n",
    "\n",
    "### 5.1. How are the optimal values of $\\hat{\\beta_0},\\hat{\\beta_1},...,\\hat{\\beta_p}$ determined in a logistic regression model.\n",
    "\n",
    "\n",
    "#### See Unit 19 slides section 5.1\n",
    "\n",
    "### 5.2. Where do we find the optimal log-likelihood function value for a given logistic regression model?\n",
    "\n",
    "Let's first fit a logistic regression model that predicts the log likelihood that a adult living in the U.S. supports the president's foreign policy given the following explanatory variables:\n",
    "* party,\n",
    "* age, and\n",
    "* sex.\n",
    "\n",
    "\n",
    "\n",
    "\n"
   ]
  },
  {
   "cell_type": "code",
   "execution_count": 8,
   "metadata": {},
   "outputs": [
    {
     "name": "stdout",
     "output_type": "stream",
     "text": [
      "Optimization terminated successfully.\n",
      "         Current function value: 0.419649\n",
      "         Iterations 7\n"
     ]
    },
    {
     "data": {
      "text/html": [
       "<table class=\"simpletable\">\n",
       "<caption>Logit Regression Results</caption>\n",
       "<tr>\n",
       "  <th>Dep. Variable:</th>           <td>y</td>        <th>  No. Observations:  </th>  <td>   679</td>  \n",
       "</tr>\n",
       "<tr>\n",
       "  <th>Model:</th>                 <td>Logit</td>      <th>  Df Residuals:      </th>  <td>   672</td>  \n",
       "</tr>\n",
       "<tr>\n",
       "  <th>Method:</th>                 <td>MLE</td>       <th>  Df Model:          </th>  <td>     6</td>  \n",
       "</tr>\n",
       "<tr>\n",
       "  <th>Date:</th>            <td>Tue, 27 Apr 2021</td> <th>  Pseudo R-squ.:     </th>  <td>0.3614</td>  \n",
       "</tr>\n",
       "<tr>\n",
       "  <th>Time:</th>                <td>11:34:30</td>     <th>  Log-Likelihood:    </th> <td> -284.94</td> \n",
       "</tr>\n",
       "<tr>\n",
       "  <th>converged:</th>             <td>True</td>       <th>  LL-Null:           </th> <td> -446.23</td> \n",
       "</tr>\n",
       "<tr>\n",
       "  <th>Covariance Type:</th>     <td>nonrobust</td>    <th>  LLR p-value:       </th> <td>1.185e-66</td>\n",
       "</tr>\n",
       "</table>\n",
       "<table class=\"simpletable\">\n",
       "<tr>\n",
       "                <td></td>                   <th>coef</th>     <th>std err</th>      <th>z</th>      <th>P>|z|</th>  <th>[0.025</th>    <th>0.975]</th>  \n",
       "</tr>\n",
       "<tr>\n",
       "  <th>Intercept</th>                     <td>   -4.5635</td> <td>    0.465</td> <td>   -9.807</td> <td> 0.000</td> <td>   -5.475</td> <td>   -3.651</td>\n",
       "</tr>\n",
       "<tr>\n",
       "  <th>party[T.Independent]</th>          <td>    2.2604</td> <td>    0.312</td> <td>    7.236</td> <td> 0.000</td> <td>    1.648</td> <td>    2.873</td>\n",
       "</tr>\n",
       "<tr>\n",
       "  <th>party[T.No preference (VOL.)]</th> <td>    2.5881</td> <td>    0.680</td> <td>    3.808</td> <td> 0.000</td> <td>    1.256</td> <td>    3.920</td>\n",
       "</tr>\n",
       "<tr>\n",
       "  <th>party[T.Other party (VOL.)]</th>   <td>    4.0865</td> <td>    1.212</td> <td>    3.372</td> <td> 0.001</td> <td>    1.711</td> <td>    6.462</td>\n",
       "</tr>\n",
       "<tr>\n",
       "  <th>party[T.Republican]</th>           <td>    4.2985</td> <td>    0.341</td> <td>   12.592</td> <td> 0.000</td> <td>    3.629</td> <td>    4.968</td>\n",
       "</tr>\n",
       "<tr>\n",
       "  <th>sex[T.Male]</th>                   <td>    0.7288</td> <td>    0.217</td> <td>    3.363</td> <td> 0.001</td> <td>    0.304</td> <td>    1.154</td>\n",
       "</tr>\n",
       "<tr>\n",
       "  <th>age</th>                           <td>    0.0272</td> <td>    0.006</td> <td>    4.443</td> <td> 0.000</td> <td>    0.015</td> <td>    0.039</td>\n",
       "</tr>\n",
       "</table>"
      ],
      "text/plain": [
       "<class 'statsmodels.iolib.summary.Summary'>\n",
       "\"\"\"\n",
       "                           Logit Regression Results                           \n",
       "==============================================================================\n",
       "Dep. Variable:                      y   No. Observations:                  679\n",
       "Model:                          Logit   Df Residuals:                      672\n",
       "Method:                           MLE   Df Model:                            6\n",
       "Date:                Tue, 27 Apr 2021   Pseudo R-squ.:                  0.3614\n",
       "Time:                        11:34:30   Log-Likelihood:                -284.94\n",
       "converged:                       True   LL-Null:                       -446.23\n",
       "Covariance Type:            nonrobust   LLR p-value:                 1.185e-66\n",
       "=================================================================================================\n",
       "                                    coef    std err          z      P>|z|      [0.025      0.975]\n",
       "-------------------------------------------------------------------------------------------------\n",
       "Intercept                        -4.5635      0.465     -9.807      0.000      -5.475      -3.651\n",
       "party[T.Independent]              2.2604      0.312      7.236      0.000       1.648       2.873\n",
       "party[T.No preference (VOL.)]     2.5881      0.680      3.808      0.000       1.256       3.920\n",
       "party[T.Other party (VOL.)]       4.0865      1.212      3.372      0.001       1.711       6.462\n",
       "party[T.Republican]               4.2985      0.341     12.592      0.000       3.629       4.968\n",
       "sex[T.Male]                       0.7288      0.217      3.363      0.001       0.304       1.154\n",
       "age                               0.0272      0.006      4.443      0.000       0.015       0.039\n",
       "=================================================================================================\n",
       "\"\"\""
      ]
     },
     "execution_count": 8,
     "metadata": {},
     "output_type": "execute_result"
    }
   ],
   "source": [
    "pewmod = smf.logit('y ~ party + age + sex',\\\n",
    "    data=dfclean).fit()\n",
    "pewmod.summary()"
   ]
  },
  {
   "cell_type": "markdown",
   "metadata": {},
   "source": [
    "## 6. Model Selection with Log Likelihood Ratio Test\n",
    "\n",
    "### Using Log-likelihood Ratio Test For Comparing two Logistic Regression Models\n",
    "\n",
    "In an earlier section we considered two models for predicting a favorable opinion of border wall construction in the Pew Research Survey of February 2017. Let's load the data and the two models and first see how we can test between the two models. The idea is analogous to the ANOVA method for comparing two linear regression models. "
   ]
  },
  {
   "cell_type": "markdown",
   "metadata": {},
   "source": [
    "### <u> Descriptive Analytics Question:</u> Is the proportion of people that support the president's foreign policy different for at least one pair of political parties *in the sample*?"
   ]
  },
  {
   "cell_type": "code",
   "execution_count": 9,
   "metadata": {},
   "outputs": [
    {
     "data": {
      "text/html": [
       "<div>\n",
       "<style scoped>\n",
       "    .dataframe tbody tr th:only-of-type {\n",
       "        vertical-align: middle;\n",
       "    }\n",
       "\n",
       "    .dataframe tbody tr th {\n",
       "        vertical-align: top;\n",
       "    }\n",
       "\n",
       "    .dataframe thead th {\n",
       "        text-align: right;\n",
       "    }\n",
       "</style>\n",
       "<table border=\"1\" class=\"dataframe\">\n",
       "  <thead>\n",
       "    <tr style=\"text-align: right;\">\n",
       "      <th></th>\n",
       "      <th>age</th>\n",
       "      <th>y</th>\n",
       "    </tr>\n",
       "    <tr>\n",
       "      <th>party</th>\n",
       "      <th></th>\n",
       "      <th></th>\n",
       "    </tr>\n",
       "  </thead>\n",
       "  <tbody>\n",
       "    <tr>\n",
       "      <th>Democrat</th>\n",
       "      <td>51.085938</td>\n",
       "      <td>0.058594</td>\n",
       "    </tr>\n",
       "    <tr>\n",
       "      <th>Independent</th>\n",
       "      <td>45.370213</td>\n",
       "      <td>0.357447</td>\n",
       "    </tr>\n",
       "    <tr>\n",
       "      <th>No preference (VOL.)</th>\n",
       "      <td>45.666667</td>\n",
       "      <td>0.416667</td>\n",
       "    </tr>\n",
       "    <tr>\n",
       "      <th>Other party (VOL.)</th>\n",
       "      <td>39.500000</td>\n",
       "      <td>0.750000</td>\n",
       "    </tr>\n",
       "    <tr>\n",
       "      <th>Republican</th>\n",
       "      <td>56.593023</td>\n",
       "      <td>0.825581</td>\n",
       "    </tr>\n",
       "  </tbody>\n",
       "</table>\n",
       "</div>"
      ],
      "text/plain": [
       "                            age         y\n",
       "party                                    \n",
       "Democrat              51.085938  0.058594\n",
       "Independent           45.370213  0.357447\n",
       "No preference (VOL.)  45.666667  0.416667\n",
       "Other party (VOL.)    39.500000  0.750000\n",
       "Republican            56.593023  0.825581"
      ]
     },
     "execution_count": 9,
     "metadata": {},
     "output_type": "execute_result"
    }
   ],
   "source": [
    "dfclean.groupby('party').mean()"
   ]
  },
  {
   "cell_type": "markdown",
   "metadata": {},
   "source": [
    "We can see that the proportion of 'favor' responses varies quite a bit between party affiliations, by looking at the mean values for 'y'. In each subgroup, the sample mean of y equals the proportion who favored the |president's foreign policy.\n",
    "\n",
    "\n",
    "### <u> Inference Question:</u> Is the proportion of people that support the president's foreign policy different for at least one pair of political parties *in the population* of all adults that live in the U.S.?\n",
    "\n",
    "\n"
   ]
  },
  {
   "cell_type": "markdown",
   "metadata": {},
   "source": [
    "### Use a Full model and reduced model for log-likelihood-ratio test\n",
    "\n",
    "Recall that 'party' is a categorical variable with 5 categories. If we wish to test the null hypothesis of no party effects, we need a 4 degree of freedom test. For this we can use the log-likelihood-ratio test.\n",
    "\n",
    "### Step 1: Set up a full model and a null model.\n",
    "\n",
    "* **Reduced Model (Model 0)**:\n",
    "    * Response = Support for president's foreign policy\n",
    "    * Explanatory Variables:\n",
    "        - age\n",
    "        - sex\n",
    "* **Full Model (Model 1)**:\n",
    "    * Response = Support for president's foreign policy\n",
    "    * Explanatory Variables:\n",
    "        - age\n",
    "        - sex\n",
    "        - party\n",
    "\n",
    "\n",
    "First we fit the reduced and full model:"
   ]
  },
  {
   "cell_type": "code",
   "execution_count": 10,
   "metadata": {},
   "outputs": [
    {
     "name": "stdout",
     "output_type": "stream",
     "text": [
      "Optimization terminated successfully.\n",
      "         Current function value: 0.616503\n",
      "         Iterations 5\n",
      "Optimization terminated successfully.\n",
      "         Current function value: 0.419649\n",
      "         Iterations 7\n"
     ]
    }
   ],
   "source": [
    "mod_red = smf.logit('y ~ age + sex', data=dfclean).fit()\n",
    "mod_full = smf.logit('y ~ party + age + sex', data=dfclean).fit()"
   ]
  },
  {
   "cell_type": "markdown",
   "metadata": {},
   "source": [
    "### Step 2: Set up the null and alternative hypotheses.\n",
    "\n",
    "$\n",
    "\\begin{align}\n",
    "H_0: &\\quad \\mbox{Reduced Model is correct},\\\\\n",
    "\\\\\n",
    "H_A: &\\quad \\mbox{Reduced Model is incorrect because the missing 'party' coefficient in Reduced Model is not zero}.\\\\\n",
    "\\end{align}\n",
    "$"
   ]
  },
  {
   "cell_type": "markdown",
   "metadata": {},
   "source": [
    "### Step 3: Calculate the test statistic."
   ]
  },
  {
   "cell_type": "markdown",
   "metadata": {},
   "source": [
    "We don't need to display the summaries to perform the test, but it is informative to review the model summaries to understand the variables. The maximized log-likelihood is shown in the model summary as 'Log-Likelihood'."
   ]
  },
  {
   "cell_type": "markdown",
   "metadata": {},
   "source": [
    "#### Step 3a: Extract the log-likelihoods for the two models:"
   ]
  },
  {
   "cell_type": "code",
   "execution_count": 11,
   "metadata": {},
   "outputs": [
    {
     "data": {
      "text/html": [
       "<table class=\"simpletable\">\n",
       "<caption>Logit Regression Results</caption>\n",
       "<tr>\n",
       "  <th>Dep. Variable:</th>           <td>y</td>        <th>  No. Observations:  </th>  <td>   679</td>  \n",
       "</tr>\n",
       "<tr>\n",
       "  <th>Model:</th>                 <td>Logit</td>      <th>  Df Residuals:      </th>  <td>   676</td>  \n",
       "</tr>\n",
       "<tr>\n",
       "  <th>Method:</th>                 <td>MLE</td>       <th>  Df Model:          </th>  <td>     2</td>  \n",
       "</tr>\n",
       "<tr>\n",
       "  <th>Date:</th>            <td>Tue, 27 Apr 2021</td> <th>  Pseudo R-squ.:     </th>  <td>0.06190</td> \n",
       "</tr>\n",
       "<tr>\n",
       "  <th>Time:</th>                <td>11:34:30</td>     <th>  Log-Likelihood:    </th> <td> -418.61</td> \n",
       "</tr>\n",
       "<tr>\n",
       "  <th>converged:</th>             <td>True</td>       <th>  LL-Null:           </th> <td> -446.23</td> \n",
       "</tr>\n",
       "<tr>\n",
       "  <th>Covariance Type:</th>     <td>nonrobust</td>    <th>  LLR p-value:       </th> <td>1.008e-12</td>\n",
       "</tr>\n",
       "</table>\n",
       "<table class=\"simpletable\">\n",
       "<tr>\n",
       "       <td></td>          <th>coef</th>     <th>std err</th>      <th>z</th>      <th>P>|z|</th>  <th>[0.025</th>    <th>0.975]</th>  \n",
       "</tr>\n",
       "<tr>\n",
       "  <th>Intercept</th>   <td>   -2.3139</td> <td>    0.289</td> <td>   -8.017</td> <td> 0.000</td> <td>   -2.880</td> <td>   -1.748</td>\n",
       "</tr>\n",
       "<tr>\n",
       "  <th>sex[T.Male]</th> <td>    0.8720</td> <td>    0.168</td> <td>    5.201</td> <td> 0.000</td> <td>    0.543</td> <td>    1.201</td>\n",
       "</tr>\n",
       "<tr>\n",
       "  <th>age</th>         <td>    0.0258</td> <td>    0.005</td> <td>    5.379</td> <td> 0.000</td> <td>    0.016</td> <td>    0.035</td>\n",
       "</tr>\n",
       "</table>"
      ],
      "text/plain": [
       "<class 'statsmodels.iolib.summary.Summary'>\n",
       "\"\"\"\n",
       "                           Logit Regression Results                           \n",
       "==============================================================================\n",
       "Dep. Variable:                      y   No. Observations:                  679\n",
       "Model:                          Logit   Df Residuals:                      676\n",
       "Method:                           MLE   Df Model:                            2\n",
       "Date:                Tue, 27 Apr 2021   Pseudo R-squ.:                 0.06190\n",
       "Time:                        11:34:30   Log-Likelihood:                -418.61\n",
       "converged:                       True   LL-Null:                       -446.23\n",
       "Covariance Type:            nonrobust   LLR p-value:                 1.008e-12\n",
       "===============================================================================\n",
       "                  coef    std err          z      P>|z|      [0.025      0.975]\n",
       "-------------------------------------------------------------------------------\n",
       "Intercept      -2.3139      0.289     -8.017      0.000      -2.880      -1.748\n",
       "sex[T.Male]     0.8720      0.168      5.201      0.000       0.543       1.201\n",
       "age             0.0258      0.005      5.379      0.000       0.016       0.035\n",
       "===============================================================================\n",
       "\"\"\""
      ]
     },
     "execution_count": 11,
     "metadata": {},
     "output_type": "execute_result"
    }
   ],
   "source": [
    "mod_red.summary()"
   ]
  },
  {
   "cell_type": "code",
   "execution_count": 12,
   "metadata": {},
   "outputs": [
    {
     "data": {
      "text/html": [
       "<table class=\"simpletable\">\n",
       "<caption>Logit Regression Results</caption>\n",
       "<tr>\n",
       "  <th>Dep. Variable:</th>           <td>y</td>        <th>  No. Observations:  </th>  <td>   679</td>  \n",
       "</tr>\n",
       "<tr>\n",
       "  <th>Model:</th>                 <td>Logit</td>      <th>  Df Residuals:      </th>  <td>   672</td>  \n",
       "</tr>\n",
       "<tr>\n",
       "  <th>Method:</th>                 <td>MLE</td>       <th>  Df Model:          </th>  <td>     6</td>  \n",
       "</tr>\n",
       "<tr>\n",
       "  <th>Date:</th>            <td>Tue, 27 Apr 2021</td> <th>  Pseudo R-squ.:     </th>  <td>0.3614</td>  \n",
       "</tr>\n",
       "<tr>\n",
       "  <th>Time:</th>                <td>11:34:30</td>     <th>  Log-Likelihood:    </th> <td> -284.94</td> \n",
       "</tr>\n",
       "<tr>\n",
       "  <th>converged:</th>             <td>True</td>       <th>  LL-Null:           </th> <td> -446.23</td> \n",
       "</tr>\n",
       "<tr>\n",
       "  <th>Covariance Type:</th>     <td>nonrobust</td>    <th>  LLR p-value:       </th> <td>1.185e-66</td>\n",
       "</tr>\n",
       "</table>\n",
       "<table class=\"simpletable\">\n",
       "<tr>\n",
       "                <td></td>                   <th>coef</th>     <th>std err</th>      <th>z</th>      <th>P>|z|</th>  <th>[0.025</th>    <th>0.975]</th>  \n",
       "</tr>\n",
       "<tr>\n",
       "  <th>Intercept</th>                     <td>   -4.5635</td> <td>    0.465</td> <td>   -9.807</td> <td> 0.000</td> <td>   -5.475</td> <td>   -3.651</td>\n",
       "</tr>\n",
       "<tr>\n",
       "  <th>party[T.Independent]</th>          <td>    2.2604</td> <td>    0.312</td> <td>    7.236</td> <td> 0.000</td> <td>    1.648</td> <td>    2.873</td>\n",
       "</tr>\n",
       "<tr>\n",
       "  <th>party[T.No preference (VOL.)]</th> <td>    2.5881</td> <td>    0.680</td> <td>    3.808</td> <td> 0.000</td> <td>    1.256</td> <td>    3.920</td>\n",
       "</tr>\n",
       "<tr>\n",
       "  <th>party[T.Other party (VOL.)]</th>   <td>    4.0865</td> <td>    1.212</td> <td>    3.372</td> <td> 0.001</td> <td>    1.711</td> <td>    6.462</td>\n",
       "</tr>\n",
       "<tr>\n",
       "  <th>party[T.Republican]</th>           <td>    4.2985</td> <td>    0.341</td> <td>   12.592</td> <td> 0.000</td> <td>    3.629</td> <td>    4.968</td>\n",
       "</tr>\n",
       "<tr>\n",
       "  <th>sex[T.Male]</th>                   <td>    0.7288</td> <td>    0.217</td> <td>    3.363</td> <td> 0.001</td> <td>    0.304</td> <td>    1.154</td>\n",
       "</tr>\n",
       "<tr>\n",
       "  <th>age</th>                           <td>    0.0272</td> <td>    0.006</td> <td>    4.443</td> <td> 0.000</td> <td>    0.015</td> <td>    0.039</td>\n",
       "</tr>\n",
       "</table>"
      ],
      "text/plain": [
       "<class 'statsmodels.iolib.summary.Summary'>\n",
       "\"\"\"\n",
       "                           Logit Regression Results                           \n",
       "==============================================================================\n",
       "Dep. Variable:                      y   No. Observations:                  679\n",
       "Model:                          Logit   Df Residuals:                      672\n",
       "Method:                           MLE   Df Model:                            6\n",
       "Date:                Tue, 27 Apr 2021   Pseudo R-squ.:                  0.3614\n",
       "Time:                        11:34:30   Log-Likelihood:                -284.94\n",
       "converged:                       True   LL-Null:                       -446.23\n",
       "Covariance Type:            nonrobust   LLR p-value:                 1.185e-66\n",
       "=================================================================================================\n",
       "                                    coef    std err          z      P>|z|      [0.025      0.975]\n",
       "-------------------------------------------------------------------------------------------------\n",
       "Intercept                        -4.5635      0.465     -9.807      0.000      -5.475      -3.651\n",
       "party[T.Independent]              2.2604      0.312      7.236      0.000       1.648       2.873\n",
       "party[T.No preference (VOL.)]     2.5881      0.680      3.808      0.000       1.256       3.920\n",
       "party[T.Other party (VOL.)]       4.0865      1.212      3.372      0.001       1.711       6.462\n",
       "party[T.Republican]               4.2985      0.341     12.592      0.000       3.629       4.968\n",
       "sex[T.Male]                       0.7288      0.217      3.363      0.001       0.304       1.154\n",
       "age                               0.0272      0.006      4.443      0.000       0.015       0.039\n",
       "=================================================================================================\n",
       "\"\"\""
      ]
     },
     "execution_count": 12,
     "metadata": {},
     "output_type": "execute_result"
    }
   ],
   "source": [
    "mod_full.summary()"
   ]
  },
  {
   "cell_type": "code",
   "execution_count": 13,
   "metadata": {},
   "outputs": [
    {
     "data": {
      "text/plain": [
       "(-418.6053096733376, -284.9418430874059)"
      ]
     },
     "execution_count": 13,
     "metadata": {},
     "output_type": "execute_result"
    }
   ],
   "source": [
    "mod_red.llf, mod_full.llf"
   ]
  },
  {
   "cell_type": "code",
   "execution_count": 14,
   "metadata": {},
   "outputs": [
    {
     "data": {
      "text/plain": [
       "(2.0, 6.0)"
      ]
     },
     "execution_count": 14,
     "metadata": {},
     "output_type": "execute_result"
    }
   ],
   "source": [
    "mod_red.df_model, mod_full.df_model"
   ]
  },
  {
   "cell_type": "markdown",
   "metadata": {},
   "source": [
    "#### Step 3b: Use these log-likelihoods to calculate the likelihood ratio test statistic.\n",
    "\n",
    "Just be careful to get the multiplier (-2) right so the chi-sqaure approximation works correctly."
   ]
  },
  {
   "cell_type": "code",
   "execution_count": 15,
   "metadata": {},
   "outputs": [
    {
     "data": {
      "text/html": [
       "<div>\n",
       "<style scoped>\n",
       "    .dataframe tbody tr th:only-of-type {\n",
       "        vertical-align: middle;\n",
       "    }\n",
       "\n",
       "    .dataframe tbody tr th {\n",
       "        vertical-align: top;\n",
       "    }\n",
       "\n",
       "    .dataframe thead th {\n",
       "        text-align: right;\n",
       "    }\n",
       "</style>\n",
       "<table border=\"1\" class=\"dataframe\">\n",
       "  <thead>\n",
       "    <tr style=\"text-align: right;\">\n",
       "      <th></th>\n",
       "      <th>-2*llf</th>\n",
       "      <th>df_model</th>\n",
       "    </tr>\n",
       "  </thead>\n",
       "  <tbody>\n",
       "    <tr>\n",
       "      <th>reduced model</th>\n",
       "      <td>837.210619</td>\n",
       "      <td>2.0</td>\n",
       "    </tr>\n",
       "    <tr>\n",
       "      <th>full model</th>\n",
       "      <td>569.883686</td>\n",
       "      <td>6.0</td>\n",
       "    </tr>\n",
       "    <tr>\n",
       "      <th>diff</th>\n",
       "      <td>267.326933</td>\n",
       "      <td>4.0</td>\n",
       "    </tr>\n",
       "  </tbody>\n",
       "</table>\n",
       "</div>"
      ],
      "text/plain": [
       "                   -2*llf  df_model\n",
       "reduced model  837.210619       2.0\n",
       "full model     569.883686       6.0\n",
       "diff           267.326933       4.0"
      ]
     },
     "execution_count": 15,
     "metadata": {},
     "output_type": "execute_result"
    }
   ],
   "source": [
    "# Extract log-likelihood function values \n",
    "# and model degrees of freedom from each model\n",
    "llf_red, df_red = mod_red.llf, mod_red.df_model\n",
    "llf_full, df_full = mod_full.llf, mod_full.df_model\n",
    "# take differences\n",
    "llr, dfdiff = -2*(llf_red - llf_full), df_full - df_red\n",
    "# display results\n",
    "pd.DataFrame({'-2*llf': [-2*llf_red, -2*llf_full, llr], \n",
    "              'df_model': [df_red, df_full, dfdiff]}, \n",
    "             index=['reduced model','full model', 'diff'])"
   ]
  },
  {
   "cell_type": "markdown",
   "metadata": {},
   "source": [
    "### Step 4: Calculate the degrees of freedom for the chi-squared distribution that this test statistic is an observation from.\n",
    "\n",
    "Why was df = 4 in this analysis?\n",
    "<br/>\n",
    "<br/>\n",
    "<br/>\n",
    "<br/>\n",
    "<br/>\n",
    "<br/>\n",
    "<br/>\n",
    "<br/>\n",
    "<br/>\n",
    "<br/>\n",
    "### Step 5: Calculate the p-value and make a conclusion.\n",
    "<br/>\n",
    "<br/>\n",
    "<br/>\n",
    "<br/>\n",
    "<br/>\n",
    "<br/>\n",
    "<br/>\n",
    "<br/>\n",
    "<br/>\n",
    "<br/>\n",
    "<br/>\n",
    "<br/>\n",
    "<br/>\n",
    "<br/>\n",
    "<br/>\n",
    "<br/>\n",
    "<br/>\n",
    "<br/>\n",
    "<br/>\n",
    "<br/>"
   ]
  },
  {
   "cell_type": "code",
   "execution_count": 16,
   "metadata": {},
   "outputs": [
    {
     "data": {
      "text/plain": [
       "0.0"
      ]
     },
     "execution_count": 16,
     "metadata": {},
     "output_type": "execute_result"
    }
   ],
   "source": [
    "# import chisquare function and compute p-value\n",
    "from scipy.stats import chi2\n",
    "1 - chi2.cdf(llr, df=dfdiff)"
   ]
  },
  {
   "cell_type": "markdown",
   "metadata": {},
   "source": [
    "#### Summarize the test with calculated p-value using chi-square distribution"
   ]
  },
  {
   "cell_type": "code",
   "execution_count": 17,
   "metadata": {},
   "outputs": [
    {
     "name": "stdout",
     "output_type": "stream",
     "text": [
      "-2*llr: 267.33  df: 4.0  p-value: 0.0\n"
     ]
    }
   ],
   "source": [
    "# summarize test results\n",
    "print('-2*llr:', round(llr, 2), \\\n",
    "      ' df:', dfdiff, ' p-value:', \\\n",
    "      1 - chi2.cdf(llr, df=dfdiff))"
   ]
  },
  {
   "cell_type": "markdown",
   "metadata": {},
   "source": [
    "**Conclusion:** \n",
    "\n",
    "Because the $p-value<0.0001<\\alpha=0.05$, we reject the null hypothesis. Thus there is sufficient evidence to suggest that the reduced Model is incorrect because the missing 'party' coefficient in Reduced Model is not zero.\n",
    "\n",
    "Or in other words, there is sufficient evidence to suggest that party affiliation is a significant factor associated with support for the president's foreign policy."
   ]
  },
  {
   "cell_type": "markdown",
   "metadata": {},
   "source": [
    "## 7. Model Selection with AIC and BIC\n",
    "\n",
    "#### See Unit 19 slides section 7\n",
    "\n",
    "\n",
    "In the previous section we used a hypothesis test to evaluate whether there was evidence to suggest that the full model with the party slopes (as well as the age and sex slope) was a better fit of the data then the reduced model which just had the age and sex slopes.\n",
    "\n",
    "Now, let's use the AIC and BIC scores of the full and reduced model to see which of the two models is closer to being a parsimonious model."
   ]
  },
  {
   "cell_type": "code",
   "execution_count": 18,
   "metadata": {},
   "outputs": [
    {
     "data": {
      "text/html": [
       "<table class=\"simpletable\">\n",
       "<caption>Logit Regression Results</caption>\n",
       "<tr>\n",
       "  <th>Dep. Variable:</th>           <td>y</td>        <th>  No. Observations:  </th>  <td>   679</td>  \n",
       "</tr>\n",
       "<tr>\n",
       "  <th>Model:</th>                 <td>Logit</td>      <th>  Df Residuals:      </th>  <td>   672</td>  \n",
       "</tr>\n",
       "<tr>\n",
       "  <th>Method:</th>                 <td>MLE</td>       <th>  Df Model:          </th>  <td>     6</td>  \n",
       "</tr>\n",
       "<tr>\n",
       "  <th>Date:</th>            <td>Tue, 27 Apr 2021</td> <th>  Pseudo R-squ.:     </th>  <td>0.3614</td>  \n",
       "</tr>\n",
       "<tr>\n",
       "  <th>Time:</th>                <td>11:34:31</td>     <th>  Log-Likelihood:    </th> <td> -284.94</td> \n",
       "</tr>\n",
       "<tr>\n",
       "  <th>converged:</th>             <td>True</td>       <th>  LL-Null:           </th> <td> -446.23</td> \n",
       "</tr>\n",
       "<tr>\n",
       "  <th>Covariance Type:</th>     <td>nonrobust</td>    <th>  LLR p-value:       </th> <td>1.185e-66</td>\n",
       "</tr>\n",
       "</table>\n",
       "<table class=\"simpletable\">\n",
       "<tr>\n",
       "                <td></td>                   <th>coef</th>     <th>std err</th>      <th>z</th>      <th>P>|z|</th>  <th>[0.025</th>    <th>0.975]</th>  \n",
       "</tr>\n",
       "<tr>\n",
       "  <th>Intercept</th>                     <td>   -4.5635</td> <td>    0.465</td> <td>   -9.807</td> <td> 0.000</td> <td>   -5.475</td> <td>   -3.651</td>\n",
       "</tr>\n",
       "<tr>\n",
       "  <th>party[T.Independent]</th>          <td>    2.2604</td> <td>    0.312</td> <td>    7.236</td> <td> 0.000</td> <td>    1.648</td> <td>    2.873</td>\n",
       "</tr>\n",
       "<tr>\n",
       "  <th>party[T.No preference (VOL.)]</th> <td>    2.5881</td> <td>    0.680</td> <td>    3.808</td> <td> 0.000</td> <td>    1.256</td> <td>    3.920</td>\n",
       "</tr>\n",
       "<tr>\n",
       "  <th>party[T.Other party (VOL.)]</th>   <td>    4.0865</td> <td>    1.212</td> <td>    3.372</td> <td> 0.001</td> <td>    1.711</td> <td>    6.462</td>\n",
       "</tr>\n",
       "<tr>\n",
       "  <th>party[T.Republican]</th>           <td>    4.2985</td> <td>    0.341</td> <td>   12.592</td> <td> 0.000</td> <td>    3.629</td> <td>    4.968</td>\n",
       "</tr>\n",
       "<tr>\n",
       "  <th>sex[T.Male]</th>                   <td>    0.7288</td> <td>    0.217</td> <td>    3.363</td> <td> 0.001</td> <td>    0.304</td> <td>    1.154</td>\n",
       "</tr>\n",
       "<tr>\n",
       "  <th>age</th>                           <td>    0.0272</td> <td>    0.006</td> <td>    4.443</td> <td> 0.000</td> <td>    0.015</td> <td>    0.039</td>\n",
       "</tr>\n",
       "</table>"
      ],
      "text/plain": [
       "<class 'statsmodels.iolib.summary.Summary'>\n",
       "\"\"\"\n",
       "                           Logit Regression Results                           \n",
       "==============================================================================\n",
       "Dep. Variable:                      y   No. Observations:                  679\n",
       "Model:                          Logit   Df Residuals:                      672\n",
       "Method:                           MLE   Df Model:                            6\n",
       "Date:                Tue, 27 Apr 2021   Pseudo R-squ.:                  0.3614\n",
       "Time:                        11:34:31   Log-Likelihood:                -284.94\n",
       "converged:                       True   LL-Null:                       -446.23\n",
       "Covariance Type:            nonrobust   LLR p-value:                 1.185e-66\n",
       "=================================================================================================\n",
       "                                    coef    std err          z      P>|z|      [0.025      0.975]\n",
       "-------------------------------------------------------------------------------------------------\n",
       "Intercept                        -4.5635      0.465     -9.807      0.000      -5.475      -3.651\n",
       "party[T.Independent]              2.2604      0.312      7.236      0.000       1.648       2.873\n",
       "party[T.No preference (VOL.)]     2.5881      0.680      3.808      0.000       1.256       3.920\n",
       "party[T.Other party (VOL.)]       4.0865      1.212      3.372      0.001       1.711       6.462\n",
       "party[T.Republican]               4.2985      0.341     12.592      0.000       3.629       4.968\n",
       "sex[T.Male]                       0.7288      0.217      3.363      0.001       0.304       1.154\n",
       "age                               0.0272      0.006      4.443      0.000       0.015       0.039\n",
       "=================================================================================================\n",
       "\"\"\""
      ]
     },
     "execution_count": 18,
     "metadata": {},
     "output_type": "execute_result"
    }
   ],
   "source": [
    "mod_full.summary()"
   ]
  },
  {
   "cell_type": "code",
   "execution_count": 19,
   "metadata": {},
   "outputs": [
    {
     "data": {
      "text/html": [
       "<table class=\"simpletable\">\n",
       "<caption>Logit Regression Results</caption>\n",
       "<tr>\n",
       "  <th>Dep. Variable:</th>           <td>y</td>        <th>  No. Observations:  </th>  <td>   679</td>  \n",
       "</tr>\n",
       "<tr>\n",
       "  <th>Model:</th>                 <td>Logit</td>      <th>  Df Residuals:      </th>  <td>   676</td>  \n",
       "</tr>\n",
       "<tr>\n",
       "  <th>Method:</th>                 <td>MLE</td>       <th>  Df Model:          </th>  <td>     2</td>  \n",
       "</tr>\n",
       "<tr>\n",
       "  <th>Date:</th>            <td>Tue, 27 Apr 2021</td> <th>  Pseudo R-squ.:     </th>  <td>0.06190</td> \n",
       "</tr>\n",
       "<tr>\n",
       "  <th>Time:</th>                <td>11:34:31</td>     <th>  Log-Likelihood:    </th> <td> -418.61</td> \n",
       "</tr>\n",
       "<tr>\n",
       "  <th>converged:</th>             <td>True</td>       <th>  LL-Null:           </th> <td> -446.23</td> \n",
       "</tr>\n",
       "<tr>\n",
       "  <th>Covariance Type:</th>     <td>nonrobust</td>    <th>  LLR p-value:       </th> <td>1.008e-12</td>\n",
       "</tr>\n",
       "</table>\n",
       "<table class=\"simpletable\">\n",
       "<tr>\n",
       "       <td></td>          <th>coef</th>     <th>std err</th>      <th>z</th>      <th>P>|z|</th>  <th>[0.025</th>    <th>0.975]</th>  \n",
       "</tr>\n",
       "<tr>\n",
       "  <th>Intercept</th>   <td>   -2.3139</td> <td>    0.289</td> <td>   -8.017</td> <td> 0.000</td> <td>   -2.880</td> <td>   -1.748</td>\n",
       "</tr>\n",
       "<tr>\n",
       "  <th>sex[T.Male]</th> <td>    0.8720</td> <td>    0.168</td> <td>    5.201</td> <td> 0.000</td> <td>    0.543</td> <td>    1.201</td>\n",
       "</tr>\n",
       "<tr>\n",
       "  <th>age</th>         <td>    0.0258</td> <td>    0.005</td> <td>    5.379</td> <td> 0.000</td> <td>    0.016</td> <td>    0.035</td>\n",
       "</tr>\n",
       "</table>"
      ],
      "text/plain": [
       "<class 'statsmodels.iolib.summary.Summary'>\n",
       "\"\"\"\n",
       "                           Logit Regression Results                           \n",
       "==============================================================================\n",
       "Dep. Variable:                      y   No. Observations:                  679\n",
       "Model:                          Logit   Df Residuals:                      676\n",
       "Method:                           MLE   Df Model:                            2\n",
       "Date:                Tue, 27 Apr 2021   Pseudo R-squ.:                 0.06190\n",
       "Time:                        11:34:31   Log-Likelihood:                -418.61\n",
       "converged:                       True   LL-Null:                       -446.23\n",
       "Covariance Type:            nonrobust   LLR p-value:                 1.008e-12\n",
       "===============================================================================\n",
       "                  coef    std err          z      P>|z|      [0.025      0.975]\n",
       "-------------------------------------------------------------------------------\n",
       "Intercept      -2.3139      0.289     -8.017      0.000      -2.880      -1.748\n",
       "sex[T.Male]     0.8720      0.168      5.201      0.000       0.543       1.201\n",
       "age             0.0258      0.005      5.379      0.000       0.016       0.035\n",
       "===============================================================================\n",
       "\"\"\""
      ]
     },
     "execution_count": 19,
     "metadata": {},
     "output_type": "execute_result"
    }
   ],
   "source": [
    "mod_red.summary()"
   ]
  },
  {
   "cell_type": "markdown",
   "metadata": {},
   "source": [
    "#### Extracing the AIC and BIC\n",
    "\n",
    "We can extract the AIC from a given model output by using the **.aic** parameter."
   ]
  },
  {
   "cell_type": "code",
   "execution_count": 20,
   "metadata": {},
   "outputs": [
    {
     "name": "stdout",
     "output_type": "stream",
     "text": [
      "Full Model AIC: 583.8836861748118\n",
      "Reduced Model AIC: 843.2106193466752\n"
     ]
    }
   ],
   "source": [
    "print('Full Model AIC:',mod_full.aic)\n",
    "print('Reduced Model AIC:',mod_red.aic)"
   ]
  },
  {
   "cell_type": "markdown",
   "metadata": {},
   "source": [
    "Similarly, we can extract the BIC from a given model output by using the **.bic** parameter."
   ]
  },
  {
   "cell_type": "code",
   "execution_count": 21,
   "metadata": {},
   "outputs": [
    {
     "name": "stdout",
     "output_type": "stream",
     "text": [
      "Full Model BIC: 615.5280340677227\n",
      "Reduced Model BIC: 856.7724827293513\n"
     ]
    }
   ],
   "source": [
    "print('Full Model BIC:',mod_full.bic)\n",
    "print('Reduced Model BIC:',mod_red.bic)"
   ]
  },
  {
   "cell_type": "markdown",
   "metadata": {},
   "source": [
    "## Conclusion:\n",
    "\n",
    "<br/>\n",
    "<br/>\n",
    "<br/>\n",
    "<br/>\n",
    "<br/>\n",
    "<br/>\n",
    "<br/>\n",
    "<br/>\n",
    "<br/>\n",
    "<br/>\n",
    "<br/>\n",
    "<br/>\n",
    "<br/>\n",
    "<br/>\n",
    "<br/>\n",
    "<br/>\n",
    "<br/>\n",
    "\n",
    "\n",
    "Both AIC and BIC favor the full model. This suggests that the reduced model is too simple, so the bias due to omitted variables is too large for this model compared to the full model.\n",
    "\n",
    "Or in other words, by adding the party explanatory variable to the full model, the improvment (ie. increase) in the optimal log likelihood function value (ie. predictive power) was great enough to counterbalance the addition of another slope (which contributes more to overfitting).\n",
    "\n",
    "\n",
    "\n",
    "\n"
   ]
  },
  {
   "cell_type": "markdown",
   "metadata": {},
   "source": [
    "---\n",
    "STAT 207, Victoria Ellison and Douglas Simpson, University of Illinois at Urbana-Champaign"
   ]
  },
  {
   "cell_type": "code",
   "execution_count": null,
   "metadata": {},
   "outputs": [],
   "source": []
  }
 ],
 "metadata": {
  "kernelspec": {
   "display_name": "Python 3",
   "language": "python",
   "name": "python3"
  },
  "language_info": {
   "codemirror_mode": {
    "name": "ipython",
    "version": 3
   },
   "file_extension": ".py",
   "mimetype": "text/x-python",
   "name": "python",
   "nbconvert_exporter": "python",
   "pygments_lexer": "ipython3",
   "version": "3.8.5"
  }
 },
 "nbformat": 4,
 "nbformat_minor": 2
}
