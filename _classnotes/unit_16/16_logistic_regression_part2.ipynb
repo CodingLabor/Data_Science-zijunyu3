{
 "cells": [
  {
   "cell_type": "markdown",
   "metadata": {
    "slideshow": {
     "slide_type": "fragment"
    }
   },
   "source": [
    "<script>\n",
    "    document.querySelector('head').innerHTML += '<style>.slides { zoom: 1.0 !important; }</style>';\n",
    "</script>\n",
    "<!--# STAT 207: Data Science Exploration-->"
   ]
  },
  {
   "cell_type": "markdown",
   "metadata": {
    "slideshow": {
     "slide_type": "slide"
    }
   },
   "source": [
    "# Unit 16: Logistic Regression - Part 2\n",
    "\n",
    "## <u>Case Study</u>: Modelling Approval for the President's Foreign Policy with Age and Sex\n",
    "\n",
    "We would now like to model the following response variable with the following two explanatory variables.\n",
    "* <u>response</u>: approval of the president's foreign policy (approve vs. disapprove)\n",
    "* <u>explanatory</u>:\n",
    "    - sex\n",
    "    - age\n",
    "    \n",
    "    "
   ]
  },
  {
   "cell_type": "code",
   "execution_count": 1,
   "metadata": {},
   "outputs": [],
   "source": [
    "import numpy as np\n",
    "import pandas as pd\n",
    "import seaborn as sns\n",
    "import matplotlib.pyplot as plt\n",
    "\n",
    "import statsmodels.api as sm\n",
    "import statsmodels.formula.api as smf"
   ]
  },
  {
   "cell_type": "markdown",
   "metadata": {},
   "source": [
    "## 1. Analyses for Associations\n",
    "\n",
    "#### See Unit 15 slides (section 1)\n",
    "\n",
    "## 2. Association Analyses Summary: Numerical(s) and Categorical(s) Explanatory Variables-> Categorical Response Variable (with 2 levels)\n",
    "\n",
    "#### See Unit 15 slides (section 2)\n",
    "\n",
    "## 3. Why should we not use a linear regression to model a categorical response variable?\n",
    "\n",
    "#### See Unit 15 slides (section 3)\n",
    "\n",
    "Let's again examine our random sample of adults living in the U.S. (from 2017) from Pew Research. We will just use three variables for this analysis, so we will just create a dataframe using these three variables."
   ]
  },
  {
   "cell_type": "code",
   "execution_count": 2,
   "metadata": {
    "slideshow": {
     "slide_type": "subslide"
    }
   },
   "outputs": [
    {
     "data": {
      "text/html": [
       "<div>\n",
       "<style scoped>\n",
       "    .dataframe tbody tr th:only-of-type {\n",
       "        vertical-align: middle;\n",
       "    }\n",
       "\n",
       "    .dataframe tbody tr th {\n",
       "        vertical-align: top;\n",
       "    }\n",
       "\n",
       "    .dataframe thead th {\n",
       "        text-align: right;\n",
       "    }\n",
       "</style>\n",
       "<table border=\"1\" class=\"dataframe\">\n",
       "  <thead>\n",
       "    <tr style=\"text-align: right;\">\n",
       "      <th></th>\n",
       "      <th>age</th>\n",
       "      <th>sex</th>\n",
       "      <th>q5cf1</th>\n",
       "    </tr>\n",
       "  </thead>\n",
       "  <tbody>\n",
       "    <tr>\n",
       "      <th>0</th>\n",
       "      <td>80.0</td>\n",
       "      <td>Female</td>\n",
       "      <td>NaN</td>\n",
       "    </tr>\n",
       "    <tr>\n",
       "      <th>1</th>\n",
       "      <td>70.0</td>\n",
       "      <td>Female</td>\n",
       "      <td>Disapprove</td>\n",
       "    </tr>\n",
       "    <tr>\n",
       "      <th>2</th>\n",
       "      <td>69.0</td>\n",
       "      <td>Female</td>\n",
       "      <td>Disapprove</td>\n",
       "    </tr>\n",
       "    <tr>\n",
       "      <th>3</th>\n",
       "      <td>50.0</td>\n",
       "      <td>Male</td>\n",
       "      <td>NaN</td>\n",
       "    </tr>\n",
       "    <tr>\n",
       "      <th>4</th>\n",
       "      <td>70.0</td>\n",
       "      <td>Female</td>\n",
       "      <td>Disapprove</td>\n",
       "    </tr>\n",
       "  </tbody>\n",
       "</table>\n",
       "</div>"
      ],
      "text/plain": [
       "    age     sex       q5cf1\n",
       "0  80.0  Female         NaN\n",
       "1  70.0  Female  Disapprove\n",
       "2  69.0  Female  Disapprove\n",
       "3  50.0    Male         NaN\n",
       "4  70.0  Female  Disapprove"
      ]
     },
     "execution_count": 2,
     "metadata": {},
     "output_type": "execute_result"
    }
   ],
   "source": [
    "missing_values = [\"NaN\", \"nan\", \"Don't know/Refused (VOL.)\"]\n",
    "#\n",
    "df = pd.read_csv('Feb17public.csv', na_values=missing_values)[['age','sex','q5cf1']]\n",
    "df.head()"
   ]
  },
  {
   "cell_type": "code",
   "execution_count": 3,
   "metadata": {},
   "outputs": [
    {
     "data": {
      "text/plain": [
       "(1503, 3)"
      ]
     },
     "execution_count": 3,
     "metadata": {},
     "output_type": "execute_result"
    }
   ],
   "source": [
    "df.shape"
   ]
  },
  {
   "cell_type": "markdown",
   "metadata": {},
   "source": [
    "We will drop all missing values from the dataframe."
   ]
  },
  {
   "cell_type": "code",
   "execution_count": 4,
   "metadata": {},
   "outputs": [
    {
     "data": {
      "text/html": [
       "<div>\n",
       "<style scoped>\n",
       "    .dataframe tbody tr th:only-of-type {\n",
       "        vertical-align: middle;\n",
       "    }\n",
       "\n",
       "    .dataframe tbody tr th {\n",
       "        vertical-align: top;\n",
       "    }\n",
       "\n",
       "    .dataframe thead th {\n",
       "        text-align: right;\n",
       "    }\n",
       "</style>\n",
       "<table border=\"1\" class=\"dataframe\">\n",
       "  <thead>\n",
       "    <tr style=\"text-align: right;\">\n",
       "      <th></th>\n",
       "      <th>age</th>\n",
       "      <th>sex</th>\n",
       "      <th>q5cf1</th>\n",
       "    </tr>\n",
       "  </thead>\n",
       "  <tbody>\n",
       "    <tr>\n",
       "      <th>1</th>\n",
       "      <td>70.0</td>\n",
       "      <td>Female</td>\n",
       "      <td>Disapprove</td>\n",
       "    </tr>\n",
       "    <tr>\n",
       "      <th>2</th>\n",
       "      <td>69.0</td>\n",
       "      <td>Female</td>\n",
       "      <td>Disapprove</td>\n",
       "    </tr>\n",
       "    <tr>\n",
       "      <th>4</th>\n",
       "      <td>70.0</td>\n",
       "      <td>Female</td>\n",
       "      <td>Disapprove</td>\n",
       "    </tr>\n",
       "    <tr>\n",
       "      <th>6</th>\n",
       "      <td>89.0</td>\n",
       "      <td>Female</td>\n",
       "      <td>Disapprove</td>\n",
       "    </tr>\n",
       "    <tr>\n",
       "      <th>7</th>\n",
       "      <td>92.0</td>\n",
       "      <td>Female</td>\n",
       "      <td>Approve</td>\n",
       "    </tr>\n",
       "  </tbody>\n",
       "</table>\n",
       "</div>"
      ],
      "text/plain": [
       "    age     sex       q5cf1\n",
       "1  70.0  Female  Disapprove\n",
       "2  69.0  Female  Disapprove\n",
       "4  70.0  Female  Disapprove\n",
       "6  89.0  Female  Disapprove\n",
       "7  92.0  Female     Approve"
      ]
     },
     "execution_count": 4,
     "metadata": {},
     "output_type": "execute_result"
    }
   ],
   "source": [
    "df=df.dropna()\n",
    "df.head()"
   ]
  },
  {
   "cell_type": "markdown",
   "metadata": {},
   "source": [
    "The q5cf1 variable represents the answers to the question \"Do you approve or disapprove of the way Donald Trump is handling the nation's foreign policy?\"\n",
    "\n",
    "**<u>Potential Bias Warning!</u>** It looks like only 691 respondants out of the 1503 surveyed responded to this question. These 691 people may have had a strong opinion on the question and thus chose to answer it. So it is possible that this sample of 691 respondants is not entirely representative of all adults living in the U.S. (the population we would like to make inferences about)."
   ]
  },
  {
   "cell_type": "code",
   "execution_count": 5,
   "metadata": {},
   "outputs": [
    {
     "data": {
      "text/plain": [
       "(691, 3)"
      ]
     },
     "execution_count": 5,
     "metadata": {},
     "output_type": "execute_result"
    }
   ],
   "source": [
    "df.shape"
   ]
  },
  {
   "cell_type": "code",
   "execution_count": 6,
   "metadata": {},
   "outputs": [
    {
     "data": {
      "text/plain": [
       "Disapprove    442\n",
       "Approve       249\n",
       "Name: q5cf1, dtype: int64"
      ]
     },
     "execution_count": 6,
     "metadata": {},
     "output_type": "execute_result"
    }
   ],
   "source": [
    "df['q5cf1'].value_counts()"
   ]
  },
  {
   "cell_type": "markdown",
   "metadata": {},
   "source": [
    "### 3.1. Let's first examine the relationship between age and approval for the president's foreign policy in 2017 in the sample.\n",
    "\n",
    "By looking at the box plots below, the median age of those that approved was over 10 years higher than the median age of those that did not approve."
   ]
  },
  {
   "cell_type": "code",
   "execution_count": 7,
   "metadata": {},
   "outputs": [
    {
     "data": {
      "image/png": "[encoded data removed]",
      "text/plain": [
       "<Figure size 432x288 with 1 Axes>"
      ]
     },
     "metadata": {
      "needs_background": "light"
     },
     "output_type": "display_data"
    }
   ],
   "source": [
    "sns.boxplot(x='age', y='q5cf1', data=df, order=['Approve','Disapprove'])\n",
    "plt.show()"
   ]
  },
  {
   "cell_type": "markdown",
   "metadata": {},
   "source": [
    "### 3.2. Translate the Categorical Variable into a Numerical Variable\n",
    "\n",
    "Because we were interested in the relationship between a categorical variable and numerical variable, side-by-side boxplots (or side-by-side violin plots) tends to be one of the best visualizations for respresenting any association between the two variables. However, if we would like to try to plot a best fit line for the relationship between these two variables (like what we do in linear regression) we will need to first tranlate our categorical variable into a numerical variable.\n",
    "\n",
    "Below we create a new variable 'y' in our dataframe in which all 'approve' values for q5cf1 are translated into a 1 and all 'disapprove' values for q5cf1 are translated into a 0.\n",
    "\n",
    "The **.map()** function allows us to make this translation."
   ]
  },
  {
   "cell_type": "code",
   "execution_count": 8,
   "metadata": {},
   "outputs": [
    {
     "data": {
      "text/html": [
       "<div>\n",
       "<style scoped>\n",
       "    .dataframe tbody tr th:only-of-type {\n",
       "        vertical-align: middle;\n",
       "    }\n",
       "\n",
       "    .dataframe tbody tr th {\n",
       "        vertical-align: top;\n",
       "    }\n",
       "\n",
       "    .dataframe thead th {\n",
       "        text-align: right;\n",
       "    }\n",
       "</style>\n",
       "<table border=\"1\" class=\"dataframe\">\n",
       "  <thead>\n",
       "    <tr style=\"text-align: right;\">\n",
       "      <th></th>\n",
       "      <th>age</th>\n",
       "      <th>sex</th>\n",
       "      <th>q5cf1</th>\n",
       "      <th>y</th>\n",
       "    </tr>\n",
       "  </thead>\n",
       "  <tbody>\n",
       "    <tr>\n",
       "      <th>1</th>\n",
       "      <td>70.0</td>\n",
       "      <td>Female</td>\n",
       "      <td>Disapprove</td>\n",
       "      <td>0</td>\n",
       "    </tr>\n",
       "    <tr>\n",
       "      <th>2</th>\n",
       "      <td>69.0</td>\n",
       "      <td>Female</td>\n",
       "      <td>Disapprove</td>\n",
       "      <td>0</td>\n",
       "    </tr>\n",
       "    <tr>\n",
       "      <th>4</th>\n",
       "      <td>70.0</td>\n",
       "      <td>Female</td>\n",
       "      <td>Disapprove</td>\n",
       "      <td>0</td>\n",
       "    </tr>\n",
       "    <tr>\n",
       "      <th>6</th>\n",
       "      <td>89.0</td>\n",
       "      <td>Female</td>\n",
       "      <td>Disapprove</td>\n",
       "      <td>0</td>\n",
       "    </tr>\n",
       "    <tr>\n",
       "      <th>7</th>\n",
       "      <td>92.0</td>\n",
       "      <td>Female</td>\n",
       "      <td>Approve</td>\n",
       "      <td>1</td>\n",
       "    </tr>\n",
       "  </tbody>\n",
       "</table>\n",
       "</div>"
      ],
      "text/plain": [
       "    age     sex       q5cf1  y\n",
       "1  70.0  Female  Disapprove  0\n",
       "2  69.0  Female  Disapprove  0\n",
       "4  70.0  Female  Disapprove  0\n",
       "6  89.0  Female  Disapprove  0\n",
       "7  92.0  Female     Approve  1"
      ]
     },
     "execution_count": 8,
     "metadata": {},
     "output_type": "execute_result"
    }
   ],
   "source": [
    "df['y']=df['q5cf1'].map({'Disapprove':0,'Approve':1})\n",
    "df.head()"
   ]
  },
  {
   "cell_type": "markdown",
   "metadata": {},
   "source": [
    "In general, we call \n",
    "\n",
    "* the level in which y=1 the **success level** of the response variable (ie. the level that we are interested in) and\n",
    "* the level in which y=0 the **failure level** of the response variable (ie. the level that we are not interested in).\n"
   ]
  },
  {
   "cell_type": "code",
   "execution_count": 9,
   "metadata": {},
   "outputs": [
    {
     "name": "stdout",
     "output_type": "stream",
     "text": [
      "Optimization terminated successfully.\n",
      "         Current function value: 0.612754\n",
      "         Iterations 5\n"
     ]
    },
    {
     "data": {
      "text/html": [
       "<table class=\"simpletable\">\n",
       "<caption>Logit Regression Results</caption>\n",
       "<tr>\n",
       "  <th>Dep. Variable:</th>           <td>y</td>        <th>  No. Observations:  </th>  <td>   691</td>  \n",
       "</tr>\n",
       "<tr>\n",
       "  <th>Model:</th>                 <td>Logit</td>      <th>  Df Residuals:      </th>  <td>   688</td>  \n",
       "</tr>\n",
       "<tr>\n",
       "  <th>Method:</th>                 <td>MLE</td>       <th>  Df Model:          </th>  <td>     2</td>  \n",
       "</tr>\n",
       "<tr>\n",
       "  <th>Date:</th>            <td>Thu, 08 Apr 2021</td> <th>  Pseudo R-squ.:     </th>  <td>0.06252</td> \n",
       "</tr>\n",
       "<tr>\n",
       "  <th>Time:</th>                <td>13:36:48</td>     <th>  Log-Likelihood:    </th> <td> -423.41</td> \n",
       "</tr>\n",
       "<tr>\n",
       "  <th>converged:</th>             <td>True</td>       <th>  LL-Null:           </th> <td> -451.65</td> \n",
       "</tr>\n",
       "<tr>\n",
       "  <th>Covariance Type:</th>     <td>nonrobust</td>    <th>  LLR p-value:       </th> <td>5.457e-13</td>\n",
       "</tr>\n",
       "</table>\n",
       "<table class=\"simpletable\">\n",
       "<tr>\n",
       "       <td></td>          <th>coef</th>     <th>std err</th>      <th>z</th>      <th>P>|z|</th>  <th>[0.025</th>    <th>0.975]</th>  \n",
       "</tr>\n",
       "<tr>\n",
       "  <th>Intercept</th>   <td>   -2.3609</td> <td>    0.288</td> <td>   -8.190</td> <td> 0.000</td> <td>   -2.926</td> <td>   -1.796</td>\n",
       "</tr>\n",
       "<tr>\n",
       "  <th>sex[T.Male]</th> <td>    0.8856</td> <td>    0.167</td> <td>    5.296</td> <td> 0.000</td> <td>    0.558</td> <td>    1.213</td>\n",
       "</tr>\n",
       "<tr>\n",
       "  <th>age</th>         <td>    0.0260</td> <td>    0.005</td> <td>    5.466</td> <td> 0.000</td> <td>    0.017</td> <td>    0.035</td>\n",
       "</tr>\n",
       "</table>"
      ],
      "text/plain": [
       "<class 'statsmodels.iolib.summary.Summary'>\n",
       "\"\"\"\n",
       "                           Logit Regression Results                           \n",
       "==============================================================================\n",
       "Dep. Variable:                      y   No. Observations:                  691\n",
       "Model:                          Logit   Df Residuals:                      688\n",
       "Method:                           MLE   Df Model:                            2\n",
       "Date:                Thu, 08 Apr 2021   Pseudo R-squ.:                 0.06252\n",
       "Time:                        13:36:48   Log-Likelihood:                -423.41\n",
       "converged:                       True   LL-Null:                       -451.65\n",
       "Covariance Type:            nonrobust   LLR p-value:                 5.457e-13\n",
       "===============================================================================\n",
       "                  coef    std err          z      P>|z|      [0.025      0.975]\n",
       "-------------------------------------------------------------------------------\n",
       "Intercept      -2.3609      0.288     -8.190      0.000      -2.926      -1.796\n",
       "sex[T.Male]     0.8856      0.167      5.296      0.000       0.558       1.213\n",
       "age             0.0260      0.005      5.466      0.000       0.017       0.035\n",
       "===============================================================================\n",
       "\"\"\""
      ]
     },
     "execution_count": 9,
     "metadata": {},
     "output_type": "execute_result"
    }
   ],
   "source": [
    "mod1 = smf.logit(formula='y ~ age+sex', data=df).fit()\n",
    "mod1.summary()"
   ]
  },
  {
   "cell_type": "markdown",
   "metadata": {},
   "source": [
    "### 1.1 Checking Conditions for Inference (and Model Fit) on $\\beta_0, \\beta_1, ...\\beta_p$ in a Logistic Regression Model \n",
    "\n",
    "#### See Unit 16 slides (section 1.1)\n",
    "\n",
    "**Ex:**  We would like to conduct inference on the intercept and slopes in the population logistic regression model. Check the conditions for model fit and inference first."
   ]
  },
  {
   "cell_type": "markdown",
   "metadata": {},
   "source": [
    "#### <u>Condition 1</u>: Independence of Observations Condition\n",
    "\n",
    "a. [NOT SURE IF MET] While the initial survey of 1503 adults living in the U.S. was random, the sample of the n=691 people answered the question about the president's foreign policy was much smaller. So it may be possible that our sample size of n=691 is not random, as those that answered this question may have strong opinions about the matter.\n",
    "\n",
    "b. [MET]$n=691<10$% of all adults living in the U.S.\n",
    "\n",
    "So because we are not sure if both (a) and (b) are met, we are not sure if condition 1 is met."
   ]
  },
  {
   "cell_type": "markdown",
   "metadata": {},
   "source": [
    "#### <u>Condition 2</u>: Linearity Condition\n",
    "\n",
    "We only have one numerical explanatory variable (age), so we will fit a simple logistic regression curve to the scatterplot of x=age and y=0/1 response variable.\n",
    "\n",
    "We do see a *slight* S-Shape in this curve below, so we can say that thsi condition is met.\n"
   ]
  },
  {
   "cell_type": "code",
   "execution_count": 10,
   "metadata": {},
   "outputs": [
    {
     "data": {
      "image/png": "[encoded data removed]",
      "text/plain": [
       "<Figure size 360x360 with 1 Axes>"
      ]
     },
     "metadata": {
      "needs_background": "light"
     },
     "output_type": "display_data"
    }
   ],
   "source": [
    "sns.lmplot(x=\"age\", y='y',data=df, logistic=True)\n",
    "plt.ylabel('1=approve, 0=disapprove')\n",
    "plt.show()"
   ]
  },
  {
   "cell_type": "markdown",
   "metadata": {},
   "source": [
    "#### <u>Condition 3</u>: No Multi-Collinearity Condition\n",
    "\n",
    "We only have one numerical explanatory variable (age), so we do not need to check this condition in this case. However, you would want to check this condition in the same way that you would with your multiple linear regression models.\n",
    "\n",
    "If you see a strong linear relationship between any pair of explanatory numerical variables, then this condition would not be met."
   ]
  },
  {
   "cell_type": "markdown",
   "metadata": {},
   "source": [
    "#### So because of condition 1, we are not entirely sure if ALL of these conditions are met. Thus it may be possible that our logistic regression model that predicts the probability of an adult in the sample of approving of the president's foreign policy (ie. y=1) with age and sex, is not the best fit of the data and for conducting valid inferences. But we will proceed with caution."
   ]
  },
  {
   "cell_type": "markdown",
   "metadata": {},
   "source": [
    "### 1.2 Create a 90% confidence interval for the age slope in the logistic regression model."
   ]
  },
  {
   "cell_type": "markdown",
   "metadata": {},
   "source": [
    "#### 1.2.0. Check the conditions for conducting inference on this slopes.\n",
    "\n",
    "We have already checked these conditions in 1.1, and we are unsure if they are met. Thus it may be possible that the inferences and interpretations that we make with this confidence interval may be slightly off, but we will proceed with caution."
   ]
  },
  {
   "cell_type": "code",
   "execution_count": 11,
   "metadata": {},
   "outputs": [
    {
     "name": "stdout",
     "output_type": "stream",
     "text": [
      "Optimization terminated successfully.\n",
      "         Current function value: 0.612754\n",
      "         Iterations 5\n"
     ]
    },
    {
     "data": {
      "text/html": [
       "<table class=\"simpletable\">\n",
       "<caption>Logit Regression Results</caption>\n",
       "<tr>\n",
       "  <th>Dep. Variable:</th>           <td>y</td>        <th>  No. Observations:  </th>  <td>   691</td>  \n",
       "</tr>\n",
       "<tr>\n",
       "  <th>Model:</th>                 <td>Logit</td>      <th>  Df Residuals:      </th>  <td>   688</td>  \n",
       "</tr>\n",
       "<tr>\n",
       "  <th>Method:</th>                 <td>MLE</td>       <th>  Df Model:          </th>  <td>     2</td>  \n",
       "</tr>\n",
       "<tr>\n",
       "  <th>Date:</th>            <td>Thu, 08 Apr 2021</td> <th>  Pseudo R-squ.:     </th>  <td>0.06252</td> \n",
       "</tr>\n",
       "<tr>\n",
       "  <th>Time:</th>                <td>13:36:51</td>     <th>  Log-Likelihood:    </th> <td> -423.41</td> \n",
       "</tr>\n",
       "<tr>\n",
       "  <th>converged:</th>             <td>True</td>       <th>  LL-Null:           </th> <td> -451.65</td> \n",
       "</tr>\n",
       "<tr>\n",
       "  <th>Covariance Type:</th>     <td>nonrobust</td>    <th>  LLR p-value:       </th> <td>5.457e-13</td>\n",
       "</tr>\n",
       "</table>\n",
       "<table class=\"simpletable\">\n",
       "<tr>\n",
       "       <td></td>          <th>coef</th>     <th>std err</th>      <th>z</th>      <th>P>|z|</th>  <th>[0.025</th>    <th>0.975]</th>  \n",
       "</tr>\n",
       "<tr>\n",
       "  <th>Intercept</th>   <td>   -2.3609</td> <td>    0.288</td> <td>   -8.190</td> <td> 0.000</td> <td>   -2.926</td> <td>   -1.796</td>\n",
       "</tr>\n",
       "<tr>\n",
       "  <th>sex[T.Male]</th> <td>    0.8856</td> <td>    0.167</td> <td>    5.296</td> <td> 0.000</td> <td>    0.558</td> <td>    1.213</td>\n",
       "</tr>\n",
       "<tr>\n",
       "  <th>age</th>         <td>    0.0260</td> <td>    0.005</td> <td>    5.466</td> <td> 0.000</td> <td>    0.017</td> <td>    0.035</td>\n",
       "</tr>\n",
       "</table>"
      ],
      "text/plain": [
       "<class 'statsmodels.iolib.summary.Summary'>\n",
       "\"\"\"\n",
       "                           Logit Regression Results                           \n",
       "==============================================================================\n",
       "Dep. Variable:                      y   No. Observations:                  691\n",
       "Model:                          Logit   Df Residuals:                      688\n",
       "Method:                           MLE   Df Model:                            2\n",
       "Date:                Thu, 08 Apr 2021   Pseudo R-squ.:                 0.06252\n",
       "Time:                        13:36:51   Log-Likelihood:                -423.41\n",
       "converged:                       True   LL-Null:                       -451.65\n",
       "Covariance Type:            nonrobust   LLR p-value:                 5.457e-13\n",
       "===============================================================================\n",
       "                  coef    std err          z      P>|z|      [0.025      0.975]\n",
       "-------------------------------------------------------------------------------\n",
       "Intercept      -2.3609      0.288     -8.190      0.000      -2.926      -1.796\n",
       "sex[T.Male]     0.8856      0.167      5.296      0.000       0.558       1.213\n",
       "age             0.0260      0.005      5.466      0.000       0.017       0.035\n",
       "===============================================================================\n",
       "\"\"\""
      ]
     },
     "execution_count": 11,
     "metadata": {},
     "output_type": "execute_result"
    }
   ],
   "source": [
    "mod1 = smf.logit(formula='y ~ age+sex', data=df).fit()\n",
    "mod1.summary()"
   ]
  },
  {
   "cell_type": "markdown",
   "metadata": {},
   "source": [
    "#### 1.2.1. What is the point estimate (ie. sample statistic) for this confidence interval?\n",
    "\n",
    "<br/>\n",
    "<br/>\n",
    "<br/>\n",
    "<br/>\n",
    "<br/>\n",
    "<br/>\n"
   ]
  },
  {
   "cell_type": "code",
   "execution_count": 12,
   "metadata": {},
   "outputs": [
    {
     "name": "stdout",
     "output_type": "stream",
     "text": [
      "Point Estimate 0.026\n"
     ]
    }
   ],
   "source": [
    "point_estimate=0.0260\n",
    "print('Point Estimate', point_estimate)"
   ]
  },
  {
   "cell_type": "markdown",
   "metadata": {},
   "source": [
    "#### 1.2.2. What is the standard error for this confidence interval?\n",
    "\n",
    "<br/>\n",
    "<br/>\n",
    "<br/>\n",
    "<br/>\n",
    "<br/>\n",
    "<br/>"
   ]
  },
  {
   "cell_type": "code",
   "execution_count": 13,
   "metadata": {},
   "outputs": [
    {
     "name": "stdout",
     "output_type": "stream",
     "text": [
      "Standard Error: 0.005\n"
     ]
    }
   ],
   "source": [
    "standard_error=0.005\n",
    "print('Standard Error:', standard_error)"
   ]
  },
  {
   "cell_type": "markdown",
   "metadata": {},
   "source": [
    "#### 1.2.3 What is the critical value for this confidence interval?\n",
    "<br/>\n",
    "<br/>\n",
    "<br/>\n",
    "<br/>\n",
    "<br/>\n",
    "<br/>\n",
    "<br/>\n",
    "<br/>\n",
    "<br/>\n",
    "<br/>\n",
    "<br/>\n",
    "<br/>\n",
    "<br/>\n",
    "<br/>\n",
    "<br/>\n",
    "<br/>\n",
    "<br/>\n",
    "<br/>"
   ]
  },
  {
   "cell_type": "code",
   "execution_count": 14,
   "metadata": {},
   "outputs": [
    {
     "name": "stdout",
     "output_type": "stream",
     "text": [
      "Critical Value 1.6448536269514722\n"
     ]
    }
   ],
   "source": [
    "from scipy.stats import norm\n",
    "critical_value=norm.ppf(0.95)\n",
    "print(\"Critical Value\", critical_value)"
   ]
  },
  {
   "cell_type": "markdown",
   "metadata": {},
   "source": [
    "#### 1.2.4 Putting it all together, our 90% confidence interval is:\n",
    "\n",
    "$(\\hat{\\beta}_3-z^*SE_{\\hat{\\beta}_3}, \\hat{\\beta}_3+z^*SE_{\\hat{\\beta}_3})$\n",
    "\n",
    "$(0.026-(1.645)(0.005), 0.026+(1.645)(0.005))$\n",
    "\n",
    "$(0.0178, 0.0342)$"
   ]
  },
  {
   "cell_type": "code",
   "execution_count": 15,
   "metadata": {},
   "outputs": [
    {
     "name": "stdout",
     "output_type": "stream",
     "text": [
      "90% Confidence Interval for Age Population Slope: 0.017775731865242637 0.03422426813475736\n"
     ]
    }
   ],
   "source": [
    "lower_bound=point_estimate-critical_value*standard_error\n",
    "upper_bound=point_estimate+critical_value*standard_error\n",
    "\n",
    "print('90% Confidence Interval for Age Population Slope:', lower_bound, upper_bound)"
   ]
  },
  {
   "cell_type": "markdown",
   "metadata": {},
   "source": [
    "#### 1.2.5 Interpreting the Confidence Interval\n",
    "\n",
    "We are 90% confident that $\\beta_3$, the population slope for age in the logistic regression model is between 0.0178 and 0.0342."
   ]
  },
  {
   "cell_type": "markdown",
   "metadata": {},
   "source": [
    "#### 1.2.6. Create a 90% confidence interval for the <u>odds multiplier</u> corresponding to age in the population logistic regression model."
   ]
  },
  {
   "cell_type": "markdown",
   "metadata": {},
   "source": [
    "Remember that we call $e^{\\beta_i}$ the odds multiplier that corresponds to the given explanatory variable or indicator variable. So we want to calculate a 90% confidence interval for $e^{\\beta_3}$ (as $x_3$ corresponds to the age explanatory variable).\n",
    "\n",
    "So all we have to do is exponentiate the lower and upper bounds of the 90% confidence interval for $\\beta_3$.\n",
    "\n",
    "$(e^{0.0178}, e^{0.0342})$\n",
    "\n",
    "$(1.018, 1.035)$"
   ]
  },
  {
   "cell_type": "code",
   "execution_count": 16,
   "metadata": {},
   "outputs": [
    {
     "name": "stdout",
     "output_type": "stream",
     "text": [
      "90% Confidence Interval for Age Odds Multiplier $$e^{\beta_3}$$: 1.0179346604811483 1.0348166571078978\n"
     ]
    }
   ],
   "source": [
    "print('90% Confidence Interval for Age Odds Multiplier $$e^{\\beta_3}$$:', np.exp(lower_bound), np.exp(upper_bound))"
   ]
  },
  {
   "cell_type": "markdown",
   "metadata": {},
   "source": [
    "#### 1.2.7 Interpret this 90% confidence interval for the <u>odds multiplier</u> corresponding to age in the population logistic regression model."
   ]
  },
  {
   "cell_type": "markdown",
   "metadata": {},
   "source": [
    "<u>Basic Interpretation</u>:\n",
    "\n",
    "We are 90% confident that $e^{\\beta_3}$ is between 1.018 and 1.035 in the population logistic regression model that predicts the probability that an observation in the population approves the president's foreign policy (ie. y=1) given age and sex.\n",
    "\n",
    "\n",
    "<u>More Informative Interpretation</u>:\n",
    "\n",
    "We are 90% confident that we would expect the odds that an observation in the population approves of the president's foreign policy to increase by a multiple of 1.018 and 1.035, on average, if we were to increase age by one year."
   ]
  },
  {
   "cell_type": "markdown",
   "metadata": {},
   "source": [
    "### 1.3. Conducting Hypothesis Testing on $\\beta_0, \\beta_1, ...,\\beta_p$ (individually) in a logistic regression model.\n",
    "\n",
    "#### See Unit 16 slides (section 1.3)"
   ]
  },
  {
   "cell_type": "markdown",
   "metadata": {},
   "source": [
    "### Test whether there is sufficient evidence to suggest that the population slope for age is non-zero in the logistic regression model (which predicts the probability for approval for the president’s foreign policy given age and sex.)"
   ]
  },
  {
   "cell_type": "markdown",
   "metadata": {},
   "source": [
    "#### 1.3.1 Set up hypotheses for this test.\n",
    "\n",
    "<u>One Option</u>\n",
    "\n",
    "$H_0: \\beta_3=0$\n",
    "\n",
    "$H_A: \\beta_3\\neq 0$.\n",
    "\n",
    "<u>Another Option</u>\n",
    "\n",
    "$H_0: e^{\\beta_3}=1$\n",
    "\n",
    "$H_A: e^{\\beta_3}\\neq 1$."
   ]
  },
  {
   "cell_type": "markdown",
   "metadata": {},
   "source": [
    "#### 1.3.2 Check the conditions for conducting this hypothesis test.\n",
    "\n",
    "We have already checked these conditions in 1.1, and we are unsure if they are met. Thus it may be possible that the inferences and interpretations that we make with this confidence interval may be slightly off, but we will proceed with caution."
   ]
  },
  {
   "cell_type": "code",
   "execution_count": 17,
   "metadata": {},
   "outputs": [
    {
     "name": "stdout",
     "output_type": "stream",
     "text": [
      "Optimization terminated successfully.\n",
      "         Current function value: 0.612754\n",
      "         Iterations 5\n"
     ]
    },
    {
     "data": {
      "text/html": [
       "<table class=\"simpletable\">\n",
       "<caption>Logit Regression Results</caption>\n",
       "<tr>\n",
       "  <th>Dep. Variable:</th>           <td>y</td>        <th>  No. Observations:  </th>  <td>   691</td>  \n",
       "</tr>\n",
       "<tr>\n",
       "  <th>Model:</th>                 <td>Logit</td>      <th>  Df Residuals:      </th>  <td>   688</td>  \n",
       "</tr>\n",
       "<tr>\n",
       "  <th>Method:</th>                 <td>MLE</td>       <th>  Df Model:          </th>  <td>     2</td>  \n",
       "</tr>\n",
       "<tr>\n",
       "  <th>Date:</th>            <td>Thu, 08 Apr 2021</td> <th>  Pseudo R-squ.:     </th>  <td>0.06252</td> \n",
       "</tr>\n",
       "<tr>\n",
       "  <th>Time:</th>                <td>13:36:51</td>     <th>  Log-Likelihood:    </th> <td> -423.41</td> \n",
       "</tr>\n",
       "<tr>\n",
       "  <th>converged:</th>             <td>True</td>       <th>  LL-Null:           </th> <td> -451.65</td> \n",
       "</tr>\n",
       "<tr>\n",
       "  <th>Covariance Type:</th>     <td>nonrobust</td>    <th>  LLR p-value:       </th> <td>5.457e-13</td>\n",
       "</tr>\n",
       "</table>\n",
       "<table class=\"simpletable\">\n",
       "<tr>\n",
       "       <td></td>          <th>coef</th>     <th>std err</th>      <th>z</th>      <th>P>|z|</th>  <th>[0.025</th>    <th>0.975]</th>  \n",
       "</tr>\n",
       "<tr>\n",
       "  <th>Intercept</th>   <td>   -2.3609</td> <td>    0.288</td> <td>   -8.190</td> <td> 0.000</td> <td>   -2.926</td> <td>   -1.796</td>\n",
       "</tr>\n",
       "<tr>\n",
       "  <th>sex[T.Male]</th> <td>    0.8856</td> <td>    0.167</td> <td>    5.296</td> <td> 0.000</td> <td>    0.558</td> <td>    1.213</td>\n",
       "</tr>\n",
       "<tr>\n",
       "  <th>age</th>         <td>    0.0260</td> <td>    0.005</td> <td>    5.466</td> <td> 0.000</td> <td>    0.017</td> <td>    0.035</td>\n",
       "</tr>\n",
       "</table>"
      ],
      "text/plain": [
       "<class 'statsmodels.iolib.summary.Summary'>\n",
       "\"\"\"\n",
       "                           Logit Regression Results                           \n",
       "==============================================================================\n",
       "Dep. Variable:                      y   No. Observations:                  691\n",
       "Model:                          Logit   Df Residuals:                      688\n",
       "Method:                           MLE   Df Model:                            2\n",
       "Date:                Thu, 08 Apr 2021   Pseudo R-squ.:                 0.06252\n",
       "Time:                        13:36:51   Log-Likelihood:                -423.41\n",
       "converged:                       True   LL-Null:                       -451.65\n",
       "Covariance Type:            nonrobust   LLR p-value:                 5.457e-13\n",
       "===============================================================================\n",
       "                  coef    std err          z      P>|z|      [0.025      0.975]\n",
       "-------------------------------------------------------------------------------\n",
       "Intercept      -2.3609      0.288     -8.190      0.000      -2.926      -1.796\n",
       "sex[T.Male]     0.8856      0.167      5.296      0.000       0.558       1.213\n",
       "age             0.0260      0.005      5.466      0.000       0.017       0.035\n",
       "===============================================================================\n",
       "\"\"\""
      ]
     },
     "execution_count": 17,
     "metadata": {},
     "output_type": "execute_result"
    }
   ],
   "source": [
    "mod1 = smf.logit(formula='y ~ age+sex', data=df).fit()\n",
    "mod1.summary()"
   ]
  },
  {
   "cell_type": "markdown",
   "metadata": {},
   "source": [
    "#### 1.3.3 Find the test statistic for this hyothesis test using the summary output table for the sample logistic regression model."
   ]
  },
  {
   "cell_type": "code",
   "execution_count": 18,
   "metadata": {},
   "outputs": [
    {
     "name": "stdout",
     "output_type": "stream",
     "text": [
      "Test Statistic: 5.466\n"
     ]
    }
   ],
   "source": [
    "test_statistic=5.466\n",
    "print('Test Statistic:', test_statistic)"
   ]
  },
  {
   "cell_type": "markdown",
   "metadata": {},
   "source": [
    "#### 1.3.4 Calculate this test statistic by hand (using other information from the summary output table for the sample logistic regression model)."
   ]
  },
  {
   "cell_type": "markdown",
   "metadata": {},
   "source": [
    "<br/>\n",
    "<br/>\n",
    "<br/>\n",
    "<br/>\n",
    "<br/>\n",
    "<br/>\n",
    "<br/>\n",
    "<br/>\n",
    "<br/>"
   ]
  },
  {
   "cell_type": "code",
   "execution_count": 19,
   "metadata": {},
   "outputs": [],
   "source": [
    "point_estimate=0.0260\n",
    "standard_error=0.005"
   ]
  },
  {
   "cell_type": "code",
   "execution_count": 20,
   "metadata": {},
   "outputs": [
    {
     "name": "stdout",
     "output_type": "stream",
     "text": [
      "Test Statistic: 5.199999999999999\n"
     ]
    }
   ],
   "source": [
    "test_statistic=(point_estimate-0)/standard_error\n",
    "print('Test Statistic:', test_statistic)"
   ]
  },
  {
   "cell_type": "markdown",
   "metadata": {},
   "source": [
    "These value may be slightly off due to rounding errors."
   ]
  },
  {
   "cell_type": "markdown",
   "metadata": {},
   "source": [
    "#### 1.3.5 Find the p-value for this hypothesis test in the summary output table for the sample logistic regression model."
   ]
  },
  {
   "cell_type": "markdown",
   "metadata": {},
   "source": [
    "The p-value that we see int the summary output table for this hypothesis test is very small ($<0.0001$)."
   ]
  },
  {
   "cell_type": "markdown",
   "metadata": {},
   "source": [
    "#### 1.3.6. Using the test statistic (from the summary output table) calculate the p-value \"by hand\".\n",
    "<br/>\n",
    "<br/>\n",
    "<br/>\n",
    "<br/>\n",
    "<br/>\n",
    "<br/>\n",
    "<br/>\n",
    "<br/>\n",
    "<br/>\n",
    "<br/>\n",
    "<br/>\n",
    "<br/>\n",
    "<br/>\n",
    "<br/>"
   ]
  },
  {
   "cell_type": "code",
   "execution_count": 21,
   "metadata": {},
   "outputs": [
    {
     "name": "stdout",
     "output_type": "stream",
     "text": [
      "p-value: 4.603043346484981e-08\n"
     ]
    }
   ],
   "source": [
    "test_statistic=5.466\n",
    "pvalue=2*(1-norm.cdf(np.abs(test_statistic)))\n",
    "print('p-value:', pvalue)"
   ]
  },
  {
   "cell_type": "markdown",
   "metadata": {},
   "source": [
    "#### 1.3.7. Make a conclusion about your hypothesis using this p-value, using a significance level of $\\alpha=0.10$."
   ]
  },
  {
   "cell_type": "markdown",
   "metadata": {},
   "source": [
    "Because the $p-value=4.603\\times 10^{-8}<\\alpha=0.10$, we reject the null hypothesis. Thus we can say the following:\n",
    "* there is sufficient evidence to suggest that the population slope for age in this model is non-zero (ie. $\\beta_3\\neq 0$).\n",
    "* there is sufficient evidence to suggest that the population odds multiplier for age in this model is not equal to 1 (ie. $e^{\\beta_3}\\neq 1$)."
   ]
  },
  {
   "cell_type": "markdown",
   "metadata": {},
   "source": [
    "#### 1.3.8. Make a conclusion about your hypothesis using this p-value, using your 90% confidence interval for the population slope for age (ie. $\\beta_3$)."
   ]
  },
  {
   "cell_type": "markdown",
   "metadata": {},
   "source": [
    "Because the null value $\\beta_3=0$ is not in our 90% confidence interval for $\\beta_3$ (the population slope for age) $(0.0178, 0.0342)$, we reject the null hypothesis. Thus we can say the following:\n",
    "* there is sufficient evidence to suggest that the population slope for age in this model is non-zero (ie. $\\beta_3\\neq 0$).\n",
    "* there is sufficient evidence to suggest that the population odds multiplier for age in this model is not equal to 1 (ie. $e^{\\beta_3}\\neq 1$)."
   ]
  },
  {
   "cell_type": "markdown",
   "metadata": {},
   "source": [
    "#### 1.3.9. Make a conclusion about your hypothesis using this p-value, using your 90% confidence interval for the population odds multiplier for age (ie. $e^{\\beta_3}$)."
   ]
  },
  {
   "cell_type": "markdown",
   "metadata": {},
   "source": [
    "Because the null value $e^{\\beta_3}=1$ is not in our 90% confidence interval for $e^{\\beta_3}$ (the population odds multplier for age) $(1.018, 1.035)$, we reject the null hypothesis. Thus we can say the following:\n",
    "* there is sufficient evidence to suggest that the population slope for age in this model is non-zero (ie. $\\beta_3\\neq 0$).\n",
    "* there is sufficient evidence to suggest that the population odds multiplier for age in this model is not equal to 1 (ie. $e^{\\beta_3}\\neq 1$)."
   ]
  },
  {
   "cell_type": "markdown",
   "metadata": {},
   "source": [
    "## 2. Modeling Interaction Effects in a Logistic Regression Model\n",
    "\n",
    "#### See Unit 16 slides (section 2)\n",
    "\n",
    "### 2.1. In the Jupyter notebook, create a logistic regression model that predicts the probability that a person in the sample approves of the president’s foreign policy given:\n",
    "* sex,\n",
    "* age, and\n",
    "* the interaction between sex and age.\n",
    "\n"
   ]
  },
  {
   "cell_type": "code",
   "execution_count": 22,
   "metadata": {},
   "outputs": [
    {
     "name": "stdout",
     "output_type": "stream",
     "text": [
      "Optimization terminated successfully.\n",
      "         Current function value: 0.612268\n",
      "         Iterations 5\n"
     ]
    },
    {
     "data": {
      "text/html": [
       "<table class=\"simpletable\">\n",
       "<caption>Logit Regression Results</caption>\n",
       "<tr>\n",
       "  <th>Dep. Variable:</th>           <td>y</td>        <th>  No. Observations:  </th>  <td>   691</td>  \n",
       "</tr>\n",
       "<tr>\n",
       "  <th>Model:</th>                 <td>Logit</td>      <th>  Df Residuals:      </th>  <td>   687</td>  \n",
       "</tr>\n",
       "<tr>\n",
       "  <th>Method:</th>                 <td>MLE</td>       <th>  Df Model:          </th>  <td>     3</td>  \n",
       "</tr>\n",
       "<tr>\n",
       "  <th>Date:</th>            <td>Thu, 08 Apr 2021</td> <th>  Pseudo R-squ.:     </th>  <td>0.06326</td> \n",
       "</tr>\n",
       "<tr>\n",
       "  <th>Time:</th>                <td>13:36:51</td>     <th>  Log-Likelihood:    </th> <td> -423.08</td> \n",
       "</tr>\n",
       "<tr>\n",
       "  <th>converged:</th>             <td>True</td>       <th>  LL-Null:           </th> <td> -451.65</td> \n",
       "</tr>\n",
       "<tr>\n",
       "  <th>Covariance Type:</th>     <td>nonrobust</td>    <th>  LLR p-value:       </th> <td>2.392e-12</td>\n",
       "</tr>\n",
       "</table>\n",
       "<table class=\"simpletable\">\n",
       "<tr>\n",
       "         <td></td>            <th>coef</th>     <th>std err</th>      <th>z</th>      <th>P>|z|</th>  <th>[0.025</th>    <th>0.975]</th>  \n",
       "</tr>\n",
       "<tr>\n",
       "  <th>Intercept</th>       <td>   -2.1418</td> <td>    0.387</td> <td>   -5.530</td> <td> 0.000</td> <td>   -2.901</td> <td>   -1.383</td>\n",
       "</tr>\n",
       "<tr>\n",
       "  <th>sex[T.Male]</th>     <td>    0.4760</td> <td>    0.525</td> <td>    0.906</td> <td> 0.365</td> <td>   -0.553</td> <td>    1.505</td>\n",
       "</tr>\n",
       "<tr>\n",
       "  <th>age</th>             <td>    0.0220</td> <td>    0.007</td> <td>    3.253</td> <td> 0.001</td> <td>    0.009</td> <td>    0.035</td>\n",
       "</tr>\n",
       "<tr>\n",
       "  <th>age:sex[T.Male]</th> <td>    0.0078</td> <td>    0.010</td> <td>    0.820</td> <td> 0.412</td> <td>   -0.011</td> <td>    0.026</td>\n",
       "</tr>\n",
       "</table>"
      ],
      "text/plain": [
       "<class 'statsmodels.iolib.summary.Summary'>\n",
       "\"\"\"\n",
       "                           Logit Regression Results                           \n",
       "==============================================================================\n",
       "Dep. Variable:                      y   No. Observations:                  691\n",
       "Model:                          Logit   Df Residuals:                      687\n",
       "Method:                           MLE   Df Model:                            3\n",
       "Date:                Thu, 08 Apr 2021   Pseudo R-squ.:                 0.06326\n",
       "Time:                        13:36:51   Log-Likelihood:                -423.08\n",
       "converged:                       True   LL-Null:                       -451.65\n",
       "Covariance Type:            nonrobust   LLR p-value:                 2.392e-12\n",
       "===================================================================================\n",
       "                      coef    std err          z      P>|z|      [0.025      0.975]\n",
       "-----------------------------------------------------------------------------------\n",
       "Intercept          -2.1418      0.387     -5.530      0.000      -2.901      -1.383\n",
       "sex[T.Male]         0.4760      0.525      0.906      0.365      -0.553       1.505\n",
       "age                 0.0220      0.007      3.253      0.001       0.009       0.035\n",
       "age:sex[T.Male]     0.0078      0.010      0.820      0.412      -0.011       0.026\n",
       "===================================================================================\n",
       "\"\"\""
      ]
     },
     "execution_count": 22,
     "metadata": {},
     "output_type": "execute_result"
    }
   ],
   "source": [
    "mod2 = smf.logit(formula='y ~ age+sex+age*sex', data=df).fit()\n",
    "mod2.summary()"
   ]
  },
  {
   "cell_type": "markdown",
   "metadata": {},
   "source": [
    "### 2.2 Write out the resulting logistic regression model for the sample."
   ]
  },
  {
   "cell_type": "markdown",
   "metadata": {},
   "source": [
    "$log(\\frac{\\hat{p}}{1-\\hat{p}} ) = -2.1418 +0.4760sex[T.Male] +0.0220age +0.0078(age\\cdot sex[T.Male])$"
   ]
  },
  {
   "cell_type": "markdown",
   "metadata": {},
   "source": [
    "### 2.3 Use this model to predict the probability that 19 year old male supported the president’s foreign policy (in 2017)."
   ]
  },
  {
   "cell_type": "markdown",
   "metadata": {},
   "source": [
    "First we can find the predicted log-odds for this person.\n",
    "\n",
    "<u>By hand</u>:\n",
    "\n",
    "$log(\\frac{\\hat{p}}{1-\\hat{p}} ) = -2.1418 +0.4760(1) +0.0220(19) +0.0078(19\\cdot 1)=-1.0996$"
   ]
  },
  {
   "cell_type": "code",
   "execution_count": 23,
   "metadata": {},
   "outputs": [
    {
     "name": "stdout",
     "output_type": "stream",
     "text": [
      "Predicted Log Odds for 19-year-old male approving of the presidents foreign policy: -1.0996000000000001\n"
     ]
    }
   ],
   "source": [
    "log_odds=-2.1418 +0.4760*(1) +0.0220*(19) +0.0078*(19* 1)\n",
    "print('Predicted Log Odds for 19-year-old male approving of the presidents foreign policy:', log_odds)"
   ]
  },
  {
   "cell_type": "code",
   "execution_count": 24,
   "metadata": {},
   "outputs": [
    {
     "name": "stdout",
     "output_type": "stream",
     "text": [
      "Predicted Odds for 19-year-old male approving of the presidents foreign policy:: 0.3330042587647964\n"
     ]
    }
   ],
   "source": [
    "odds=np.exp(log_odds)\n",
    "print('Predicted Odds for 19-year-old male approving of the presidents foreign policy::', odds)"
   ]
  },
  {
   "cell_type": "code",
   "execution_count": 25,
   "metadata": {},
   "outputs": [
    {
     "name": "stdout",
     "output_type": "stream",
     "text": [
      "Predictive Probability for 19-year-old male approving of the presidents foreign policy:: 0.24981484985904592\n"
     ]
    }
   ],
   "source": [
    "predictive_probability=odds/(1+odds)\n",
    "print('Predictive Probability for 19-year-old male approving of the presidents foreign policy::', predictive_probability)"
   ]
  },
  {
   "cell_type": "markdown",
   "metadata": {},
   "source": [
    "<u>With Python</u>:"
   ]
  },
  {
   "cell_type": "code",
   "execution_count": 26,
   "metadata": {},
   "outputs": [
    {
     "data": {
      "text/plain": [
       "0.24992333217292967"
      ]
     },
     "execution_count": 26,
     "metadata": {},
     "output_type": "execute_result"
    }
   ],
   "source": [
    "mod2.predict(exog=dict(sex='Male',age=19)).iloc[0]"
   ]
  },
  {
   "cell_type": "markdown",
   "metadata": {
    "slideshow": {
     "slide_type": "slide"
    }
   },
   "source": [
    "---\n",
    "STAT 207, Victoria Ellison and Douglas Simpson, University of Illinois at Urbana-Champaign"
   ]
  }
 ],
 "metadata": {
  "kernelspec": {
   "display_name": "Python 3",
   "language": "python",
   "name": "python3"
  },
  "language_info": {
   "codemirror_mode": {
    "name": "ipython",
    "version": 3
   },
   "file_extension": ".py",
   "mimetype": "text/x-python",
   "name": "python",
   "nbconvert_exporter": "python",
   "pygments_lexer": "ipython3",
   "version": "3.8.5"
  }
 },
 "nbformat": 4,
 "nbformat_minor": 2
}
