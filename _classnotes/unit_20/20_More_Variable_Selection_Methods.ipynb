{
 "cells": [
  {
   "cell_type": "markdown",
   "metadata": {},
   "source": [
    "# Unit 20: More Variable Selection Methods\n",
    "\n",
    "## <u>Case Study</u>: Finding a Parsimonious Model that Predicts Approval for the President's Foreign Policy\n",
    "\n",
    "Finally, suppose we would lie to build a logistic regression model that will predict approval for the president's foreign policy. Out of four possible explanatory variables, we are interested to know which ones to include in our \"final model\" such that this final model is the most parsimonious.\n"
   ]
  },
  {
   "cell_type": "markdown",
   "metadata": {},
   "source": [
    "## Data Preliminaries"
   ]
  },
  {
   "cell_type": "code",
   "execution_count": 1,
   "metadata": {},
   "outputs": [],
   "source": [
    "import numpy as np\n",
    "import pandas as pd\n",
    "import matplotlib.pyplot as plt\n",
    "import statsmodels.api as sm\n",
    "import statsmodels.formula.api as smf"
   ]
  },
  {
   "cell_type": "code",
   "execution_count": 2,
   "metadata": {},
   "outputs": [],
   "source": [
    "missing_values = [\"NaN\", \"nan\", \"Don't know/Refused (VOL.)\"]\n",
    "df = pd.read_csv('Feb17public.csv', \n",
    "                 na_values=missing_values)[['age', 'sex', 'q5cf1', 'party','sample']]"
   ]
  },
  {
   "cell_type": "code",
   "execution_count": 3,
   "metadata": {},
   "outputs": [],
   "source": [
    "# and create binary reponse variable\n",
    "df['y'] = df['q5cf1'].map({'Disapprove':0,'Approve':1})\n",
    "# use cleaned data without records that have missing values\n",
    "df = df.dropna()"
   ]
  },
  {
   "cell_type": "code",
   "execution_count": 4,
   "metadata": {},
   "outputs": [
    {
     "data": {
      "text/plain": [
       "(679, 6)"
      ]
     },
     "execution_count": 4,
     "metadata": {},
     "output_type": "execute_result"
    }
   ],
   "source": [
    "df.shape"
   ]
  },
  {
   "cell_type": "code",
   "execution_count": 5,
   "metadata": {},
   "outputs": [
    {
     "data": {
      "text/html": [
       "<div>\n",
       "<style scoped>\n",
       "    .dataframe tbody tr th:only-of-type {\n",
       "        vertical-align: middle;\n",
       "    }\n",
       "\n",
       "    .dataframe tbody tr th {\n",
       "        vertical-align: top;\n",
       "    }\n",
       "\n",
       "    .dataframe thead th {\n",
       "        text-align: right;\n",
       "    }\n",
       "</style>\n",
       "<table border=\"1\" class=\"dataframe\">\n",
       "  <thead>\n",
       "    <tr style=\"text-align: right;\">\n",
       "      <th></th>\n",
       "      <th>age</th>\n",
       "      <th>sex</th>\n",
       "      <th>q5cf1</th>\n",
       "      <th>party</th>\n",
       "      <th>sample</th>\n",
       "      <th>y</th>\n",
       "    </tr>\n",
       "  </thead>\n",
       "  <tbody>\n",
       "    <tr>\n",
       "      <th>1</th>\n",
       "      <td>70.0</td>\n",
       "      <td>Female</td>\n",
       "      <td>Disapprove</td>\n",
       "      <td>Democrat</td>\n",
       "      <td>Landline</td>\n",
       "      <td>0.0</td>\n",
       "    </tr>\n",
       "    <tr>\n",
       "      <th>2</th>\n",
       "      <td>69.0</td>\n",
       "      <td>Female</td>\n",
       "      <td>Disapprove</td>\n",
       "      <td>Independent</td>\n",
       "      <td>Landline</td>\n",
       "      <td>0.0</td>\n",
       "    </tr>\n",
       "    <tr>\n",
       "      <th>4</th>\n",
       "      <td>70.0</td>\n",
       "      <td>Female</td>\n",
       "      <td>Disapprove</td>\n",
       "      <td>Democrat</td>\n",
       "      <td>Landline</td>\n",
       "      <td>0.0</td>\n",
       "    </tr>\n",
       "    <tr>\n",
       "      <th>6</th>\n",
       "      <td>89.0</td>\n",
       "      <td>Female</td>\n",
       "      <td>Disapprove</td>\n",
       "      <td>Independent</td>\n",
       "      <td>Landline</td>\n",
       "      <td>0.0</td>\n",
       "    </tr>\n",
       "    <tr>\n",
       "      <th>7</th>\n",
       "      <td>92.0</td>\n",
       "      <td>Female</td>\n",
       "      <td>Approve</td>\n",
       "      <td>Republican</td>\n",
       "      <td>Landline</td>\n",
       "      <td>1.0</td>\n",
       "    </tr>\n",
       "  </tbody>\n",
       "</table>\n",
       "</div>"
      ],
      "text/plain": [
       "    age     sex       q5cf1        party    sample    y\n",
       "1  70.0  Female  Disapprove     Democrat  Landline  0.0\n",
       "2  69.0  Female  Disapprove  Independent  Landline  0.0\n",
       "4  70.0  Female  Disapprove     Democrat  Landline  0.0\n",
       "6  89.0  Female  Disapprove  Independent  Landline  0.0\n",
       "7  92.0  Female     Approve   Republican  Landline  1.0"
      ]
     },
     "execution_count": 5,
     "metadata": {},
     "output_type": "execute_result"
    }
   ],
   "source": [
    "df.head()"
   ]
  },
  {
   "cell_type": "markdown",
   "metadata": {},
   "source": [
    "## 1. <u>Problem</u>: What are some algorithms that can help us *efficiently* identify models that have \"high parsimony\"?\n",
    "\n",
    "#### See Unit 20 section 1\n",
    "\n",
    "## 2. <u>One Idea</u>: Use Backwards Elimination or Forward Selection Algorithms\n",
    "\n",
    "#### See Unit 20 section 2\n",
    "\n",
    "### Ex. Let's use a backwards elimination algorithm with <u>BIC</u> to try to find a most parsimonious model that predicts support for the president's foreign policy.\n",
    "\n",
    "Remember, the lower a model's BIC score is, the more parsimonious we consider the model to be. Therefore, our goal for using this algorithm should be to find the model that has the lowest BIC score.\n",
    "\n",
    "### <u>Iteration 1 of Backwards Elimination</u>\n",
    "\n",
    "#### 1.1. First, let's fit the \"current model\" with ALL four possible explanatory variables and find the BIC score of this \"current model\"."
   ]
  },
  {
   "cell_type": "code",
   "execution_count": 6,
   "metadata": {},
   "outputs": [
    {
     "name": "stdout",
     "output_type": "stream",
     "text": [
      "Optimization terminated successfully.\n",
      "         Current function value: 0.419629\n",
      "         Iterations 7\n",
      "ITERATION 1: BIC of the Current Model 622.021657116503\n"
     ]
    }
   ],
   "source": [
    "current_mod=smf.logit('y~age+sex+party+sample', data=df).fit()\n",
    "print('ITERATION 1: BIC of the Current Model',current_mod.bic)"
   ]
  },
  {
   "cell_type": "markdown",
   "metadata": {},
   "source": [
    "#### 1.2. Next, let's fit four test models and calculate the BIC score for that model, for each test model we delete one of the possible explanatory variables from the \"current model\"."
   ]
  },
  {
   "cell_type": "code",
   "execution_count": 7,
   "metadata": {},
   "outputs": [
    {
     "name": "stdout",
     "output_type": "stream",
     "text": [
      "Optimization terminated successfully.\n",
      "         Current function value: 0.616481\n",
      "         Iterations 5\n",
      "BIC of Test Model that Deletes PARTY from the Current Model 863.2637843537823\n"
     ]
    }
   ],
   "source": [
    "#Test model that deletes party\n",
    "test_mod=smf.logit('y~age+sex+sample', data=df).fit()\n",
    "print('BIC of Test Model that Deletes PARTY from the Current Model',test_mod.bic)"
   ]
  },
  {
   "cell_type": "code",
   "execution_count": 8,
   "metadata": {},
   "outputs": [
    {
     "name": "stdout",
     "output_type": "stream",
     "text": [
      "Optimization terminated successfully.\n",
      "         Current function value: 0.427991\n",
      "         Iterations 7\n",
      "BIC of Test Model that Deletes SEX from the Current Model 626.8558806309322\n"
     ]
    }
   ],
   "source": [
    "#Test model that deletes sex\n",
    "test_mod=smf.logit('y~age+party+sample', data=df).fit()\n",
    "print('BIC of Test Model that Deletes SEX from the Current Model',test_mod.bic)"
   ]
  },
  {
   "cell_type": "code",
   "execution_count": 9,
   "metadata": {},
   "outputs": [
    {
     "name": "stdout",
     "output_type": "stream",
     "text": [
      "Optimization terminated successfully.\n",
      "         Current function value: 0.433090\n",
      "         Iterations 7\n",
      "BIC of Test Model that Deletes AGE from the Current Model 633.7801450903344\n"
     ]
    }
   ],
   "source": [
    "#Test model that deletes age\n",
    "test_mod=smf.logit('y~sex+party+sample', data=df).fit()\n",
    "print('BIC of Test Model that Deletes AGE from the Current Model',test_mod.bic)"
   ]
  },
  {
   "cell_type": "code",
   "execution_count": 10,
   "metadata": {},
   "outputs": [
    {
     "name": "stdout",
     "output_type": "stream",
     "text": [
      "Optimization terminated successfully.\n",
      "         Current function value: 0.419649\n",
      "         Iterations 7\n",
      "BIC of Test Model that Deletes SAMPLE from the Current Model 615.5280340677227\n"
     ]
    }
   ],
   "source": [
    "#Test model that deletes sample\n",
    "test_mod=smf.logit('y~age+sex+party', data=df).fit()\n",
    "print('BIC of Test Model that Deletes SAMPLE from the Current Model',test_mod.bic)"
   ]
  },
  {
   "cell_type": "markdown",
   "metadata": {},
   "source": [
    "#### 1.3. Because there was at least one \"test model\" that has a BIC score (615.53) that is lower than the BIC score of the current model (622.02), we continue on to step 4 in the algorithm."
   ]
  },
  {
   "cell_type": "markdown",
   "metadata": {},
   "source": [
    "#### 1.4. The \"test model\" (from step 2) that had the lowest BIC score was the one that deleted the \"sample\" explanatory variable from the \"current model\". So we set the new \"current model\" to be the test model that does not include \"sample\" and we go back to step (2). We can call this a new iteration of the algorithm."
   ]
  },
  {
   "cell_type": "markdown",
   "metadata": {},
   "source": [
    "###  <u>Iteration 2 of Backwards Elimination</u>"
   ]
  },
  {
   "cell_type": "code",
   "execution_count": 11,
   "metadata": {},
   "outputs": [
    {
     "name": "stdout",
     "output_type": "stream",
     "text": [
      "Optimization terminated successfully.\n",
      "         Current function value: 0.419649\n",
      "         Iterations 7\n",
      "ITERATION 2: BIC of the Current Model 615.5280340677227\n"
     ]
    }
   ],
   "source": [
    "current_mod=smf.logit('y~age+sex+party', data=df).fit()\n",
    "print('ITERATION 2: BIC of the Current Model',current_mod.bic)"
   ]
  },
  {
   "cell_type": "markdown",
   "metadata": {},
   "source": [
    "#### 2.2. Next, let's fit three test models and calculate the BIC score for that model, for each test model we delete one of the possible explanatory variables from the \"current model\"."
   ]
  },
  {
   "cell_type": "code",
   "execution_count": 12,
   "metadata": {},
   "outputs": [
    {
     "name": "stdout",
     "output_type": "stream",
     "text": [
      "Optimization terminated successfully.\n",
      "         Current function value: 0.616503\n",
      "         Iterations 5\n",
      "BIC of Test Model that Deletes PARTY from the Current Model 856.7724827293513\n"
     ]
    }
   ],
   "source": [
    "#Test model that deletes party\n",
    "test_mod=smf.logit('y~age+sex', data=df).fit()\n",
    "print('BIC of Test Model that Deletes PARTY from the Current Model',test_mod.bic)"
   ]
  },
  {
   "cell_type": "code",
   "execution_count": 13,
   "metadata": {},
   "outputs": [
    {
     "name": "stdout",
     "output_type": "stream",
     "text": [
      "Optimization terminated successfully.\n",
      "         Current function value: 0.428186\n",
      "         Iterations 7\n",
      "BIC of Test Model that Deletes SEX from the Current Model 620.600002907382\n"
     ]
    }
   ],
   "source": [
    "#Test model that deletes sex\n",
    "test_mod=smf.logit('y~age+party', data=df).fit()\n",
    "print('BIC of Test Model that Deletes SEX from the Current Model',test_mod.bic)"
   ]
  },
  {
   "cell_type": "code",
   "execution_count": 14,
   "metadata": {},
   "outputs": [
    {
     "name": "stdout",
     "output_type": "stream",
     "text": [
      "Optimization terminated successfully.\n",
      "         Current function value: 0.434714\n",
      "         Iterations 7\n",
      "BIC of Test Model that Deletes AGE from the Current Model 629.4647062516452\n"
     ]
    }
   ],
   "source": [
    "#Test model that deletes age\n",
    "test_mod=smf.logit('y~sex+party', data=df).fit()\n",
    "print('BIC of Test Model that Deletes AGE from the Current Model',test_mod.bic)"
   ]
  },
  {
   "cell_type": "markdown",
   "metadata": {},
   "source": [
    "#### 2.3. Because there were no \"test models\" that had a lower than the BIC score of the current model (615.53), we STOP THE ALGORITHM and we return the \"current model\" (with age, sex, and party as explanatory variables) as our \"final model.\""
   ]
  },
  {
   "cell_type": "code",
   "execution_count": 15,
   "metadata": {},
   "outputs": [
    {
     "name": "stdout",
     "output_type": "stream",
     "text": [
      "Optimization terminated successfully.\n",
      "         Current function value: 0.419649\n",
      "         Iterations 7\n"
     ]
    },
    {
     "data": {
      "text/html": [
       "<table class=\"simpletable\">\n",
       "<caption>Logit Regression Results</caption>\n",
       "<tr>\n",
       "  <th>Dep. Variable:</th>           <td>y</td>        <th>  No. Observations:  </th>  <td>   679</td>  \n",
       "</tr>\n",
       "<tr>\n",
       "  <th>Model:</th>                 <td>Logit</td>      <th>  Df Residuals:      </th>  <td>   672</td>  \n",
       "</tr>\n",
       "<tr>\n",
       "  <th>Method:</th>                 <td>MLE</td>       <th>  Df Model:          </th>  <td>     6</td>  \n",
       "</tr>\n",
       "<tr>\n",
       "  <th>Date:</th>            <td>Wed, 28 Apr 2021</td> <th>  Pseudo R-squ.:     </th>  <td>0.3614</td>  \n",
       "</tr>\n",
       "<tr>\n",
       "  <th>Time:</th>                <td>22:29:49</td>     <th>  Log-Likelihood:    </th> <td> -284.94</td> \n",
       "</tr>\n",
       "<tr>\n",
       "  <th>converged:</th>             <td>True</td>       <th>  LL-Null:           </th> <td> -446.23</td> \n",
       "</tr>\n",
       "<tr>\n",
       "  <th>Covariance Type:</th>     <td>nonrobust</td>    <th>  LLR p-value:       </th> <td>1.185e-66</td>\n",
       "</tr>\n",
       "</table>\n",
       "<table class=\"simpletable\">\n",
       "<tr>\n",
       "                <td></td>                   <th>coef</th>     <th>std err</th>      <th>z</th>      <th>P>|z|</th>  <th>[0.025</th>    <th>0.975]</th>  \n",
       "</tr>\n",
       "<tr>\n",
       "  <th>Intercept</th>                     <td>   -4.5635</td> <td>    0.465</td> <td>   -9.807</td> <td> 0.000</td> <td>   -5.475</td> <td>   -3.651</td>\n",
       "</tr>\n",
       "<tr>\n",
       "  <th>sex[T.Male]</th>                   <td>    0.7288</td> <td>    0.217</td> <td>    3.363</td> <td> 0.001</td> <td>    0.304</td> <td>    1.154</td>\n",
       "</tr>\n",
       "<tr>\n",
       "  <th>party[T.Independent]</th>          <td>    2.2604</td> <td>    0.312</td> <td>    7.236</td> <td> 0.000</td> <td>    1.648</td> <td>    2.873</td>\n",
       "</tr>\n",
       "<tr>\n",
       "  <th>party[T.No preference (VOL.)]</th> <td>    2.5881</td> <td>    0.680</td> <td>    3.808</td> <td> 0.000</td> <td>    1.256</td> <td>    3.920</td>\n",
       "</tr>\n",
       "<tr>\n",
       "  <th>party[T.Other party (VOL.)]</th>   <td>    4.0865</td> <td>    1.212</td> <td>    3.372</td> <td> 0.001</td> <td>    1.711</td> <td>    6.462</td>\n",
       "</tr>\n",
       "<tr>\n",
       "  <th>party[T.Republican]</th>           <td>    4.2985</td> <td>    0.341</td> <td>   12.592</td> <td> 0.000</td> <td>    3.629</td> <td>    4.968</td>\n",
       "</tr>\n",
       "<tr>\n",
       "  <th>age</th>                           <td>    0.0272</td> <td>    0.006</td> <td>    4.443</td> <td> 0.000</td> <td>    0.015</td> <td>    0.039</td>\n",
       "</tr>\n",
       "</table>"
      ],
      "text/plain": [
       "<class 'statsmodels.iolib.summary.Summary'>\n",
       "\"\"\"\n",
       "                           Logit Regression Results                           \n",
       "==============================================================================\n",
       "Dep. Variable:                      y   No. Observations:                  679\n",
       "Model:                          Logit   Df Residuals:                      672\n",
       "Method:                           MLE   Df Model:                            6\n",
       "Date:                Wed, 28 Apr 2021   Pseudo R-squ.:                  0.3614\n",
       "Time:                        22:29:49   Log-Likelihood:                -284.94\n",
       "converged:                       True   LL-Null:                       -446.23\n",
       "Covariance Type:            nonrobust   LLR p-value:                 1.185e-66\n",
       "=================================================================================================\n",
       "                                    coef    std err          z      P>|z|      [0.025      0.975]\n",
       "-------------------------------------------------------------------------------------------------\n",
       "Intercept                        -4.5635      0.465     -9.807      0.000      -5.475      -3.651\n",
       "sex[T.Male]                       0.7288      0.217      3.363      0.001       0.304       1.154\n",
       "party[T.Independent]              2.2604      0.312      7.236      0.000       1.648       2.873\n",
       "party[T.No preference (VOL.)]     2.5881      0.680      3.808      0.000       1.256       3.920\n",
       "party[T.Other party (VOL.)]       4.0865      1.212      3.372      0.001       1.711       6.462\n",
       "party[T.Republican]               4.2985      0.341     12.592      0.000       3.629       4.968\n",
       "age                               0.0272      0.006      4.443      0.000       0.015       0.039\n",
       "=================================================================================================\n",
       "\"\"\""
      ]
     },
     "execution_count": 15,
     "metadata": {},
     "output_type": "execute_result"
    }
   ],
   "source": [
    "final_mod=smf.logit('y~age+sex+party', data=df).fit()\n",
    "final_mod.summary()"
   ]
  },
  {
   "cell_type": "markdown",
   "metadata": {},
   "source": [
    "#### <u>Final Interpretation</u>\n",
    "\n",
    "What this means is that the final model with just sex, age, and party as explanatory variables is more parsimonious than the model with sample, sex, age, and party, because this final model had a lower BIC score.\n",
    "\n",
    "**However, we do not know for sure that the model with sex, age, and party has the LOWEST BIC score out of all possible $2^4=16$ possible models combinations that use (or do not use) the four possible explanatory variables that we originally considered!**"
   ]
  },
  {
   "cell_type": "markdown",
   "metadata": {},
   "source": [
    "## 3. <u>Another Idea</u>: Use a Regularization Term in your Regression Model\n",
    "\n",
    "#### See Unit 20 section 3\n",
    "\n",
    "### 3.1. <u>Recap</u> of Non-Regularized Logistic Regression Models and AIC/BIC\n",
    "\n",
    "#### See Unit 20 section 3.1.\n",
    "\n",
    "### 3.2. <u>Regularization Term 1</u>: Ridge Regression (L2 Penalty)\n",
    "\n",
    "#### See Unit 20 section 3.2.\n",
    "\n",
    "### 3.3. <u>Regularization Term 2</u>: LASSO (L1 Penalty)\n",
    "\n",
    "#### See Unit 20 section 3.3.\n",
    "\n",
    "### 3.4. Comparing LASSO (L1) Penalty to the Ridge Regression (L2) Penalty\n",
    "\n",
    "#### See Unit 20 section 3.4.\n",
    "\n",
    "### 3.5. <u>Regularization Term 3</u>: Elastic Net (L2 and L1 Penalty Combination)\n",
    "\n",
    "#### See Unit 20 section 3.5.\n",
    "\n",
    "\n",
    "\n"
   ]
  },
  {
   "cell_type": "markdown",
   "metadata": {},
   "source": [
    "### 3.6. <u>Exercise</u>: Let's fit a four types of logistic regression model that predicts the likelihood that an adult living in the U.S. supports the president's foreign policy using the following explanatory variables:\n",
    "* age\n",
    "* sex\n",
    "* party\n",
    "* sample (whether they were contacted for the survey via cellphone or landline)\n",
    "\n",
    "### Specifically, let's fit the following four types of logistic regression models to the *entire dataframe*.\n",
    "1. Basic (ie. non-regularized) Logistic Regression (ie. no penalty)\n",
    "2. Logistic Regression with L1 penalty (ie. LASSO Logistic Regression)\n",
    "3. Logistic Regression with L2 penalty (ie. Ridge Logistic Regression)\n",
    "4. Elastic Net Logistic Regression (Combination of L1 and L2 penalty)\n",
    "\n",
    "#### 3.6.1 New package and function\n",
    "\n",
    "In order to fit **regularized** logistic regression models, we need to use the **LogisticRegression()** function which is from the **sklearn.linear_model** package."
   ]
  },
  {
   "cell_type": "code",
   "execution_count": 16,
   "metadata": {},
   "outputs": [],
   "source": [
    "from sklearn.linear_model import LogisticRegression"
   ]
  },
  {
   "cell_type": "markdown",
   "metadata": {},
   "source": [
    "#### 3.6.2. Machine Learning Input for the LogisticRegression() Function\n",
    "\n",
    "In addition, the **LogisticRegression()** function takes a different type of inputs and has a different format than what the **ols.logit()** function uses.\n",
    "\n"
   ]
  },
  {
   "cell_type": "markdown",
   "metadata": {},
   "source": [
    "First, we need to separate the explanatory variables into a dataframe by themselves which we call a **features matrix, X**."
   ]
  },
  {
   "cell_type": "code",
   "execution_count": 17,
   "metadata": {},
   "outputs": [
    {
     "data": {
      "text/html": [
       "<div>\n",
       "<style scoped>\n",
       "    .dataframe tbody tr th:only-of-type {\n",
       "        vertical-align: middle;\n",
       "    }\n",
       "\n",
       "    .dataframe tbody tr th {\n",
       "        vertical-align: top;\n",
       "    }\n",
       "\n",
       "    .dataframe thead th {\n",
       "        text-align: right;\n",
       "    }\n",
       "</style>\n",
       "<table border=\"1\" class=\"dataframe\">\n",
       "  <thead>\n",
       "    <tr style=\"text-align: right;\">\n",
       "      <th></th>\n",
       "      <th>age</th>\n",
       "      <th>sex</th>\n",
       "      <th>party</th>\n",
       "      <th>sample</th>\n",
       "    </tr>\n",
       "  </thead>\n",
       "  <tbody>\n",
       "    <tr>\n",
       "      <th>1</th>\n",
       "      <td>70.0</td>\n",
       "      <td>Female</td>\n",
       "      <td>Democrat</td>\n",
       "      <td>Landline</td>\n",
       "    </tr>\n",
       "    <tr>\n",
       "      <th>2</th>\n",
       "      <td>69.0</td>\n",
       "      <td>Female</td>\n",
       "      <td>Independent</td>\n",
       "      <td>Landline</td>\n",
       "    </tr>\n",
       "    <tr>\n",
       "      <th>4</th>\n",
       "      <td>70.0</td>\n",
       "      <td>Female</td>\n",
       "      <td>Democrat</td>\n",
       "      <td>Landline</td>\n",
       "    </tr>\n",
       "    <tr>\n",
       "      <th>6</th>\n",
       "      <td>89.0</td>\n",
       "      <td>Female</td>\n",
       "      <td>Independent</td>\n",
       "      <td>Landline</td>\n",
       "    </tr>\n",
       "    <tr>\n",
       "      <th>7</th>\n",
       "      <td>92.0</td>\n",
       "      <td>Female</td>\n",
       "      <td>Republican</td>\n",
       "      <td>Landline</td>\n",
       "    </tr>\n",
       "  </tbody>\n",
       "</table>\n",
       "</div>"
      ],
      "text/plain": [
       "    age     sex        party    sample\n",
       "1  70.0  Female     Democrat  Landline\n",
       "2  69.0  Female  Independent  Landline\n",
       "4  70.0  Female     Democrat  Landline\n",
       "6  89.0  Female  Independent  Landline\n",
       "7  92.0  Female   Republican  Landline"
      ]
     },
     "execution_count": 17,
     "metadata": {},
     "output_type": "execute_result"
    }
   ],
   "source": [
    "X = df.drop(columns=['y','q5cf1'])\n",
    "X.head()"
   ]
  },
  {
   "cell_type": "markdown",
   "metadata": {},
   "source": [
    "Next, we need to convert the categorical *explanatory variables* to indicator variables \"ourselves\", or by using the pandas **pd.get_dummies()** function.\n",
    "\n",
    "Notice how:\n",
    "* the \"age\" variable remains in the dataframe,\n",
    "* the \"sex\", \"party\", and \"sample\" variables were dropped, \n",
    "* and we now have an indicator variable for all but one of the levels for each of our categorical explanatory variables.\n",
    "\n",
    "The **drop_first=True** parameter, tells the **pd.get_dummies()** function to *not* create an indicator variable for one level of each categorical variable."
   ]
  },
  {
   "cell_type": "code",
   "execution_count": 18,
   "metadata": {},
   "outputs": [
    {
     "data": {
      "text/html": [
       "<div>\n",
       "<style scoped>\n",
       "    .dataframe tbody tr th:only-of-type {\n",
       "        vertical-align: middle;\n",
       "    }\n",
       "\n",
       "    .dataframe tbody tr th {\n",
       "        vertical-align: top;\n",
       "    }\n",
       "\n",
       "    .dataframe thead th {\n",
       "        text-align: right;\n",
       "    }\n",
       "</style>\n",
       "<table border=\"1\" class=\"dataframe\">\n",
       "  <thead>\n",
       "    <tr style=\"text-align: right;\">\n",
       "      <th></th>\n",
       "      <th>age</th>\n",
       "      <th>sex_Male</th>\n",
       "      <th>party_Independent</th>\n",
       "      <th>party_No preference (VOL.)</th>\n",
       "      <th>party_Other party (VOL.)</th>\n",
       "      <th>party_Republican</th>\n",
       "      <th>sample_Landline</th>\n",
       "    </tr>\n",
       "  </thead>\n",
       "  <tbody>\n",
       "    <tr>\n",
       "      <th>1</th>\n",
       "      <td>70.0</td>\n",
       "      <td>0</td>\n",
       "      <td>0</td>\n",
       "      <td>0</td>\n",
       "      <td>0</td>\n",
       "      <td>0</td>\n",
       "      <td>1</td>\n",
       "    </tr>\n",
       "    <tr>\n",
       "      <th>2</th>\n",
       "      <td>69.0</td>\n",
       "      <td>0</td>\n",
       "      <td>1</td>\n",
       "      <td>0</td>\n",
       "      <td>0</td>\n",
       "      <td>0</td>\n",
       "      <td>1</td>\n",
       "    </tr>\n",
       "    <tr>\n",
       "      <th>4</th>\n",
       "      <td>70.0</td>\n",
       "      <td>0</td>\n",
       "      <td>0</td>\n",
       "      <td>0</td>\n",
       "      <td>0</td>\n",
       "      <td>0</td>\n",
       "      <td>1</td>\n",
       "    </tr>\n",
       "    <tr>\n",
       "      <th>6</th>\n",
       "      <td>89.0</td>\n",
       "      <td>0</td>\n",
       "      <td>1</td>\n",
       "      <td>0</td>\n",
       "      <td>0</td>\n",
       "      <td>0</td>\n",
       "      <td>1</td>\n",
       "    </tr>\n",
       "    <tr>\n",
       "      <th>7</th>\n",
       "      <td>92.0</td>\n",
       "      <td>0</td>\n",
       "      <td>0</td>\n",
       "      <td>0</td>\n",
       "      <td>0</td>\n",
       "      <td>1</td>\n",
       "      <td>1</td>\n",
       "    </tr>\n",
       "  </tbody>\n",
       "</table>\n",
       "</div>"
      ],
      "text/plain": [
       "    age  sex_Male  party_Independent  party_No preference (VOL.)  \\\n",
       "1  70.0         0                  0                           0   \n",
       "2  69.0         0                  1                           0   \n",
       "4  70.0         0                  0                           0   \n",
       "6  89.0         0                  1                           0   \n",
       "7  92.0         0                  0                           0   \n",
       "\n",
       "   party_Other party (VOL.)  party_Republican  sample_Landline  \n",
       "1                         0                 0                1  \n",
       "2                         0                 0                1  \n",
       "4                         0                 0                1  \n",
       "6                         0                 0                1  \n",
       "7                         0                 1                1  "
      ]
     },
     "execution_count": 18,
     "metadata": {},
     "output_type": "execute_result"
    }
   ],
   "source": [
    "X=pd.get_dummies(X, drop_first=True)\n",
    "X.head()"
   ]
  },
  {
   "cell_type": "markdown",
   "metadata": {},
   "source": [
    "And finally, we need to separate the 0/1 response variable values into a series by itself, which we calls the **target array, y**."
   ]
  },
  {
   "cell_type": "code",
   "execution_count": 19,
   "metadata": {},
   "outputs": [
    {
     "data": {
      "text/plain": [
       "1       0.0\n",
       "2       0.0\n",
       "4       0.0\n",
       "6       0.0\n",
       "7       1.0\n",
       "       ... \n",
       "1494    1.0\n",
       "1498    1.0\n",
       "1499    1.0\n",
       "1501    0.0\n",
       "1502    1.0\n",
       "Name: y, Length: 679, dtype: float64"
      ]
     },
     "execution_count": 19,
     "metadata": {},
     "output_type": "execute_result"
    }
   ],
   "source": [
    "y=df['y']\n",
    "y"
   ]
  },
  {
   "cell_type": "markdown",
   "metadata": {},
   "source": [
    "#### 3.6.3 Basic (non-regularized) Logistic Regression (no penalties)\n",
    "\n",
    "First, let's fit a non-regularized logistic regression model with the following additional function parameters.\n",
    "\n",
    "* **penalty**: By selecting 'none' for the penalty, we are indicating that we are just using a basic (non-regularized) logistic regression model.\n",
    "* **solver**: We will use the the 'newton-cg' solver. The newton-cg algorithm is a type of numerical analysis algorithm that goes about finding an optimal solution to a given objective function.\n",
    "* **max_iter**: This algorithm stops after 1000 iterations or when the algorithm has converged.\n",
    "\n",
    "\n",
    "<u>Additional Information</u>: The 'newton-cg' solver only works for: basic logistic regression and ridge regression.\n"
   ]
  },
  {
   "cell_type": "code",
   "execution_count": 20,
   "metadata": {},
   "outputs": [
    {
     "data": {
      "text/plain": [
       "LogisticRegression(max_iter=1000, penalty='none', solver='newton-cg')"
      ]
     },
     "execution_count": 20,
     "metadata": {},
     "output_type": "execute_result"
    }
   ],
   "source": [
    "clf0 = LogisticRegression(penalty='none', solver='newton-cg', \n",
    "                          max_iter=1000)\n",
    "clf0.fit(X,y)"
   ]
  },
  {
   "cell_type": "markdown",
   "metadata": {},
   "source": [
    "#### 3.6.4. LASSO (L1 penalty) Logistic Regression\n",
    "\n",
    "Next, let's fit a LASSO (L1 penalty) Logistic Regression model with the following additional function parameters.\n",
    "\n",
    "* **penalty**: By selecting 'l1' for the penalty, we are fitting a LASSO (L1 penalty) logistic regression.\n",
    "* **solver**: We will use the the 'liblinear' solver. The liblinear is a tool that solves linear logistic regression optimization problems.\n",
    "* **max_iter**: This algorithm stops after 1000 iterations or when the algorithm has converged.\n",
    "* **C:** This value is set to be $\\frac{1}{\\lambda}$. Thus if we want our $\\lambda=3$ in this model, we need to set $C=\\frac{1}{\\lambda}=\\frac{1}{3}$.\n",
    "\n",
    "<u>Additional Information</u>: The 'liblinear' solver only works for: LASSO logistic regression and logistic ridge regression."
   ]
  },
  {
   "cell_type": "code",
   "execution_count": 21,
   "metadata": {},
   "outputs": [
    {
     "data": {
      "text/plain": [
       "LogisticRegression(C=0.3333333333333333, max_iter=1000, penalty='l1',\n",
       "                   solver='liblinear')"
      ]
     },
     "execution_count": 21,
     "metadata": {},
     "output_type": "execute_result"
    }
   ],
   "source": [
    "clf1 = LogisticRegression('l1', solver='liblinear', \n",
    "                          max_iter=1000, C=1/3)\n",
    "clf1.fit(X,y)"
   ]
  },
  {
   "cell_type": "markdown",
   "metadata": {},
   "source": [
    "#### 3.6.5. Ridge Regression (L2 penalty) Logistic Regression\n",
    "\n",
    "Next, let's fit a Logistic Ridge Regression (L2 penalty) model with the following additional function parameters.\n",
    "\n",
    "* **penalty**: By selecting 'l2' for the penalty, we are fitting a logistic ridge regression (L2 penalty) model.\n",
    "* **solver**: We will use the the 'liblinear' solver. The liblinear is a tool that solves linear logistic regression optimization problems.\n",
    "* **max_iter**: This algorithm stops after 1000 iterations or when the algorithm has converged.\n",
    "* **C:** This value is set to be $\\frac{1}{\\lambda}$. Thus if we want our $\\lambda=3$ in this model, we need to set $C=\\frac{1}{\\lambda}=\\frac{1}{3}$.\n",
    "\n",
    "<u>Additional Information</u>: The 'liblinear' solver only works for: LASSO logistic regression and logistic ridge regression."
   ]
  },
  {
   "cell_type": "code",
   "execution_count": 22,
   "metadata": {},
   "outputs": [
    {
     "data": {
      "text/plain": [
       "LogisticRegression(C=0.3333333333333333, max_iter=1000, solver='liblinear')"
      ]
     },
     "execution_count": 22,
     "metadata": {},
     "output_type": "execute_result"
    }
   ],
   "source": [
    "clf2 = LogisticRegression('l2', solver='liblinear', \n",
    "                          max_iter=1000, C=1/3)\n",
    "clf2.fit(X,y)"
   ]
  },
  {
   "cell_type": "markdown",
   "metadata": {},
   "source": [
    "#### 3.6.6. Elastic Net (L1 and L2 penalty combination) Logistic Regression\n",
    "\n",
    "Next, let's fit an Elastic Net Logistic Regression model (L1 and L2 penalty) with the following additional function parameters.\n",
    "\n",
    "* **penalty**: By selecting 'elasticnet' for the penalty, we are fitting an elastic net (L1 and L2 penalty) model.\n",
    "* **solver**: We will use the the 'saga' solver. aga is a numerical optimization method that only works for specific types of objective functions.\n",
    "* **max_iter**: This algorithm stops after 1000 iterations or when the algorithm has converged.\n",
    "* **C:** This value is set to be $\\frac{1}{\\lambda}$. Thus if we want our $\\lambda=3$ in this model, we need to set $C=\\frac{1}{\\lambda}=\\frac{1}{3}$.\n",
    "* The $\\alpha$ in sklearn is represented as the \"l1_ratio\" parameter in the function. With an $\\alpha=$l1_ratio=0.7, this means that this particular elastic net model will favor solutions that more closely resemble the LASSO model results than the ridge regression model results.\n",
    "\n",
    "<u>Additional Information</u>: The 'saga' solver only works for: elastic net logistic regression.\n",
    "\n",
    "\n"
   ]
  },
  {
   "cell_type": "code",
   "execution_count": 23,
   "metadata": {},
   "outputs": [
    {
     "name": "stderr",
     "output_type": "stream",
     "text": [
      "C:\\Users\\vellison\\Miniconda3\\lib\\site-packages\\sklearn\\linear_model\\_sag.py:329: ConvergenceWarning: The max_iter was reached which means the coef_ did not converge\n",
      "  warnings.warn(\"The max_iter was reached which means \"\n"
     ]
    },
    {
     "data": {
      "text/plain": [
       "LogisticRegression(C=0.3333333333333333, l1_ratio=0.7, max_iter=1000,\n",
       "                   penalty='elasticnet', solver='saga')"
      ]
     },
     "execution_count": 23,
     "metadata": {},
     "output_type": "execute_result"
    }
   ],
   "source": [
    "clf3 = LogisticRegression('elasticnet', solver='saga', \n",
    "                          max_iter=1000, l1_ratio=0.7, C=1/3)\n",
    "clf3.fit(X,y)"
   ]
  },
  {
   "cell_type": "markdown",
   "metadata": {},
   "source": [
    "#### 3.6.7 Now, let's extract and examine the 7 resulting slopes for each of the 4 models we just fitted.\n",
    "\n",
    "For instance, below are the slopes for the elastic net model."
   ]
  },
  {
   "cell_type": "code",
   "execution_count": 24,
   "metadata": {},
   "outputs": [
    {
     "data": {
      "text/plain": [
       "array([[0.01387743, 0.56660825, 1.02616927, 0.09267267, 0.02023501,\n",
       "        2.95058127, 0.        ]])"
      ]
     },
     "execution_count": 24,
     "metadata": {},
     "output_type": "execute_result"
    }
   ],
   "source": [
    "clf3.coef_"
   ]
  },
  {
   "cell_type": "markdown",
   "metadata": {},
   "source": [
    "And below is the intercept for the elastic net model."
   ]
  },
  {
   "cell_type": "code",
   "execution_count": 25,
   "metadata": {},
   "outputs": [
    {
     "data": {
      "text/plain": [
       "array([-2.70654499])"
      ]
     },
     "execution_count": 25,
     "metadata": {},
     "output_type": "execute_result"
    }
   ],
   "source": [
    "clf3.intercept_"
   ]
  },
  {
   "cell_type": "code",
   "execution_count": 26,
   "metadata": {},
   "outputs": [
    {
     "data": {
      "text/html": [
       "<div>\n",
       "<style scoped>\n",
       "    .dataframe tbody tr th:only-of-type {\n",
       "        vertical-align: middle;\n",
       "    }\n",
       "\n",
       "    .dataframe tbody tr th {\n",
       "        vertical-align: top;\n",
       "    }\n",
       "\n",
       "    .dataframe thead th {\n",
       "        text-align: right;\n",
       "    }\n",
       "</style>\n",
       "<table border=\"1\" class=\"dataframe\">\n",
       "  <thead>\n",
       "    <tr style=\"text-align: right;\">\n",
       "      <th></th>\n",
       "      <th>Non_Regularized</th>\n",
       "      <th>LASSO</th>\n",
       "      <th>Ridge_Regression</th>\n",
       "      <th>Elastic_Net</th>\n",
       "    </tr>\n",
       "  </thead>\n",
       "  <tbody>\n",
       "    <tr>\n",
       "      <th>age</th>\n",
       "      <td>0.027556</td>\n",
       "      <td>0.017372</td>\n",
       "      <td>0.010142</td>\n",
       "      <td>0.013877</td>\n",
       "    </tr>\n",
       "    <tr>\n",
       "      <th>sex_Male</th>\n",
       "      <td>0.725143</td>\n",
       "      <td>0.586283</td>\n",
       "      <td>0.548167</td>\n",
       "      <td>0.566608</td>\n",
       "    </tr>\n",
       "    <tr>\n",
       "      <th>party_Independent</th>\n",
       "      <td>2.263231</td>\n",
       "      <td>1.377441</td>\n",
       "      <td>1.030012</td>\n",
       "      <td>1.026169</td>\n",
       "    </tr>\n",
       "    <tr>\n",
       "      <th>party_No preference (VOL.)</th>\n",
       "      <td>2.591156</td>\n",
       "      <td>0.410129</td>\n",
       "      <td>0.647457</td>\n",
       "      <td>0.092673</td>\n",
       "    </tr>\n",
       "    <tr>\n",
       "      <th>party_Other party (VOL.)</th>\n",
       "      <td>4.082109</td>\n",
       "      <td>0.000000</td>\n",
       "      <td>0.634710</td>\n",
       "      <td>0.020235</td>\n",
       "    </tr>\n",
       "    <tr>\n",
       "      <th>party_Republican</th>\n",
       "      <td>4.299563</td>\n",
       "      <td>3.380921</td>\n",
       "      <td>2.881765</td>\n",
       "      <td>2.950581</td>\n",
       "    </tr>\n",
       "    <tr>\n",
       "      <th>sample_Landline</th>\n",
       "      <td>-0.042271</td>\n",
       "      <td>0.000000</td>\n",
       "      <td>0.041545</td>\n",
       "      <td>0.000000</td>\n",
       "    </tr>\n",
       "  </tbody>\n",
       "</table>\n",
       "</div>"
      ],
      "text/plain": [
       "                            Non_Regularized     LASSO  Ridge_Regression  \\\n",
       "age                                0.027556  0.017372          0.010142   \n",
       "sex_Male                           0.725143  0.586283          0.548167   \n",
       "party_Independent                  2.263231  1.377441          1.030012   \n",
       "party_No preference (VOL.)         2.591156  0.410129          0.647457   \n",
       "party_Other party (VOL.)           4.082109  0.000000          0.634710   \n",
       "party_Republican                   4.299563  3.380921          2.881765   \n",
       "sample_Landline                   -0.042271  0.000000          0.041545   \n",
       "\n",
       "                            Elastic_Net  \n",
       "age                            0.013877  \n",
       "sex_Male                       0.566608  \n",
       "party_Independent              1.026169  \n",
       "party_No preference (VOL.)     0.092673  \n",
       "party_Other party (VOL.)       0.020235  \n",
       "party_Republican               2.950581  \n",
       "sample_Landline                0.000000  "
      ]
     },
     "execution_count": 26,
     "metadata": {},
     "output_type": "execute_result"
    }
   ],
   "source": [
    "dfcoef = pd.DataFrame(\n",
    "    np.concatenate((clf0.coef_.T, \n",
    "                    clf1.coef_.T, \n",
    "                    clf2.coef_.T, \n",
    "                    clf3.coef_.T), \n",
    "                   axis=1),\n",
    "        columns=['Non_Regularized', 'LASSO', 'Ridge_Regression', 'Elastic_Net'], index=X.columns)\n",
    "dfcoef"
   ]
  },
  {
   "cell_type": "code",
   "execution_count": 27,
   "metadata": {},
   "outputs": [
    {
     "data": {
      "image/png": "[encoded data removed]",
      "text/plain": [
       "<Figure size 1440x720 with 1 Axes>"
      ]
     },
     "metadata": {
      "needs_background": "light"
     },
     "output_type": "display_data"
    }
   ],
   "source": [
    "plt.figure(figsize=(20,10))\n",
    "for i in range(4):\n",
    "    plt.plot(dfcoef.index, dfcoef[dfcoef.columns[i]])\n",
    "plt.xticks(np.arange(0,7,1))\n",
    "plt.xlabel('Coefficient index')\n",
    "plt.ylabel('Slope Estimate')\n",
    "plt.title('Slope Estimates for all Four Models')\n",
    "plt.legend(['Non_Regularized','LASSO','Ridge_Regression','Elastic_Nets'], bbox_to_anchor=(1,1))\n",
    "plt.hlines(y=0, xmin=0, xmax=6, linestyles='--')\n",
    "plt.show()"
   ]
  },
  {
   "cell_type": "code",
   "execution_count": 28,
   "metadata": {},
   "outputs": [
    {
     "data": {
      "text/plain": [
       "Index(['age', 'sex_Male', 'party_Independent', 'party_No preference (VOL.)',\n",
       "       'party_Other party (VOL.)', 'party_Republican', 'sample_Landline'],\n",
       "      dtype='object')"
      ]
     },
     "execution_count": 28,
     "metadata": {},
     "output_type": "execute_result"
    }
   ],
   "source": [
    "X.columns"
   ]
  },
  {
   "cell_type": "markdown",
   "metadata": {},
   "source": [
    "**<u>General  Model Interpretation</u>:**\n",
    "\n",
    "* In general, the slopes in the **non-regularized logistic regression model** were higher than the slopes for the other three models. This is what we would expect as the other three models have a penalty for having slopes that are high.\n",
    "* The **LASSO** model has the most amount of slopes that are set to be *exactly* zero. This is what we would expect from the LASSO model, as this model favors more slopes that are set to be *exactly* 0.\n",
    "* The **elastic net** model has a slope that is exactly 0 and one that is very close to being 0. This is somewhat what we would expect as we set the $\\alpha$ to be closer to 1, so we would expect *this* particular elastic net's slopes to resemble the type of results that we would get with a LASSO model, which tends to have more slopes set exactly equal to 0.\n",
    "* The **ridge regression model** has no slopes that are set to be exactly 0, but has much smaller slopes than the non-regularized model. This is what we expect from a ridge regression model, that does not favor slopes that are set to be exactly equal to 0.\n",
    "\n",
    "**<u>Individual Slope Interpretation</u>:**\n",
    "\n",
    "* The **age** and **sex:Male** slopes do not change dramatically in all four models. This gives us no indication that this model should be deleted in a reduced model.\n",
    "* The **sample_Landline** slope is set to be exactly 0 in the **LASSO** model and the **elastic net model**. This is a large change from the slope that we see in the **non-regularized model**. So this gives us an indication that we should not include the **sample** slope in the reduced model**\n",
    "* Finally, the **party_Other party (VOL.)** slope is set to be exactly 0 in the **LASSO** model and is very close to 0 in the **elastic net model**. This is a large change from the slope that we see in the **non-regularized model**. However, we don't see much change in the other party variables. Because we cannot delete an indicator variable without the other corresponding indicator variables (for a given explanatory variable), we will leave the party slope in the reduced model."
   ]
  },
  {
   "cell_type": "markdown",
   "metadata": {},
   "source": [
    "#### 3.6.8. Using these results to create a reduced model(s) and a full model.\n",
    "\n",
    "Our analysis from 3.6.7 gave us some indications as to what reduced models we should test. \n",
    "\n",
    "**Full Model**\n",
    "We can go back to using the **smf.logit()** function to learn more about the full logistic regression model (that uses all four explanatory variables we were considering). Unlike the **LogisticRegression()** function, the **smf.logit()** function will give us more information about the model including:\n",
    "* BIC/AIC\n",
    "* p-values for conducting inference on the slopes\n",
    "* the optimal log-likelihood function value of the model."
   ]
  },
  {
   "cell_type": "code",
   "execution_count": 29,
   "metadata": {},
   "outputs": [
    {
     "name": "stdout",
     "output_type": "stream",
     "text": [
      "Optimization terminated successfully.\n",
      "         Current function value: 0.419629\n",
      "         Iterations 7\n"
     ]
    },
    {
     "data": {
      "text/html": [
       "<table class=\"simpletable\">\n",
       "<caption>Logit Regression Results</caption>\n",
       "<tr>\n",
       "  <th>Dep. Variable:</th>           <td>y</td>        <th>  No. Observations:  </th>  <td>   679</td>  \n",
       "</tr>\n",
       "<tr>\n",
       "  <th>Model:</th>                 <td>Logit</td>      <th>  Df Residuals:      </th>  <td>   671</td>  \n",
       "</tr>\n",
       "<tr>\n",
       "  <th>Method:</th>                 <td>MLE</td>       <th>  Df Model:          </th>  <td>     7</td>  \n",
       "</tr>\n",
       "<tr>\n",
       "  <th>Date:</th>            <td>Wed, 28 Apr 2021</td> <th>  Pseudo R-squ.:     </th>  <td>0.3615</td>  \n",
       "</tr>\n",
       "<tr>\n",
       "  <th>Time:</th>                <td>22:29:50</td>     <th>  Log-Likelihood:    </th> <td> -284.93</td> \n",
       "</tr>\n",
       "<tr>\n",
       "  <th>converged:</th>             <td>True</td>       <th>  LL-Null:           </th> <td> -446.23</td> \n",
       "</tr>\n",
       "<tr>\n",
       "  <th>Covariance Type:</th>     <td>nonrobust</td>    <th>  LLR p-value:       </th> <td>8.965e-66</td>\n",
       "</tr>\n",
       "</table>\n",
       "<table class=\"simpletable\">\n",
       "<tr>\n",
       "                <td></td>                   <th>coef</th>     <th>std err</th>      <th>z</th>      <th>P>|z|</th>  <th>[0.025</th>    <th>0.975]</th>  \n",
       "</tr>\n",
       "<tr>\n",
       "  <th>Intercept</th>                     <td>   -4.5713</td> <td>    0.468</td> <td>   -9.771</td> <td> 0.000</td> <td>   -5.488</td> <td>   -3.654</td>\n",
       "</tr>\n",
       "<tr>\n",
       "  <th>sex[T.Male]</th>                   <td>    0.7251</td> <td>    0.218</td> <td>    3.329</td> <td> 0.001</td> <td>    0.298</td> <td>    1.152</td>\n",
       "</tr>\n",
       "<tr>\n",
       "  <th>party[T.Independent]</th>          <td>    2.2632</td> <td>    0.313</td> <td>    7.234</td> <td> 0.000</td> <td>    1.650</td> <td>    2.876</td>\n",
       "</tr>\n",
       "<tr>\n",
       "  <th>party[T.No preference (VOL.)]</th> <td>    2.5912</td> <td>    0.680</td> <td>    3.813</td> <td> 0.000</td> <td>    1.259</td> <td>    3.923</td>\n",
       "</tr>\n",
       "<tr>\n",
       "  <th>party[T.Other party (VOL.)]</th>   <td>    4.0821</td> <td>    1.212</td> <td>    3.367</td> <td> 0.001</td> <td>    1.706</td> <td>    6.458</td>\n",
       "</tr>\n",
       "<tr>\n",
       "  <th>party[T.Republican]</th>           <td>    4.2996</td> <td>    0.341</td> <td>   12.592</td> <td> 0.000</td> <td>    3.630</td> <td>    4.969</td>\n",
       "</tr>\n",
       "<tr>\n",
       "  <th>sample[T.Landline]</th>            <td>   -0.0423</td> <td>    0.257</td> <td>   -0.164</td> <td> 0.870</td> <td>   -0.547</td> <td>    0.462</td>\n",
       "</tr>\n",
       "<tr>\n",
       "  <th>age</th>                           <td>    0.0276</td> <td>    0.007</td> <td>    4.207</td> <td> 0.000</td> <td>    0.015</td> <td>    0.040</td>\n",
       "</tr>\n",
       "</table>"
      ],
      "text/plain": [
       "<class 'statsmodels.iolib.summary.Summary'>\n",
       "\"\"\"\n",
       "                           Logit Regression Results                           \n",
       "==============================================================================\n",
       "Dep. Variable:                      y   No. Observations:                  679\n",
       "Model:                          Logit   Df Residuals:                      671\n",
       "Method:                           MLE   Df Model:                            7\n",
       "Date:                Wed, 28 Apr 2021   Pseudo R-squ.:                  0.3615\n",
       "Time:                        22:29:50   Log-Likelihood:                -284.93\n",
       "converged:                       True   LL-Null:                       -446.23\n",
       "Covariance Type:            nonrobust   LLR p-value:                 8.965e-66\n",
       "=================================================================================================\n",
       "                                    coef    std err          z      P>|z|      [0.025      0.975]\n",
       "-------------------------------------------------------------------------------------------------\n",
       "Intercept                        -4.5713      0.468     -9.771      0.000      -5.488      -3.654\n",
       "sex[T.Male]                       0.7251      0.218      3.329      0.001       0.298       1.152\n",
       "party[T.Independent]              2.2632      0.313      7.234      0.000       1.650       2.876\n",
       "party[T.No preference (VOL.)]     2.5912      0.680      3.813      0.000       1.259       3.923\n",
       "party[T.Other party (VOL.)]       4.0821      1.212      3.367      0.001       1.706       6.458\n",
       "party[T.Republican]               4.2996      0.341     12.592      0.000       3.630       4.969\n",
       "sample[T.Landline]               -0.0423      0.257     -0.164      0.870      -0.547       0.462\n",
       "age                               0.0276      0.007      4.207      0.000       0.015       0.040\n",
       "=================================================================================================\n",
       "\"\"\""
      ]
     },
     "execution_count": 29,
     "metadata": {},
     "output_type": "execute_result"
    }
   ],
   "source": [
    "full_mod=smf.logit('y~age+sex+party+sample', data=df).fit()\n",
    "full_mod.summary()"
   ]
  },
  {
   "cell_type": "code",
   "execution_count": 30,
   "metadata": {},
   "outputs": [
    {
     "name": "stdout",
     "output_type": "stream",
     "text": [
      "Full Model AIC: 585.8566880960334\n",
      "Full Model BIC: 622.021657116503\n"
     ]
    }
   ],
   "source": [
    "print('Full Model AIC:',full_mod.aic)\n",
    "print('Full Model BIC:',full_mod.bic)"
   ]
  },
  {
   "cell_type": "markdown",
   "metadata": {},
   "source": [
    "**Reduced Model**\n",
    "Our regularized models indicated that the **sample** explanatory variable might be a useful variable to leave out of the reduced model for testing. We fit this model below, (now just using a non-regularized logistic regression model), and find the AIC and BIC of this reduced model."
   ]
  },
  {
   "cell_type": "code",
   "execution_count": 31,
   "metadata": {},
   "outputs": [
    {
     "name": "stdout",
     "output_type": "stream",
     "text": [
      "Optimization terminated successfully.\n",
      "         Current function value: 0.419649\n",
      "         Iterations 7\n"
     ]
    },
    {
     "data": {
      "text/html": [
       "<table class=\"simpletable\">\n",
       "<caption>Logit Regression Results</caption>\n",
       "<tr>\n",
       "  <th>Dep. Variable:</th>           <td>y</td>        <th>  No. Observations:  </th>  <td>   679</td>  \n",
       "</tr>\n",
       "<tr>\n",
       "  <th>Model:</th>                 <td>Logit</td>      <th>  Df Residuals:      </th>  <td>   672</td>  \n",
       "</tr>\n",
       "<tr>\n",
       "  <th>Method:</th>                 <td>MLE</td>       <th>  Df Model:          </th>  <td>     6</td>  \n",
       "</tr>\n",
       "<tr>\n",
       "  <th>Date:</th>            <td>Wed, 28 Apr 2021</td> <th>  Pseudo R-squ.:     </th>  <td>0.3614</td>  \n",
       "</tr>\n",
       "<tr>\n",
       "  <th>Time:</th>                <td>22:29:50</td>     <th>  Log-Likelihood:    </th> <td> -284.94</td> \n",
       "</tr>\n",
       "<tr>\n",
       "  <th>converged:</th>             <td>True</td>       <th>  LL-Null:           </th> <td> -446.23</td> \n",
       "</tr>\n",
       "<tr>\n",
       "  <th>Covariance Type:</th>     <td>nonrobust</td>    <th>  LLR p-value:       </th> <td>1.185e-66</td>\n",
       "</tr>\n",
       "</table>\n",
       "<table class=\"simpletable\">\n",
       "<tr>\n",
       "                <td></td>                   <th>coef</th>     <th>std err</th>      <th>z</th>      <th>P>|z|</th>  <th>[0.025</th>    <th>0.975]</th>  \n",
       "</tr>\n",
       "<tr>\n",
       "  <th>Intercept</th>                     <td>   -4.5635</td> <td>    0.465</td> <td>   -9.807</td> <td> 0.000</td> <td>   -5.475</td> <td>   -3.651</td>\n",
       "</tr>\n",
       "<tr>\n",
       "  <th>sex[T.Male]</th>                   <td>    0.7288</td> <td>    0.217</td> <td>    3.363</td> <td> 0.001</td> <td>    0.304</td> <td>    1.154</td>\n",
       "</tr>\n",
       "<tr>\n",
       "  <th>party[T.Independent]</th>          <td>    2.2604</td> <td>    0.312</td> <td>    7.236</td> <td> 0.000</td> <td>    1.648</td> <td>    2.873</td>\n",
       "</tr>\n",
       "<tr>\n",
       "  <th>party[T.No preference (VOL.)]</th> <td>    2.5881</td> <td>    0.680</td> <td>    3.808</td> <td> 0.000</td> <td>    1.256</td> <td>    3.920</td>\n",
       "</tr>\n",
       "<tr>\n",
       "  <th>party[T.Other party (VOL.)]</th>   <td>    4.0865</td> <td>    1.212</td> <td>    3.372</td> <td> 0.001</td> <td>    1.711</td> <td>    6.462</td>\n",
       "</tr>\n",
       "<tr>\n",
       "  <th>party[T.Republican]</th>           <td>    4.2985</td> <td>    0.341</td> <td>   12.592</td> <td> 0.000</td> <td>    3.629</td> <td>    4.968</td>\n",
       "</tr>\n",
       "<tr>\n",
       "  <th>age</th>                           <td>    0.0272</td> <td>    0.006</td> <td>    4.443</td> <td> 0.000</td> <td>    0.015</td> <td>    0.039</td>\n",
       "</tr>\n",
       "</table>"
      ],
      "text/plain": [
       "<class 'statsmodels.iolib.summary.Summary'>\n",
       "\"\"\"\n",
       "                           Logit Regression Results                           \n",
       "==============================================================================\n",
       "Dep. Variable:                      y   No. Observations:                  679\n",
       "Model:                          Logit   Df Residuals:                      672\n",
       "Method:                           MLE   Df Model:                            6\n",
       "Date:                Wed, 28 Apr 2021   Pseudo R-squ.:                  0.3614\n",
       "Time:                        22:29:50   Log-Likelihood:                -284.94\n",
       "converged:                       True   LL-Null:                       -446.23\n",
       "Covariance Type:            nonrobust   LLR p-value:                 1.185e-66\n",
       "=================================================================================================\n",
       "                                    coef    std err          z      P>|z|      [0.025      0.975]\n",
       "-------------------------------------------------------------------------------------------------\n",
       "Intercept                        -4.5635      0.465     -9.807      0.000      -5.475      -3.651\n",
       "sex[T.Male]                       0.7288      0.217      3.363      0.001       0.304       1.154\n",
       "party[T.Independent]              2.2604      0.312      7.236      0.000       1.648       2.873\n",
       "party[T.No preference (VOL.)]     2.5881      0.680      3.808      0.000       1.256       3.920\n",
       "party[T.Other party (VOL.)]       4.0865      1.212      3.372      0.001       1.711       6.462\n",
       "party[T.Republican]               4.2985      0.341     12.592      0.000       3.629       4.968\n",
       "age                               0.0272      0.006      4.443      0.000       0.015       0.039\n",
       "=================================================================================================\n",
       "\"\"\""
      ]
     },
     "execution_count": 31,
     "metadata": {},
     "output_type": "execute_result"
    }
   ],
   "source": [
    "red_mod=smf.logit('y~age+sex+party', data=df).fit()\n",
    "red_mod.summary()"
   ]
  },
  {
   "cell_type": "code",
   "execution_count": 32,
   "metadata": {},
   "outputs": [
    {
     "name": "stdout",
     "output_type": "stream",
     "text": [
      "Reduced Model AIC: 583.8836861748118\n",
      "Reduced Model BIC: 615.5280340677227\n"
     ]
    }
   ],
   "source": [
    "print('Reduced Model AIC:',red_mod.aic)\n",
    "print('Reduced Model BIC:',red_mod.bic)"
   ]
  },
  {
   "cell_type": "markdown",
   "metadata": {},
   "source": [
    "We can see that the reduced model had a lower AIC and BIC score than the full model does. Therefore, the regularized regression models gave us some useful insights as to which explanatory variables to leave out of our reduced model(s).\n",
    "\n",
    "We then compared this reduced model to our full model to verify that this reduced model (without the sample explanatory variable) was more parsimonious than the full model.\n",
    "\n",
    "We might use this insight to make the reduced model, our final model."
   ]
  },
  {
   "cell_type": "markdown",
   "metadata": {},
   "source": [
    "---\n",
    "STAT 207, Victoria Ellison and Douglas Simpson, University of Illinois at Urbana-Champaign"
   ]
  }
 ],
 "metadata": {
  "kernelspec": {
   "display_name": "Python 3",
   "language": "python",
   "name": "python3"
  },
  "language_info": {
   "codemirror_mode": {
    "name": "ipython",
    "version": 3
   },
   "file_extension": ".py",
   "mimetype": "text/x-python",
   "name": "python",
   "nbconvert_exporter": "python",
   "pygments_lexer": "ipython3",
   "version": "3.8.5"
  }
 },
 "nbformat": 4,
 "nbformat_minor": 2
}
