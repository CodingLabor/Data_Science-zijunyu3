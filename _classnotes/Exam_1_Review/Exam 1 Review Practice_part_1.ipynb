{
 "cells": [
  {
   "cell_type": "markdown",
   "metadata": {},
   "source": [
    "# Exam 1 Review - Practice Test"
   ]
  },
  {
   "cell_type": "code",
   "execution_count": 1,
   "metadata": {},
   "outputs": [],
   "source": [
    "#4.1.1 What python package does dataframe manipulation?\n",
    "import pandas as pd\n",
    "\n",
    "#5.2.1.\tWhat three Python packages that have we used in this class that contains functions that allow us to calculate summary statistics and create visualizations for dataframes?\n",
    "import pandas as pd\n",
    "import matplotlib.pyplot as plt\n",
    "import seaborn as sns"
   ]
  },
  {
   "cell_type": "markdown",
   "metadata": {},
   "source": [
    "## 1. Formulating Research Questions and Collecting Data (a sample)\n",
    "\n",
    "1.1.1 Three common types of wheat seeds are: kama, Canadian, and rosa. The **populations** of all kama seeds are very large, therefore we cannot possibly collect data about all kama seeds. Similarly, the populations of Canadian and rosa seeds are too large to collect. So what we do is collect three **random samples**, each of size 70. One sample of kama seeds, one sample of Canadian seeds, and one sample of rosa seeds. For each **observation** we measure various **numerical variables**."
   ]
  },
  {
   "cell_type": "markdown",
   "metadata": {},
   "source": [
    "1.1.2 Can we answer questions about the population of kama seeds using the random sample of kama seeds?"
   ]
  },
  {
   "cell_type": "markdown",
   "metadata": {},
   "source": []
  },
  {
   "cell_type": "markdown",
   "metadata": {},
   "source": [
    "1.2.2 and 1.2.3 Using this dataset, can we determine if having the human-defined label of a rosa seed (as opposed to a kama seed) **causes** the seed to have a larger area?"
   ]
  },
  {
   "cell_type": "markdown",
   "metadata": {},
   "source": []
  },
  {
   "cell_type": "markdown",
   "metadata": {},
   "source": [
    "## 2. Data Management\n",
    "2.1 Read the 'seeds.csv' dataset into a dataframe called df.\n",
    "\n",
    "4.2.1 Display the first 7 rows."
   ]
  },
  {
   "cell_type": "code",
   "execution_count": 2,
   "metadata": {},
   "outputs": [
    {
     "data": {
      "text/html": [
       "<div>\n",
       "<style scoped>\n",
       "    .dataframe tbody tr th:only-of-type {\n",
       "        vertical-align: middle;\n",
       "    }\n",
       "\n",
       "    .dataframe tbody tr th {\n",
       "        vertical-align: top;\n",
       "    }\n",
       "\n",
       "    .dataframe thead th {\n",
       "        text-align: right;\n",
       "    }\n",
       "</style>\n",
       "<table border=\"1\" class=\"dataframe\">\n",
       "  <thead>\n",
       "    <tr style=\"text-align: right;\">\n",
       "      <th></th>\n",
       "      <th>area</th>\n",
       "      <th>perimeter</th>\n",
       "      <th>compactness</th>\n",
       "      <th>kernel_length</th>\n",
       "      <th>width</th>\n",
       "      <th>asymmetry_coefficient</th>\n",
       "      <th>kernel_groove_length</th>\n",
       "      <th>seed_class</th>\n",
       "      <th>perimeter_size</th>\n",
       "    </tr>\n",
       "  </thead>\n",
       "  <tbody>\n",
       "    <tr>\n",
       "      <th>0</th>\n",
       "      <td>15.26</td>\n",
       "      <td>14.84</td>\n",
       "      <td>0.871</td>\n",
       "      <td>5.762</td>\n",
       "      <td>2.212</td>\n",
       "      <td>2.221</td>\n",
       "      <td>5.220</td>\n",
       "      <td>kama</td>\n",
       "      <td>large</td>\n",
       "    </tr>\n",
       "    <tr>\n",
       "      <th>1</th>\n",
       "      <td>14.88</td>\n",
       "      <td>14.57</td>\n",
       "      <td>0.8811</td>\n",
       "      <td>5.554</td>\n",
       "      <td>2.222</td>\n",
       "      <td>1.018</td>\n",
       "      <td>4.956</td>\n",
       "      <td>kama</td>\n",
       "      <td>large</td>\n",
       "    </tr>\n",
       "    <tr>\n",
       "      <th>2</th>\n",
       "      <td>14.29</td>\n",
       "      <td>14.09</td>\n",
       "      <td>0.905</td>\n",
       "      <td>5.291</td>\n",
       "      <td>2.227</td>\n",
       "      <td>2.699</td>\n",
       "      <td>4.825</td>\n",
       "      <td>kama</td>\n",
       "      <td>large</td>\n",
       "    </tr>\n",
       "    <tr>\n",
       "      <th>3</th>\n",
       "      <td>12.84</td>\n",
       "      <td>12.94</td>\n",
       "      <td>0.8955</td>\n",
       "      <td>5.224</td>\n",
       "      <td>2.279</td>\n",
       "      <td>2.259</td>\n",
       "      <td>4.805</td>\n",
       "      <td>kama</td>\n",
       "      <td>small</td>\n",
       "    </tr>\n",
       "    <tr>\n",
       "      <th>4</th>\n",
       "      <td>16.14</td>\n",
       "      <td>14.99</td>\n",
       "      <td>0.9024</td>\n",
       "      <td>5.658</td>\n",
       "      <td>2.562</td>\n",
       "      <td>1.255</td>\n",
       "      <td>5.175</td>\n",
       "      <td>kama</td>\n",
       "      <td>large</td>\n",
       "    </tr>\n",
       "    <tr>\n",
       "      <th>5</th>\n",
       "      <td>14.28</td>\n",
       "      <td>14.21</td>\n",
       "      <td>0.8951</td>\n",
       "      <td>5.286</td>\n",
       "      <td>2.212</td>\n",
       "      <td>2.462</td>\n",
       "      <td>4.956</td>\n",
       "      <td>kama</td>\n",
       "      <td>large</td>\n",
       "    </tr>\n",
       "    <tr>\n",
       "      <th>6</th>\n",
       "      <td>14.69</td>\n",
       "      <td>14.49</td>\n",
       "      <td>0.8799</td>\n",
       "      <td>5.562</td>\n",
       "      <td>2.259</td>\n",
       "      <td>2.586</td>\n",
       "      <td>5.219</td>\n",
       "      <td>kama</td>\n",
       "      <td>large</td>\n",
       "    </tr>\n",
       "  </tbody>\n",
       "</table>\n",
       "</div>"
      ],
      "text/plain": [
       "    area  perimeter compactness  kernel_length  width  asymmetry_coefficient  \\\n",
       "0  15.26      14.84       0.871          5.762  2.212                  2.221   \n",
       "1  14.88      14.57      0.8811          5.554  2.222                  1.018   \n",
       "2  14.29      14.09       0.905          5.291  2.227                  2.699   \n",
       "3  12.84      12.94      0.8955          5.224  2.279                  2.259   \n",
       "4  16.14      14.99      0.9024          5.658  2.562                  1.255   \n",
       "5  14.28      14.21      0.8951          5.286  2.212                  2.462   \n",
       "6  14.69      14.49      0.8799          5.562  2.259                  2.586   \n",
       "\n",
       "   kernel_groove_length seed_class perimeter_size  \n",
       "0                 5.220       kama          large  \n",
       "1                 4.956       kama          large  \n",
       "2                 4.825       kama          large  \n",
       "3                 4.805       kama          small  \n",
       "4                 5.175       kama          large  \n",
       "5                 4.956       kama          large  \n",
       "6                 5.219       kama          large  "
      ]
     },
     "execution_count": 2,
     "metadata": {},
     "output_type": "execute_result"
    }
   ],
   "source": []
  },
  {
   "cell_type": "markdown",
   "metadata": {},
   "source": [
    "2.2 What do the rows of this dataframe represent?"
   ]
  },
  {
   "cell_type": "markdown",
   "metadata": {},
   "source": []
  },
  {
   "cell_type": "markdown",
   "metadata": {},
   "source": [
    "2.3 What does a column in this dataframe represent?"
   ]
  },
  {
   "cell_type": "markdown",
   "metadata": {},
   "source": []
  },
  {
   "cell_type": "markdown",
   "metadata": {},
   "source": [
    "## 3. Data Cleaning"
   ]
  },
  {
   "cell_type": "markdown",
   "metadata": {},
   "source": [
    "### 3.1 Basic Ensuring Data is of the Correct \"Data Type\"\n",
    "\n",
    "3.1.1 and 3.1.2 We define three new objects below. Determine what types they are."
   ]
  },
  {
   "cell_type": "code",
   "execution_count": 3,
   "metadata": {},
   "outputs": [],
   "source": [
    "a=df['seed_class'][0]\n",
    "b=df['compactness'][1]\n",
    "c=df['perimeter'][2]"
   ]
  },
  {
   "cell_type": "code",
   "execution_count": 4,
   "metadata": {},
   "outputs": [
    {
     "name": "stdout",
     "output_type": "stream",
     "text": [
      "kama\n",
      "<class 'str'>\n",
      "0.8811\n",
      "<class 'str'>\n",
      "14.09\n",
      "<class 'numpy.float64'>\n"
     ]
    }
   ],
   "source": []
  },
  {
   "cell_type": "markdown",
   "metadata": {},
   "source": [
    "3.1.3 While compactness is supposed to be a numerical attribute, what do we get when we add the compactness of the first two seeds in the dataset?"
   ]
  },
  {
   "cell_type": "code",
   "execution_count": 5,
   "metadata": {},
   "outputs": [
    {
     "name": "stdout",
     "output_type": "stream",
     "text": [
      "First seed compactness: 0.871\n",
      "Second seed compactness: 0.8811\n"
     ]
    },
    {
     "data": {
      "text/plain": [
       "'0.8710.8811'"
      ]
     },
     "execution_count": 5,
     "metadata": {},
     "output_type": "execute_result"
    }
   ],
   "source": []
  },
  {
   "cell_type": "markdown",
   "metadata": {},
   "source": [
    "3.2.3 How can we quickly look at all possible values of of the compactness column? "
   ]
  },
  {
   "cell_type": "code",
   "execution_count": 6,
   "metadata": {},
   "outputs": [
    {
     "data": {
      "text/plain": [
       "array(['0.871', '0.8811', '0.905', '0.8955', '0.9024', '0.8951', '0.8799',\n",
       "       '0.8911', '0.8747', '0.888', '0.8696', '0.8796', '0.8759',\n",
       "       '0.8744', '0.8992', '0.9182', '0.9058', '0.9152', '0.8686',\n",
       "       '0.8584', '0.8722', '0.8988', '0.8664', 'missing value', '0.8849',\n",
       "       '0.8641', '0.8564', '0.882', '0.8604', '0.8662', '0.8724',\n",
       "       '0.8529', '0.8728', '0.8779', '0.9', '0.9079', '0.8822', '0.8944',\n",
       "       '0.8871', '0.8852', '0.9009', '0.8986', '0.8794', '0.8861',\n",
       "       '0.8882', '0.8819', '0.8676', '0.8751', '0.8922', '0.8528',\n",
       "       '0.8821', '0.8557', '0.8658', '0.8818', '0.9006', '0.8857',\n",
       "       '0.8292', '0.8682', '0.884', '0.868', '0.8716', '0.8879', '0.8726',\n",
       "       '0.8625', '0.8458', '0.8672', '0.8622', '0.8762', '0.9081',\n",
       "       '0.8786', '0.8628', '0.8599', '0.875', '0.8892', '0.8977',\n",
       "       '0.8894', '0.878', '0.887', '0.8969', '0.859', '0.8989', '0.9021',\n",
       "       '0.8746', '0.8984', '0.8906', '0.9066', '0.8452', '0.8648',\n",
       "       '0.8815', '0.8687', '0.8627', '0.881', '0.8866', '0.8985',\n",
       "       '0.8717', '0.8829', '0.8917', '0.9056', '0.88', '0.8752', '0.8865',\n",
       "       '0.8921', '0.9025', '0.8859', '0.8854', '0.9077', '0.889',\n",
       "       '0.9008', '0.8897', '0.8772', '0.8588', '0.9064', '0.8999',\n",
       "       '0.8698', '0.8725', '0.8991', '0.9108', '0.8942', '0.8706',\n",
       "       '0.8644', '0.899', '0.8785', '0.8527', '0.858', '0.885', '0.848',\n",
       "       '0.8612', '0.862', '0.8652', '0.8274', '0.8167', '0.8225',\n",
       "       '0.8491', '0.8107', '0.8496', '0.8249', '0.8222', '0.8266',\n",
       "       '0.8282', '0.8252', '0.8596', '0.8081', '0.8082', '0.8262',\n",
       "       '0.8425', '0.8502', '0.8416', '0.8558', '0.8792', '0.8462',\n",
       "       '0.8442', '0.8291', '0.8259', '0.8189', '0.8455', '0.8419',\n",
       "       '0.8275', '0.8099', '0.8255', '0.8229', '0.8472', '0.856',\n",
       "       '0.8579', '0.8575', '0.8541', '0.8198', '0.8272', '0.8594',\n",
       "       '0.829', '0.8562', '0.8795', '0.8256', '0.8629', '0.886', '0.8481',\n",
       "       '0.8964', '0.8609', '0.8874', '0.8567', '0.8782', '0.8511',\n",
       "       '0.8521', '0.8684'], dtype=object)"
      ]
     },
     "execution_count": 6,
     "metadata": {},
     "output_type": "execute_result"
    }
   ],
   "source": []
  },
  {
   "cell_type": "markdown",
   "metadata": {},
   "source": [
    "### 3.2 Basic Dealing with Missing Values\n",
    "3.2.1.\tHow do we read a csv into a dataframe and indicate, which types of values we would like Python to convert into a “NaN” object?"
   ]
  },
  {
   "cell_type": "code",
   "execution_count": 7,
   "metadata": {},
   "outputs": [],
   "source": []
  },
  {
   "cell_type": "markdown",
   "metadata": {},
   "source": [
    "3.2.2 Are there any \"NaN\" values in this dataframe?"
   ]
  },
  {
   "cell_type": "code",
   "execution_count": 8,
   "metadata": {},
   "outputs": [
    {
     "data": {
      "text/plain": [
       "area                     0\n",
       "perimeter                0\n",
       "compactness              1\n",
       "kernel_length            0\n",
       "width                    0\n",
       "asymmetry_coefficient    0\n",
       "kernel_groove_length     0\n",
       "seed_class               0\n",
       "perimeter_size           0\n",
       "dtype: int64"
      ]
     },
     "execution_count": 8,
     "metadata": {},
     "output_type": "execute_result"
    }
   ],
   "source": []
  },
  {
   "cell_type": "markdown",
   "metadata": {},
   "source": [
    "Yes, df has one \"NaN\" value in the compactness column."
   ]
  },
  {
   "cell_type": "markdown",
   "metadata": {},
   "source": [
    "3.2.3 Overwrite the dataframe df to be the dataframe that has all rows with na values dropped."
   ]
  },
  {
   "cell_type": "code",
   "execution_count": 9,
   "metadata": {},
   "outputs": [],
   "source": []
  },
  {
   "cell_type": "code",
   "execution_count": 10,
   "metadata": {},
   "outputs": [
    {
     "data": {
      "text/html": [
       "<div>\n",
       "<style scoped>\n",
       "    .dataframe tbody tr th:only-of-type {\n",
       "        vertical-align: middle;\n",
       "    }\n",
       "\n",
       "    .dataframe tbody tr th {\n",
       "        vertical-align: top;\n",
       "    }\n",
       "\n",
       "    .dataframe thead th {\n",
       "        text-align: right;\n",
       "    }\n",
       "</style>\n",
       "<table border=\"1\" class=\"dataframe\">\n",
       "  <thead>\n",
       "    <tr style=\"text-align: right;\">\n",
       "      <th></th>\n",
       "      <th>area</th>\n",
       "      <th>perimeter</th>\n",
       "      <th>compactness</th>\n",
       "      <th>kernel_length</th>\n",
       "      <th>width</th>\n",
       "      <th>asymmetry_coefficient</th>\n",
       "      <th>kernel_groove_length</th>\n",
       "      <th>seed_class</th>\n",
       "      <th>perimeter_size</th>\n",
       "    </tr>\n",
       "  </thead>\n",
       "  <tbody>\n",
       "    <tr>\n",
       "      <th>0</th>\n",
       "      <td>15.26</td>\n",
       "      <td>14.84</td>\n",
       "      <td>0.8710</td>\n",
       "      <td>5.762</td>\n",
       "      <td>2.212</td>\n",
       "      <td>2.221</td>\n",
       "      <td>5.220</td>\n",
       "      <td>kama</td>\n",
       "      <td>large</td>\n",
       "    </tr>\n",
       "    <tr>\n",
       "      <th>1</th>\n",
       "      <td>14.88</td>\n",
       "      <td>14.57</td>\n",
       "      <td>0.8811</td>\n",
       "      <td>5.554</td>\n",
       "      <td>2.222</td>\n",
       "      <td>1.018</td>\n",
       "      <td>4.956</td>\n",
       "      <td>kama</td>\n",
       "      <td>large</td>\n",
       "    </tr>\n",
       "    <tr>\n",
       "      <th>2</th>\n",
       "      <td>14.29</td>\n",
       "      <td>14.09</td>\n",
       "      <td>0.9050</td>\n",
       "      <td>5.291</td>\n",
       "      <td>2.227</td>\n",
       "      <td>2.699</td>\n",
       "      <td>4.825</td>\n",
       "      <td>kama</td>\n",
       "      <td>large</td>\n",
       "    </tr>\n",
       "    <tr>\n",
       "      <th>3</th>\n",
       "      <td>12.84</td>\n",
       "      <td>12.94</td>\n",
       "      <td>0.8955</td>\n",
       "      <td>5.224</td>\n",
       "      <td>2.279</td>\n",
       "      <td>2.259</td>\n",
       "      <td>4.805</td>\n",
       "      <td>kama</td>\n",
       "      <td>small</td>\n",
       "    </tr>\n",
       "    <tr>\n",
       "      <th>4</th>\n",
       "      <td>16.14</td>\n",
       "      <td>14.99</td>\n",
       "      <td>0.9024</td>\n",
       "      <td>5.658</td>\n",
       "      <td>2.562</td>\n",
       "      <td>1.255</td>\n",
       "      <td>5.175</td>\n",
       "      <td>kama</td>\n",
       "      <td>large</td>\n",
       "    </tr>\n",
       "    <tr>\n",
       "      <th>...</th>\n",
       "      <td>...</td>\n",
       "      <td>...</td>\n",
       "      <td>...</td>\n",
       "      <td>...</td>\n",
       "      <td>...</td>\n",
       "      <td>...</td>\n",
       "      <td>...</td>\n",
       "      <td>...</td>\n",
       "      <td>...</td>\n",
       "    </tr>\n",
       "    <tr>\n",
       "      <th>205</th>\n",
       "      <td>12.19</td>\n",
       "      <td>12.20</td>\n",
       "      <td>0.8782</td>\n",
       "      <td>5.127</td>\n",
       "      <td>2.981</td>\n",
       "      <td>2.621</td>\n",
       "      <td>4.870</td>\n",
       "      <td>canadian</td>\n",
       "      <td>small</td>\n",
       "    </tr>\n",
       "    <tr>\n",
       "      <th>206</th>\n",
       "      <td>11.22</td>\n",
       "      <td>12.88</td>\n",
       "      <td>0.8511</td>\n",
       "      <td>5.140</td>\n",
       "      <td>2.795</td>\n",
       "      <td>4.225</td>\n",
       "      <td>5.002</td>\n",
       "      <td>canadian</td>\n",
       "      <td>small</td>\n",
       "    </tr>\n",
       "    <tr>\n",
       "      <th>207</th>\n",
       "      <td>12.20</td>\n",
       "      <td>12.66</td>\n",
       "      <td>0.8882</td>\n",
       "      <td>5.226</td>\n",
       "      <td>2.222</td>\n",
       "      <td>8.215</td>\n",
       "      <td>5.056</td>\n",
       "      <td>canadian</td>\n",
       "      <td>small</td>\n",
       "    </tr>\n",
       "    <tr>\n",
       "      <th>208</th>\n",
       "      <td>11.84</td>\n",
       "      <td>12.21</td>\n",
       "      <td>0.8521</td>\n",
       "      <td>5.175</td>\n",
       "      <td>2.826</td>\n",
       "      <td>2.598</td>\n",
       "      <td>5.044</td>\n",
       "      <td>canadian</td>\n",
       "      <td>small</td>\n",
       "    </tr>\n",
       "    <tr>\n",
       "      <th>209</th>\n",
       "      <td>12.20</td>\n",
       "      <td>12.24</td>\n",
       "      <td>0.8684</td>\n",
       "      <td>5.242</td>\n",
       "      <td>2.974</td>\n",
       "      <td>5.627</td>\n",
       "      <td>5.062</td>\n",
       "      <td>canadian</td>\n",
       "      <td>small</td>\n",
       "    </tr>\n",
       "  </tbody>\n",
       "</table>\n",
       "<p>209 rows × 9 columns</p>\n",
       "</div>"
      ],
      "text/plain": [
       "      area  perimeter  compactness  kernel_length  width  \\\n",
       "0    15.26      14.84       0.8710          5.762  2.212   \n",
       "1    14.88      14.57       0.8811          5.554  2.222   \n",
       "2    14.29      14.09       0.9050          5.291  2.227   \n",
       "3    12.84      12.94       0.8955          5.224  2.279   \n",
       "4    16.14      14.99       0.9024          5.658  2.562   \n",
       "..     ...        ...          ...            ...    ...   \n",
       "205  12.19      12.20       0.8782          5.127  2.981   \n",
       "206  11.22      12.88       0.8511          5.140  2.795   \n",
       "207  12.20      12.66       0.8882          5.226  2.222   \n",
       "208  11.84      12.21       0.8521          5.175  2.826   \n",
       "209  12.20      12.24       0.8684          5.242  2.974   \n",
       "\n",
       "     asymmetry_coefficient  kernel_groove_length seed_class perimeter_size  \n",
       "0                    2.221                 5.220       kama          large  \n",
       "1                    1.018                 4.956       kama          large  \n",
       "2                    2.699                 4.825       kama          large  \n",
       "3                    2.259                 4.805       kama          small  \n",
       "4                    1.255                 5.175       kama          large  \n",
       "..                     ...                   ...        ...            ...  \n",
       "205                  2.621                 4.870   canadian          small  \n",
       "206                  4.225                 5.002   canadian          small  \n",
       "207                  8.215                 5.056   canadian          small  \n",
       "208                  2.598                 5.044   canadian          small  \n",
       "209                  5.627                 5.062   canadian          small  \n",
       "\n",
       "[209 rows x 9 columns]"
      ]
     },
     "execution_count": 10,
     "metadata": {},
     "output_type": "execute_result"
    }
   ],
   "source": []
  },
  {
   "cell_type": "markdown",
   "metadata": {},
   "source": [
    "3.2.4 What would most functions in Python do if we had not dropped this row with missing data?"
   ]
  },
  {
   "cell_type": "markdown",
   "metadata": {},
   "source": []
  },
  {
   "cell_type": "markdown",
   "metadata": {},
   "source": [
    "## 4. Dataframe Manipulation"
   ]
  },
  {
   "cell_type": "markdown",
   "metadata": {},
   "source": [
    "### 4.2. Basic Dataframe Description\n",
    "4.2.2 Show the shape of the dataframe (ie. # of rows and # of columns).\n",
    "\n",
    "4.2.3 Display the columns of the dataframe.\n",
    "\n",
    "4.2.4 Display the index of the dataframe."
   ]
  },
  {
   "cell_type": "code",
   "execution_count": 11,
   "metadata": {},
   "outputs": [
    {
     "data": {
      "text/plain": [
       "(209, 9)"
      ]
     },
     "execution_count": 11,
     "metadata": {},
     "output_type": "execute_result"
    }
   ],
   "source": []
  },
  {
   "cell_type": "markdown",
   "metadata": {},
   "source": [
    "* 209 rows\n",
    "* 8 columns"
   ]
  },
  {
   "cell_type": "code",
   "execution_count": 12,
   "metadata": {},
   "outputs": [
    {
     "data": {
      "text/plain": [
       "array(['area', 'perimeter', 'compactness', 'kernel_length', 'width',\n",
       "       'asymmetry_coefficient', 'kernel_groove_length', 'seed_class',\n",
       "       'perimeter_size'], dtype=object)"
      ]
     },
     "execution_count": 12,
     "metadata": {},
     "output_type": "execute_result"
    }
   ],
   "source": []
  },
  {
   "cell_type": "code",
   "execution_count": 13,
   "metadata": {},
   "outputs": [
    {
     "data": {
      "text/plain": [
       "Int64Index([  0,   1,   2,   3,   4,   5,   6,   7,   8,   9,\n",
       "            ...\n",
       "            200, 201, 202, 203, 204, 205, 206, 207, 208, 209],\n",
       "           dtype='int64', length=209)"
      ]
     },
     "execution_count": 13,
     "metadata": {},
     "output_type": "execute_result"
    }
   ],
   "source": []
  },
  {
   "cell_type": "markdown",
   "metadata": {},
   "source": [
    "### 4.3 Creating a dataframe\n",
    "* 4.3.1 Create a dataframe (called df2) that contains the following information.\n",
    "    - a column called 'name', containing the names 'joe', 'nick', 'kevin'\n",
    "    - a column called 'age', containing the ages 31, 28, 32"
   ]
  },
  {
   "cell_type": "code",
   "execution_count": 14,
   "metadata": {},
   "outputs": [
    {
     "data": {
      "text/html": [
       "<div>\n",
       "<style scoped>\n",
       "    .dataframe tbody tr th:only-of-type {\n",
       "        vertical-align: middle;\n",
       "    }\n",
       "\n",
       "    .dataframe tbody tr th {\n",
       "        vertical-align: top;\n",
       "    }\n",
       "\n",
       "    .dataframe thead th {\n",
       "        text-align: right;\n",
       "    }\n",
       "</style>\n",
       "<table border=\"1\" class=\"dataframe\">\n",
       "  <thead>\n",
       "    <tr style=\"text-align: right;\">\n",
       "      <th></th>\n",
       "      <th>name</th>\n",
       "      <th>age</th>\n",
       "    </tr>\n",
       "  </thead>\n",
       "  <tbody>\n",
       "    <tr>\n",
       "      <th>0</th>\n",
       "      <td>joe</td>\n",
       "      <td>31</td>\n",
       "    </tr>\n",
       "    <tr>\n",
       "      <th>1</th>\n",
       "      <td>nick</td>\n",
       "      <td>28</td>\n",
       "    </tr>\n",
       "    <tr>\n",
       "      <th>2</th>\n",
       "      <td>kevin</td>\n",
       "      <td>32</td>\n",
       "    </tr>\n",
       "  </tbody>\n",
       "</table>\n",
       "</div>"
      ],
      "text/plain": [
       "    name  age\n",
       "0    joe   31\n",
       "1   nick   28\n",
       "2  kevin   32"
      ]
     },
     "execution_count": 14,
     "metadata": {},
     "output_type": "execute_result"
    }
   ],
   "source": []
  },
  {
   "cell_type": "markdown",
   "metadata": {},
   "source": [
    "### 4.4 How to isolate a column from a dataframe.\n",
    "4.4.1 Display just the name column of the df2 dataframe."
   ]
  },
  {
   "cell_type": "code",
   "execution_count": 15,
   "metadata": {},
   "outputs": [
    {
     "data": {
      "text/plain": [
       "0      joe\n",
       "1     nick\n",
       "2    kevin\n",
       "Name: name, dtype: object"
      ]
     },
     "execution_count": 15,
     "metadata": {},
     "output_type": "execute_result"
    }
   ],
   "source": []
  },
  {
   "cell_type": "markdown",
   "metadata": {},
   "source": [
    "4.4.2 Display just the name of the column of the df2 dataframe (using the .iloc function)"
   ]
  },
  {
   "cell_type": "code",
   "execution_count": 16,
   "metadata": {},
   "outputs": [
    {
     "data": {
      "text/plain": [
       "0      joe\n",
       "1     nick\n",
       "2    kevin\n",
       "Name: name, dtype: object"
      ]
     },
     "execution_count": 16,
     "metadata": {},
     "output_type": "execute_result"
    }
   ],
   "source": []
  },
  {
   "cell_type": "markdown",
   "metadata": {},
   "source": [
    "### 4.5 How to isolate ranges of values in a dataframe\n",
    "* 4.5.1 Display the third row in the df2 dataframe."
   ]
  },
  {
   "cell_type": "code",
   "execution_count": 17,
   "metadata": {},
   "outputs": [
    {
     "data": {
      "text/plain": [
       "name    kevin\n",
       "age        32\n",
       "Name: 2, dtype: object"
      ]
     },
     "execution_count": 17,
     "metadata": {},
     "output_type": "execute_result"
    }
   ],
   "source": []
  },
  {
   "cell_type": "markdown",
   "metadata": {},
   "source": [
    "* 4.5.2-4.5.7 Display the first and third row and the first two columns of the df2 dataframe."
   ]
  },
  {
   "cell_type": "code",
   "execution_count": 18,
   "metadata": {},
   "outputs": [
    {
     "data": {
      "text/html": [
       "<div>\n",
       "<style scoped>\n",
       "    .dataframe tbody tr th:only-of-type {\n",
       "        vertical-align: middle;\n",
       "    }\n",
       "\n",
       "    .dataframe tbody tr th {\n",
       "        vertical-align: top;\n",
       "    }\n",
       "\n",
       "    .dataframe thead th {\n",
       "        text-align: right;\n",
       "    }\n",
       "</style>\n",
       "<table border=\"1\" class=\"dataframe\">\n",
       "  <thead>\n",
       "    <tr style=\"text-align: right;\">\n",
       "      <th></th>\n",
       "      <th>name</th>\n",
       "      <th>age</th>\n",
       "    </tr>\n",
       "  </thead>\n",
       "  <tbody>\n",
       "    <tr>\n",
       "      <th>0</th>\n",
       "      <td>joe</td>\n",
       "      <td>31</td>\n",
       "    </tr>\n",
       "    <tr>\n",
       "      <th>2</th>\n",
       "      <td>kevin</td>\n",
       "      <td>32</td>\n",
       "    </tr>\n",
       "  </tbody>\n",
       "</table>\n",
       "</div>"
      ],
      "text/plain": [
       "    name  age\n",
       "0    joe   31\n",
       "2  kevin   32"
      ]
     },
     "execution_count": 18,
     "metadata": {},
     "output_type": "execute_result"
    }
   ],
   "source": []
  },
  {
   "cell_type": "markdown",
   "metadata": {},
   "source": [
    "## 4.6 Filtering a Dataframe\n",
    "4.6.2 Create a new dataframe called df3 that is just comprised of people in df2 that are in their 30's."
   ]
  },
  {
   "cell_type": "code",
   "execution_count": 19,
   "metadata": {},
   "outputs": [
    {
     "data": {
      "text/html": [
       "<div>\n",
       "<style scoped>\n",
       "    .dataframe tbody tr th:only-of-type {\n",
       "        vertical-align: middle;\n",
       "    }\n",
       "\n",
       "    .dataframe tbody tr th {\n",
       "        vertical-align: top;\n",
       "    }\n",
       "\n",
       "    .dataframe thead th {\n",
       "        text-align: right;\n",
       "    }\n",
       "</style>\n",
       "<table border=\"1\" class=\"dataframe\">\n",
       "  <thead>\n",
       "    <tr style=\"text-align: right;\">\n",
       "      <th></th>\n",
       "      <th>name</th>\n",
       "      <th>age</th>\n",
       "    </tr>\n",
       "  </thead>\n",
       "  <tbody>\n",
       "    <tr>\n",
       "      <th>0</th>\n",
       "      <td>joe</td>\n",
       "      <td>31</td>\n",
       "    </tr>\n",
       "    <tr>\n",
       "      <th>2</th>\n",
       "      <td>kevin</td>\n",
       "      <td>32</td>\n",
       "    </tr>\n",
       "  </tbody>\n",
       "</table>\n",
       "</div>"
      ],
      "text/plain": [
       "    name  age\n",
       "0    joe   31\n",
       "2  kevin   32"
      ]
     },
     "execution_count": 19,
     "metadata": {},
     "output_type": "execute_result"
    }
   ],
   "source": []
  },
  {
   "cell_type": "markdown",
   "metadata": {},
   "source": [
    "4.6.3 Create a new dataframe called df4 that is just comprised of people named 'joe'."
   ]
  },
  {
   "cell_type": "code",
   "execution_count": 20,
   "metadata": {},
   "outputs": [
    {
     "data": {
      "text/html": [
       "<div>\n",
       "<style scoped>\n",
       "    .dataframe tbody tr th:only-of-type {\n",
       "        vertical-align: middle;\n",
       "    }\n",
       "\n",
       "    .dataframe tbody tr th {\n",
       "        vertical-align: top;\n",
       "    }\n",
       "\n",
       "    .dataframe thead th {\n",
       "        text-align: right;\n",
       "    }\n",
       "</style>\n",
       "<table border=\"1\" class=\"dataframe\">\n",
       "  <thead>\n",
       "    <tr style=\"text-align: right;\">\n",
       "      <th></th>\n",
       "      <th>name</th>\n",
       "      <th>age</th>\n",
       "    </tr>\n",
       "  </thead>\n",
       "  <tbody>\n",
       "    <tr>\n",
       "      <th>0</th>\n",
       "      <td>joe</td>\n",
       "      <td>31</td>\n",
       "    </tr>\n",
       "  </tbody>\n",
       "</table>\n",
       "</div>"
      ],
      "text/plain": [
       "  name  age\n",
       "0  joe   31"
      ]
     },
     "execution_count": 20,
     "metadata": {},
     "output_type": "execute_result"
    }
   ],
   "source": []
  },
  {
   "cell_type": "markdown",
   "metadata": {},
   "source": [
    "## 4.7 What are two ways to vertically stack two dataframes?\n",
    "\n",
    "* Create a new dataframe called df5 that is df3 vertically stacked on top of df4."
   ]
  },
  {
   "cell_type": "code",
   "execution_count": 21,
   "metadata": {},
   "outputs": [
    {
     "data": {
      "text/html": [
       "<div>\n",
       "<style scoped>\n",
       "    .dataframe tbody tr th:only-of-type {\n",
       "        vertical-align: middle;\n",
       "    }\n",
       "\n",
       "    .dataframe tbody tr th {\n",
       "        vertical-align: top;\n",
       "    }\n",
       "\n",
       "    .dataframe thead th {\n",
       "        text-align: right;\n",
       "    }\n",
       "</style>\n",
       "<table border=\"1\" class=\"dataframe\">\n",
       "  <thead>\n",
       "    <tr style=\"text-align: right;\">\n",
       "      <th></th>\n",
       "      <th>name</th>\n",
       "      <th>age</th>\n",
       "    </tr>\n",
       "  </thead>\n",
       "  <tbody>\n",
       "    <tr>\n",
       "      <th>0</th>\n",
       "      <td>joe</td>\n",
       "      <td>31</td>\n",
       "    </tr>\n",
       "    <tr>\n",
       "      <th>2</th>\n",
       "      <td>kevin</td>\n",
       "      <td>32</td>\n",
       "    </tr>\n",
       "    <tr>\n",
       "      <th>0</th>\n",
       "      <td>joe</td>\n",
       "      <td>31</td>\n",
       "    </tr>\n",
       "  </tbody>\n",
       "</table>\n",
       "</div>"
      ],
      "text/plain": [
       "    name  age\n",
       "0    joe   31\n",
       "2  kevin   32\n",
       "0    joe   31"
      ]
     },
     "execution_count": 21,
     "metadata": {},
     "output_type": "execute_result"
    }
   ],
   "source": []
  },
  {
   "cell_type": "markdown",
   "metadata": {},
   "source": [
    "* Create a new dataframe called df5 that is df3 vertically stacked on top of df4, and have the index go from 0 to 2."
   ]
  },
  {
   "cell_type": "code",
   "execution_count": 22,
   "metadata": {},
   "outputs": [
    {
     "data": {
      "text/html": [
       "<div>\n",
       "<style scoped>\n",
       "    .dataframe tbody tr th:only-of-type {\n",
       "        vertical-align: middle;\n",
       "    }\n",
       "\n",
       "    .dataframe tbody tr th {\n",
       "        vertical-align: top;\n",
       "    }\n",
       "\n",
       "    .dataframe thead th {\n",
       "        text-align: right;\n",
       "    }\n",
       "</style>\n",
       "<table border=\"1\" class=\"dataframe\">\n",
       "  <thead>\n",
       "    <tr style=\"text-align: right;\">\n",
       "      <th></th>\n",
       "      <th>name</th>\n",
       "      <th>age</th>\n",
       "    </tr>\n",
       "  </thead>\n",
       "  <tbody>\n",
       "    <tr>\n",
       "      <th>0</th>\n",
       "      <td>joe</td>\n",
       "      <td>31</td>\n",
       "    </tr>\n",
       "    <tr>\n",
       "      <th>1</th>\n",
       "      <td>kevin</td>\n",
       "      <td>32</td>\n",
       "    </tr>\n",
       "    <tr>\n",
       "      <th>2</th>\n",
       "      <td>joe</td>\n",
       "      <td>31</td>\n",
       "    </tr>\n",
       "  </tbody>\n",
       "</table>\n",
       "</div>"
      ],
      "text/plain": [
       "    name  age\n",
       "0    joe   31\n",
       "1  kevin   32\n",
       "2    joe   31"
      ]
     },
     "execution_count": 22,
     "metadata": {},
     "output_type": "execute_result"
    }
   ],
   "source": []
  },
  {
   "cell_type": "markdown",
   "metadata": {},
   "source": [
    "## 4.8 How do you merge two dataframes that share similar values in a given column?\n",
    "Below we create a new dataframe called df_order. Notice that they both have a column called 'name' with some overlapping values.\n",
    "\n",
    "Create a new dataframe called df_final that is what you get when you merge the df5 dataframe and the df_order dataframe on the 'name' column.\n",
    "\n",
    "Before your run this code, think about what you would expect this dataframe to contain."
   ]
  },
  {
   "cell_type": "code",
   "execution_count": 23,
   "metadata": {},
   "outputs": [],
   "source": []
  },
  {
   "cell_type": "code",
   "execution_count": 24,
   "metadata": {},
   "outputs": [
    {
     "data": {
      "text/html": [
       "<div>\n",
       "<style scoped>\n",
       "    .dataframe tbody tr th:only-of-type {\n",
       "        vertical-align: middle;\n",
       "    }\n",
       "\n",
       "    .dataframe tbody tr th {\n",
       "        vertical-align: top;\n",
       "    }\n",
       "\n",
       "    .dataframe thead th {\n",
       "        text-align: right;\n",
       "    }\n",
       "</style>\n",
       "<table border=\"1\" class=\"dataframe\">\n",
       "  <thead>\n",
       "    <tr style=\"text-align: right;\">\n",
       "      <th></th>\n",
       "      <th>name</th>\n",
       "      <th>order</th>\n",
       "      <th>age</th>\n",
       "    </tr>\n",
       "  </thead>\n",
       "  <tbody>\n",
       "    <tr>\n",
       "      <th>0</th>\n",
       "      <td>joe</td>\n",
       "      <td>middle</td>\n",
       "      <td>31</td>\n",
       "    </tr>\n",
       "    <tr>\n",
       "      <th>1</th>\n",
       "      <td>joe</td>\n",
       "      <td>middle</td>\n",
       "      <td>31</td>\n",
       "    </tr>\n",
       "    <tr>\n",
       "      <th>2</th>\n",
       "      <td>kevin</td>\n",
       "      <td>oldest</td>\n",
       "      <td>32</td>\n",
       "    </tr>\n",
       "  </tbody>\n",
       "</table>\n",
       "</div>"
      ],
      "text/plain": [
       "    name   order  age\n",
       "0    joe  middle   31\n",
       "1    joe  middle   31\n",
       "2  kevin  oldest   32"
      ]
     },
     "execution_count": 24,
     "metadata": {},
     "output_type": "execute_result"
    }
   ],
   "source": []
  },
  {
   "cell_type": "markdown",
   "metadata": {},
   "source": [
    "## 4.9 How do you sort a dataframe by values in a given column.\n",
    "* 4.9.1 Sort the df2 dataframe by age in ascending order.\n",
    "* 4.9.2 Sort the df2 dataframe by age in descending order.\n"
   ]
  },
  {
   "cell_type": "code",
   "execution_count": 25,
   "metadata": {},
   "outputs": [
    {
     "data": {
      "text/html": [
       "<div>\n",
       "<style scoped>\n",
       "    .dataframe tbody tr th:only-of-type {\n",
       "        vertical-align: middle;\n",
       "    }\n",
       "\n",
       "    .dataframe tbody tr th {\n",
       "        vertical-align: top;\n",
       "    }\n",
       "\n",
       "    .dataframe thead th {\n",
       "        text-align: right;\n",
       "    }\n",
       "</style>\n",
       "<table border=\"1\" class=\"dataframe\">\n",
       "  <thead>\n",
       "    <tr style=\"text-align: right;\">\n",
       "      <th></th>\n",
       "      <th>name</th>\n",
       "      <th>age</th>\n",
       "    </tr>\n",
       "  </thead>\n",
       "  <tbody>\n",
       "    <tr>\n",
       "      <th>1</th>\n",
       "      <td>nick</td>\n",
       "      <td>28</td>\n",
       "    </tr>\n",
       "    <tr>\n",
       "      <th>0</th>\n",
       "      <td>joe</td>\n",
       "      <td>31</td>\n",
       "    </tr>\n",
       "    <tr>\n",
       "      <th>2</th>\n",
       "      <td>kevin</td>\n",
       "      <td>32</td>\n",
       "    </tr>\n",
       "  </tbody>\n",
       "</table>\n",
       "</div>"
      ],
      "text/plain": [
       "    name  age\n",
       "1   nick   28\n",
       "0    joe   31\n",
       "2  kevin   32"
      ]
     },
     "execution_count": 25,
     "metadata": {},
     "output_type": "execute_result"
    }
   ],
   "source": []
  },
  {
   "cell_type": "code",
   "execution_count": 26,
   "metadata": {},
   "outputs": [
    {
     "data": {
      "text/html": [
       "<div>\n",
       "<style scoped>\n",
       "    .dataframe tbody tr th:only-of-type {\n",
       "        vertical-align: middle;\n",
       "    }\n",
       "\n",
       "    .dataframe tbody tr th {\n",
       "        vertical-align: top;\n",
       "    }\n",
       "\n",
       "    .dataframe thead th {\n",
       "        text-align: right;\n",
       "    }\n",
       "</style>\n",
       "<table border=\"1\" class=\"dataframe\">\n",
       "  <thead>\n",
       "    <tr style=\"text-align: right;\">\n",
       "      <th></th>\n",
       "      <th>name</th>\n",
       "      <th>age</th>\n",
       "    </tr>\n",
       "  </thead>\n",
       "  <tbody>\n",
       "    <tr>\n",
       "      <th>2</th>\n",
       "      <td>kevin</td>\n",
       "      <td>32</td>\n",
       "    </tr>\n",
       "    <tr>\n",
       "      <th>0</th>\n",
       "      <td>joe</td>\n",
       "      <td>31</td>\n",
       "    </tr>\n",
       "    <tr>\n",
       "      <th>1</th>\n",
       "      <td>nick</td>\n",
       "      <td>28</td>\n",
       "    </tr>\n",
       "  </tbody>\n",
       "</table>\n",
       "</div>"
      ],
      "text/plain": [
       "    name  age\n",
       "2  kevin   32\n",
       "0    joe   31\n",
       "1   nick   28"
      ]
     },
     "execution_count": 26,
     "metadata": {},
     "output_type": "execute_result"
    }
   ],
   "source": []
  },
  {
   "cell_type": "markdown",
   "metadata": {},
   "source": [
    "## 5.3 Describing a Single Categorical Variable\n",
    "5.3.1 Count how many of each seed_class there is in the df dataframe."
   ]
  },
  {
   "cell_type": "code",
   "execution_count": 27,
   "metadata": {},
   "outputs": [
    {
     "data": {
      "text/plain": [
       "canadian    70\n",
       "rosa        70\n",
       "kama        69\n",
       "Name: seed_class, dtype: int64"
      ]
     },
     "execution_count": 27,
     "metadata": {},
     "output_type": "execute_result"
    }
   ],
   "source": []
  },
  {
   "cell_type": "markdown",
   "metadata": {},
   "source": [
    "5.3.2 Visualize the number of each type of seed_class."
   ]
  },
  {
   "cell_type": "code",
   "execution_count": 28,
   "metadata": {},
   "outputs": [
    {
     "name": "stderr",
     "output_type": "stream",
     "text": [
      "C:\\Users\\vellison\\Miniconda3\\lib\\site-packages\\seaborn\\_decorators.py:36: FutureWarning: Pass the following variables as keyword args: x, y. From version 0.12, the only valid positional argument will be `data`, and passing other arguments without an explicit keyword will result in an error or misinterpretation.\n",
      "  warnings.warn(\n"
     ]
    },
    {
     "data": {
      "image/png": "[encoded data removed]",
      "text/plain": [
       "<Figure size 432x288 with 1 Axes>"
      ]
     },
     "metadata": {
      "needs_background": "light"
     },
     "output_type": "display_data"
    }
   ],
   "source": []
  },
  {
   "cell_type": "markdown",
   "metadata": {},
   "source": [
    "## 5.4 Determining if there is an association between two categorical variables."
   ]
  },
  {
   "cell_type": "markdown",
   "metadata": {},
   "source": [
    "5.4.1 How many of the following are there:\n",
    "- (large perimeter Canadian seeds)\n",
    "- (small perimeter Canadian seeds)\n",
    "- (large perimeter kama seeds)\n",
    "- (small perimeter kama seeds)\n",
    "- (large perimeter rosa seeds)\n",
    "- (small perimeter rosa seeds)"
   ]
  },
  {
   "cell_type": "code",
   "execution_count": 29,
   "metadata": {},
   "outputs": [
    {
     "data": {
      "text/html": [
       "<div>\n",
       "<style scoped>\n",
       "    .dataframe tbody tr th:only-of-type {\n",
       "        vertical-align: middle;\n",
       "    }\n",
       "\n",
       "    .dataframe tbody tr th {\n",
       "        vertical-align: top;\n",
       "    }\n",
       "\n",
       "    .dataframe thead th {\n",
       "        text-align: right;\n",
       "    }\n",
       "</style>\n",
       "<table border=\"1\" class=\"dataframe\">\n",
       "  <thead>\n",
       "    <tr style=\"text-align: right;\">\n",
       "      <th>perimeter_size</th>\n",
       "      <th>large</th>\n",
       "      <th>small</th>\n",
       "    </tr>\n",
       "    <tr>\n",
       "      <th>seed_class</th>\n",
       "      <th></th>\n",
       "      <th></th>\n",
       "    </tr>\n",
       "  </thead>\n",
       "  <tbody>\n",
       "    <tr>\n",
       "      <th>canadian</th>\n",
       "      <td>0</td>\n",
       "      <td>70</td>\n",
       "    </tr>\n",
       "    <tr>\n",
       "      <th>kama</th>\n",
       "      <td>51</td>\n",
       "      <td>18</td>\n",
       "    </tr>\n",
       "    <tr>\n",
       "      <th>rosa</th>\n",
       "      <td>70</td>\n",
       "      <td>0</td>\n",
       "    </tr>\n",
       "  </tbody>\n",
       "</table>\n",
       "</div>"
      ],
      "text/plain": [
       "perimeter_size  large  small\n",
       "seed_class                  \n",
       "canadian            0     70\n",
       "kama               51     18\n",
       "rosa               70      0"
      ]
     },
     "execution_count": 29,
     "metadata": {},
     "output_type": "execute_result"
    }
   ],
   "source": []
  },
  {
   "cell_type": "markdown",
   "metadata": {},
   "source": [
    "5.4.2 \n",
    "- What percent of Canandian seeds have a large perimeter size, a small perimeter size?\n",
    "- What percent of kama seeds have a large perimeter size, a small perimeter size?\n",
    "- What percent of rosa seeds have a large perimeter size, a small perimeter size?"
   ]
  },
  {
   "cell_type": "code",
   "execution_count": 30,
   "metadata": {},
   "outputs": [
    {
     "data": {
      "text/html": [
       "<div>\n",
       "<style scoped>\n",
       "    .dataframe tbody tr th:only-of-type {\n",
       "        vertical-align: middle;\n",
       "    }\n",
       "\n",
       "    .dataframe tbody tr th {\n",
       "        vertical-align: top;\n",
       "    }\n",
       "\n",
       "    .dataframe thead th {\n",
       "        text-align: right;\n",
       "    }\n",
       "</style>\n",
       "<table border=\"1\" class=\"dataframe\">\n",
       "  <thead>\n",
       "    <tr style=\"text-align: right;\">\n",
       "      <th>perimeter_size</th>\n",
       "      <th>large</th>\n",
       "      <th>small</th>\n",
       "    </tr>\n",
       "    <tr>\n",
       "      <th>seed_class</th>\n",
       "      <th></th>\n",
       "      <th></th>\n",
       "    </tr>\n",
       "  </thead>\n",
       "  <tbody>\n",
       "    <tr>\n",
       "      <th>canadian</th>\n",
       "      <td>0.00000</td>\n",
       "      <td>1.00000</td>\n",
       "    </tr>\n",
       "    <tr>\n",
       "      <th>kama</th>\n",
       "      <td>0.73913</td>\n",
       "      <td>0.26087</td>\n",
       "    </tr>\n",
       "    <tr>\n",
       "      <th>rosa</th>\n",
       "      <td>1.00000</td>\n",
       "      <td>0.00000</td>\n",
       "    </tr>\n",
       "  </tbody>\n",
       "</table>\n",
       "</div>"
      ],
      "text/plain": [
       "perimeter_size    large    small\n",
       "seed_class                      \n",
       "canadian        0.00000  1.00000\n",
       "kama            0.73913  0.26087\n",
       "rosa            1.00000  0.00000"
      ]
     },
     "execution_count": 30,
     "metadata": {},
     "output_type": "execute_result"
    }
   ],
   "source": []
  },
  {
   "cell_type": "markdown",
   "metadata": {},
   "source": [
    "5.4.2 \n",
    "- What percent of large_perimeter seeds are: canadian, kama, and rosa?\n",
    "- What percent of small_perimeter seeds are: canadian, kama, and rosa?"
   ]
  },
  {
   "cell_type": "code",
   "execution_count": 31,
   "metadata": {},
   "outputs": [
    {
     "data": {
      "text/html": [
       "<div>\n",
       "<style scoped>\n",
       "    .dataframe tbody tr th:only-of-type {\n",
       "        vertical-align: middle;\n",
       "    }\n",
       "\n",
       "    .dataframe tbody tr th {\n",
       "        vertical-align: top;\n",
       "    }\n",
       "\n",
       "    .dataframe thead th {\n",
       "        text-align: right;\n",
       "    }\n",
       "</style>\n",
       "<table border=\"1\" class=\"dataframe\">\n",
       "  <thead>\n",
       "    <tr style=\"text-align: right;\">\n",
       "      <th>seed_class</th>\n",
       "      <th>canadian</th>\n",
       "      <th>kama</th>\n",
       "      <th>rosa</th>\n",
       "    </tr>\n",
       "    <tr>\n",
       "      <th>perimeter_size</th>\n",
       "      <th></th>\n",
       "      <th></th>\n",
       "      <th></th>\n",
       "    </tr>\n",
       "  </thead>\n",
       "  <tbody>\n",
       "    <tr>\n",
       "      <th>large</th>\n",
       "      <td>0.000000</td>\n",
       "      <td>0.421488</td>\n",
       "      <td>0.578512</td>\n",
       "    </tr>\n",
       "    <tr>\n",
       "      <th>small</th>\n",
       "      <td>0.795455</td>\n",
       "      <td>0.204545</td>\n",
       "      <td>0.000000</td>\n",
       "    </tr>\n",
       "  </tbody>\n",
       "</table>\n",
       "</div>"
      ],
      "text/plain": [
       "seed_class      canadian      kama      rosa\n",
       "perimeter_size                              \n",
       "large           0.000000  0.421488  0.578512\n",
       "small           0.795455  0.204545  0.000000"
      ]
     },
     "execution_count": 31,
     "metadata": {},
     "output_type": "execute_result"
    }
   ],
   "source": []
  },
  {
   "cell_type": "markdown",
   "metadata": {},
   "source": [
    "5.4.3 Visualize these distributions from 5.4.1 and 5.4.2"
   ]
  },
  {
   "cell_type": "code",
   "execution_count": 32,
   "metadata": {},
   "outputs": [
    {
     "data": {
      "image/png": "[encoded data removed]",
      "text/plain": [
       "<Figure size 432x288 with 1 Axes>"
      ]
     },
     "metadata": {
      "needs_background": "light"
     },
     "output_type": "display_data"
    }
   ],
   "source": [
    "\n"
   ]
  },
  {
   "cell_type": "markdown",
   "metadata": {},
   "source": [
    "Because the orange (or equivalently) blue bars are of different heights, there is an association between seed type and perimeter size in this dataset."
   ]
  },
  {
   "cell_type": "code",
   "execution_count": 33,
   "metadata": {},
   "outputs": [
    {
     "data": {
      "image/png": "[encoded data removed]",
      "text/plain": [
       "<Figure size 432x288 with 1 Axes>"
      ]
     },
     "metadata": {
      "needs_background": "light"
     },
     "output_type": "display_data"
    }
   ],
   "source": [
    "\n"
   ]
  },
  {
   "cell_type": "markdown",
   "metadata": {},
   "source": [
    "Because the bars are of different heights, there is an association between seed type and perimeter size in this dataset."
   ]
  },
  {
   "cell_type": "code",
   "execution_count": 34,
   "metadata": {},
   "outputs": [
    {
     "data": {
      "image/png": "[encoded data removed]",
      "text/plain": [
       "<Figure size 432x288 with 1 Axes>"
      ]
     },
     "metadata": {
      "needs_background": "light"
     },
     "output_type": "display_data"
    }
   ],
   "source": []
  },
  {
   "cell_type": "markdown",
   "metadata": {},
   "source": [
    "Because the orange (or equivalently) blue bars are of different heights, there is an association between seed type and perimeter size in this dataset."
   ]
  },
  {
   "cell_type": "markdown",
   "metadata": {},
   "source": [
    "## 5.5 Describing the Distribution of a Single Numerical Variable in a Dataset"
   ]
  },
  {
   "cell_type": "markdown",
   "metadata": {},
   "source": [
    "### 5.5.1 Summary Statistics\n",
    "#### 5.5.1.1 Measures of center\n",
    "* 5.5.1.1.1.Calculate the mean and the median of the seed area in df.\n"
   ]
  },
  {
   "cell_type": "code",
   "execution_count": 35,
   "metadata": {},
   "outputs": [
    {
     "data": {
      "text/plain": [
       "14.7433014354067"
      ]
     },
     "execution_count": 35,
     "metadata": {},
     "output_type": "execute_result"
    }
   ],
   "source": []
  },
  {
   "cell_type": "code",
   "execution_count": 36,
   "metadata": {},
   "outputs": [
    {
     "data": {
      "text/plain": [
       "14.28"
      ]
     },
     "execution_count": 36,
     "metadata": {},
     "output_type": "execute_result"
    }
   ],
   "source": []
  },
  {
   "cell_type": "markdown",
   "metadata": {},
   "source": [
    "5.5.1.1.3\n",
    "* Do you think this distribution is likely to be symmetric, left-skewed, or right-skewed?"
   ]
  },
  {
   "cell_type": "markdown",
   "metadata": {},
   "source": []
  },
  {
   "cell_type": "markdown",
   "metadata": {},
   "source": [
    "#### 5.5.1.2 Measures of spread\n",
    "* 5.5.1.2.Calculate the standard deviation, variance, IQR, Q1, Q3, and range of the area column in df."
   ]
  },
  {
   "cell_type": "code",
   "execution_count": 37,
   "metadata": {},
   "outputs": [
    {
     "data": {
      "text/plain": [
       "2.9737833824633624"
      ]
     },
     "execution_count": 37,
     "metadata": {},
     "output_type": "execute_result"
    }
   ],
   "source": []
  },
  {
   "cell_type": "code",
   "execution_count": 38,
   "metadata": {},
   "outputs": [
    {
     "data": {
      "text/plain": [
       "8.843387605815238"
      ]
     },
     "execution_count": 38,
     "metadata": {},
     "output_type": "execute_result"
    }
   ],
   "source": []
  },
  {
   "cell_type": "code",
   "execution_count": 39,
   "metadata": {},
   "outputs": [
    {
     "data": {
      "text/plain": [
       "10.59"
      ]
     },
     "execution_count": 39,
     "metadata": {},
     "output_type": "execute_result"
    }
   ],
   "source": [
    "\n"
   ]
  },
  {
   "cell_type": "code",
   "execution_count": 40,
   "metadata": {},
   "outputs": [
    {
     "data": {
      "text/plain": [
       "12.19"
      ]
     },
     "execution_count": 40,
     "metadata": {},
     "output_type": "execute_result"
    }
   ],
   "source": []
  },
  {
   "cell_type": "code",
   "execution_count": 41,
   "metadata": {},
   "outputs": [
    {
     "data": {
      "text/plain": [
       "17.26"
      ]
     },
     "execution_count": 41,
     "metadata": {},
     "output_type": "execute_result"
    }
   ],
   "source": []
  },
  {
   "cell_type": "code",
   "execution_count": 42,
   "metadata": {},
   "outputs": [
    {
     "data": {
      "text/plain": [
       "5.070000000000002"
      ]
     },
     "execution_count": 42,
     "metadata": {},
     "output_type": "execute_result"
    }
   ],
   "source": []
  },
  {
   "cell_type": "markdown",
   "metadata": {},
   "source": [
    "### 5.5.2 Visualizations\n",
    "#### 5.5.2.1 Histograms\n",
    "5.5.2.1.1.1 Create a histogram of seed areas (using counts on the y-axis."
   ]
  },
  {
   "cell_type": "code",
   "execution_count": 43,
   "metadata": {},
   "outputs": [
    {
     "data": {
      "image/png": "[encoded data removed]",
      "text/plain": [
       "<Figure size 432x288 with 1 Axes>"
      ]
     },
     "metadata": {
      "needs_background": "light"
     },
     "output_type": "display_data"
    }
   ],
   "source": []
  },
  {
   "cell_type": "markdown",
   "metadata": {},
   "source": [
    "5.5.2.1.1.2 Create a histogram of seed areas (using frequency on the y-axis.)"
   ]
  },
  {
   "cell_type": "code",
   "execution_count": 44,
   "metadata": {},
   "outputs": [
    {
     "data": {
      "image/png": "[encoded data removed]",
      "text/plain": [
       "<Figure size 432x288 with 1 Axes>"
      ]
     },
     "metadata": {
      "needs_background": "light"
     },
     "output_type": "display_data"
    }
   ],
   "source": []
  },
  {
   "cell_type": "markdown",
   "metadata": {},
   "source": [
    "5.5.2.1.1.3 Create a histogram of seed areas (using frequency on the y-axis.) Overlay it with a density curve."
   ]
  },
  {
   "cell_type": "code",
   "execution_count": 45,
   "metadata": {},
   "outputs": [
    {
     "name": "stderr",
     "output_type": "stream",
     "text": [
      "C:\\Users\\vellison\\Miniconda3\\lib\\site-packages\\seaborn\\distributions.py:2557: FutureWarning: `distplot` is a deprecated function and will be removed in a future version. Please adapt your code to use either `displot` (a figure-level function with similar flexibility) or `histplot` (an axes-level function for histograms).\n",
      "  warnings.warn(msg, FutureWarning)\n"
     ]
    },
    {
     "data": {
      "image/png": "[encoded data removed]",
      "text/plain": [
       "<Figure size 432x288 with 1 Axes>"
      ]
     },
     "metadata": {
      "needs_background": "light"
     },
     "output_type": "display_data"
    }
   ],
   "source": []
  },
  {
   "cell_type": "markdown",
   "metadata": {},
   "source": [
    "5.5.2.1.2.3 \n",
    "What percent of seed areas do we expect to be above 18?\n"
   ]
  },
  {
   "cell_type": "code",
   "execution_count": 46,
   "metadata": {},
   "outputs": [
    {
     "data": {
      "text/plain": [
       "0.17500000000000002"
      ]
     },
     "execution_count": 46,
     "metadata": {},
     "output_type": "execute_result"
    }
   ],
   "source": []
  },
  {
   "cell_type": "markdown",
   "metadata": {},
   "source": [
    "#### 5.5.2.2 Boxplot\n",
    "Create a boxplot of seed areas. \n",
    "* Are there any outliers?\n",
    "* Use this to estimate:\n",
    "    - the median\n",
    "    - the Q1\n",
    "    - the Q3\n",
    "    - the IQR\n",
    "    - the range"
   ]
  },
  {
   "cell_type": "code",
   "execution_count": 47,
   "metadata": {},
   "outputs": [
    {
     "name": "stderr",
     "output_type": "stream",
     "text": [
      "C:\\Users\\vellison\\Miniconda3\\lib\\site-packages\\seaborn\\_decorators.py:36: FutureWarning: Pass the following variable as a keyword arg: x. From version 0.12, the only valid positional argument will be `data`, and passing other arguments without an explicit keyword will result in an error or misinterpretation.\n",
      "  warnings.warn(\n"
     ]
    },
    {
     "data": {
      "image/png": "[encoded data removed]",
      "text/plain": [
       "<Figure size 432x288 with 1 Axes>"
      ]
     },
     "metadata": {
      "needs_background": "light"
     },
     "output_type": "display_data"
    }
   ],
   "source": []
  },
  {
   "cell_type": "markdown",
   "metadata": {},
   "source": [
    "\n"
   ]
  },
  {
   "cell_type": "markdown",
   "metadata": {},
   "source": [
    "#### 5.5.2.3 Violin Plot\n",
    "Create a violin plot of seed areas. "
   ]
  },
  {
   "cell_type": "code",
   "execution_count": 48,
   "metadata": {},
   "outputs": [
    {
     "name": "stderr",
     "output_type": "stream",
     "text": [
      "C:\\Users\\vellison\\Miniconda3\\lib\\site-packages\\seaborn\\_decorators.py:36: FutureWarning: Pass the following variable as a keyword arg: x. From version 0.12, the only valid positional argument will be `data`, and passing other arguments without an explicit keyword will result in an error or misinterpretation.\n",
      "  warnings.warn(\n"
     ]
    },
    {
     "data": {
      "image/png": "[encoded data removed]",
      "text/plain": [
       "<Figure size 432x288 with 1 Axes>"
      ]
     },
     "metadata": {
      "needs_background": "light"
     },
     "output_type": "display_data"
    }
   ],
   "source": []
  },
  {
   "cell_type": "markdown",
   "metadata": {},
   "source": [
    "## 5.6 Is there an association between seed class and area?"
   ]
  },
  {
   "cell_type": "code",
   "execution_count": 49,
   "metadata": {},
   "outputs": [
    {
     "name": "stderr",
     "output_type": "stream",
     "text": [
      "C:\\Users\\vellison\\Miniconda3\\lib\\site-packages\\seaborn\\_decorators.py:36: FutureWarning: Pass the following variables as keyword args: x, y. From version 0.12, the only valid positional argument will be `data`, and passing other arguments without an explicit keyword will result in an error or misinterpretation.\n",
      "  warnings.warn(\n"
     ]
    },
    {
     "data": {
      "image/png": "[encoded data removed]",
      "text/plain": [
       "<Figure size 432x288 with 1 Axes>"
      ]
     },
     "metadata": {
      "needs_background": "light"
     },
     "output_type": "display_data"
    }
   ],
   "source": []
  },
  {
   "cell_type": "markdown",
   "metadata": {},
   "source": []
  },
  {
   "cell_type": "markdown",
   "metadata": {},
   "source": [
    "## 6 Probability Theory\n",
    "6.1 Collect a random sample of 7 seeds from df with replacement."
   ]
  },
  {
   "cell_type": "code",
   "execution_count": 50,
   "metadata": {},
   "outputs": [
    {
     "data": {
      "text/html": [
       "<div>\n",
       "<style scoped>\n",
       "    .dataframe tbody tr th:only-of-type {\n",
       "        vertical-align: middle;\n",
       "    }\n",
       "\n",
       "    .dataframe tbody tr th {\n",
       "        vertical-align: top;\n",
       "    }\n",
       "\n",
       "    .dataframe thead th {\n",
       "        text-align: right;\n",
       "    }\n",
       "</style>\n",
       "<table border=\"1\" class=\"dataframe\">\n",
       "  <thead>\n",
       "    <tr style=\"text-align: right;\">\n",
       "      <th></th>\n",
       "      <th>area</th>\n",
       "      <th>perimeter</th>\n",
       "      <th>compactness</th>\n",
       "      <th>kernel_length</th>\n",
       "      <th>width</th>\n",
       "      <th>asymmetry_coefficient</th>\n",
       "      <th>kernel_groove_length</th>\n",
       "      <th>seed_class</th>\n",
       "      <th>perimeter_size</th>\n",
       "    </tr>\n",
       "  </thead>\n",
       "  <tbody>\n",
       "    <tr>\n",
       "      <th>197</th>\n",
       "      <td>12.27</td>\n",
       "      <td>12.78</td>\n",
       "      <td>0.8849</td>\n",
       "      <td>5.220</td>\n",
       "      <td>2.128</td>\n",
       "      <td>4.670</td>\n",
       "      <td>5.091</td>\n",
       "      <td>canadian</td>\n",
       "      <td>small</td>\n",
       "    </tr>\n",
       "    <tr>\n",
       "      <th>115</th>\n",
       "      <td>19.06</td>\n",
       "      <td>16.45</td>\n",
       "      <td>0.8854</td>\n",
       "      <td>6.416</td>\n",
       "      <td>2.719</td>\n",
       "      <td>2.248</td>\n",
       "      <td>6.162</td>\n",
       "      <td>rosa</td>\n",
       "      <td>large</td>\n",
       "    </tr>\n",
       "    <tr>\n",
       "      <th>131</th>\n",
       "      <td>18.94</td>\n",
       "      <td>16.22</td>\n",
       "      <td>0.8942</td>\n",
       "      <td>6.144</td>\n",
       "      <td>2.825</td>\n",
       "      <td>2.908</td>\n",
       "      <td>5.949</td>\n",
       "      <td>rosa</td>\n",
       "      <td>large</td>\n",
       "    </tr>\n",
       "    <tr>\n",
       "      <th>47</th>\n",
       "      <td>14.99</td>\n",
       "      <td>14.56</td>\n",
       "      <td>0.8882</td>\n",
       "      <td>5.570</td>\n",
       "      <td>2.277</td>\n",
       "      <td>2.958</td>\n",
       "      <td>5.175</td>\n",
       "      <td>kama</td>\n",
       "      <td>large</td>\n",
       "    </tr>\n",
       "    <tr>\n",
       "      <th>35</th>\n",
       "      <td>16.12</td>\n",
       "      <td>15.00</td>\n",
       "      <td>0.9000</td>\n",
       "      <td>5.709</td>\n",
       "      <td>2.485</td>\n",
       "      <td>2.270</td>\n",
       "      <td>5.442</td>\n",
       "      <td>kama</td>\n",
       "      <td>large</td>\n",
       "    </tr>\n",
       "    <tr>\n",
       "      <th>70</th>\n",
       "      <td>17.62</td>\n",
       "      <td>15.98</td>\n",
       "      <td>0.8672</td>\n",
       "      <td>6.191</td>\n",
       "      <td>2.561</td>\n",
       "      <td>4.076</td>\n",
       "      <td>6.060</td>\n",
       "      <td>rosa</td>\n",
       "      <td>large</td>\n",
       "    </tr>\n",
       "    <tr>\n",
       "      <th>106</th>\n",
       "      <td>18.85</td>\n",
       "      <td>16.17</td>\n",
       "      <td>0.9056</td>\n",
       "      <td>6.152</td>\n",
       "      <td>2.806</td>\n",
       "      <td>2.842</td>\n",
       "      <td>6.200</td>\n",
       "      <td>rosa</td>\n",
       "      <td>large</td>\n",
       "    </tr>\n",
       "  </tbody>\n",
       "</table>\n",
       "</div>"
      ],
      "text/plain": [
       "      area  perimeter  compactness  kernel_length  width  \\\n",
       "197  12.27      12.78       0.8849          5.220  2.128   \n",
       "115  19.06      16.45       0.8854          6.416  2.719   \n",
       "131  18.94      16.22       0.8942          6.144  2.825   \n",
       "47   14.99      14.56       0.8882          5.570  2.277   \n",
       "35   16.12      15.00       0.9000          5.709  2.485   \n",
       "70   17.62      15.98       0.8672          6.191  2.561   \n",
       "106  18.85      16.17       0.9056          6.152  2.806   \n",
       "\n",
       "     asymmetry_coefficient  kernel_groove_length seed_class perimeter_size  \n",
       "197                  4.670                 5.091   canadian          small  \n",
       "115                  2.248                 6.162       rosa          large  \n",
       "131                  2.908                 5.949       rosa          large  \n",
       "47                   2.958                 5.175       kama          large  \n",
       "35                   2.270                 5.442       kama          large  \n",
       "70                   4.076                 6.060       rosa          large  \n",
       "106                  2.842                 6.200       rosa          large  "
      ]
     },
     "execution_count": 50,
     "metadata": {},
     "output_type": "execute_result"
    }
   ],
   "source": []
  },
  {
   "cell_type": "markdown",
   "metadata": {},
   "source": [
    "6.1 Collect a random sample of 8 seeds from df without replacement."
   ]
  },
  {
   "cell_type": "code",
   "execution_count": 51,
   "metadata": {},
   "outputs": [
    {
     "data": {
      "text/html": [
       "<div>\n",
       "<style scoped>\n",
       "    .dataframe tbody tr th:only-of-type {\n",
       "        vertical-align: middle;\n",
       "    }\n",
       "\n",
       "    .dataframe tbody tr th {\n",
       "        vertical-align: top;\n",
       "    }\n",
       "\n",
       "    .dataframe thead th {\n",
       "        text-align: right;\n",
       "    }\n",
       "</style>\n",
       "<table border=\"1\" class=\"dataframe\">\n",
       "  <thead>\n",
       "    <tr style=\"text-align: right;\">\n",
       "      <th></th>\n",
       "      <th>area</th>\n",
       "      <th>perimeter</th>\n",
       "      <th>compactness</th>\n",
       "      <th>kernel_length</th>\n",
       "      <th>width</th>\n",
       "      <th>asymmetry_coefficient</th>\n",
       "      <th>kernel_groove_length</th>\n",
       "      <th>seed_class</th>\n",
       "      <th>perimeter_size</th>\n",
       "    </tr>\n",
       "  </thead>\n",
       "  <tbody>\n",
       "    <tr>\n",
       "      <th>51</th>\n",
       "      <td>15.78</td>\n",
       "      <td>14.91</td>\n",
       "      <td>0.8922</td>\n",
       "      <td>5.674</td>\n",
       "      <td>2.424</td>\n",
       "      <td>5.592</td>\n",
       "      <td>5.126</td>\n",
       "      <td>kama</td>\n",
       "      <td>large</td>\n",
       "    </tr>\n",
       "    <tr>\n",
       "      <th>133</th>\n",
       "      <td>16.16</td>\n",
       "      <td>15.22</td>\n",
       "      <td>0.8644</td>\n",
       "      <td>5.845</td>\n",
       "      <td>2.295</td>\n",
       "      <td>4.266</td>\n",
       "      <td>5.795</td>\n",
       "      <td>rosa</td>\n",
       "      <td>large</td>\n",
       "    </tr>\n",
       "    <tr>\n",
       "      <th>97</th>\n",
       "      <td>18.98</td>\n",
       "      <td>16.57</td>\n",
       "      <td>0.8687</td>\n",
       "      <td>6.449</td>\n",
       "      <td>2.552</td>\n",
       "      <td>2.144</td>\n",
       "      <td>6.452</td>\n",
       "      <td>rosa</td>\n",
       "      <td>large</td>\n",
       "    </tr>\n",
       "    <tr>\n",
       "      <th>153</th>\n",
       "      <td>11.18</td>\n",
       "      <td>12.04</td>\n",
       "      <td>0.8266</td>\n",
       "      <td>5.220</td>\n",
       "      <td>2.692</td>\n",
       "      <td>2.222</td>\n",
       "      <td>5.001</td>\n",
       "      <td>canadian</td>\n",
       "      <td>small</td>\n",
       "    </tr>\n",
       "    <tr>\n",
       "      <th>28</th>\n",
       "      <td>14.11</td>\n",
       "      <td>14.18</td>\n",
       "      <td>0.8820</td>\n",
       "      <td>5.541</td>\n",
       "      <td>2.221</td>\n",
       "      <td>2.754</td>\n",
       "      <td>5.028</td>\n",
       "      <td>kama</td>\n",
       "      <td>large</td>\n",
       "    </tr>\n",
       "    <tr>\n",
       "      <th>6</th>\n",
       "      <td>14.69</td>\n",
       "      <td>14.49</td>\n",
       "      <td>0.8799</td>\n",
       "      <td>5.562</td>\n",
       "      <td>2.259</td>\n",
       "      <td>2.586</td>\n",
       "      <td>5.219</td>\n",
       "      <td>kama</td>\n",
       "      <td>large</td>\n",
       "    </tr>\n",
       "    <tr>\n",
       "      <th>108</th>\n",
       "      <td>19.94</td>\n",
       "      <td>16.92</td>\n",
       "      <td>0.8752</td>\n",
       "      <td>6.675</td>\n",
       "      <td>2.762</td>\n",
       "      <td>2.252</td>\n",
       "      <td>6.550</td>\n",
       "      <td>rosa</td>\n",
       "      <td>large</td>\n",
       "    </tr>\n",
       "    <tr>\n",
       "      <th>168</th>\n",
       "      <td>11.25</td>\n",
       "      <td>12.12</td>\n",
       "      <td>0.8291</td>\n",
       "      <td>5.176</td>\n",
       "      <td>2.668</td>\n",
       "      <td>4.227</td>\n",
       "      <td>5.122</td>\n",
       "      <td>canadian</td>\n",
       "      <td>small</td>\n",
       "    </tr>\n",
       "  </tbody>\n",
       "</table>\n",
       "</div>"
      ],
      "text/plain": [
       "      area  perimeter  compactness  kernel_length  width  \\\n",
       "51   15.78      14.91       0.8922          5.674  2.424   \n",
       "133  16.16      15.22       0.8644          5.845  2.295   \n",
       "97   18.98      16.57       0.8687          6.449  2.552   \n",
       "153  11.18      12.04       0.8266          5.220  2.692   \n",
       "28   14.11      14.18       0.8820          5.541  2.221   \n",
       "6    14.69      14.49       0.8799          5.562  2.259   \n",
       "108  19.94      16.92       0.8752          6.675  2.762   \n",
       "168  11.25      12.12       0.8291          5.176  2.668   \n",
       "\n",
       "     asymmetry_coefficient  kernel_groove_length seed_class perimeter_size  \n",
       "51                   5.592                 5.126       kama          large  \n",
       "133                  4.266                 5.795       rosa          large  \n",
       "97                   2.144                 6.452       rosa          large  \n",
       "153                  2.222                 5.001   canadian          small  \n",
       "28                   2.754                 5.028       kama          large  \n",
       "6                    2.586                 5.219       kama          large  \n",
       "108                  2.252                 6.550       rosa          large  \n",
       "168                  4.227                 5.122   canadian          small  "
      ]
     },
     "execution_count": 51,
     "metadata": {},
     "output_type": "execute_result"
    }
   ],
   "source": []
  },
  {
   "cell_type": "markdown",
   "metadata": {},
   "source": [
    "## 6.1.2- 6.4 (see separate pdf)"
   ]
  },
  {
   "cell_type": "markdown",
   "metadata": {},
   "source": [
    "## 6.5 Normal Random Variables\n",
    "\n",
    "Suppose the annual income of teachers in a local county is normally distributed with a mean of $\\$64,000$ and a standard deviation of $\\$5,000$.\n",
    "\n",
    "Define X to be the income of a randomly selected teacher from the county."
   ]
  },
  {
   "cell_type": "markdown",
   "metadata": {},
   "source": [
    "#### 6.5.2-6.5.5 Use Python to calculate the mean, variance, and standard deviation of X."
   ]
  },
  {
   "cell_type": "code",
   "execution_count": 52,
   "metadata": {},
   "outputs": [
    {
     "name": "stdout",
     "output_type": "stream",
     "text": [
      "Mean: 64000.0\n",
      "Variance: 25000000.0\n",
      "Standard Deviation: 5000.0\n"
     ]
    }
   ],
   "source": []
  },
  {
   "cell_type": "markdown",
   "metadata": {},
   "source": [
    "#### 6.2.6 What percent of teachers in the county make less than $\\$70,000$?"
   ]
  },
  {
   "cell_type": "code",
   "execution_count": 53,
   "metadata": {},
   "outputs": [
    {
     "data": {
      "text/plain": [
       "0.8849303297782918"
      ]
     },
     "execution_count": 53,
     "metadata": {},
     "output_type": "execute_result"
    }
   ],
   "source": []
  },
  {
   "cell_type": "markdown",
   "metadata": {},
   "source": [
    "#### What is the probability that a randomly selected teacher makes more than $\\$60,000$?"
   ]
  },
  {
   "cell_type": "code",
   "execution_count": 54,
   "metadata": {},
   "outputs": [
    {
     "data": {
      "text/plain": [
       "0.7881446014166034"
      ]
     },
     "execution_count": 54,
     "metadata": {},
     "output_type": "execute_result"
    }
   ],
   "source": []
  },
  {
   "cell_type": "markdown",
   "metadata": {},
   "source": [
    "#### What is the probability that a randomly selected teacher makes between $\\$60,000$ and $\\$70,000$?"
   ]
  },
  {
   "cell_type": "code",
   "execution_count": 55,
   "metadata": {},
   "outputs": [
    {
     "data": {
      "text/plain": [
       "0.6730749311948951"
      ]
     },
     "execution_count": 55,
     "metadata": {},
     "output_type": "execute_result"
    }
   ],
   "source": []
  },
  {
   "cell_type": "markdown",
   "metadata": {},
   "source": [
    "#### What is the income of the top 15% of teachers in the county that make the most?"
   ]
  },
  {
   "cell_type": "code",
   "execution_count": 56,
   "metadata": {},
   "outputs": [
    {
     "data": {
      "text/plain": [
       "69182.16694746896"
      ]
     },
     "execution_count": 56,
     "metadata": {},
     "output_type": "execute_result"
    }
   ],
   "source": []
  },
  {
   "cell_type": "markdown",
   "metadata": {},
   "source": [
    "#### Generate 10 random variable values for X."
   ]
  },
  {
   "cell_type": "code",
   "execution_count": 93,
   "metadata": {},
   "outputs": [
    {
     "data": {
      "text/plain": [
       "array([62626.10393815, 70712.64585693, 73408.12707494, 57219.87429245,\n",
       "       64317.95817713, 67710.03618146, 63585.44154128, 64915.50516717,\n",
       "       67820.89313178, 64358.66721816])"
      ]
     },
     "execution_count": 93,
     "metadata": {},
     "output_type": "execute_result"
    }
   ],
   "source": []
  },
  {
   "cell_type": "markdown",
   "metadata": {},
   "source": [
    "### 6.6 Geometric Random Variables\n",
    "\n",
    "Suppose someone that uses an online dating app gets matched with 5% of the people they \"swipe right\" on (aka people they would like to match with). Once this person gets a match, they stop looking at new people and go on a date.\n",
    "\n",
    "#### a.) What would we expect the average number of times for this person to \"swipe right\" to be until they stop? "
   ]
  },
  {
   "cell_type": "markdown",
   "metadata": {},
   "source": [
    "If we let X=number of swipes until stopping, we can say $X\\sim Geom(p=0.05)$. X fits the definition of being a geometric random variable with $p=0.05$, because:\n",
    "1. we can assume that the outcome of any person matching with the user to be independent\n",
    "2. we can assume that the probabilty of the \"success outcome\" aka \"getting a match\" is always going to be p=0.05\n",
    "3. geometric random variables = the number of \"failure\" trials until stopping at a \"success\" trial (where all trials are independent and the probability of success is always the same (p).\n",
    "\n",
    "Therefore we can calculate $E[X]$ using geometric random variable functions from python as follows.\n",
    "\n",
    "$E[X]=20$\n",
    "\n",
    "So on average this online dating app user needs to swipe through 20 people before getting a match and stopping.\n"
   ]
  },
  {
   "cell_type": "code",
   "execution_count": 94,
   "metadata": {},
   "outputs": [
    {
     "data": {
      "text/plain": [
       "20.0"
      ]
     },
     "execution_count": 94,
     "metadata": {},
     "output_type": "execute_result"
    }
   ],
   "source": [
    "from scipy.stats import geom\n",
    "geom.mean(p=0.05)"
   ]
  },
  {
   "cell_type": "markdown",
   "metadata": {},
   "source": [
    "#### b.) What is the probability that this user stops after exactly 7 swipes?\n",
    "\n",
    "$P(X=7) = 0.037$."
   ]
  },
  {
   "cell_type": "code",
   "execution_count": 95,
   "metadata": {},
   "outputs": [
    {
     "data": {
      "text/plain": [
       "0.03675459453124999"
      ]
     },
     "execution_count": 95,
     "metadata": {},
     "output_type": "execute_result"
    }
   ],
   "source": [
    "geom.pmf(7, p=0.05)"
   ]
  },
  {
   "cell_type": "markdown",
   "metadata": {},
   "source": [
    "#### c.) What is the probability that this user stops after *at most* 7 swipes?\n",
    "\n"
   ]
  },
  {
   "cell_type": "markdown",
   "metadata": {},
   "source": [
    "$P(X\\leq 7) = 0.302$."
   ]
  },
  {
   "cell_type": "code",
   "execution_count": 96,
   "metadata": {},
   "outputs": [
    {
     "data": {
      "text/plain": [
       "0.30166270390625"
      ]
     },
     "execution_count": 96,
     "metadata": {},
     "output_type": "execute_result"
    }
   ],
   "source": [
    "geom.cdf(7, p=0.05)"
   ]
  },
  {
   "cell_type": "markdown",
   "metadata": {},
   "source": [
    "#### d.) What is the probability that this user stops after at least 10 swipes?"
   ]
  },
  {
   "cell_type": "markdown",
   "metadata": {},
   "source": [
    "$P(X\\geq 10) = 1- P(X<10) = 1-P(X\\leq 9) = 0.63$."
   ]
  },
  {
   "cell_type": "code",
   "execution_count": 97,
   "metadata": {},
   "outputs": [
    {
     "data": {
      "text/plain": [
       "0.6302494097246093"
      ]
     },
     "execution_count": 97,
     "metadata": {},
     "output_type": "execute_result"
    }
   ],
   "source": [
    "1-geom.cdf(9, p=0.05)"
   ]
  },
  {
   "cell_type": "markdown",
   "metadata": {},
   "source": [
    "## 7 Inference Basics\n",
    "\n",
    "### 7.1 Sampling Distribution of Sample Means\n",
    "Assume that the seeds dataframe is the pouplation. Create a sampling distribution of sample mean seed areas. Specifically, let your samples be of size 100. Finally, your sampling distribution should contain 300 sample means.\n",
    "\n",
    "1. Find the mean of this sampling distribution.\n",
    "2. Find the standard deviation of this sampling distribution.\n",
    "3. What is the shape of this sampling distribution.\n",
    "\n"
   ]
  },
  {
   "cell_type": "code",
   "execution_count": 57,
   "metadata": {},
   "outputs": [],
   "source": [
    "def MCmeans(df, x='', replace=True, n=1, M=1):\n",
    "    #INPUT:\n",
    "    # df is a data frame\n",
    "    # x is a text-valued name for a variable in the data frame\n",
    "    # replace = True or False depending on whether \n",
    "    #    draws are with or without replacement\n",
    "    # n = number of draws per sample\n",
    "    # M = number of samples to draw\n",
    "    MCstats = []\n",
    "    for i in range(M):\n",
    "        #1. Collect a random sample of size n=10 with replacement\n",
    "        #2. Take the mean of this random sample\n",
    "        #3. Append this random sample mean to the SampleMeans list (which is our SAMPLING DISTRIBUTION OF SAMPLE MEANS!)\n",
    "        MCstats.append(df[x].sample(n, replace=replace).mean())\n",
    "    #4. returns the sampling distribution in a dataframe format\n",
    "    return pd.DataFrame({x: MCstats})"
   ]
  },
  {
   "cell_type": "code",
   "execution_count": 70,
   "metadata": {},
   "outputs": [
    {
     "data": {
      "text/html": [
       "<div>\n",
       "<style scoped>\n",
       "    .dataframe tbody tr th:only-of-type {\n",
       "        vertical-align: middle;\n",
       "    }\n",
       "\n",
       "    .dataframe tbody tr th {\n",
       "        vertical-align: top;\n",
       "    }\n",
       "\n",
       "    .dataframe thead th {\n",
       "        text-align: right;\n",
       "    }\n",
       "</style>\n",
       "<table border=\"1\" class=\"dataframe\">\n",
       "  <thead>\n",
       "    <tr style=\"text-align: right;\">\n",
       "      <th></th>\n",
       "      <th>area</th>\n",
       "    </tr>\n",
       "  </thead>\n",
       "  <tbody>\n",
       "    <tr>\n",
       "      <th>0</th>\n",
       "      <td>14.8334</td>\n",
       "    </tr>\n",
       "    <tr>\n",
       "      <th>1</th>\n",
       "      <td>14.6222</td>\n",
       "    </tr>\n",
       "    <tr>\n",
       "      <th>2</th>\n",
       "      <td>14.5513</td>\n",
       "    </tr>\n",
       "    <tr>\n",
       "      <th>3</th>\n",
       "      <td>14.6054</td>\n",
       "    </tr>\n",
       "    <tr>\n",
       "      <th>4</th>\n",
       "      <td>14.6057</td>\n",
       "    </tr>\n",
       "    <tr>\n",
       "      <th>...</th>\n",
       "      <td>...</td>\n",
       "    </tr>\n",
       "    <tr>\n",
       "      <th>295</th>\n",
       "      <td>15.1935</td>\n",
       "    </tr>\n",
       "    <tr>\n",
       "      <th>296</th>\n",
       "      <td>15.1779</td>\n",
       "    </tr>\n",
       "    <tr>\n",
       "      <th>297</th>\n",
       "      <td>14.2875</td>\n",
       "    </tr>\n",
       "    <tr>\n",
       "      <th>298</th>\n",
       "      <td>15.0448</td>\n",
       "    </tr>\n",
       "    <tr>\n",
       "      <th>299</th>\n",
       "      <td>14.6002</td>\n",
       "    </tr>\n",
       "  </tbody>\n",
       "</table>\n",
       "<p>300 rows × 1 columns</p>\n",
       "</div>"
      ],
      "text/plain": [
       "        area\n",
       "0    14.8334\n",
       "1    14.6222\n",
       "2    14.5513\n",
       "3    14.6054\n",
       "4    14.6057\n",
       "..       ...\n",
       "295  15.1935\n",
       "296  15.1779\n",
       "297  14.2875\n",
       "298  15.0448\n",
       "299  14.6002\n",
       "\n",
       "[300 rows x 1 columns]"
      ]
     },
     "execution_count": 70,
     "metadata": {},
     "output_type": "execute_result"
    }
   ],
   "source": [
    "sampling_dist_means=MCmeans(df, x='area', n=100, M=300)\n",
    "sampling_dist_means"
   ]
  },
  {
   "cell_type": "code",
   "execution_count": 71,
   "metadata": {},
   "outputs": [
    {
     "name": "stdout",
     "output_type": "stream",
     "text": [
      "Mean of Sampling Distribution Means\n"
     ]
    },
    {
     "data": {
      "text/plain": [
       "14.728842000000002"
      ]
     },
     "execution_count": 71,
     "metadata": {},
     "output_type": "execute_result"
    }
   ],
   "source": [
    "print('Mean of Sampling Distribution Means')\n",
    "sampling_dist_means['area'].mean()"
   ]
  },
  {
   "cell_type": "code",
   "execution_count": 72,
   "metadata": {},
   "outputs": [
    {
     "name": "stdout",
     "output_type": "stream",
     "text": [
      "Standard Deviation of Sampling Distribution Means\n"
     ]
    },
    {
     "data": {
      "text/plain": [
       "0.28377505193904906"
      ]
     },
     "execution_count": 72,
     "metadata": {},
     "output_type": "execute_result"
    }
   ],
   "source": [
    "print('Standard Deviation of Sampling Distribution Means')\n",
    "sampling_dist_means['area'].std()"
   ]
  },
  {
   "cell_type": "code",
   "execution_count": 73,
   "metadata": {},
   "outputs": [
    {
     "data": {
      "image/png": "[encoded data removed]",
      "text/plain": [
       "<Figure size 432x288 with 1 Axes>"
      ]
     },
     "metadata": {
      "needs_background": "light"
     },
     "output_type": "display_data"
    }
   ],
   "source": [
    "sampling_dist_means.hist(density=True)\n",
    "plt.title('Sampling Distribution of Sample Mean Areas')\n",
    "plt.xlabel('Sample Mean Area (Samples of Size n=100)')\n",
    "plt.show()"
   ]
  },
  {
   "cell_type": "markdown",
   "metadata": {},
   "source": [
    "This sampling distribution is mostly symmetric and unimodal."
   ]
  },
  {
   "cell_type": "markdown",
   "metadata": {},
   "source": [
    "### 7.2 Sampling Distribution of Sample Proportions\n",
    "\n",
    "Assume that the seeds dataframe is the pouplation. Create a sampling distribution of sample proportion of perimeters that are 'large'. Specifically, let your samples be of size 20. Finally, your sampling distribution should contain 400 sample proportions.\n",
    "\n",
    "1. Find the mean of this sampling distribution.\n",
    "2. Find the standard deviation of this sampling distribution.\n",
    "3. What is the shape of this sampling distribution.\n"
   ]
  },
  {
   "cell_type": "code",
   "execution_count": 88,
   "metadata": {
    "scrolled": false
   },
   "outputs": [
    {
     "data": {
      "text/html": [
       "<div>\n",
       "<style scoped>\n",
       "    .dataframe tbody tr th:only-of-type {\n",
       "        vertical-align: middle;\n",
       "    }\n",
       "\n",
       "    .dataframe tbody tr th {\n",
       "        vertical-align: top;\n",
       "    }\n",
       "\n",
       "    .dataframe thead th {\n",
       "        text-align: right;\n",
       "    }\n",
       "</style>\n",
       "<table border=\"1\" class=\"dataframe\">\n",
       "  <thead>\n",
       "    <tr style=\"text-align: right;\">\n",
       "      <th></th>\n",
       "      <th>sample_prop_large_perimeter</th>\n",
       "    </tr>\n",
       "  </thead>\n",
       "  <tbody>\n",
       "    <tr>\n",
       "      <th>0</th>\n",
       "      <td>0.062201</td>\n",
       "    </tr>\n",
       "    <tr>\n",
       "      <th>1</th>\n",
       "      <td>0.047847</td>\n",
       "    </tr>\n",
       "    <tr>\n",
       "      <th>2</th>\n",
       "      <td>0.043062</td>\n",
       "    </tr>\n",
       "    <tr>\n",
       "      <th>3</th>\n",
       "      <td>0.052632</td>\n",
       "    </tr>\n",
       "    <tr>\n",
       "      <th>4</th>\n",
       "      <td>0.043062</td>\n",
       "    </tr>\n",
       "    <tr>\n",
       "      <th>...</th>\n",
       "      <td>...</td>\n",
       "    </tr>\n",
       "    <tr>\n",
       "      <th>395</th>\n",
       "      <td>0.057416</td>\n",
       "    </tr>\n",
       "    <tr>\n",
       "      <th>396</th>\n",
       "      <td>0.033493</td>\n",
       "    </tr>\n",
       "    <tr>\n",
       "      <th>397</th>\n",
       "      <td>0.066986</td>\n",
       "    </tr>\n",
       "    <tr>\n",
       "      <th>398</th>\n",
       "      <td>0.057416</td>\n",
       "    </tr>\n",
       "    <tr>\n",
       "      <th>399</th>\n",
       "      <td>0.052632</td>\n",
       "    </tr>\n",
       "  </tbody>\n",
       "</table>\n",
       "<p>400 rows × 1 columns</p>\n",
       "</div>"
      ],
      "text/plain": [
       "     sample_prop_large_perimeter\n",
       "0                       0.062201\n",
       "1                       0.047847\n",
       "2                       0.043062\n",
       "3                       0.052632\n",
       "4                       0.043062\n",
       "..                           ...\n",
       "395                     0.057416\n",
       "396                     0.033493\n",
       "397                     0.066986\n",
       "398                     0.057416\n",
       "399                     0.052632\n",
       "\n",
       "[400 rows x 1 columns]"
      ]
     },
     "execution_count": 88,
     "metadata": {},
     "output_type": "execute_result"
    }
   ],
   "source": [
    "sampling_dist_props_list=[]\n",
    "for i in range(0,400):\n",
    "    \n",
    "    #1. Collect random sample of size n=20 with replacement.\n",
    "    samp=df.sample(20, replace=True)\n",
    "    \n",
    "    #2. Calculate proportion of seeds in the sample with 'large' perimeter size.\n",
    "    prop_large=samp[samp['perimeter_size']=='large'].shape[0]/df.shape[0]\n",
    "    \n",
    "    #3. Add this sample proportion to the list.\n",
    "    sampling_dist_props_list.append(prop_large)\n",
    "\n",
    "#4. Put this list into a dataframe.    \n",
    "sampling_dist_props=pd.DataFrame({'sample_prop_large_perimeter':sampling_dist_props_list})\n",
    "sampling_dist_props"
   ]
  },
  {
   "cell_type": "code",
   "execution_count": 89,
   "metadata": {},
   "outputs": [
    {
     "name": "stdout",
     "output_type": "stream",
     "text": [
      "Mean of Sampling Distribution Proportions\n"
     ]
    },
    {
     "data": {
      "text/plain": [
       "0.05503588516746412"
      ]
     },
     "execution_count": 89,
     "metadata": {},
     "output_type": "execute_result"
    }
   ],
   "source": [
    "print('Mean of Sampling Distribution Proportions')\n",
    "sampling_dist_props['sample_prop_large_perimeter'].mean()"
   ]
  },
  {
   "cell_type": "code",
   "execution_count": 90,
   "metadata": {},
   "outputs": [
    {
     "name": "stdout",
     "output_type": "stream",
     "text": [
      "Standard Deviation of Sampling Distribution Proportions\n"
     ]
    },
    {
     "data": {
      "text/plain": [
       "0.009945705193323603"
      ]
     },
     "execution_count": 90,
     "metadata": {},
     "output_type": "execute_result"
    }
   ],
   "source": [
    "print('Standard Deviation of Sampling Distribution Proportions')\n",
    "sampling_dist_props['sample_prop_large_perimeter'].std()"
   ]
  },
  {
   "cell_type": "code",
   "execution_count": 91,
   "metadata": {},
   "outputs": [
    {
     "data": {
      "image/png": "[encoded data removed]",
      "text/plain": [
       "<Figure size 432x288 with 1 Axes>"
      ]
     },
     "metadata": {
      "needs_background": "light"
     },
     "output_type": "display_data"
    }
   ],
   "source": [
    "sampling_dist_props.hist(density=True)\n",
    "plt.title('Sampling Distribution of Sample Proportion of Large Widths')\n",
    "plt.xlabel('Proportion of Large Seeds in the Sample (Samples of Size n=20)')\n",
    "plt.show()"
   ]
  },
  {
   "cell_type": "markdown",
   "metadata": {},
   "source": [
    "This sampling distribution of sample proportions is relatively symmetric and unimodal."
   ]
  },
  {
   "cell_type": "markdown",
   "metadata": {},
   "source": [
    "## 8 Additional Coding"
   ]
  },
  {
   "cell_type": "markdown",
   "metadata": {},
   "source": [
    "## 8.1 For Loops\n",
    "What is the sum of the following 0^2 + 1^2 + 2^2 + ... + 20^2?"
   ]
  },
  {
   "cell_type": "code",
   "execution_count": 59,
   "metadata": {},
   "outputs": [
    {
     "name": "stdout",
     "output_type": "stream",
     "text": [
      "Current value of i 0\n",
      "Current value of total_sum 0\n",
      "---------------------\n",
      "Current value of i 1\n",
      "Current value of total_sum 1\n",
      "---------------------\n",
      "Current value of i 2\n",
      "Current value of total_sum 5\n",
      "---------------------\n",
      "Current value of i 3\n",
      "Current value of total_sum 14\n",
      "---------------------\n",
      "Current value of i 4\n",
      "Current value of total_sum 30\n",
      "---------------------\n",
      "Current value of i 5\n",
      "Current value of total_sum 55\n",
      "---------------------\n",
      "Current value of i 6\n",
      "Current value of total_sum 91\n",
      "---------------------\n",
      "Current value of i 7\n",
      "Current value of total_sum 140\n",
      "---------------------\n",
      "Current value of i 8\n",
      "Current value of total_sum 204\n",
      "---------------------\n",
      "Current value of i 9\n",
      "Current value of total_sum 285\n",
      "---------------------\n",
      "Current value of i 10\n",
      "Current value of total_sum 385\n",
      "---------------------\n",
      "Current value of i 11\n",
      "Current value of total_sum 506\n",
      "---------------------\n",
      "Current value of i 12\n",
      "Current value of total_sum 650\n",
      "---------------------\n",
      "Current value of i 13\n",
      "Current value of total_sum 819\n",
      "---------------------\n",
      "Current value of i 14\n",
      "Current value of total_sum 1015\n",
      "---------------------\n",
      "Current value of i 15\n",
      "Current value of total_sum 1240\n",
      "---------------------\n",
      "Current value of i 16\n",
      "Current value of total_sum 1496\n",
      "---------------------\n",
      "Current value of i 17\n",
      "Current value of total_sum 1785\n",
      "---------------------\n",
      "Current value of i 18\n",
      "Current value of total_sum 2109\n",
      "---------------------\n",
      "Current value of i 19\n",
      "Current value of total_sum 2470\n",
      "---------------------\n",
      "Current value of i 20\n",
      "Current value of total_sum 2870\n",
      "---------------------\n",
      "2870\n"
     ]
    }
   ],
   "source": [
    "total_sum=0\n",
    "for i in range(0,20+1):\n",
    "    print('Current value of i',i)\n",
    "    total_sum+=i**2\n",
    "    print('Current value of total_sum',total_sum)\n",
    "    print('---------------------')\n",
    "print(total_sum)"
   ]
  },
  {
   "cell_type": "markdown",
   "metadata": {},
   "source": [
    "Make a list of the following values [0^2, 1^2, 2^2, ... , 20^2]"
   ]
  },
  {
   "cell_type": "code",
   "execution_count": 60,
   "metadata": {},
   "outputs": [
    {
     "name": "stdout",
     "output_type": "stream",
     "text": [
      "Current value of i 0\n",
      "Current List [0]\n",
      "---------------------\n",
      "Current value of i 1\n",
      "Current List [0, 1]\n",
      "---------------------\n",
      "Current value of i 2\n",
      "Current List [0, 1, 4]\n",
      "---------------------\n",
      "Current value of i 3\n",
      "Current List [0, 1, 4, 9]\n",
      "---------------------\n",
      "Current value of i 4\n",
      "Current List [0, 1, 4, 9, 16]\n",
      "---------------------\n",
      "Current value of i 5\n",
      "Current List [0, 1, 4, 9, 16, 25]\n",
      "---------------------\n",
      "Current value of i 6\n",
      "Current List [0, 1, 4, 9, 16, 25, 36]\n",
      "---------------------\n",
      "Current value of i 7\n",
      "Current List [0, 1, 4, 9, 16, 25, 36, 49]\n",
      "---------------------\n",
      "Current value of i 8\n",
      "Current List [0, 1, 4, 9, 16, 25, 36, 49, 64]\n",
      "---------------------\n",
      "Current value of i 9\n",
      "Current List [0, 1, 4, 9, 16, 25, 36, 49, 64, 81]\n",
      "---------------------\n",
      "Current value of i 10\n",
      "Current List [0, 1, 4, 9, 16, 25, 36, 49, 64, 81, 100]\n",
      "---------------------\n",
      "Current value of i 11\n",
      "Current List [0, 1, 4, 9, 16, 25, 36, 49, 64, 81, 100, 121]\n",
      "---------------------\n",
      "Current value of i 12\n",
      "Current List [0, 1, 4, 9, 16, 25, 36, 49, 64, 81, 100, 121, 144]\n",
      "---------------------\n",
      "Current value of i 13\n",
      "Current List [0, 1, 4, 9, 16, 25, 36, 49, 64, 81, 100, 121, 144, 169]\n",
      "---------------------\n",
      "Current value of i 14\n",
      "Current List [0, 1, 4, 9, 16, 25, 36, 49, 64, 81, 100, 121, 144, 169, 196]\n",
      "---------------------\n",
      "Current value of i 15\n",
      "Current List [0, 1, 4, 9, 16, 25, 36, 49, 64, 81, 100, 121, 144, 169, 196, 225]\n",
      "---------------------\n",
      "Current value of i 16\n",
      "Current List [0, 1, 4, 9, 16, 25, 36, 49, 64, 81, 100, 121, 144, 169, 196, 225, 256]\n",
      "---------------------\n",
      "Current value of i 17\n",
      "Current List [0, 1, 4, 9, 16, 25, 36, 49, 64, 81, 100, 121, 144, 169, 196, 225, 256, 289]\n",
      "---------------------\n",
      "Current value of i 18\n",
      "Current List [0, 1, 4, 9, 16, 25, 36, 49, 64, 81, 100, 121, 144, 169, 196, 225, 256, 289, 324]\n",
      "---------------------\n",
      "Current value of i 19\n",
      "Current List [0, 1, 4, 9, 16, 25, 36, 49, 64, 81, 100, 121, 144, 169, 196, 225, 256, 289, 324, 361]\n",
      "---------------------\n",
      "Current value of i 20\n",
      "Current List [0, 1, 4, 9, 16, 25, 36, 49, 64, 81, 100, 121, 144, 169, 196, 225, 256, 289, 324, 361, 400]\n",
      "---------------------\n",
      "[0, 1, 4, 9, 16, 25, 36, 49, 64, 81, 100, 121, 144, 169, 196, 225, 256, 289, 324, 361, 400]\n"
     ]
    }
   ],
   "source": [
    "total_list=[]\n",
    "for i in range(0,20+1):\n",
    "    print('Current value of i',i)\n",
    "    total_list.append(i**2)\n",
    "    print('Current List',total_list)\n",
    "    print('---------------------')\n",
    "print(total_list)"
   ]
  },
  {
   "cell_type": "markdown",
   "metadata": {},
   "source": [
    "## 8.2 Functions\n",
    "Write a function that does the following:\n",
    "* Returns a value that triples the input, but\n",
    "* returns a string that says \"no negative numbers\" if the input is a number less 0.\n",
    "* Then use the function with the following inputs:\n",
    "    - 4\n",
    "    - -4\n"
   ]
  },
  {
   "cell_type": "code",
   "execution_count": 61,
   "metadata": {},
   "outputs": [],
   "source": [
    "def my_triple_func(banana):\n",
    "    if banana<0:\n",
    "        return \"no negative numbers\"\n",
    "    else:\n",
    "        return banana*3"
   ]
  },
  {
   "cell_type": "code",
   "execution_count": 62,
   "metadata": {},
   "outputs": [
    {
     "data": {
      "text/plain": [
       "12"
      ]
     },
     "execution_count": 62,
     "metadata": {},
     "output_type": "execute_result"
    }
   ],
   "source": [
    "my_triple_func(4)"
   ]
  },
  {
   "cell_type": "code",
   "execution_count": 63,
   "metadata": {},
   "outputs": [
    {
     "data": {
      "text/plain": [
       "'no negative numbers'"
      ]
     },
     "execution_count": 63,
     "metadata": {},
     "output_type": "execute_result"
    }
   ],
   "source": [
    "my_triple_func(-4)"
   ]
  },
  {
   "cell_type": "markdown",
   "metadata": {},
   "source": []
  }
 ],
 "metadata": {
  "kernelspec": {
   "display_name": "Python 3",
   "language": "python",
   "name": "python3"
  },
  "language_info": {
   "codemirror_mode": {
    "name": "ipython",
    "version": 3
   },
   "file_extension": ".py",
   "mimetype": "text/x-python",
   "name": "python",
   "nbconvert_exporter": "python",
   "pygments_lexer": "ipython3",
   "version": "3.8.3"
  }
 },
 "nbformat": 4,
 "nbformat_minor": 4
}
