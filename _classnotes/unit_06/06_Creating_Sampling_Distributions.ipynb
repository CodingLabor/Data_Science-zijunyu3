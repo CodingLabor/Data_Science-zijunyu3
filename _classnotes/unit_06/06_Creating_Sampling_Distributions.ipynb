{
 "cells": [
  {
   "cell_type": "markdown",
   "metadata": {},
   "source": [
    "# <u> Unit 6 Notebook</u>: Creating Sampling Distributions - Building Blocks for Inference - \n",
    "\n",
    "## <u> Case Study 1</u>: UIUC Course Enrollment Sampling Distribution of Sample Means\n",
    "* Create a sampling distribution of sample means of course enrollments. The samples should all be of size <u>n=10</u> and should be drawn with replacement from the artificial UIUC class population.\n",
    "* Create a sampling distribution of sample means of course enrollments. The samples should all be of size <u>n=100</u> and should be drawn with replacement from the artificial UIUC class population.\n",
    "* Create a sampling distribution of sample means of course enrollments. The samples should all be of size <u>n=400</u> and should be drawn with replacement from the artificial UIUC class population.\n",
    "* **What happens to the mean, spread, and shape of the sampling distribution of sample means as the sizes of the samples (n) in the sampling distribution increases?**\n",
    "\n",
    "\n",
    "## <u> Case Study 2</u>: Coin Flip Outcome Sampling Distribution of Sample Proportions\n",
    "* Create a sampling distribution of sample proportion of heads. The samples should all be of size <u>n=10</u> and should be drawn with replacement from the population of coin flip possibilities (ie. head or tail).\n",
    "* Create a sampling distribution of proportion of heads. The samples should all be of size <u>n=100</u> and should be drawn with replacement from the population of coin flip possibilities (ie. head or tail)\n",
    "* Create a sampling distribution of proportion of heads. The samples should all be of size <u>n=400</u> and should be drawn with replacement from the population of coin flip possibilities (ie. head or tail)\n",
    "* **What happens to the mean, spread, and shape of the sampling distribution of sample proportion as the sizes of the samples (n) in the sampling distribution increases?**\n",
    "\n",
    "\n",
    "\n",
    "## <u> Information</u>\n",
    "<!--# STAT 207: Data Science Exploration-->\n",
    "\n",
    "Flow control methods such as for loops allow us to automate repetitive operations. When running simulations this allows us to repeatedly sample from data either to test out a sampling model or to construct resampling based inferences such as the bootstrap, which will be discussed in later chapters. \n",
    "\n",
    "We use Python functions constantly, and a valuable feature of Python and many programming languages is the ability to build our own functions to perform frequent specialized tasks.\n",
    "\n",
    "In this section we first introduce how for loops work, then develop a small function for Monte Carlo sampling from a data frame. Then we use this to investigate the sample distributions of sample means and proportions for random samples of varying sample sizes, when sampling with replacement.\n",
    "\n",
    "Using Monte Carlo simulation we demonstrate the square root rule for the standard deviation of the mean and the approximate normal distribution of the sample mean of a large sample. This latter approximation is consistent with the Central Limit Theorem from probability theory."
   ]
  },
  {
   "cell_type": "markdown",
   "metadata": {},
   "source": [
    "## 1. <u> Notation</u>: Summary statistics for Population vs. Samples\n",
    "\n",
    "See the Unit 6 slides (section 1).\n",
    "\n",
    "## 2. <u> Definition</u>: Sampling Distribution\n",
    "\n",
    "See the Unit 6 slides (section 2).\n",
    "\n",
    "## 3. <u> Type of Sampling Distribution</u>: Sampling Distribution of Sample Means - How to create one?\n",
    "\n",
    "See the Unit 6 slides (section 3).\n",
    "\n",
    "<u>Optional Supplementary Information</u>:\n",
    "The sample mean is common statistic used to summarize the central tendancies of particular variables in the data. When the data are drawn from a larger population at random, the sample mean provides an estimate of the mean for the whole population. In a sample survey the sample that we get from the population is random, and woul be different if we were to repeat the sampling process. However, if the *sample* is large enough then sample statistics will tend to be close to the correpsonding population parameters, and the variation in the sample statistics is predictable.\n",
    "\n",
    "**Example:** the proportion of voting age citizens who support a given policy in a population can be thought of as the mean of all the 0/1 indicators for whether each citizen supports the policy. 1 means they support it; 0 means they don't. The average of all these 0s and 1s is the proportion supporting the policy. If we draw a random sample from the population, the sample proportion is the sample mean of all the 0's and 1's selected for the sample. How much variation is there in this sample proportion due to the random sampling? We investigate questions like these through simulation. Later we will see that theory provides precise information about the variation in the sample proportion.\n",
    "\n",
    "Before specifically addressing the special case of the sample proportion, let's consider the case of sample means for variables in data frames in general. We set up a Monte Carlo simulation scheme in which we repeatedly draw random samples and see how the resulting sample means vary. \n",
    "\n",
    "\n",
    "## 4. <u>More about for loops</u>\n",
    "\n",
    "\n",
    "In order to do simulations we use Python's flow control to allow us to repeatedly draw samples. The **for** loop is fundamental in many programming languages. Here's a simple version. Notice that for Python the **colon (:)** and **indentation** are important. The indentation needs to be 4 characters wide! The notebook formats this automatically. \n",
    "\n",
    "### 4.1 For loops with a list"
   ]
  },
  {
   "cell_type": "code",
   "execution_count": 1,
   "metadata": {},
   "outputs": [
    {
     "name": "stdout",
     "output_type": "stream",
     "text": [
      "Here Fido!\n",
      "Here Rex!\n",
      "Here Mitzi!\n",
      "Here Fluffy!\n",
      "Here Mr. Lizard!\n"
     ]
    }
   ],
   "source": [
    "for x in [\"Fido\", \"Rex\", \"Mitzi\", \"Fluffy\", \"Mr. Lizard\"]:\n",
    "    print(\"Here \", x, \"!\", sep=\"\")"
   ]
  },
  {
   "cell_type": "markdown",
   "metadata": {},
   "source": [
    "### 4.2 For loops with a range\n",
    "Here's another example, with the same general principle that the for loop passes through all the values in the \"in\" list."
   ]
  },
  {
   "cell_type": "code",
   "execution_count": 2,
   "metadata": {},
   "outputs": [
    {
     "name": "stdout",
     "output_type": "stream",
     "text": [
      "Hello Fidotron-R0, welcome!\n",
      "Hello Fidotron-R1, welcome!\n",
      "Hello Fidotron-R2, welcome!\n",
      "Hello Fidotron-R3, welcome!\n",
      "Hello Fidotron-R4, welcome!\n"
     ]
    }
   ],
   "source": [
    "for i in range(5):\n",
    "    print(\"Hello Fidotron-R\", i, \", welcome!\", sep=\"\")"
   ]
  },
  {
   "cell_type": "markdown",
   "metadata": {},
   "source": [
    "The for loop allows us to do an operation repeatedly by stepping through a finite list. This is extremely useful for performing computer simulations in which we repeatedly draw samples and study the the effects of random variation on the statistics."
   ]
  },
  {
   "cell_type": "markdown",
   "metadata": {},
   "source": [
    "## 5. <u> Case Study</u>: Sampling Distribution of Sample Means - What happened to the mean, standard deviation, and shape of the sampling distribution of sample means as we increased the size of the samples n?\n",
    "\n",
    "\n",
    "### 5.1 Population and population mean\n",
    "\n",
    "#### 5.1.1 Creating the population\n",
    "\n",
    "First let's create our artificial UIUC population again. In this case study we will be considering the population of *enrollments* (ie. a population of *numerical data*)."
   ]
  },
  {
   "cell_type": "code",
   "execution_count": 3,
   "metadata": {},
   "outputs": [],
   "source": [
    "import pandas as pd\n",
    "import numpy as np\n",
    "import matplotlib.pyplot as plt\n",
    "import seaborn as sns; sns.set()"
   ]
  },
  {
   "cell_type": "code",
   "execution_count": 4,
   "metadata": {},
   "outputs": [
    {
     "data": {
      "text/html": [
       "<div>\n",
       "<style scoped>\n",
       "    .dataframe tbody tr th:only-of-type {\n",
       "        vertical-align: middle;\n",
       "    }\n",
       "\n",
       "    .dataframe tbody tr th {\n",
       "        vertical-align: top;\n",
       "    }\n",
       "\n",
       "    .dataframe thead th {\n",
       "        text-align: right;\n",
       "    }\n",
       "</style>\n",
       "<table border=\"1\" class=\"dataframe\">\n",
       "  <thead>\n",
       "    <tr style=\"text-align: right;\">\n",
       "      <th></th>\n",
       "      <th>course</th>\n",
       "      <th>section</th>\n",
       "      <th>enrolled</th>\n",
       "    </tr>\n",
       "  </thead>\n",
       "  <tbody>\n",
       "    <tr>\n",
       "      <th>0</th>\n",
       "      <td>adv307</td>\n",
       "      <td>A</td>\n",
       "      <td>37</td>\n",
       "    </tr>\n",
       "    <tr>\n",
       "      <th>1</th>\n",
       "      <td>badm210</td>\n",
       "      <td>A</td>\n",
       "      <td>215</td>\n",
       "    </tr>\n",
       "    <tr>\n",
       "      <th>2</th>\n",
       "      <td>badm210</td>\n",
       "      <td>B</td>\n",
       "      <td>178</td>\n",
       "    </tr>\n",
       "    <tr>\n",
       "      <th>3</th>\n",
       "      <td>badm210</td>\n",
       "      <td>C</td>\n",
       "      <td>197</td>\n",
       "    </tr>\n",
       "    <tr>\n",
       "      <th>4</th>\n",
       "      <td>cs105</td>\n",
       "      <td>A</td>\n",
       "      <td>345</td>\n",
       "    </tr>\n",
       "    <tr>\n",
       "      <th>5</th>\n",
       "      <td>cs105</td>\n",
       "      <td>B</td>\n",
       "      <td>201</td>\n",
       "    </tr>\n",
       "    <tr>\n",
       "      <th>6</th>\n",
       "      <td>stat107</td>\n",
       "      <td>A</td>\n",
       "      <td>197</td>\n",
       "    </tr>\n",
       "    <tr>\n",
       "      <th>7</th>\n",
       "      <td>stat207</td>\n",
       "      <td>A</td>\n",
       "      <td>53</td>\n",
       "    </tr>\n",
       "  </tbody>\n",
       "</table>\n",
       "</div>"
      ],
      "text/plain": [
       "    course section  enrolled\n",
       "0   adv307       A        37\n",
       "1  badm210       A       215\n",
       "2  badm210       B       178\n",
       "3  badm210       C       197\n",
       "4    cs105       A       345\n",
       "5    cs105       B       201\n",
       "6  stat107       A       197\n",
       "7  stat207       A        53"
      ]
     },
     "execution_count": 4,
     "metadata": {},
     "output_type": "execute_result"
    }
   ],
   "source": [
    "# create a data frame for illustration and testing\n",
    "courses = ['adv307', 'badm210', 'badm210', 'badm210', \n",
    "           'cs105', 'cs105', 'stat107', 'stat207']\n",
    "sections = ['A', 'A', 'B', 'C', 'A', 'B', 'A', 'A']\n",
    "enrollments = [37, 215, 178, 197, 345, 201, 197, 53]\n",
    "sectdf = pd.DataFrame({'course': courses, \n",
    "                       'section': sections, \n",
    "                       'enrolled': enrollments})\n",
    "sectdf"
   ]
  },
  {
   "cell_type": "markdown",
   "metadata": {},
   "source": [
    "#### 5.1.2 What is the population mean enrollment?\n",
    "\n",
    "* The population mean is *usually* unknown, because the population is usually too large to collect.\n",
    "* Thus, the population mean is *usually* a population parameter we are trying to make an inference, *using* a sample drawn from this population.\n",
    "* For now, we will assume we know the population mean so we can explore what happens to the sampling distribution and how it related to the population mean."
   ]
  },
  {
   "cell_type": "code",
   "execution_count": 5,
   "metadata": {},
   "outputs": [
    {
     "data": {
      "text/plain": [
       "177.875"
      ]
     },
     "execution_count": 5,
     "metadata": {},
     "output_type": "execute_result"
    }
   ],
   "source": [
    "sectdf['enrolled'].mean()"
   ]
  },
  {
   "cell_type": "markdown",
   "metadata": {},
   "source": [
    "#### So we will say that $\\mu=177.875$."
   ]
  },
  {
   "cell_type": "markdown",
   "metadata": {},
   "source": [
    "#### 5.1.3. What is the population standard deviation enrollment?\n",
    "\n",
    "* The population standard deviation is *usually* unknown, because the population is usually too large to collect.\n",
    "* For now, we will assume we know the population standard deviation."
   ]
  },
  {
   "cell_type": "code",
   "execution_count": 6,
   "metadata": {},
   "outputs": [
    {
     "data": {
      "text/plain": [
       "97.11177286287914"
      ]
     },
     "execution_count": 6,
     "metadata": {},
     "output_type": "execute_result"
    }
   ],
   "source": [
    "sectdf['enrolled'].std()"
   ]
  },
  {
   "cell_type": "markdown",
   "metadata": {},
   "source": [
    "#### So we will say that $\\sigma=97.11$."
   ]
  },
  {
   "cell_type": "markdown",
   "metadata": {},
   "source": [
    "#### 5.1.4. What is the shape of the population distribution of enrollments?"
   ]
  },
  {
   "cell_type": "code",
   "execution_count": 7,
   "metadata": {},
   "outputs": [
    {
     "data": {
      "image/png": "[encoded data removed]",
      "text/plain": [
       "<Figure size 432x288 with 1 Axes>"
      ]
     },
     "metadata": {},
     "output_type": "display_data"
    }
   ],
   "source": [
    "sectdf['enrolled'].hist(density=True)\n",
    "plt.title('Population Distribution')\n",
    "plt.xlabel('Class Enrollment Size')\n",
    "plt.show()"
   ]
  },
  {
   "cell_type": "markdown",
   "metadata": {},
   "source": [
    "### 5.2. Creating a sampling distribution of sample means with samples of size n=10. What is the mean, standard deviation, and shape of the sample means in this sampling distribution?\n",
    "Let's generate 5 random samples form the data frame and calculate the corresponding sample means. This is a very simple example of a Monte Carlo simulation.\n",
    "\n",
    "We use a for loop where we initialize an empty array, SampleMeans, and then iterate a sepcified number of times. To understand how each step works you might find it helpful to break out the individual steps and run them with different values of the iteration variable i. \n",
    "\n",
    "#### 5.2.1 <u> Step-by-step</u>:  Let's create a sampling distribution with M=5 sample means"
   ]
  },
  {
   "cell_type": "code",
   "execution_count": 8,
   "metadata": {},
   "outputs": [
    {
     "name": "stdout",
     "output_type": "stream",
     "text": [
      "Trial Number: 0\n",
      "Random Sample\n",
      "7     53\n",
      "1    215\n",
      "3    197\n",
      "5    201\n",
      "3    197\n",
      "2    178\n",
      "2    178\n",
      "0     37\n",
      "6    197\n",
      "3    197\n",
      "Name: enrolled, dtype: int64\n",
      "Random Sample Mean\n",
      "165.0\n",
      "Current Sampling Distribution List\n",
      "[165.0]\n",
      "---------\n",
      "Trial Number: 1\n",
      "Random Sample\n",
      "1    215\n",
      "7     53\n",
      "0     37\n",
      "6    197\n",
      "6    197\n",
      "6    197\n",
      "5    201\n",
      "3    197\n",
      "5    201\n",
      "5    201\n",
      "Name: enrolled, dtype: int64\n",
      "Random Sample Mean\n",
      "169.6\n",
      "Current Sampling Distribution List\n",
      "[165.0, 169.6]\n",
      "---------\n",
      "Trial Number: 2\n",
      "Random Sample\n",
      "2    178\n",
      "2    178\n",
      "5    201\n",
      "4    345\n",
      "3    197\n",
      "3    197\n",
      "1    215\n",
      "6    197\n",
      "6    197\n",
      "0     37\n",
      "Name: enrolled, dtype: int64\n",
      "Random Sample Mean\n",
      "194.2\n",
      "Current Sampling Distribution List\n",
      "[165.0, 169.6, 194.2]\n",
      "---------\n",
      "Trial Number: 3\n",
      "Random Sample\n",
      "6    197\n",
      "5    201\n",
      "5    201\n",
      "7     53\n",
      "3    197\n",
      "2    178\n",
      "4    345\n",
      "0     37\n",
      "3    197\n",
      "2    178\n",
      "Name: enrolled, dtype: int64\n",
      "Random Sample Mean\n",
      "178.4\n",
      "Current Sampling Distribution List\n",
      "[165.0, 169.6, 194.2, 178.4]\n",
      "---------\n",
      "Trial Number: 4\n",
      "Random Sample\n",
      "6    197\n",
      "4    345\n",
      "4    345\n",
      "4    345\n",
      "0     37\n",
      "2    178\n",
      "1    215\n",
      "1    215\n",
      "4    345\n",
      "1    215\n",
      "Name: enrolled, dtype: int64\n",
      "Random Sample Mean\n",
      "243.7\n",
      "Current Sampling Distribution List\n",
      "[165.0, 169.6, 194.2, 178.4, 243.7]\n",
      "---------\n",
      "Sampling Distribution of Sample Means (samples of size n=10)\n",
      "   enrolled\n",
      "0     165.0\n",
      "1     169.6\n",
      "2     194.2\n",
      "3     178.4\n",
      "4     243.7\n"
     ]
    }
   ],
   "source": [
    "# iterate 5 times\n",
    "x = 'enrolled'\n",
    "SampleMeans = []\n",
    "for i in range(5):\n",
    "    print('Trial Number:',i)\n",
    "    #1. Collect a random sample of size n=10 with replacement from the population of enrollments\n",
    "    rand_sample=sectdf[x].sample(10, replace=True)\n",
    "    print('Random Sample')\n",
    "    print(rand_sample)\n",
    "    \n",
    "    #2. Take the mean of this random sample\n",
    "    rand_sample_mean=rand_sample.mean()\n",
    "    print('Random Sample Mean')\n",
    "    print(rand_sample_mean)\n",
    "    \n",
    "    #3. Append this random sample mean to the SampleMeans list (which is our SAMPLING DISTRIBUTION OF SAMPLE MEANS!)\n",
    "    SampleMeans.append(rand_sample_mean)\n",
    "    print('Current Sampling Distribution List')\n",
    "    print(SampleMeans)\n",
    "    print('---------')\n",
    "    \n",
    "#4. print out in a dataframe\n",
    "print('Sampling Distribution of Sample Means (samples of size n=10)')\n",
    "print(pd.DataFrame({x: SampleMeans}))"
   ]
  },
  {
   "cell_type": "markdown",
   "metadata": {},
   "source": [
    "#### 5.2.2 <u>More Consise Code</u>: Let's rerun this same code, but write it in a more consise way.\n",
    "\n",
    "**Note:** Remember, this will not give us the same sampling distribution as the code above, because we did not set a random_state and the **.sample()** function returns random results."
   ]
  },
  {
   "cell_type": "code",
   "execution_count": 9,
   "metadata": {},
   "outputs": [
    {
     "name": "stdout",
     "output_type": "stream",
     "text": [
      "Sampling Distribution of Sample Means (samples of size n=10)\n",
      "   enrolled\n",
      "0     212.4\n",
      "1     167.6\n",
      "2     184.1\n",
      "3     140.2\n",
      "4     122.1\n"
     ]
    }
   ],
   "source": [
    "# iterate 5 times\n",
    "x = 'enrolled'\n",
    "SampleMeans = []\n",
    "for i in range(5):\n",
    "    #1. Collect a random sample of size n=10 with replacement\n",
    "    #2. Take the mean of this random sample\n",
    "    #3. Append this random sample mean to the SampleMeans list (which is our SAMPLING DISTRIBUTION OF SAMPLE MEANS!)\n",
    "    SampleMeans.append(sectdf[x].sample(10, replace=True).mean())\n",
    "\n",
    "    \n",
    "    \n",
    "    \n",
    "    \n",
    "    \n",
    "#4. print out in a dataframe\n",
    "print('Sampling Distribution of Sample Means (samples of size n=10)')\n",
    "print(pd.DataFrame({x: SampleMeans}))"
   ]
  },
  {
   "cell_type": "markdown",
   "metadata": {},
   "source": [
    "#### 5.2.3. <u>Sampling Distribution with M=1000 Sample Means</u>: \n",
    "Using M=5 trials (ie. M=5 sample means) to create a sampling distribution is usually not enough to gain a good representation of a sampling distribution's behavior. Let's run the code below using M=1000 trials (ie. M=1000 sample means)."
   ]
  },
  {
   "cell_type": "code",
   "execution_count": 10,
   "metadata": {},
   "outputs": [
    {
     "name": "stdout",
     "output_type": "stream",
     "text": [
      "Sampling Distribution of Sample Means (samples of size n=10)\n"
     ]
    },
    {
     "data": {
      "text/html": [
       "<div>\n",
       "<style scoped>\n",
       "    .dataframe tbody tr th:only-of-type {\n",
       "        vertical-align: middle;\n",
       "    }\n",
       "\n",
       "    .dataframe tbody tr th {\n",
       "        vertical-align: top;\n",
       "    }\n",
       "\n",
       "    .dataframe thead th {\n",
       "        text-align: right;\n",
       "    }\n",
       "</style>\n",
       "<table border=\"1\" class=\"dataframe\">\n",
       "  <thead>\n",
       "    <tr style=\"text-align: right;\">\n",
       "      <th></th>\n",
       "      <th>enrolled</th>\n",
       "    </tr>\n",
       "  </thead>\n",
       "  <tbody>\n",
       "    <tr>\n",
       "      <th>0</th>\n",
       "      <td>179.9</td>\n",
       "    </tr>\n",
       "    <tr>\n",
       "      <th>1</th>\n",
       "      <td>229.0</td>\n",
       "    </tr>\n",
       "    <tr>\n",
       "      <th>2</th>\n",
       "      <td>199.5</td>\n",
       "    </tr>\n",
       "    <tr>\n",
       "      <th>3</th>\n",
       "      <td>192.7</td>\n",
       "    </tr>\n",
       "    <tr>\n",
       "      <th>4</th>\n",
       "      <td>195.0</td>\n",
       "    </tr>\n",
       "    <tr>\n",
       "      <th>...</th>\n",
       "      <td>...</td>\n",
       "    </tr>\n",
       "    <tr>\n",
       "      <th>995</th>\n",
       "      <td>210.1</td>\n",
       "    </tr>\n",
       "    <tr>\n",
       "      <th>996</th>\n",
       "      <td>170.0</td>\n",
       "    </tr>\n",
       "    <tr>\n",
       "      <th>997</th>\n",
       "      <td>167.1</td>\n",
       "    </tr>\n",
       "    <tr>\n",
       "      <th>998</th>\n",
       "      <td>148.5</td>\n",
       "    </tr>\n",
       "    <tr>\n",
       "      <th>999</th>\n",
       "      <td>182.1</td>\n",
       "    </tr>\n",
       "  </tbody>\n",
       "</table>\n",
       "<p>1000 rows × 1 columns</p>\n",
       "</div>"
      ],
      "text/plain": [
       "     enrolled\n",
       "0       179.9\n",
       "1       229.0\n",
       "2       199.5\n",
       "3       192.7\n",
       "4       195.0\n",
       "..        ...\n",
       "995     210.1\n",
       "996     170.0\n",
       "997     167.1\n",
       "998     148.5\n",
       "999     182.1\n",
       "\n",
       "[1000 rows x 1 columns]"
      ]
     },
     "execution_count": 10,
     "metadata": {},
     "output_type": "execute_result"
    }
   ],
   "source": [
    "# iterate 1000 times\n",
    "# parametrize the sample size. number of random samples, \n",
    "# and the variable name\n",
    "x = 'enrolled'\n",
    "n=10\n",
    "M=1000\n",
    "SampleMeans = []\n",
    "for i in range(M):\n",
    "    #1. Collect a random sample of size n=10 with replacement\n",
    "    #2. Take the mean of this random sample\n",
    "    #3. Append this random sample mean to the SampleMeans list (which is our SAMPLING DISTRIBUTION OF SAMPLE MEANS!)\n",
    "    SampleMeans.append(sectdf[x].sample(n, replace=True).mean())\n",
    "\n",
    "#4. print out in a dataframe\n",
    "print('Sampling Distribution of Sample Means (samples of size n=10)')    \n",
    "MonteCarlo = pd.DataFrame({x: SampleMeans})\n",
    "MonteCarlo"
   ]
  },
  {
   "cell_type": "code",
   "execution_count": 11,
   "metadata": {},
   "outputs": [
    {
     "data": {
      "text/plain": [
       "(1000, 1)"
      ]
     },
     "execution_count": 11,
     "metadata": {},
     "output_type": "execute_result"
    }
   ],
   "source": [
    "MonteCarlo.shape"
   ]
  },
  {
   "cell_type": "markdown",
   "metadata": {},
   "source": [
    "#### 5.2.4 <u>Making our own functions to Create a Sampling Distribution of Sample Means</u>\n",
    "\n",
    "If we want to try lots of different values for n and M it gets tedious to keep copying the code and changing the parameters in multiple locations. Instead, we can make our own function to do this kind of task with varying inputs. This saves a lot of redundant effort. It also makes it easier to understand and debug the code. \n",
    "\n",
    "Here's a function to do the Monte carlo simulation of the sample mean for different sample sizes and numbers of Monte Carlo samples. Notice that we input the data frame (or data series), variable name x as a text string, sample size n, and number of Monte Carlo samples M. Here again, the **colon (:)** and **indentation (4 characters)** are important to indicate that the ensuing lines of code are included in the function."
   ]
  },
  {
   "cell_type": "code",
   "execution_count": 12,
   "metadata": {},
   "outputs": [],
   "source": [
    "def MCmeans(df, x='', replace=True, n=1, M=1):\n",
    "    #INPUT:\n",
    "    # df is a data frame\n",
    "    # x is a text-valued name for a variable in the data frame\n",
    "    # replace = True or False depending on whether \n",
    "    #    draws are with or without replacement\n",
    "    # n = number of draws per sample\n",
    "    # M = number of samples to draw\n",
    "    MCstats = []\n",
    "    for i in range(M):\n",
    "        #1. Collect a random sample of size n=10 with replacement\n",
    "        #2. Take the mean of this random sample\n",
    "        #3. Append this random sample mean to the SampleMeans list (which is our SAMPLING DISTRIBUTION OF SAMPLE MEANS!)\n",
    "        MCstats.append(df[x].sample(n, replace=replace).mean())\n",
    "    #4. returns the sampling distribution in a dataframe format\n",
    "    return pd.DataFrame({x: MCstats})"
   ]
  },
  {
   "cell_type": "code",
   "execution_count": 13,
   "metadata": {},
   "outputs": [
    {
     "data": {
      "text/html": [
       "<div>\n",
       "<style scoped>\n",
       "    .dataframe tbody tr th:only-of-type {\n",
       "        vertical-align: middle;\n",
       "    }\n",
       "\n",
       "    .dataframe tbody tr th {\n",
       "        vertical-align: top;\n",
       "    }\n",
       "\n",
       "    .dataframe thead th {\n",
       "        text-align: right;\n",
       "    }\n",
       "</style>\n",
       "<table border=\"1\" class=\"dataframe\">\n",
       "  <thead>\n",
       "    <tr style=\"text-align: right;\">\n",
       "      <th></th>\n",
       "      <th>enrolled</th>\n",
       "    </tr>\n",
       "  </thead>\n",
       "  <tbody>\n",
       "    <tr>\n",
       "      <th>0</th>\n",
       "      <td>176.8</td>\n",
       "    </tr>\n",
       "    <tr>\n",
       "      <th>1</th>\n",
       "      <td>223.3</td>\n",
       "    </tr>\n",
       "    <tr>\n",
       "      <th>2</th>\n",
       "      <td>227.3</td>\n",
       "    </tr>\n",
       "    <tr>\n",
       "      <th>3</th>\n",
       "      <td>163.5</td>\n",
       "    </tr>\n",
       "    <tr>\n",
       "      <th>4</th>\n",
       "      <td>225.4</td>\n",
       "    </tr>\n",
       "    <tr>\n",
       "      <th>...</th>\n",
       "      <td>...</td>\n",
       "    </tr>\n",
       "    <tr>\n",
       "      <th>9995</th>\n",
       "      <td>141.2</td>\n",
       "    </tr>\n",
       "    <tr>\n",
       "      <th>9996</th>\n",
       "      <td>211.2</td>\n",
       "    </tr>\n",
       "    <tr>\n",
       "      <th>9997</th>\n",
       "      <td>215.0</td>\n",
       "    </tr>\n",
       "    <tr>\n",
       "      <th>9998</th>\n",
       "      <td>209.5</td>\n",
       "    </tr>\n",
       "    <tr>\n",
       "      <th>9999</th>\n",
       "      <td>162.3</td>\n",
       "    </tr>\n",
       "  </tbody>\n",
       "</table>\n",
       "<p>10000 rows × 1 columns</p>\n",
       "</div>"
      ],
      "text/plain": [
       "      enrolled\n",
       "0        176.8\n",
       "1        223.3\n",
       "2        227.3\n",
       "3        163.5\n",
       "4        225.4\n",
       "...        ...\n",
       "9995     141.2\n",
       "9996     211.2\n",
       "9997     215.0\n",
       "9998     209.5\n",
       "9999     162.3\n",
       "\n",
       "[10000 rows x 1 columns]"
      ]
     },
     "execution_count": 13,
     "metadata": {},
     "output_type": "execute_result"
    }
   ],
   "source": [
    "MonteCarlo = MCmeans(df=sectdf, x=\"enrolled\", n=10, M=10000)\n",
    "\n",
    "MonteCarlo"
   ]
  },
  {
   "cell_type": "markdown",
   "metadata": {},
   "source": [
    "#### 5.2.5 <u>What is the mean, standard deviation, and shape of this sampling distribution of sample means when the size of the samples is n=10? </u>\n",
    "\n",
    "#### Mean of the Sampling Distribution Means"
   ]
  },
  {
   "cell_type": "code",
   "execution_count": 14,
   "metadata": {},
   "outputs": [
    {
     "data": {
      "text/plain": [
       "178.11037"
      ]
     },
     "execution_count": 14,
     "metadata": {},
     "output_type": "execute_result"
    }
   ],
   "source": [
    "MonteCarlo['enrolled'].mean()"
   ]
  },
  {
   "cell_type": "markdown",
   "metadata": {},
   "source": [
    "#### Standard Deviation of the Sampling Distribution Means"
   ]
  },
  {
   "cell_type": "code",
   "execution_count": 15,
   "metadata": {},
   "outputs": [
    {
     "data": {
      "text/plain": [
       "28.70181636916711"
      ]
     },
     "execution_count": 15,
     "metadata": {},
     "output_type": "execute_result"
    }
   ],
   "source": [
    "MonteCarlo['enrolled'].std()"
   ]
  },
  {
   "cell_type": "code",
   "execution_count": 16,
   "metadata": {},
   "outputs": [
    {
     "data": {
      "image/png": "[encoded data removed]",
      "text/plain": [
       "<Figure size 432x288 with 1 Axes>"
      ]
     },
     "metadata": {},
     "output_type": "display_data"
    }
   ],
   "source": [
    "MonteCarlo['enrolled'].hist(density=True)\n",
    "plt.title('Sampling Distribution (n=10)')\n",
    "plt.xlabel('Sample Mean Enrollment of Samples (of size n=10) \\n Drawn from sectdf Population with Replacement')\n",
    "plt.show()"
   ]
  },
  {
   "cell_type": "markdown",
   "metadata": {},
   "source": [
    "### 5.3. Creating a sampling distribution of sample means with samples of size n=100. What is the mean, standard deviation, and shape of the sample means in this sampling distribution?\n"
   ]
  },
  {
   "cell_type": "code",
   "execution_count": 17,
   "metadata": {},
   "outputs": [
    {
     "data": {
      "text/html": [
       "<div>\n",
       "<style scoped>\n",
       "    .dataframe tbody tr th:only-of-type {\n",
       "        vertical-align: middle;\n",
       "    }\n",
       "\n",
       "    .dataframe tbody tr th {\n",
       "        vertical-align: top;\n",
       "    }\n",
       "\n",
       "    .dataframe thead th {\n",
       "        text-align: right;\n",
       "    }\n",
       "</style>\n",
       "<table border=\"1\" class=\"dataframe\">\n",
       "  <thead>\n",
       "    <tr style=\"text-align: right;\">\n",
       "      <th></th>\n",
       "      <th>enrolled</th>\n",
       "    </tr>\n",
       "  </thead>\n",
       "  <tbody>\n",
       "    <tr>\n",
       "      <th>0</th>\n",
       "      <td>167.68</td>\n",
       "    </tr>\n",
       "    <tr>\n",
       "      <th>1</th>\n",
       "      <td>163.65</td>\n",
       "    </tr>\n",
       "    <tr>\n",
       "      <th>2</th>\n",
       "      <td>174.75</td>\n",
       "    </tr>\n",
       "    <tr>\n",
       "      <th>3</th>\n",
       "      <td>184.11</td>\n",
       "    </tr>\n",
       "    <tr>\n",
       "      <th>4</th>\n",
       "      <td>178.84</td>\n",
       "    </tr>\n",
       "    <tr>\n",
       "      <th>...</th>\n",
       "      <td>...</td>\n",
       "    </tr>\n",
       "    <tr>\n",
       "      <th>9995</th>\n",
       "      <td>158.56</td>\n",
       "    </tr>\n",
       "    <tr>\n",
       "      <th>9996</th>\n",
       "      <td>175.84</td>\n",
       "    </tr>\n",
       "    <tr>\n",
       "      <th>9997</th>\n",
       "      <td>185.53</td>\n",
       "    </tr>\n",
       "    <tr>\n",
       "      <th>9998</th>\n",
       "      <td>163.86</td>\n",
       "    </tr>\n",
       "    <tr>\n",
       "      <th>9999</th>\n",
       "      <td>188.51</td>\n",
       "    </tr>\n",
       "  </tbody>\n",
       "</table>\n",
       "<p>10000 rows × 1 columns</p>\n",
       "</div>"
      ],
      "text/plain": [
       "      enrolled\n",
       "0       167.68\n",
       "1       163.65\n",
       "2       174.75\n",
       "3       184.11\n",
       "4       178.84\n",
       "...        ...\n",
       "9995    158.56\n",
       "9996    175.84\n",
       "9997    185.53\n",
       "9998    163.86\n",
       "9999    188.51\n",
       "\n",
       "[10000 rows x 1 columns]"
      ]
     },
     "execution_count": 17,
     "metadata": {},
     "output_type": "execute_result"
    }
   ],
   "source": [
    "MonteCarlo = MCmeans(df=sectdf, x=\"enrolled\", n=100, M=10000)\n",
    "MonteCarlo"
   ]
  },
  {
   "cell_type": "code",
   "execution_count": 18,
   "metadata": {},
   "outputs": [
    {
     "name": "stdout",
     "output_type": "stream",
     "text": [
      "Sampling Distribution Mean (Samples of Size n=100): 177.859012\n",
      "Sampling Distribution Standard Deviation (Samples of size n=100): 9.038486359309436\n"
     ]
    }
   ],
   "source": [
    "print('Sampling Distribution Mean (Samples of Size n=100):',MonteCarlo['enrolled'].mean())\n",
    "print('Sampling Distribution Standard Deviation (Samples of size n=100):',MonteCarlo['enrolled'].std())"
   ]
  },
  {
   "cell_type": "code",
   "execution_count": 19,
   "metadata": {},
   "outputs": [
    {
     "data": {
      "image/png": "[encoded data removed]",
      "text/plain": [
       "<Figure size 432x288 with 1 Axes>"
      ]
     },
     "metadata": {},
     "output_type": "display_data"
    }
   ],
   "source": [
    "MonteCarlo['enrolled'].hist(density=True)\n",
    "plt.title('Sampling Distribution (n=100)')\n",
    "plt.xlabel('Sample Mean Enrollment of Samples (of size n=100) \\n Drawn from sectdf Population with Replacement')\n",
    "plt.show()"
   ]
  },
  {
   "cell_type": "markdown",
   "metadata": {},
   "source": [
    "### 5.4. Creating a sampling distribution of sample means with samples of size n=400. What is the mean, standard deviation, and shape of the sample means in this sampling distribution?\n"
   ]
  },
  {
   "cell_type": "code",
   "execution_count": 20,
   "metadata": {},
   "outputs": [
    {
     "data": {
      "text/html": [
       "<div>\n",
       "<style scoped>\n",
       "    .dataframe tbody tr th:only-of-type {\n",
       "        vertical-align: middle;\n",
       "    }\n",
       "\n",
       "    .dataframe tbody tr th {\n",
       "        vertical-align: top;\n",
       "    }\n",
       "\n",
       "    .dataframe thead th {\n",
       "        text-align: right;\n",
       "    }\n",
       "</style>\n",
       "<table border=\"1\" class=\"dataframe\">\n",
       "  <thead>\n",
       "    <tr style=\"text-align: right;\">\n",
       "      <th></th>\n",
       "      <th>enrolled</th>\n",
       "    </tr>\n",
       "  </thead>\n",
       "  <tbody>\n",
       "    <tr>\n",
       "      <th>0</th>\n",
       "      <td>175.2025</td>\n",
       "    </tr>\n",
       "    <tr>\n",
       "      <th>1</th>\n",
       "      <td>176.8450</td>\n",
       "    </tr>\n",
       "    <tr>\n",
       "      <th>2</th>\n",
       "      <td>184.4900</td>\n",
       "    </tr>\n",
       "    <tr>\n",
       "      <th>3</th>\n",
       "      <td>171.1325</td>\n",
       "    </tr>\n",
       "    <tr>\n",
       "      <th>4</th>\n",
       "      <td>171.7225</td>\n",
       "    </tr>\n",
       "    <tr>\n",
       "      <th>...</th>\n",
       "      <td>...</td>\n",
       "    </tr>\n",
       "    <tr>\n",
       "      <th>9995</th>\n",
       "      <td>179.1975</td>\n",
       "    </tr>\n",
       "    <tr>\n",
       "      <th>9996</th>\n",
       "      <td>183.8800</td>\n",
       "    </tr>\n",
       "    <tr>\n",
       "      <th>9997</th>\n",
       "      <td>171.6350</td>\n",
       "    </tr>\n",
       "    <tr>\n",
       "      <th>9998</th>\n",
       "      <td>182.2200</td>\n",
       "    </tr>\n",
       "    <tr>\n",
       "      <th>9999</th>\n",
       "      <td>184.0800</td>\n",
       "    </tr>\n",
       "  </tbody>\n",
       "</table>\n",
       "<p>10000 rows × 1 columns</p>\n",
       "</div>"
      ],
      "text/plain": [
       "      enrolled\n",
       "0     175.2025\n",
       "1     176.8450\n",
       "2     184.4900\n",
       "3     171.1325\n",
       "4     171.7225\n",
       "...        ...\n",
       "9995  179.1975\n",
       "9996  183.8800\n",
       "9997  171.6350\n",
       "9998  182.2200\n",
       "9999  184.0800\n",
       "\n",
       "[10000 rows x 1 columns]"
      ]
     },
     "execution_count": 20,
     "metadata": {},
     "output_type": "execute_result"
    }
   ],
   "source": [
    "MonteCarlo = MCmeans(df=sectdf, x=\"enrolled\", n=400, M=10000)\n",
    "MonteCarlo"
   ]
  },
  {
   "cell_type": "code",
   "execution_count": 21,
   "metadata": {},
   "outputs": [
    {
     "name": "stdout",
     "output_type": "stream",
     "text": [
      "Sampling Distribution Mean (Samples of Size n=400): 177.836558\n",
      "Sampling Distribution Standard Deviation (Samples of size n=400): 4.569345136929803\n"
     ]
    }
   ],
   "source": [
    "print('Sampling Distribution Mean (Samples of Size n=400):',MonteCarlo['enrolled'].mean())\n",
    "print('Sampling Distribution Standard Deviation (Samples of size n=400):',MonteCarlo['enrolled'].std())"
   ]
  },
  {
   "cell_type": "code",
   "execution_count": 22,
   "metadata": {},
   "outputs": [
    {
     "data": {
      "image/png": "[encoded data removed]",
      "text/plain": [
       "<Figure size 432x288 with 1 Axes>"
      ]
     },
     "metadata": {},
     "output_type": "display_data"
    }
   ],
   "source": [
    "MonteCarlo['enrolled'].hist(density=True)\n",
    "plt.title('Sampling Distribution (n=400)')\n",
    "plt.xlabel('Sample Mean Enrollment of Samples (of size n=400) \\n Drawn from sectdf Population with Replacement')\n",
    "plt.show()"
   ]
  },
  {
   "cell_type": "markdown",
   "metadata": {},
   "source": [
    "## 6. <u> Type of Sampling Distribution</u>: Sampling Distribution of Sample Proportions - How to create one?\n",
    "\n",
    "#### See the Unit 6 slides (section 6).\n",
    "\n",
    "If we make one draw, i.e., toss the coin once, then the uniform probability principle tells us the probability of a 1 is $p$ = 1/2. What if we draw (flip) 10 times randomly and without replacement? What proportion $\\hat{p}$ of \"heads\" do we expect? How much is it likely to vary from this expectation? What if we toss 100 times, or 400?\n",
    "\n",
    "Let's consider a series of sample sizes and study how the sampling distribution is affected. We'll compute mean and standard deviation of the Monte Carlo values, and look at the histrogram as well to get a picture fo the sample distributions for different sample sizes.\n"
   ]
  },
  {
   "cell_type": "markdown",
   "metadata": {},
   "source": [
    "## 7. <u> Case Study</u>: Sampling Distribution of Sample Proportions - What happened to the mean, standard deviation, and shape of the sampling distribution of sample proportions as we increased the size of the samples n?\n",
    "\n",
    "\n",
    "### 7.1 Population and population proportion of heads.\n",
    "\n",
    "#### 7.1.1 Creating the population"
   ]
  },
  {
   "cell_type": "markdown",
   "metadata": {},
   "source": [
    "With our function available we can simulate all kinds of things. Here is a \"data frame\" of the possible outcomes when flipping a coin."
   ]
  },
  {
   "cell_type": "code",
   "execution_count": 23,
   "metadata": {},
   "outputs": [
    {
     "data": {
      "text/html": [
       "<div>\n",
       "<style scoped>\n",
       "    .dataframe tbody tr th:only-of-type {\n",
       "        vertical-align: middle;\n",
       "    }\n",
       "\n",
       "    .dataframe tbody tr th {\n",
       "        vertical-align: top;\n",
       "    }\n",
       "\n",
       "    .dataframe thead th {\n",
       "        text-align: right;\n",
       "    }\n",
       "</style>\n",
       "<table border=\"1\" class=\"dataframe\">\n",
       "  <thead>\n",
       "    <tr style=\"text-align: right;\">\n",
       "      <th></th>\n",
       "      <th>toss</th>\n",
       "      <th>value</th>\n",
       "    </tr>\n",
       "  </thead>\n",
       "  <tbody>\n",
       "    <tr>\n",
       "      <th>0</th>\n",
       "      <td>heads</td>\n",
       "      <td>1</td>\n",
       "    </tr>\n",
       "    <tr>\n",
       "      <th>1</th>\n",
       "      <td>tails</td>\n",
       "      <td>0</td>\n",
       "    </tr>\n",
       "  </tbody>\n",
       "</table>\n",
       "</div>"
      ],
      "text/plain": [
       "    toss  value\n",
       "0  heads      1\n",
       "1  tails      0"
      ]
     },
     "execution_count": 23,
     "metadata": {},
     "output_type": "execute_result"
    }
   ],
   "source": [
    "df = pd.DataFrame({'toss':['heads','tails'], 'value': [1, 0]})\n",
    "df"
   ]
  },
  {
   "cell_type": "markdown",
   "metadata": {},
   "source": [
    "#### 7.1.2 Population Proportion of Heads"
   ]
  },
  {
   "cell_type": "code",
   "execution_count": 24,
   "metadata": {},
   "outputs": [
    {
     "data": {
      "text/plain": [
       "heads    0.5\n",
       "tails    0.5\n",
       "Name: toss, dtype: float64"
      ]
     },
     "execution_count": 24,
     "metadata": {},
     "output_type": "execute_result"
    }
   ],
   "source": [
    "df['toss'].value_counts(normalize=True)"
   ]
  },
  {
   "cell_type": "markdown",
   "metadata": {},
   "source": [
    "#### The population proportion of heads is $p=0.5$."
   ]
  },
  {
   "cell_type": "markdown",
   "metadata": {},
   "source": [
    "### 7.2. Creating a sampling distribution of sample proportions with samples of size n=10. What is the mean, standard deviation, and shape of the sample means in this sampling distribution?"
   ]
  },
  {
   "cell_type": "markdown",
   "metadata": {},
   "source": [
    "\n",
    "#### 7.2.1.<u>Step-by-step</u> Let's create a sampling distribution with M=5 sample proportions.\n",
    "\n"
   ]
  },
  {
   "cell_type": "code",
   "execution_count": 25,
   "metadata": {},
   "outputs": [
    {
     "name": "stdout",
     "output_type": "stream",
     "text": [
      "Trial Number: 0\n",
      "Random Sample\n",
      "0    1\n",
      "1    0\n",
      "1    0\n",
      "0    1\n",
      "0    1\n",
      "1    0\n",
      "1    0\n",
      "1    0\n",
      "0    1\n",
      "0    1\n",
      "Name: value, dtype: int64\n",
      "Random Sample Proportion\n",
      "0.5\n",
      "Current Sampling Distribution List\n",
      "[0.5]\n",
      "---------\n",
      "Trial Number: 1\n",
      "Random Sample\n",
      "0    1\n",
      "0    1\n",
      "0    1\n",
      "1    0\n",
      "0    1\n",
      "0    1\n",
      "1    0\n",
      "0    1\n",
      "1    0\n",
      "0    1\n",
      "Name: value, dtype: int64\n",
      "Random Sample Proportion\n",
      "0.7\n",
      "Current Sampling Distribution List\n",
      "[0.5, 0.7]\n",
      "---------\n",
      "Trial Number: 2\n",
      "Random Sample\n",
      "1    0\n",
      "0    1\n",
      "1    0\n",
      "0    1\n",
      "1    0\n",
      "1    0\n",
      "0    1\n",
      "0    1\n",
      "1    0\n",
      "1    0\n",
      "Name: value, dtype: int64\n",
      "Random Sample Proportion\n",
      "0.4\n",
      "Current Sampling Distribution List\n",
      "[0.5, 0.7, 0.4]\n",
      "---------\n",
      "Trial Number: 3\n",
      "Random Sample\n",
      "1    0\n",
      "1    0\n",
      "0    1\n",
      "0    1\n",
      "1    0\n",
      "0    1\n",
      "1    0\n",
      "1    0\n",
      "1    0\n",
      "0    1\n",
      "Name: value, dtype: int64\n",
      "Random Sample Proportion\n",
      "0.4\n",
      "Current Sampling Distribution List\n",
      "[0.5, 0.7, 0.4, 0.4]\n",
      "---------\n",
      "Trial Number: 4\n",
      "Random Sample\n",
      "1    0\n",
      "0    1\n",
      "0    1\n",
      "1    0\n",
      "0    1\n",
      "1    0\n",
      "1    0\n",
      "1    0\n",
      "0    1\n",
      "0    1\n",
      "Name: value, dtype: int64\n",
      "Random Sample Proportion\n",
      "0.5\n",
      "Current Sampling Distribution List\n",
      "[0.5, 0.7, 0.4, 0.4, 0.5]\n",
      "---------\n",
      "Sampling Distribution of Sample Proportions (samples of size n=10)\n",
      "   value\n",
      "0    0.5\n",
      "1    0.7\n",
      "2    0.4\n",
      "3    0.4\n",
      "4    0.5\n"
     ]
    }
   ],
   "source": [
    "# iterate 5 times\n",
    "x = 'value'\n",
    "SampleProportions = []\n",
    "for i in range(5):\n",
    "    print('Trial Number:',i)\n",
    "    #1. Collect a random sample of size n=10 with replacement from the population of enrollments\n",
    "    rand_sample=df[x].sample(10, replace=True)\n",
    "    print('Random Sample')\n",
    "    print(rand_sample)\n",
    "    \n",
    "    #2. Find the sample proportion of heads\n",
    "    # proportion of observations that are equal to 1 (ie. heads) = mean of values in this sample\n",
    "    rand_sample_proportion=rand_sample.mean()\n",
    "    print('Random Sample Proportion')\n",
    "    print(rand_sample_proportion)\n",
    "    \n",
    "    #3. Append this random sample proportions to the SampleProportions list (which is our SAMPLING DISTRIBUTION OF SAMPLE PROPORTIONS!)\n",
    "    SampleProportions.append(rand_sample_proportion)\n",
    "    print('Current Sampling Distribution List')\n",
    "    print(SampleProportions)\n",
    "    print('---------')\n",
    "    \n",
    "#4. print out in a dataframe\n",
    "print('Sampling Distribution of Sample Proportions (samples of size n=10)')\n",
    "print(pd.DataFrame({x: SampleProportions}))"
   ]
  },
  {
   "cell_type": "markdown",
   "metadata": {},
   "source": [
    "#### 7.2.2 <u> Using the Function</u>:\n",
    "\n",
    "Because the **sample proportion of \"1\"'s** in a column of 0/1 values = **sample mean** of the column of 0/1 values, we can create a our sampling distribution of sample proportions the same way (and with the same function) that we used to quickly create a sampling distribution of sample means."
   ]
  },
  {
   "cell_type": "code",
   "execution_count": 26,
   "metadata": {},
   "outputs": [
    {
     "data": {
      "text/html": [
       "<div>\n",
       "<style scoped>\n",
       "    .dataframe tbody tr th:only-of-type {\n",
       "        vertical-align: middle;\n",
       "    }\n",
       "\n",
       "    .dataframe tbody tr th {\n",
       "        vertical-align: top;\n",
       "    }\n",
       "\n",
       "    .dataframe thead th {\n",
       "        text-align: right;\n",
       "    }\n",
       "</style>\n",
       "<table border=\"1\" class=\"dataframe\">\n",
       "  <thead>\n",
       "    <tr style=\"text-align: right;\">\n",
       "      <th></th>\n",
       "      <th>value</th>\n",
       "    </tr>\n",
       "  </thead>\n",
       "  <tbody>\n",
       "    <tr>\n",
       "      <th>0</th>\n",
       "      <td>0.2</td>\n",
       "    </tr>\n",
       "    <tr>\n",
       "      <th>1</th>\n",
       "      <td>0.6</td>\n",
       "    </tr>\n",
       "    <tr>\n",
       "      <th>2</th>\n",
       "      <td>0.5</td>\n",
       "    </tr>\n",
       "    <tr>\n",
       "      <th>3</th>\n",
       "      <td>0.7</td>\n",
       "    </tr>\n",
       "    <tr>\n",
       "      <th>4</th>\n",
       "      <td>0.5</td>\n",
       "    </tr>\n",
       "    <tr>\n",
       "      <th>...</th>\n",
       "      <td>...</td>\n",
       "    </tr>\n",
       "    <tr>\n",
       "      <th>9995</th>\n",
       "      <td>0.4</td>\n",
       "    </tr>\n",
       "    <tr>\n",
       "      <th>9996</th>\n",
       "      <td>0.3</td>\n",
       "    </tr>\n",
       "    <tr>\n",
       "      <th>9997</th>\n",
       "      <td>0.4</td>\n",
       "    </tr>\n",
       "    <tr>\n",
       "      <th>9998</th>\n",
       "      <td>0.3</td>\n",
       "    </tr>\n",
       "    <tr>\n",
       "      <th>9999</th>\n",
       "      <td>0.7</td>\n",
       "    </tr>\n",
       "  </tbody>\n",
       "</table>\n",
       "<p>10000 rows × 1 columns</p>\n",
       "</div>"
      ],
      "text/plain": [
       "      value\n",
       "0       0.2\n",
       "1       0.6\n",
       "2       0.5\n",
       "3       0.7\n",
       "4       0.5\n",
       "...     ...\n",
       "9995    0.4\n",
       "9996    0.3\n",
       "9997    0.4\n",
       "9998    0.3\n",
       "9999    0.7\n",
       "\n",
       "[10000 rows x 1 columns]"
      ]
     },
     "execution_count": 26,
     "metadata": {},
     "output_type": "execute_result"
    }
   ],
   "source": [
    "MonteCarlo = MCmeans(df=df, x=\"value\", n=10, M=10000)\n",
    "MonteCarlo"
   ]
  },
  {
   "cell_type": "markdown",
   "metadata": {},
   "source": [
    "#### 7.2.3 What is the mean, standard deviation, and shape of the sampling distribution of sample proportions?"
   ]
  },
  {
   "cell_type": "code",
   "execution_count": 27,
   "metadata": {},
   "outputs": [
    {
     "name": "stdout",
     "output_type": "stream",
     "text": [
      "Sample size =  10\n",
      "Mean value for sample proportion = 0.49942\n",
      "Standard Deviation for sample proportion = 0.15771\n"
     ]
    }
   ],
   "source": [
    "print('Sample size = ', 10)\n",
    "print('Mean value for sample proportion =', \n",
    "      np.round(MonteCarlo.mean().value, 5))\n",
    "print('Standard Deviation for sample proportion =', \n",
    "      np.round(MonteCarlo.std().value, 5))"
   ]
  },
  {
   "cell_type": "code",
   "execution_count": 28,
   "metadata": {},
   "outputs": [
    {
     "data": {
      "image/png": "[encoded data removed]",
      "text/plain": [
       "<Figure size 432x288 with 1 Axes>"
      ]
     },
     "metadata": {},
     "output_type": "display_data"
    }
   ],
   "source": [
    "MonteCarlo['value'].hist(density=True)\n",
    "plt.title('Sampling Distribution (n=10)')\n",
    "plt.xlabel('Sample Proportion of Heads (of size n=10) \\n Drawn from df Population with Replacement')\n",
    "plt.show()"
   ]
  },
  {
   "cell_type": "markdown",
   "metadata": {},
   "source": [
    "### 7.3. Creating a sampling distribution of sample proportions with samples of size n=100. What is the mean, standard deviation, and shape of the sample means in this sampling distribution?"
   ]
  },
  {
   "cell_type": "code",
   "execution_count": 29,
   "metadata": {},
   "outputs": [
    {
     "data": {
      "text/html": [
       "<div>\n",
       "<style scoped>\n",
       "    .dataframe tbody tr th:only-of-type {\n",
       "        vertical-align: middle;\n",
       "    }\n",
       "\n",
       "    .dataframe tbody tr th {\n",
       "        vertical-align: top;\n",
       "    }\n",
       "\n",
       "    .dataframe thead th {\n",
       "        text-align: right;\n",
       "    }\n",
       "</style>\n",
       "<table border=\"1\" class=\"dataframe\">\n",
       "  <thead>\n",
       "    <tr style=\"text-align: right;\">\n",
       "      <th></th>\n",
       "      <th>value</th>\n",
       "    </tr>\n",
       "  </thead>\n",
       "  <tbody>\n",
       "    <tr>\n",
       "      <th>0</th>\n",
       "      <td>0.52</td>\n",
       "    </tr>\n",
       "    <tr>\n",
       "      <th>1</th>\n",
       "      <td>0.49</td>\n",
       "    </tr>\n",
       "    <tr>\n",
       "      <th>2</th>\n",
       "      <td>0.52</td>\n",
       "    </tr>\n",
       "    <tr>\n",
       "      <th>3</th>\n",
       "      <td>0.51</td>\n",
       "    </tr>\n",
       "    <tr>\n",
       "      <th>4</th>\n",
       "      <td>0.52</td>\n",
       "    </tr>\n",
       "    <tr>\n",
       "      <th>...</th>\n",
       "      <td>...</td>\n",
       "    </tr>\n",
       "    <tr>\n",
       "      <th>9995</th>\n",
       "      <td>0.55</td>\n",
       "    </tr>\n",
       "    <tr>\n",
       "      <th>9996</th>\n",
       "      <td>0.51</td>\n",
       "    </tr>\n",
       "    <tr>\n",
       "      <th>9997</th>\n",
       "      <td>0.55</td>\n",
       "    </tr>\n",
       "    <tr>\n",
       "      <th>9998</th>\n",
       "      <td>0.51</td>\n",
       "    </tr>\n",
       "    <tr>\n",
       "      <th>9999</th>\n",
       "      <td>0.50</td>\n",
       "    </tr>\n",
       "  </tbody>\n",
       "</table>\n",
       "<p>10000 rows × 1 columns</p>\n",
       "</div>"
      ],
      "text/plain": [
       "      value\n",
       "0      0.52\n",
       "1      0.49\n",
       "2      0.52\n",
       "3      0.51\n",
       "4      0.52\n",
       "...     ...\n",
       "9995   0.55\n",
       "9996   0.51\n",
       "9997   0.55\n",
       "9998   0.51\n",
       "9999   0.50\n",
       "\n",
       "[10000 rows x 1 columns]"
      ]
     },
     "execution_count": 29,
     "metadata": {},
     "output_type": "execute_result"
    }
   ],
   "source": [
    "MonteCarlo = MCmeans(df=df, x=\"value\", n=100, M=10000)\n",
    "MonteCarlo"
   ]
  },
  {
   "cell_type": "code",
   "execution_count": 30,
   "metadata": {},
   "outputs": [
    {
     "name": "stdout",
     "output_type": "stream",
     "text": [
      "Sample size =  100\n",
      "Mean value for sample proportion = 0.49947\n",
      "Standard Deviation for sample proportion = 0.04968\n"
     ]
    }
   ],
   "source": [
    "print('Sample size = ', 100)\n",
    "print('Mean value for sample proportion =', \n",
    "      np.round(MonteCarlo.mean().value, 5))\n",
    "print('Standard Deviation for sample proportion =', \n",
    "      np.round(MonteCarlo.std().value, 5))"
   ]
  },
  {
   "cell_type": "code",
   "execution_count": 31,
   "metadata": {},
   "outputs": [
    {
     "data": {
      "image/png": "[encoded data removed]",
      "text/plain": [
       "<Figure size 432x288 with 1 Axes>"
      ]
     },
     "metadata": {},
     "output_type": "display_data"
    }
   ],
   "source": [
    "MonteCarlo['value'].hist(density=True, bins=15)\n",
    "plt.title('Sampling Distribution (n=100)')\n",
    "plt.xlabel('Sample Proportion of Heads (of size n=100) \\n Drawn from df Population with Replacement')\n",
    "plt.show()"
   ]
  },
  {
   "cell_type": "markdown",
   "metadata": {},
   "source": [
    "### 7.4. Creating a sampling distribution of sample proportions with samples of size n=400. What is the mean, standard deviation, and shape of the sample means in this sampling distribution?"
   ]
  },
  {
   "cell_type": "code",
   "execution_count": 32,
   "metadata": {},
   "outputs": [
    {
     "data": {
      "text/html": [
       "<div>\n",
       "<style scoped>\n",
       "    .dataframe tbody tr th:only-of-type {\n",
       "        vertical-align: middle;\n",
       "    }\n",
       "\n",
       "    .dataframe tbody tr th {\n",
       "        vertical-align: top;\n",
       "    }\n",
       "\n",
       "    .dataframe thead th {\n",
       "        text-align: right;\n",
       "    }\n",
       "</style>\n",
       "<table border=\"1\" class=\"dataframe\">\n",
       "  <thead>\n",
       "    <tr style=\"text-align: right;\">\n",
       "      <th></th>\n",
       "      <th>value</th>\n",
       "    </tr>\n",
       "  </thead>\n",
       "  <tbody>\n",
       "    <tr>\n",
       "      <th>0</th>\n",
       "      <td>0.4950</td>\n",
       "    </tr>\n",
       "    <tr>\n",
       "      <th>1</th>\n",
       "      <td>0.5625</td>\n",
       "    </tr>\n",
       "    <tr>\n",
       "      <th>2</th>\n",
       "      <td>0.5075</td>\n",
       "    </tr>\n",
       "    <tr>\n",
       "      <th>3</th>\n",
       "      <td>0.5175</td>\n",
       "    </tr>\n",
       "    <tr>\n",
       "      <th>4</th>\n",
       "      <td>0.4600</td>\n",
       "    </tr>\n",
       "    <tr>\n",
       "      <th>...</th>\n",
       "      <td>...</td>\n",
       "    </tr>\n",
       "    <tr>\n",
       "      <th>9995</th>\n",
       "      <td>0.4675</td>\n",
       "    </tr>\n",
       "    <tr>\n",
       "      <th>9996</th>\n",
       "      <td>0.5150</td>\n",
       "    </tr>\n",
       "    <tr>\n",
       "      <th>9997</th>\n",
       "      <td>0.5225</td>\n",
       "    </tr>\n",
       "    <tr>\n",
       "      <th>9998</th>\n",
       "      <td>0.4650</td>\n",
       "    </tr>\n",
       "    <tr>\n",
       "      <th>9999</th>\n",
       "      <td>0.4475</td>\n",
       "    </tr>\n",
       "  </tbody>\n",
       "</table>\n",
       "<p>10000 rows × 1 columns</p>\n",
       "</div>"
      ],
      "text/plain": [
       "       value\n",
       "0     0.4950\n",
       "1     0.5625\n",
       "2     0.5075\n",
       "3     0.5175\n",
       "4     0.4600\n",
       "...      ...\n",
       "9995  0.4675\n",
       "9996  0.5150\n",
       "9997  0.5225\n",
       "9998  0.4650\n",
       "9999  0.4475\n",
       "\n",
       "[10000 rows x 1 columns]"
      ]
     },
     "execution_count": 32,
     "metadata": {},
     "output_type": "execute_result"
    }
   ],
   "source": [
    "MonteCarlo = MCmeans(df=df, x=\"value\", n=400, M=10000)\n",
    "MonteCarlo"
   ]
  },
  {
   "cell_type": "code",
   "execution_count": 33,
   "metadata": {},
   "outputs": [
    {
     "name": "stdout",
     "output_type": "stream",
     "text": [
      "Sample size =  400\n",
      "Mean value for sample proportion = 0.49989\n",
      "Standard Deviation for sample proportion = 0.02495\n"
     ]
    }
   ],
   "source": [
    "print('Sample size = ', 400)\n",
    "print('Mean value for sample proportion =', \n",
    "      np.round(MonteCarlo.mean().value, 5))\n",
    "print('Standard Deviation for sample proportion =', \n",
    "      np.round(MonteCarlo.std().value, 5))"
   ]
  },
  {
   "cell_type": "code",
   "execution_count": 34,
   "metadata": {},
   "outputs": [
    {
     "data": {
      "image/png": "[encoded data removed]",
      "text/plain": [
       "<Figure size 432x288 with 1 Axes>"
      ]
     },
     "metadata": {},
     "output_type": "display_data"
    }
   ],
   "source": [
    "MonteCarlo['value'].hist(density=True, bins=20)\n",
    "plt.title('Sampling Distribution (n=400)')\n",
    "plt.xlabel('Sample Proportion of Heads (of size n=400) \\n Drawn from df Population with Replacement')\n",
    "plt.show()"
   ]
  },
  {
   "cell_type": "markdown",
   "metadata": {},
   "source": [
    "---\n",
    "STAT 207, Victoria Ellison and Douglas Simpson, University of Illinois at Urbana-Champaign"
   ]
  },
  {
   "cell_type": "code",
   "execution_count": null,
   "metadata": {},
   "outputs": [],
   "source": []
  }
 ],
 "metadata": {
  "kernelspec": {
   "display_name": "Python 3",
   "language": "python",
   "name": "python3"
  },
  "language_info": {
   "codemirror_mode": {
    "name": "ipython",
    "version": 3
   },
   "file_extension": ".py",
   "mimetype": "text/x-python",
   "name": "python",
   "nbconvert_exporter": "python",
   "pygments_lexer": "ipython3",
   "version": "3.8.3"
  }
 },
 "nbformat": 4,
 "nbformat_minor": 2
}
