{
 "cells": [
  {
   "cell_type": "markdown",
   "metadata": {},
   "source": [
    "# STAT 207 Lab 7: Hypothesis Testing - [25.5 total points] (0.5) is bonus points - Solutions"
   ]
  },
  {
   "cell_type": "markdown",
   "metadata": {},
   "source": [
    "Due: Wednesday, March 24 11:59pm CST\n",
    "\n",
    "\n",
    "\n",
    "## <u>Case Study</u>: U.S Unemployment Rates and Median Education Levels\n",
    "In this lab we will explore the statistical concepts that we've learned this week while also examining the **unemployment rates** and **median education levels** of the counties in the U.S. "
   ]
  },
  {
   "cell_type": "markdown",
   "metadata": {},
   "source": [
    "### Imports"
   ]
  },
  {
   "cell_type": "code",
   "execution_count": 3,
   "metadata": {},
   "outputs": [],
   "source": [
    "import pandas as pd\n",
    "import numpy as np\n",
    "import matplotlib.pyplot as plt\n",
    "import seaborn as sns; sns.set()"
   ]
  },
  {
   "cell_type": "markdown",
   "metadata": {},
   "source": [
    "## 1. <u>Preliminaries</u>"
   ]
  },
  {
   "cell_type": "markdown",
   "metadata": {},
   "source": [
    "### Read the county.csv into a dataframe, call it df, and display the first five rows.\n",
    "\n",
    "Remember that 'data unavailable' represents missing values in this csv. Make sure you encode these values as NaN when you read the data in."
   ]
  },
  {
   "cell_type": "code",
   "execution_count": 4,
   "metadata": {},
   "outputs": [
    {
     "data": {
      "text/html": [
       "<div>\n",
       "<style scoped>\n",
       "    .dataframe tbody tr th:only-of-type {\n",
       "        vertical-align: middle;\n",
       "    }\n",
       "\n",
       "    .dataframe tbody tr th {\n",
       "        vertical-align: top;\n",
       "    }\n",
       "\n",
       "    .dataframe thead th {\n",
       "        text-align: right;\n",
       "    }\n",
       "</style>\n",
       "<table border=\"1\" class=\"dataframe\">\n",
       "  <thead>\n",
       "    <tr style=\"text-align: right;\">\n",
       "      <th></th>\n",
       "      <th>name</th>\n",
       "      <th>state</th>\n",
       "      <th>pop2000</th>\n",
       "      <th>pop2010</th>\n",
       "      <th>pop2017</th>\n",
       "      <th>pop_change</th>\n",
       "      <th>poverty</th>\n",
       "      <th>homeownership</th>\n",
       "      <th>multi_unit</th>\n",
       "      <th>unemployment_rate</th>\n",
       "      <th>metro</th>\n",
       "      <th>median_edu</th>\n",
       "      <th>per_capita_income</th>\n",
       "      <th>median_hh_income</th>\n",
       "      <th>smoking_ban</th>\n",
       "    </tr>\n",
       "  </thead>\n",
       "  <tbody>\n",
       "    <tr>\n",
       "      <th>0</th>\n",
       "      <td>Autauga County</td>\n",
       "      <td>Alabama</td>\n",
       "      <td>43671</td>\n",
       "      <td>54571</td>\n",
       "      <td>55504</td>\n",
       "      <td>1.48</td>\n",
       "      <td>13.7</td>\n",
       "      <td>77.5</td>\n",
       "      <td>7.2</td>\n",
       "      <td>3.86</td>\n",
       "      <td>yes</td>\n",
       "      <td>some_college</td>\n",
       "      <td>27841.7</td>\n",
       "      <td>55317</td>\n",
       "      <td>none</td>\n",
       "    </tr>\n",
       "    <tr>\n",
       "      <th>1</th>\n",
       "      <td>Baldwin County</td>\n",
       "      <td>Alabama</td>\n",
       "      <td>140415</td>\n",
       "      <td>182265</td>\n",
       "      <td>212628</td>\n",
       "      <td>9.19</td>\n",
       "      <td>11.8</td>\n",
       "      <td>76.7</td>\n",
       "      <td>22.6</td>\n",
       "      <td>3.99</td>\n",
       "      <td>yes</td>\n",
       "      <td>some_college</td>\n",
       "      <td>27779.85</td>\n",
       "      <td>52562</td>\n",
       "      <td>none</td>\n",
       "    </tr>\n",
       "    <tr>\n",
       "      <th>2</th>\n",
       "      <td>Barbour County</td>\n",
       "      <td>Alabama</td>\n",
       "      <td>29038</td>\n",
       "      <td>27457</td>\n",
       "      <td>25270</td>\n",
       "      <td>-6.22</td>\n",
       "      <td>27.2</td>\n",
       "      <td>68.0</td>\n",
       "      <td>11.1</td>\n",
       "      <td>5.9</td>\n",
       "      <td>no</td>\n",
       "      <td>hs_diploma</td>\n",
       "      <td>17891.73</td>\n",
       "      <td>33368</td>\n",
       "      <td>partial</td>\n",
       "    </tr>\n",
       "    <tr>\n",
       "      <th>3</th>\n",
       "      <td>Bibb County</td>\n",
       "      <td>Alabama</td>\n",
       "      <td>20826</td>\n",
       "      <td>22915</td>\n",
       "      <td>22668</td>\n",
       "      <td>0.73</td>\n",
       "      <td>15.2</td>\n",
       "      <td>82.9</td>\n",
       "      <td>6.6</td>\n",
       "      <td>4.39</td>\n",
       "      <td>yes</td>\n",
       "      <td>hs_diploma</td>\n",
       "      <td>20572.05</td>\n",
       "      <td>43404</td>\n",
       "      <td>none</td>\n",
       "    </tr>\n",
       "    <tr>\n",
       "      <th>4</th>\n",
       "      <td>Blount County</td>\n",
       "      <td>Alabama</td>\n",
       "      <td>51024</td>\n",
       "      <td>57322</td>\n",
       "      <td>58013</td>\n",
       "      <td>0.68</td>\n",
       "      <td>15.6</td>\n",
       "      <td>82.0</td>\n",
       "      <td>3.7</td>\n",
       "      <td>4.02</td>\n",
       "      <td>yes</td>\n",
       "      <td>hs_diploma</td>\n",
       "      <td>21367.39</td>\n",
       "      <td>47412</td>\n",
       "      <td>none</td>\n",
       "    </tr>\n",
       "  </tbody>\n",
       "</table>\n",
       "</div>"
      ],
      "text/plain": [
       "             name    state pop2000  pop2010 pop2017 pop_change poverty  \\\n",
       "0  Autauga County  Alabama   43671    54571   55504       1.48    13.7   \n",
       "1  Baldwin County  Alabama  140415   182265  212628       9.19    11.8   \n",
       "2  Barbour County  Alabama   29038    27457   25270      -6.22    27.2   \n",
       "3     Bibb County  Alabama   20826    22915   22668       0.73    15.2   \n",
       "4   Blount County  Alabama   51024    57322   58013       0.68    15.6   \n",
       "\n",
       "   homeownership  multi_unit unemployment_rate metro    median_edu  \\\n",
       "0           77.5         7.2              3.86   yes  some_college   \n",
       "1           76.7        22.6              3.99   yes  some_college   \n",
       "2           68.0        11.1               5.9    no    hs_diploma   \n",
       "3           82.9         6.6              4.39   yes    hs_diploma   \n",
       "4           82.0         3.7              4.02   yes    hs_diploma   \n",
       "\n",
       "  per_capita_income median_hh_income smoking_ban  \n",
       "0           27841.7            55317        none  \n",
       "1          27779.85            52562        none  \n",
       "2          17891.73            33368     partial  \n",
       "3          20572.05            43404        none  \n",
       "4          21367.39            47412        none  "
      ]
     },
     "execution_count": 4,
     "metadata": {},
     "output_type": "execute_result"
    }
   ],
   "source": [
    "df = pd.read_csv(\"county.csv\")\n",
    "df = df.replace('data unavailable','NaN')\n",
    "df.head()"
   ]
  },
  {
   "cell_type": "markdown",
   "metadata": {},
   "source": [
    "### Create a series that is comprised of just the unemployment rate variable and drop any missing values from this dataset."
   ]
  },
  {
   "cell_type": "code",
   "execution_count": 5,
   "metadata": {},
   "outputs": [
    {
     "data": {
      "text/plain": [
       "0       3.86\n",
       "1       3.99\n",
       "2       5.90\n",
       "3       4.39\n",
       "4       4.02\n",
       "        ... \n",
       "3137    4.55\n",
       "3138    2.99\n",
       "3139    4.50\n",
       "3140    4.08\n",
       "3141    3.98\n",
       "Name: unemployment_rate, Length: 3139, dtype: float64"
      ]
     },
     "execution_count": 5,
     "metadata": {},
     "output_type": "execute_result"
    }
   ],
   "source": [
    "missing_values = ['data unavailable']\n",
    "df_pew = pd.read_csv(\"county.csv\", na_values=missing_values)\n",
    "df_unemploy = df_pew[\"unemployment_rate\"].dropna()\n",
    "df_unemploy"
   ]
  },
  {
   "cell_type": "markdown",
   "metadata": {},
   "source": [
    "### Create a series that is comprised of just the median education variable and drop any missing values from this dataset."
   ]
  },
  {
   "cell_type": "code",
   "execution_count": 20,
   "metadata": {},
   "outputs": [
    {
     "data": {
      "text/plain": [
       "0       some_college\n",
       "1       some_college\n",
       "2         hs_diploma\n",
       "3         hs_diploma\n",
       "4         hs_diploma\n",
       "            ...     \n",
       "3137    some_college\n",
       "3138       bachelors\n",
       "3139    some_college\n",
       "3140    some_college\n",
       "3141    some_college\n",
       "Name: median_edu, Length: 3140, dtype: object"
      ]
     },
     "execution_count": 20,
     "metadata": {},
     "output_type": "execute_result"
    }
   ],
   "source": [
    "df_median_edu = df_pew[\"median_edu\"].dropna()\n",
    "df_median_edu"
   ]
  },
  {
   "cell_type": "markdown",
   "metadata": {},
   "source": [
    "## 2. <u>Unemployment Rate Population Analysis</u>\n",
    "\n",
    "We will assume that the series of all county unemployment rates from 1b is our **population**. Usually, we do not have the whole population at our disposal, which is why we conduct inference in the first place.\n",
    "\n",
    "However, when conducting our hypothesis testing in this assignment we will assume that we don't have this population information. After we have conducted the hypothesis testing, we can use our population information to \"check\" our answers to learn more about how hypothesis testing works.\n",
    "\n",
    "### 2a. [0.5 pt] Calculate the mean and standard deviation unemployment rate of ALL U.S. counties."
   ]
  },
  {
   "cell_type": "code",
   "execution_count": 22,
   "metadata": {},
   "outputs": [
    {
     "data": {
      "text/plain": [
       "4.611443134756292"
      ]
     },
     "execution_count": 22,
     "metadata": {},
     "output_type": "execute_result"
    }
   ],
   "source": [
    "df_unemploy.mean()"
   ]
  },
  {
   "cell_type": "code",
   "execution_count": 23,
   "metadata": {},
   "outputs": [
    {
     "data": {
      "text/plain": [
       "1.648761085622538"
      ]
     },
     "execution_count": 23,
     "metadata": {},
     "output_type": "execute_result"
    }
   ],
   "source": [
    "df_unemploy.std()"
   ]
  },
  {
   "cell_type": "markdown",
   "metadata": {},
   "source": [
    "### 2b.  [1 pt] Calculate the z-score of the unemployment rate of 'Champaign County' in the state of 'Illinois'."
   ]
  },
  {
   "cell_type": "code",
   "execution_count": 34,
   "metadata": {},
   "outputs": [
    {
     "data": {
      "text/plain": [
       "604    4.24\n",
       "Name: unemployment_rate, dtype: float64"
      ]
     },
     "execution_count": 34,
     "metadata": {},
     "output_type": "execute_result"
    }
   ],
   "source": [
    "df_pew[(df['name'] == 'Champaign County') & (df['state'] == 'Illinois')]['unemployment_rate']"
   ]
  },
  {
   "cell_type": "code",
   "execution_count": 47,
   "metadata": {},
   "outputs": [
    {
     "data": {
      "text/plain": [
       "-0.2252862091392959"
      ]
     },
     "execution_count": 47,
     "metadata": {},
     "output_type": "execute_result"
    }
   ],
   "source": [
    "z_score = (4.24 - df_unemploy.mean()) / df_unemploy.std()\n",
    "z_score"
   ]
  },
  {
   "cell_type": "markdown",
   "metadata": {},
   "source": [
    "## 3. <u>Unemployment Rate Sample Analysis</u>\n",
    "\n",
    "### 3a.  [0.5 pt] Collect a random sample of size 35 from your population of all county unemployment rates (without replacement) using a random state of 3."
   ]
  },
  {
   "cell_type": "code",
   "execution_count": 8,
   "metadata": {},
   "outputs": [],
   "source": [
    "df_sample=df_unemploy.sample(35,replace=False,random_state=3)\n"
   ]
  },
  {
   "cell_type": "markdown",
   "metadata": {},
   "source": [
    "### 3b.  [0.5 pt] Calculate the mean and standard deviation of this sample."
   ]
  },
  {
   "cell_type": "code",
   "execution_count": 9,
   "metadata": {},
   "outputs": [
    {
     "data": {
      "text/plain": [
       "4.252"
      ]
     },
     "execution_count": 9,
     "metadata": {},
     "output_type": "execute_result"
    }
   ],
   "source": [
    "df_sample.mean()"
   ]
  },
  {
   "cell_type": "code",
   "execution_count": 52,
   "metadata": {},
   "outputs": [
    {
     "data": {
      "text/plain": [
       "1.3095751443974222"
      ]
     },
     "execution_count": 52,
     "metadata": {},
     "output_type": "execute_result"
    }
   ],
   "source": [
    "df_sample.std()"
   ]
  },
  {
   "cell_type": "markdown",
   "metadata": {},
   "source": [
    "## 4. <u>Unemployment Rate Sampling Distribution Analysis</u>\n",
    "\n",
    "Assume you know $\\sigma$ in this part."
   ]
  },
  {
   "cell_type": "markdown",
   "metadata": {},
   "source": [
    "### 4a.  [0.5 pt] What is the mean and standard deviation of the sampling distribution of sample mean unemployment rates (collected from samples of size 35)?"
   ]
  },
  {
   "cell_type": "markdown",
   "metadata": {},
   "source": [
    "4.611"
   ]
  },
  {
   "cell_type": "code",
   "execution_count": 85,
   "metadata": {},
   "outputs": [
    {
     "data": {
      "text/plain": [
       "4.611443134756292"
      ]
     },
     "execution_count": 85,
     "metadata": {},
     "output_type": "execute_result"
    }
   ],
   "source": [
    "sample_dis_mean = df_unemploy.mean()\n",
    "sample_dis_mean"
   ]
  },
  {
   "cell_type": "markdown",
   "metadata": {},
   "source": [
    "0.2787"
   ]
  },
  {
   "cell_type": "code",
   "execution_count": 86,
   "metadata": {},
   "outputs": [
    {
     "data": {
      "text/plain": [
       "0.2786914893089392"
      ]
     },
     "execution_count": 86,
     "metadata": {},
     "output_type": "execute_result"
    }
   ],
   "source": [
    "sample_dis_std = df_unemploy.std()/np.sqrt(35)\n",
    "sample_dis_std"
   ]
  },
  {
   "cell_type": "markdown",
   "metadata": {},
   "source": [
    "### 4b.  [1 pt] Is the sampling distribution of samples means (collected from samples of size 35) approximately normal? Explain why or why not?"
   ]
  },
  {
   "cell_type": "markdown",
   "metadata": {},
   "source": [
    "This sampling distribution of sample means will be approximately normal. This is because of the general rule of thumb indicating that samples of size 30 or greater will have a fairly normal distribution regardless of the shape of the distribution. The size of samples(35) is more than 30."
   ]
  },
  {
   "cell_type": "markdown",
   "metadata": {},
   "source": [
    "### 4c.  [1 pt] What is the z-score of our sample mean from 3b?"
   ]
  },
  {
   "cell_type": "code",
   "execution_count": 88,
   "metadata": {},
   "outputs": [
    {
     "data": {
      "text/plain": [
       "-1.2897528218302958"
      ]
     },
     "execution_count": 88,
     "metadata": {},
     "output_type": "execute_result"
    }
   ],
   "source": [
    "z_score2 = (df_sample.mean() - sample_dis_mean) / sample_dis_std\n",
    "z_score2"
   ]
  },
  {
   "cell_type": "markdown",
   "metadata": {},
   "source": [
    "### 4d.  [1 pt] What is the probability that a randomly selected sample mean z-score is greater than or equal to the z-score that we calculated in 4c?"
   ]
  },
  {
   "cell_type": "code",
   "execution_count": 58,
   "metadata": {},
   "outputs": [
    {
     "data": {
      "text/plain": [
       "0.9014317534230412"
      ]
     },
     "execution_count": 58,
     "metadata": {},
     "output_type": "execute_result"
    }
   ],
   "source": [
    "from scipy.stats import norm\n",
    "1 - norm.cdf(z_score2)"
   ]
  },
  {
   "cell_type": "markdown",
   "metadata": {},
   "source": [
    "### 4e.  [0.5 pt] What is the probability that a randomly selected sample mean z-score is less than or equal to the negative absolute value of the z-score that we calculated in 4c?"
   ]
  },
  {
   "cell_type": "code",
   "execution_count": 59,
   "metadata": {},
   "outputs": [
    {
     "data": {
      "text/plain": [
       "0.0985682465769589"
      ]
     },
     "execution_count": 59,
     "metadata": {},
     "output_type": "execute_result"
    }
   ],
   "source": [
    "norm.cdf(-np.abs(z_score2))"
   ]
  },
  {
   "cell_type": "markdown",
   "metadata": {},
   "source": [
    "## 5. <u>Hypothesis Testing for the Average Unemployment Rate of ALL US Counties</u>\n",
    "\n",
    "For now, suppose that we know nothing about our population that we explored in #2.\n",
    "\n",
    "\n",
    "Suppose that a reliable source suggested that the average unemployment rate of all US counties is 4.611. We are skeptical of this source, and would like to test this claim and see if there is evidence to suggest that this is not the case. We will use our random sample that we collected from the population in #3 to test this claim.\n",
    "\n",
    "### 5a.  [1 pt] Formulate your null and alternative hypothses for this hypothesis test."
   ]
  },
  {
   "cell_type": "markdown",
   "metadata": {},
   "source": [
    "null hypothses: mean equals 4.611\n",
    "alternative hypothses: mean does not equal 4.611\n",
    "where mean is he average unemployment rate of all US counties."
   ]
  },
  {
   "cell_type": "markdown",
   "metadata": {},
   "source": [
    "### 5b.  [1 pt] Check the conditions for conducting hypothesis testing using the sample from #3.\n",
    "\n"
   ]
  },
  {
   "cell_type": "markdown",
   "metadata": {},
   "source": [
    "Condition 1:The observation is independent.\n",
    "Because the sample is collected via random sampling and n < 10% of population of all US counties.\n",
    "Condition 2: Either n>30 or the population distribution is normal\n",
    "n = 35 > 30, so this condition is met."
   ]
  },
  {
   "cell_type": "markdown",
   "metadata": {},
   "source": [
    "### 5c.  [1 pt] Calculate the p-value for this test.\n",
    "\n",
    "Assume you do not know $\\sigma$."
   ]
  },
  {
   "cell_type": "code",
   "execution_count": 60,
   "metadata": {},
   "outputs": [],
   "source": [
    "assumed_mean = 4.611\n",
    "std_error = df_unemploy.std()/np.sqrt(35)"
   ]
  },
  {
   "cell_type": "code",
   "execution_count": 61,
   "metadata": {},
   "outputs": [
    {
     "data": {
      "text/plain": [
       "1.8023106901828732"
      ]
     },
     "execution_count": 61,
     "metadata": {},
     "output_type": "execute_result"
    }
   ],
   "source": [
    "p_value = 2 * (1 - norm.cdf(df_sample.mean(), loc=assumed_mean, scale = std_error))\n",
    "p_value"
   ]
  },
  {
   "cell_type": "code",
   "execution_count": null,
   "metadata": {},
   "outputs": [],
   "source": []
  },
  {
   "cell_type": "markdown",
   "metadata": {},
   "source": [
    "### 5d.  [1 pt] Make a conclusion about your hypotheses using this p-value and a significance level of $\\alpha=0.05$."
   ]
  },
  {
   "cell_type": "markdown",
   "metadata": {},
   "source": [
    "Because pvalue = 1.80 >= a = 0.05, we fail to reject the null hypothesis. Thus, we don't have sufficient evidence to suggest the alternative hypothesis(the average unemployment rate of all US counties is different than 4.611)."
   ]
  },
  {
   "cell_type": "markdown",
   "metadata": {},
   "source": [
    "### 5e.  [1 pt] Now we would like to make a 95% confidence interval for the average unemployment rate of al U.S. counties. First, check the conditions for creating this confidence interval."
   ]
  },
  {
   "cell_type": "markdown",
   "metadata": {},
   "source": [
    "The observations are normal (sample is collected via random sampling, n<10% of all U.S county homeownership rates)\n",
    "The sample size > 30"
   ]
  },
  {
   "cell_type": "markdown",
   "metadata": {},
   "source": [
    "### 5f.  [1 pt] Now create this 95% confidence interval.\n",
    "\n",
    "Assume you do not know $\\sigma$."
   ]
  },
  {
   "cell_type": "code",
   "execution_count": 62,
   "metadata": {},
   "outputs": [
    {
     "data": {
      "text/plain": [
       "1.959963984540054"
      ]
     },
     "execution_count": 62,
     "metadata": {},
     "output_type": "execute_result"
    }
   ],
   "source": [
    "alpha = 0.05\n",
    "critical_value = norm.ppf(1-alpha/2)\n",
    "critical_value"
   ]
  },
  {
   "cell_type": "code",
   "execution_count": 64,
   "metadata": {},
   "outputs": [
    {
     "name": "stdout",
     "output_type": "stream",
     "text": [
      "3.7057747181566496 , 4.79822528184335\n"
     ]
    }
   ],
   "source": [
    "lower_bound=df_sample.mean() - critical_value*(std_error)\n",
    "upper_bound=df_sample.mean() + critical_value*(std_error)\n",
    "print(lower_bound, \",\" ,upper_bound)"
   ]
  },
  {
   "cell_type": "markdown",
   "metadata": {},
   "source": [
    "### 5g.  [1 pt] Use this confidence interval to make a conclusion about your hypothesis tests."
   ]
  },
  {
   "cell_type": "markdown",
   "metadata": {},
   "source": [
    "Because the null value(4.611) is inside the confidence interval, we fail to reject the null hypothesis. Thus, we don't have sufficient evidence to suggest the alternative hypothesis(the average unemployment rate of all US counties is different than 4.611)."
   ]
  },
  {
   "cell_type": "markdown",
   "metadata": {},
   "source": [
    "### 5h.  [0.5 pt] NOW, using what we *actually* know about the population and population mean, did our hypothesis test *actually* make the right conclusions in 5d and 5g?"
   ]
  },
  {
   "cell_type": "markdown",
   "metadata": {},
   "source": [
    "The hypothesis is actually right, but the hypothesis tests cannot make the right conclusion."
   ]
  },
  {
   "cell_type": "markdown",
   "metadata": {},
   "source": [
    "## 6. <u>Median Education Level Population Analysis</u>\n",
    "\n",
    "We will assume that the series of all county median education levels from 1c is our **population**. Usually, we do not have the whole population at our disposal, which is why we conduct inference in the first place.\n",
    "\n",
    "However, when conducting our hypothesis testing in this assignment we will assume that we don't have this population information. After we have conducted the hypothesis testing, we can use our population information to \"check\" our answers to learn more about how hypothesis testing works.\n",
    "\n"
   ]
  },
  {
   "cell_type": "markdown",
   "metadata": {},
   "source": [
    "### <u>Tutorial</u>: Conditional Filtering of a Series"
   ]
  },
  {
   "cell_type": "code",
   "execution_count": 4,
   "metadata": {},
   "outputs": [
    {
     "data": {
      "text/plain": [
       "0    stat107\n",
       "1    stat207\n",
       "2    stat307\n",
       "3    stat207\n",
       "dtype: object"
      ]
     },
     "execution_count": 4,
     "metadata": {},
     "output_type": "execute_result"
    }
   ],
   "source": [
    "import pandas as pd\n",
    "import numpy as np\n",
    "small_series=pd.Series(['stat107', 'stat207', 'stat307', 'stat207'])\n",
    "small_series"
   ]
  },
  {
   "cell_type": "markdown",
   "metadata": {},
   "source": [
    "We can count the number of entries in a series that meet a certain condition by setting up a condition upon the values in a series and taking the sum of the Boolean values."
   ]
  },
  {
   "cell_type": "code",
   "execution_count": 5,
   "metadata": {},
   "outputs": [
    {
     "data": {
      "text/plain": [
       "0    False\n",
       "1     True\n",
       "2    False\n",
       "3     True\n",
       "dtype: bool"
      ]
     },
     "execution_count": 5,
     "metadata": {},
     "output_type": "execute_result"
    }
   ],
   "source": [
    "small_series=='stat207'"
   ]
  },
  {
   "cell_type": "code",
   "execution_count": 6,
   "metadata": {},
   "outputs": [
    {
     "data": {
      "text/plain": [
       "2"
      ]
     },
     "execution_count": 6,
     "metadata": {},
     "output_type": "execute_result"
    }
   ],
   "source": [
    "np.sum(small_series=='stat207')"
   ]
  },
  {
   "cell_type": "markdown",
   "metadata": {},
   "source": [
    "### 6a.  [0.5 pt] Calculate the proportion of all U.S. counties that have a median education level of 'hs_diploma'."
   ]
  },
  {
   "cell_type": "code",
   "execution_count": 67,
   "metadata": {},
   "outputs": [
    {
     "data": {
      "text/plain": [
       "0.4449044585987261"
      ]
     },
     "execution_count": 67,
     "metadata": {},
     "output_type": "execute_result"
    }
   ],
   "source": [
    "np.sum(df_median_edu == 'hs_diploma') / df_median_edu.shape[0]"
   ]
  },
  {
   "cell_type": "markdown",
   "metadata": {},
   "source": [
    "## 7. <u>Median Population Sample Analysis</u>\n",
    "\n",
    "### 7a.  [0.5 pt] Collect a random sample of 40 county median education levels from the population of ALL U.S. county median education levels, (without replacement), using a random state of 100."
   ]
  },
  {
   "cell_type": "code",
   "execution_count": 71,
   "metadata": {},
   "outputs": [
    {
     "data": {
      "text/plain": [
       "1168      hs_diploma\n",
       "1049    some_college\n",
       "1921    some_college\n",
       "1740    some_college\n",
       "3138       bachelors\n",
       "497     some_college\n",
       "1745    some_college\n",
       "1148    some_college\n",
       "1248      hs_diploma\n",
       "1333    some_college\n",
       "1907    some_college\n",
       "1738    some_college\n",
       "117       hs_diploma\n",
       "2711      hs_diploma\n",
       "617     some_college\n",
       "781       hs_diploma\n",
       "1276    some_college\n",
       "952       hs_diploma\n",
       "2444      hs_diploma\n",
       "2746    some_college\n",
       "1669    some_college\n",
       "1079      hs_diploma\n",
       "2022    some_college\n",
       "2342      hs_diploma\n",
       "154       hs_diploma\n",
       "3004      hs_diploma\n",
       "2140      hs_diploma\n",
       "29        hs_diploma\n",
       "31        hs_diploma\n",
       "322     some_college\n",
       "2027    some_college\n",
       "1638    some_college\n",
       "357       hs_diploma\n",
       "1989      hs_diploma\n",
       "775     some_college\n",
       "2089    some_college\n",
       "3036      hs_diploma\n",
       "2825      hs_diploma\n",
       "1162      hs_diploma\n",
       "1137      hs_diploma\n",
       "Name: median_edu, dtype: object"
      ]
     },
     "execution_count": 71,
     "metadata": {},
     "output_type": "execute_result"
    }
   ],
   "source": [
    "df_sample2=df_median_edu.sample(40,replace=False,random_state=100)\n",
    "df_sample2"
   ]
  },
  {
   "cell_type": "markdown",
   "metadata": {},
   "source": [
    "### 7b.  [0.5 pt] Calculate the proportion of counties in this sample that have a median education level of high school diploma."
   ]
  },
  {
   "cell_type": "code",
   "execution_count": 77,
   "metadata": {},
   "outputs": [
    {
     "data": {
      "text/plain": [
       "0.5"
      ]
     },
     "execution_count": 77,
     "metadata": {},
     "output_type": "execute_result"
    }
   ],
   "source": [
    "prop = np.sum(df_sample2 == 'hs_diploma') / 40\n",
    "prop"
   ]
  },
  {
   "cell_type": "markdown",
   "metadata": {},
   "source": [
    "## 8. <u>Sampling Distribution of Sample Proportions Analysis</u>\n",
    "\n"
   ]
  },
  {
   "cell_type": "markdown",
   "metadata": {},
   "source": [
    "### 8a. [1 pt] What is the mean and standard deviation of the sampling distribution of sample propotion of counties with a median education level of high school diploma (collected from samples of size 40)?\n",
    "\n",
    "Assume you actually know the population proprtion $p$ in part 8."
   ]
  },
  {
   "cell_type": "markdown",
   "metadata": {},
   "source": [
    "0.5"
   ]
  },
  {
   "cell_type": "code",
   "execution_count": 80,
   "metadata": {},
   "outputs": [],
   "source": [
    "sample_dis_mean2 = prop"
   ]
  },
  {
   "cell_type": "code",
   "execution_count": 81,
   "metadata": {},
   "outputs": [
    {
     "data": {
      "text/plain": [
       "0.5"
      ]
     },
     "execution_count": 81,
     "metadata": {},
     "output_type": "execute_result"
    }
   ],
   "source": [
    "sample_dis_mean2"
   ]
  },
  {
   "cell_type": "markdown",
   "metadata": {},
   "source": [
    "0.079"
   ]
  },
  {
   "cell_type": "code",
   "execution_count": 83,
   "metadata": {},
   "outputs": [
    {
     "data": {
      "text/plain": [
       "0.07905694150420949"
      ]
     },
     "execution_count": 83,
     "metadata": {},
     "output_type": "execute_result"
    }
   ],
   "source": [
    "sample_dis_std2 = np.sqrt(prop*(1-prop)/40)\n",
    "sample_dis_std2"
   ]
  },
  {
   "cell_type": "markdown",
   "metadata": {},
   "source": [
    "### 8b.  [1 pt] What is the z-score of our sample proportion from 7b?"
   ]
  },
  {
   "cell_type": "code",
   "execution_count": 87,
   "metadata": {},
   "outputs": [
    {
     "data": {
      "text/plain": [
       "0.0"
      ]
     },
     "execution_count": 87,
     "metadata": {},
     "output_type": "execute_result"
    }
   ],
   "source": [
    "z_score3 = (prop - sample_dis_mean2) / sample_dis_std\n",
    "z_score3"
   ]
  },
  {
   "cell_type": "markdown",
   "metadata": {},
   "source": [
    "## 9. <u>Hypothesis Testing for the Proportion of ALL U.S. Counties that have a Median Education Level of High School Diploma</u>\n",
    "\n",
    "For now, suppose that we know nothing about our population that we explored in #6.\n",
    "\n",
    "Previous studies have suggested that in the past, 45% of U.S. counties have a median education level of a high school diploma. We are skeptical that that is the still the case. We would like to test (using our sample from #7), whether there is evidence to suggest that the the proportion of counties with a median education level of high school diploma is diffrent from 45%.\n",
    "\n",
    "### 9.a.  [1 pt] Formulate your null and alternative hypothses for this hypothesis test."
   ]
  },
  {
   "cell_type": "markdown",
   "metadata": {},
   "source": [
    "null hypothses: p equals 45%\n",
    "alternative hypothses: p does not equal 45%\n",
    "where p is the proportion of U.S. counties have a median education level of a high school diploma"
   ]
  },
  {
   "cell_type": "markdown",
   "metadata": {},
   "source": [
    "### 9b.  [1 pt] Check the conditions for conducting hypothesis testing using the sample from #7.\n",
    "\n"
   ]
  },
  {
   "cell_type": "markdown",
   "metadata": {},
   "source": [
    "Condition 1:The observation is independent.\n",
    "Because the sample is collected via random sampling and n < 10% of population of all US counties.\n",
    "Condition 2: np >= 10 and n(1-p) >= 10\n",
    "np = 40 * 45% >= 10, n(1-p) = 40 * (1 - 45%) >= 10."
   ]
  },
  {
   "cell_type": "markdown",
   "metadata": {},
   "source": [
    "### 9c.  [1 pt] Calculate the p-value for this test.\n",
    "\n",
    "Assume you do not know anything about the population proportion (including the value of $p$)."
   ]
  },
  {
   "cell_type": "code",
   "execution_count": 89,
   "metadata": {},
   "outputs": [],
   "source": [
    "assumed_prop = 0.45"
   ]
  },
  {
   "cell_type": "code",
   "execution_count": 90,
   "metadata": {},
   "outputs": [],
   "source": [
    "std_error2 = np.sqrt(assumed_prop*(1-assumed_prop)/40)"
   ]
  },
  {
   "cell_type": "code",
   "execution_count": 91,
   "metadata": {},
   "outputs": [],
   "source": [
    "p_value2 = 2*(norm.cdf(0.5, loc=assumed_prop, scale=std_error2))"
   ]
  },
  {
   "cell_type": "code",
   "execution_count": 92,
   "metadata": {},
   "outputs": [
    {
     "data": {
      "text/plain": [
       "1.4749900335813966"
      ]
     },
     "execution_count": 92,
     "metadata": {},
     "output_type": "execute_result"
    }
   ],
   "source": [
    "p_value2"
   ]
  },
  {
   "cell_type": "markdown",
   "metadata": {},
   "source": [
    "1.47"
   ]
  },
  {
   "cell_type": "markdown",
   "metadata": {},
   "source": [
    "### 9d.  [1 pt] Make a conclusion about your hypotheses using this p-value and a significance level of $\\alpha=0.10$."
   ]
  },
  {
   "cell_type": "markdown",
   "metadata": {},
   "source": [
    "Because pvalue = 1.47 >= a = 0.10, we fail to reject the null hypothesis. Thus, we don't have sufficient evidence to suggest the alternative hypothesis( proportion of counties with a median education level of high school diploma is diffrent from 45%.)."
   ]
  },
  {
   "cell_type": "markdown",
   "metadata": {},
   "source": [
    "### 9e.  [1 pt] Now we would like to make a 90% confidence interval for the proportion of ALL U.S. counties that have a median education level of high school diploma.. First, check the conditions for creating this confidence interval."
   ]
  },
  {
   "cell_type": "markdown",
   "metadata": {},
   "source": [
    "Condition 1:The observation is independent.\n",
    "Because the sample is collected via random sampling and n < 10% of population of all US counties.\n",
    "Condition 2: np >= 10 and n(1-p) >= 10\n",
    "np = 40 * 45% >= 10, n(1-p) = 40 * (1 - 45%) >= 10."
   ]
  },
  {
   "cell_type": "markdown",
   "metadata": {},
   "source": [
    "### 9f.  [2 pt] Now create this 90% confidence interval.\n",
    "\n",
    "Assume you do not know anything about the population (including $p$)."
   ]
  },
  {
   "cell_type": "code",
   "execution_count": 93,
   "metadata": {},
   "outputs": [
    {
     "data": {
      "text/plain": [
       "1.6448536269514722"
      ]
     },
     "execution_count": 93,
     "metadata": {},
     "output_type": "execute_result"
    }
   ],
   "source": [
    "alpha = 0.10\n",
    "critical_value = norm.ppf(1-alpha/2)\n",
    "critical_value"
   ]
  },
  {
   "cell_type": "code",
   "execution_count": 96,
   "metadata": {},
   "outputs": [
    {
     "name": "stdout",
     "output_type": "stream",
     "text": [
      "0.3706147221581398 , 0.6293852778418603\n"
     ]
    }
   ],
   "source": [
    "lower_bound=prop - critical_value*(std_error2)\n",
    "upper_bound=prop + critical_value*(std_error2)\n",
    "print(lower_bound, \",\" ,upper_bound)"
   ]
  },
  {
   "cell_type": "markdown",
   "metadata": {},
   "source": [
    "### 9g.  [1 pt] Use this confidence interval to make a conclusion about your hypothesis tests."
   ]
  },
  {
   "cell_type": "markdown",
   "metadata": {},
   "source": [
    "Because the null value p = 0.45 is in the confident interval, we fail to reject the null hypothesis. Thus, we don't have sufficient evidence to suggest the alternative hypothesis( proportion of counties with a median education level of high school diploma is diffrent from 45%.)."
   ]
  },
  {
   "cell_type": "code",
   "execution_count": null,
   "metadata": {},
   "outputs": [],
   "source": []
  },
  {
   "cell_type": "code",
   "execution_count": null,
   "metadata": {},
   "outputs": [],
   "source": []
  },
  {
   "cell_type": "code",
   "execution_count": null,
   "metadata": {},
   "outputs": [],
   "source": []
  },
  {
   "cell_type": "code",
   "execution_count": null,
   "metadata": {},
   "outputs": [],
   "source": []
  },
  {
   "cell_type": "code",
   "execution_count": null,
   "metadata": {},
   "outputs": [],
   "source": []
  },
  {
   "cell_type": "code",
   "execution_count": null,
   "metadata": {},
   "outputs": [],
   "source": []
  },
  {
   "cell_type": "code",
   "execution_count": null,
   "metadata": {},
   "outputs": [],
   "source": []
  },
  {
   "cell_type": "code",
   "execution_count": null,
   "metadata": {},
   "outputs": [],
   "source": []
  },
  {
   "cell_type": "code",
   "execution_count": null,
   "metadata": {},
   "outputs": [],
   "source": []
  },
  {
   "cell_type": "code",
   "execution_count": null,
   "metadata": {},
   "outputs": [],
   "source": []
  },
  {
   "cell_type": "code",
   "execution_count": null,
   "metadata": {},
   "outputs": [],
   "source": []
  },
  {
   "cell_type": "code",
   "execution_count": null,
   "metadata": {},
   "outputs": [],
   "source": []
  },
  {
   "cell_type": "code",
   "execution_count": null,
   "metadata": {},
   "outputs": [],
   "source": []
  },
  {
   "cell_type": "code",
   "execution_count": null,
   "metadata": {},
   "outputs": [],
   "source": []
  }
 ],
 "metadata": {
  "kernelspec": {
   "display_name": "Python 3",
   "language": "python",
   "name": "python3"
  },
  "language_info": {
   "codemirror_mode": {
    "name": "ipython",
    "version": 3
   },
   "file_extension": ".py",
   "mimetype": "text/x-python",
   "name": "python",
   "nbconvert_exporter": "python",
   "pygments_lexer": "ipython3",
   "version": "3.8.5"
  }
 },
 "nbformat": 4,
 "nbformat_minor": 2
}
