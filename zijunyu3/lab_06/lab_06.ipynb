{
 "cells": [
  {
   "cell_type": "markdown",
   "metadata": {},
   "source": [
    "## STAT 207 Lab 6: Central Limit Theorem and Confidence Intervals - [25 total points] - Solutions"
   ]
  },
  {
   "cell_type": "markdown",
   "metadata": {},
   "source": [
    "Due: Wednesday, March 17 11:59pm CST <font color='green'>Happy St. Patrick's Day!</font>\n",
    "\n",
    "\n",
    "\n",
    "## <u>Case Study</u>: U.S. County Home Ownership\n",
    "In this lab we will explore the statistical concepts that we've learned this week while also examining the **homeownership rates** of the counties in the U.S. "
   ]
  },
  {
   "cell_type": "markdown",
   "metadata": {},
   "source": [
    "### Imports"
   ]
  },
  {
   "cell_type": "code",
   "execution_count": 2,
   "metadata": {},
   "outputs": [],
   "source": [
    "import pandas as pd\n",
    "import numpy as np\n",
    "import matplotlib.pyplot as plt\n",
    "import seaborn as sns; sns.set()"
   ]
  },
  {
   "cell_type": "markdown",
   "metadata": {},
   "source": [
    "## 1. <u>Preliminaries</u>"
   ]
  },
  {
   "cell_type": "markdown",
   "metadata": {},
   "source": [
    "### 1a. [0.5 pt] Read the county.csv into a dataframe, call it df, and display the first five rows.\n",
    "\n",
    "Remember that 'data unavailable' represents missing values in this csv. Make sure you encode these values as NaN when you read the data in."
   ]
  },
  {
   "cell_type": "code",
   "execution_count": 3,
   "metadata": {},
   "outputs": [
    {
     "data": {
      "text/html": [
       "<div>\n",
       "<style scoped>\n",
       "    .dataframe tbody tr th:only-of-type {\n",
       "        vertical-align: middle;\n",
       "    }\n",
       "\n",
       "    .dataframe tbody tr th {\n",
       "        vertical-align: top;\n",
       "    }\n",
       "\n",
       "    .dataframe thead th {\n",
       "        text-align: right;\n",
       "    }\n",
       "</style>\n",
       "<table border=\"1\" class=\"dataframe\">\n",
       "  <thead>\n",
       "    <tr style=\"text-align: right;\">\n",
       "      <th></th>\n",
       "      <th>name</th>\n",
       "      <th>state</th>\n",
       "      <th>pop2000</th>\n",
       "      <th>pop2010</th>\n",
       "      <th>pop2017</th>\n",
       "      <th>pop_change</th>\n",
       "      <th>poverty</th>\n",
       "      <th>homeownership</th>\n",
       "      <th>multi_unit</th>\n",
       "      <th>unemployment_rate</th>\n",
       "      <th>metro</th>\n",
       "      <th>median_edu</th>\n",
       "      <th>per_capita_income</th>\n",
       "      <th>median_hh_income</th>\n",
       "      <th>smoking_ban</th>\n",
       "    </tr>\n",
       "  </thead>\n",
       "  <tbody>\n",
       "    <tr>\n",
       "      <th>0</th>\n",
       "      <td>Autauga County</td>\n",
       "      <td>Alabama</td>\n",
       "      <td>43671</td>\n",
       "      <td>54571</td>\n",
       "      <td>55504</td>\n",
       "      <td>1.48</td>\n",
       "      <td>13.7</td>\n",
       "      <td>77.5</td>\n",
       "      <td>7.2</td>\n",
       "      <td>3.86</td>\n",
       "      <td>yes</td>\n",
       "      <td>some_college</td>\n",
       "      <td>27841.7</td>\n",
       "      <td>55317</td>\n",
       "      <td>none</td>\n",
       "    </tr>\n",
       "    <tr>\n",
       "      <th>1</th>\n",
       "      <td>Baldwin County</td>\n",
       "      <td>Alabama</td>\n",
       "      <td>140415</td>\n",
       "      <td>182265</td>\n",
       "      <td>212628</td>\n",
       "      <td>9.19</td>\n",
       "      <td>11.8</td>\n",
       "      <td>76.7</td>\n",
       "      <td>22.6</td>\n",
       "      <td>3.99</td>\n",
       "      <td>yes</td>\n",
       "      <td>some_college</td>\n",
       "      <td>27779.85</td>\n",
       "      <td>52562</td>\n",
       "      <td>none</td>\n",
       "    </tr>\n",
       "    <tr>\n",
       "      <th>2</th>\n",
       "      <td>Barbour County</td>\n",
       "      <td>Alabama</td>\n",
       "      <td>29038</td>\n",
       "      <td>27457</td>\n",
       "      <td>25270</td>\n",
       "      <td>-6.22</td>\n",
       "      <td>27.2</td>\n",
       "      <td>68.0</td>\n",
       "      <td>11.1</td>\n",
       "      <td>5.9</td>\n",
       "      <td>no</td>\n",
       "      <td>hs_diploma</td>\n",
       "      <td>17891.73</td>\n",
       "      <td>33368</td>\n",
       "      <td>partial</td>\n",
       "    </tr>\n",
       "    <tr>\n",
       "      <th>3</th>\n",
       "      <td>Bibb County</td>\n",
       "      <td>Alabama</td>\n",
       "      <td>20826</td>\n",
       "      <td>22915</td>\n",
       "      <td>22668</td>\n",
       "      <td>0.73</td>\n",
       "      <td>15.2</td>\n",
       "      <td>82.9</td>\n",
       "      <td>6.6</td>\n",
       "      <td>4.39</td>\n",
       "      <td>yes</td>\n",
       "      <td>hs_diploma</td>\n",
       "      <td>20572.05</td>\n",
       "      <td>43404</td>\n",
       "      <td>none</td>\n",
       "    </tr>\n",
       "    <tr>\n",
       "      <th>4</th>\n",
       "      <td>Blount County</td>\n",
       "      <td>Alabama</td>\n",
       "      <td>51024</td>\n",
       "      <td>57322</td>\n",
       "      <td>58013</td>\n",
       "      <td>0.68</td>\n",
       "      <td>15.6</td>\n",
       "      <td>82.0</td>\n",
       "      <td>3.7</td>\n",
       "      <td>4.02</td>\n",
       "      <td>yes</td>\n",
       "      <td>hs_diploma</td>\n",
       "      <td>21367.39</td>\n",
       "      <td>47412</td>\n",
       "      <td>none</td>\n",
       "    </tr>\n",
       "  </tbody>\n",
       "</table>\n",
       "</div>"
      ],
      "text/plain": [
       "             name    state pop2000  pop2010 pop2017 pop_change poverty  \\\n",
       "0  Autauga County  Alabama   43671    54571   55504       1.48    13.7   \n",
       "1  Baldwin County  Alabama  140415   182265  212628       9.19    11.8   \n",
       "2  Barbour County  Alabama   29038    27457   25270      -6.22    27.2   \n",
       "3     Bibb County  Alabama   20826    22915   22668       0.73    15.2   \n",
       "4   Blount County  Alabama   51024    57322   58013       0.68    15.6   \n",
       "\n",
       "   homeownership  multi_unit unemployment_rate metro    median_edu  \\\n",
       "0           77.5         7.2              3.86   yes  some_college   \n",
       "1           76.7        22.6              3.99   yes  some_college   \n",
       "2           68.0        11.1               5.9    no    hs_diploma   \n",
       "3           82.9         6.6              4.39   yes    hs_diploma   \n",
       "4           82.0         3.7              4.02   yes    hs_diploma   \n",
       "\n",
       "  per_capita_income median_hh_income smoking_ban  \n",
       "0           27841.7            55317        none  \n",
       "1          27779.85            52562        none  \n",
       "2          17891.73            33368     partial  \n",
       "3          20572.05            43404        none  \n",
       "4          21367.39            47412        none  "
      ]
     },
     "execution_count": 3,
     "metadata": {},
     "output_type": "execute_result"
    }
   ],
   "source": [
    "df = pd.read_csv(\"county.csv\")\n",
    "df = df.replace('data unavailable','NaN')\n",
    "df.head()"
   ]
  },
  {
   "cell_type": "markdown",
   "metadata": {},
   "source": [
    "### 1b. [0.5pt] Display the shape of the dataframe."
   ]
  },
  {
   "cell_type": "code",
   "execution_count": 4,
   "metadata": {},
   "outputs": [
    {
     "data": {
      "text/plain": [
       "(3142, 15)"
      ]
     },
     "execution_count": 4,
     "metadata": {},
     "output_type": "execute_result"
    }
   ],
   "source": [
    "df.shape"
   ]
  },
  {
   "cell_type": "markdown",
   "metadata": {},
   "source": [
    "### 1.c. [0.5 pt] How many missing values does the homeownership rate variable have?"
   ]
  },
  {
   "cell_type": "code",
   "execution_count": 18,
   "metadata": {},
   "outputs": [
    {
     "data": {
      "text/plain": [
       "0"
      ]
     },
     "execution_count": 18,
     "metadata": {},
     "output_type": "execute_result"
    }
   ],
   "source": [
    "df.isna().sum().loc[\"homeownership\"]"
   ]
  },
  {
   "cell_type": "markdown",
   "metadata": {},
   "source": [
    "0"
   ]
  },
  {
   "cell_type": "markdown",
   "metadata": {},
   "source": [
    "## 2. <u>Central Limit Theorem Exploration</u>\n",
    "\n",
    "### 2.a. Population of County Homeownership Rates\n",
    "\n",
    "Let's assume that the homeownership rate in this dataset represents a **population**, where the population is the homeownership rates of ALL counties in the U.S.\n",
    "\n",
    "#### 2.a.i. [0.5 pt] Calculate the population mean and the population standard deviation homeownership rates."
   ]
  },
  {
   "cell_type": "code",
   "execution_count": 19,
   "metadata": {},
   "outputs": [
    {
     "data": {
      "text/plain": [
       "73.26645448758752"
      ]
     },
     "execution_count": 19,
     "metadata": {},
     "output_type": "execute_result"
    }
   ],
   "source": [
    "df['homeownership'].mean()"
   ]
  },
  {
   "cell_type": "code",
   "execution_count": 20,
   "metadata": {},
   "outputs": [
    {
     "data": {
      "text/plain": [
       "7.831929689986538"
      ]
     },
     "execution_count": 20,
     "metadata": {},
     "output_type": "execute_result"
    }
   ],
   "source": [
    "df['homeownership'].std()"
   ]
  },
  {
   "cell_type": "markdown",
   "metadata": {},
   "source": [
    "#### 2.a.ii  [0.5 pt] Plot the population distribution of homeownership rates.\n",
    "\n",
    "Make sure you label your x-axis and title appropriately."
   ]
  },
  {
   "cell_type": "code",
   "execution_count": 21,
   "metadata": {},
   "outputs": [
    {
     "data": {
      "image/png": "[encoded data removed]",
      "text/plain": [
       "<Figure size 432x288 with 1 Axes>"
      ]
     },
     "metadata": {},
     "output_type": "display_data"
    }
   ],
   "source": [
    "df['homeownership'].hist(density=True)\n",
    "plt.title('Population Distribution')\n",
    "plt.xlabel('Homeownership Rates')\n",
    "plt.show()"
   ]
  },
  {
   "cell_type": "markdown",
   "metadata": {},
   "source": [
    "### 2.b. Random Sample of County Homeownership Rates\n",
    "\n",
    "#### 2.b.i. [1 pt] Collect a random sample of size 50 from this population (using a random state of 100) WITHOUT replacement."
   ]
  },
  {
   "cell_type": "code",
   "execution_count": 22,
   "metadata": {},
   "outputs": [],
   "source": [
    "df_sample=df.sample(50,replace=False,random_state=100)"
   ]
  },
  {
   "cell_type": "markdown",
   "metadata": {},
   "source": [
    "#### 2.b.ii.  [0.5 pt]  Calculate the mean and standard deviation of this sample."
   ]
  },
  {
   "cell_type": "code",
   "execution_count": 23,
   "metadata": {},
   "outputs": [
    {
     "data": {
      "text/plain": [
       "74.97800000000001"
      ]
     },
     "execution_count": 23,
     "metadata": {},
     "output_type": "execute_result"
    }
   ],
   "source": [
    "df_sample[\"homeownership\"].mean()"
   ]
  },
  {
   "cell_type": "code",
   "execution_count": 24,
   "metadata": {},
   "outputs": [
    {
     "data": {
      "text/plain": [
       "5.516220607981371"
      ]
     },
     "execution_count": 24,
     "metadata": {},
     "output_type": "execute_result"
    }
   ],
   "source": [
    "df_sample[\"homeownership\"].std()"
   ]
  },
  {
   "cell_type": "markdown",
   "metadata": {},
   "source": [
    "#### 2.b.iii.  [0.5 pt]  Plot the sample distribution.\n",
    "\n",
    "Make sure that you label the x-axis and title appropriately."
   ]
  },
  {
   "cell_type": "code",
   "execution_count": 26,
   "metadata": {},
   "outputs": [
    {
     "data": {
      "image/png": "[encoded data removed]",
      "text/plain": [
       "<Figure size 432x288 with 1 Axes>"
      ]
     },
     "metadata": {},
     "output_type": "display_data"
    }
   ],
   "source": [
    "df_sample['homeownership'].hist(density=True)\n",
    "plt.title('Sample Distribution (n=50)')\n",
    "plt.xlabel('Sample homeownership rate of (size n=50)')\n",
    "plt.show()"
   ]
  },
  {
   "cell_type": "markdown",
   "metadata": {},
   "source": [
    "### 2.c. Sampling Distribution\n",
    "\n",
    "Suppose we were to create a sampling distribution with many, many sample means homeownership rates, where each sample was of size 50 (drawn with replacement from the population of all county homeownership rates).\n",
    "\n",
    "#### 2.c.i.  [1 pt]  What is the mean of this sampling distribution?\n",
    "\n",
    "(Not looking for you to *actually* create a sampling distribution. What is the theoretical mean of this sampling distribution?)"
   ]
  },
  {
   "cell_type": "markdown",
   "metadata": {},
   "source": [
    "73.2665"
   ]
  },
  {
   "cell_type": "code",
   "execution_count": 27,
   "metadata": {},
   "outputs": [
    {
     "data": {
      "text/plain": [
       "73.26645448758752"
      ]
     },
     "execution_count": 27,
     "metadata": {},
     "output_type": "execute_result"
    }
   ],
   "source": [
    "sample_dis_mean = df[\"homeownership\"].mean()\n",
    "sample_dis_mean"
   ]
  },
  {
   "cell_type": "markdown",
   "metadata": {},
   "source": [
    "#### 2.c.ii.  [1 pt]  What is the standard deviation of this sampling distribution?\n",
    "\n",
    "(Not looking for you to *actually* create a sampling distribution. What is the *theoretical* standard deviation of this sampling distribution?)"
   ]
  },
  {
   "cell_type": "markdown",
   "metadata": {},
   "source": [
    "10.3614"
   ]
  },
  {
   "cell_type": "code",
   "execution_count": 32,
   "metadata": {},
   "outputs": [
    {
     "data": {
      "text/plain": [
       "1.107602118713147"
      ]
     },
     "execution_count": 32,
     "metadata": {},
     "output_type": "execute_result"
    }
   ],
   "source": [
    "sample_dis_std = df[\"homeownership\"].std()/np.sqrt(50)\n",
    "sample_dis_std"
   ]
  },
  {
   "cell_type": "markdown",
   "metadata": {},
   "source": [
    "#### 2.c.iii.  [2 pt]  Will this sampling distribution of sample means be approximately normal? Explain why."
   ]
  },
  {
   "cell_type": "markdown",
   "metadata": {},
   "source": [
    "This sampling distribution of sample means will be approximately normal. This is because of the general rule of thumb indicating that samples of size 30 or greater will have a fairly normal distribution regardless of the shape of the distribution."
   ]
  },
  {
   "cell_type": "markdown",
   "metadata": {},
   "source": [
    "#### 2.c.iv.  [1 pt]  Calculate the probability that a randomly selected sample mean (from this sampling distribution) is greater than or equal to the sample mean that we calculated in (2.b). \n",
    "\n",
    "(You should assume in this case that you *do know* the population mean and standard deviation homeownership rates)."
   ]
  },
  {
   "cell_type": "code",
   "execution_count": 33,
   "metadata": {},
   "outputs": [
    {
     "data": {
      "text/plain": [
       "0.06114035488312297"
      ]
     },
     "execution_count": 33,
     "metadata": {},
     "output_type": "execute_result"
    }
   ],
   "source": [
    "from scipy.stats import norm\n",
    "1 - norm.cdf(df_sample[\"homeownership\"].mean(),loc=sample_dis_mean , scale=sample_dis_std)"
   ]
  },
  {
   "cell_type": "markdown",
   "metadata": {},
   "source": [
    "#### 2.c.v.  [0.5 pt]  What is the value of a sample mean that is the same distance away from the population mean that our sample mean from 2b is, but is *less than* the population mean)?"
   ]
  },
  {
   "cell_type": "markdown",
   "metadata": {},
   "source": [
    "df_sample[\"homeownership\"].mean() - df[\"homeownership\"].mean() = df[\"homeownership\"].mean() - target_value = Distance"
   ]
  },
  {
   "cell_type": "code",
   "execution_count": 34,
   "metadata": {},
   "outputs": [],
   "source": [
    "target_value = df[\"homeownership\"].mean()- (df_sample[\"homeownership\"].mean() - df[\"homeownership\"].mean())"
   ]
  },
  {
   "cell_type": "code",
   "execution_count": 35,
   "metadata": {},
   "outputs": [
    {
     "data": {
      "text/plain": [
       "71.55490897517504"
      ]
     },
     "execution_count": 35,
     "metadata": {},
     "output_type": "execute_result"
    }
   ],
   "source": [
    "target_value"
   ]
  },
  {
   "cell_type": "markdown",
   "metadata": {},
   "source": [
    "#### 2.c.vi.  [1 pt] Calculate the probability that a randomly selected sample mean (from this sampling distribution) is less than or equal to the sample mean that we calculated in (2.c.v.). "
   ]
  },
  {
   "cell_type": "code",
   "execution_count": 36,
   "metadata": {},
   "outputs": [
    {
     "data": {
      "text/plain": [
       "0.06114035488312293"
      ]
     },
     "execution_count": 36,
     "metadata": {},
     "output_type": "execute_result"
    }
   ],
   "source": [
    "norm.cdf(target_value, loc=sample_dis_mean , scale=sample_dis_std )"
   ]
  },
  {
   "cell_type": "markdown",
   "metadata": {},
   "source": [
    "## 3. Confidence Intervals for a Population Mean\n",
    "\n",
    "While we technically have the population of all U.S. county homeownership rates (and can therefore calculate the population mean), we would still like to calculate a confidence interval to learn more about how confidence intervals behave. (By having a population, it allows us to \"check\" our answers to see how well our confidence intervals did.)\n",
    "\n",
    "### 3.a. First, we would like to construct a *single* 92% confidence interval for the average homeownership rate of ALL U.S. counties.\n",
    "\n",
    "#### 3.a.i.  [1 pt]  Check the conditions for creating a confidence interval for average homeownership rate of ALL U.S. counties."
   ]
  },
  {
   "cell_type": "markdown",
   "metadata": {},
   "source": [
    "1. The observations are normal (sample is collected via random sampling, n<10% of all U.S county homeownership rates)\n",
    "2. The sample size > 30 "
   ]
  },
  {
   "cell_type": "markdown",
   "metadata": {},
   "source": [
    "#### 3.a.ii.  [3 pt] Now create this 92% confidence interval using the random sample that you collected in 2b.\n",
    "\n",
    "**ASSUME THAT YOU DO NOT KNOW WHAT THE POPULATION STANDARD DEVIATION HOMEOWNERSHIP RATE IS.**"
   ]
  },
  {
   "cell_type": "code",
   "execution_count": 41,
   "metadata": {},
   "outputs": [
    {
     "data": {
      "text/plain": [
       "1.7506860712521692"
      ]
     },
     "execution_count": 41,
     "metadata": {},
     "output_type": "execute_result"
    }
   ],
   "source": [
    "sample_home_mean= df_sample[\"homeownership\"].mean()\n",
    "pop_home_std=df['homeownership'].std()\n",
    "n_home = df_sample.shape[0]\n",
    "from scipy.stats import norm\n",
    "critical_value = norm.ppf(0.96)\n",
    "critical_value"
   ]
  },
  {
   "cell_type": "code",
   "execution_count": 40,
   "metadata": {},
   "outputs": [
    {
     "name": "stdout",
     "output_type": "stream",
     "text": [
      "73.0389363982795 , 76.91706360172051\n"
     ]
    }
   ],
   "source": [
    "lower_bound=sample_home_mean - critical_value*(pop_home_std/np.sqrt(n_home))\n",
    "upper_bound=sample_home_mean + critical_value*(pop_home_std/np.sqrt(n_home))\n",
    "print(lower_bound, \",\" ,upper_bound)"
   ]
  },
  {
   "cell_type": "markdown",
   "metadata": {},
   "source": [
    "#### 3.a.iii.  [1 pt]  Now interpret this confidence interval."
   ]
  },
  {
   "cell_type": "markdown",
   "metadata": {},
   "source": [
    "we are 92% confident that the average homeownership rate of All U.S. counties is between 73.03 and 76.91"
   ]
  },
  {
   "cell_type": "markdown",
   "metadata": {},
   "source": [
    "#### 3.a.iv.  [1 pt]  Because we *actually* know the population mean home ownership rate, check whether this population mean falls within this confidence interval you just calculated."
   ]
  },
  {
   "cell_type": "code",
   "execution_count": 42,
   "metadata": {},
   "outputs": [
    {
     "data": {
      "text/plain": [
       "73.26645448758752"
      ]
     },
     "execution_count": 42,
     "metadata": {},
     "output_type": "execute_result"
    }
   ],
   "source": [
    "df['homeownership'].mean()"
   ]
  },
  {
   "cell_type": "markdown",
   "metadata": {},
   "source": [
    "Yes, the population mean falled with confidence interval "
   ]
  },
  {
   "cell_type": "markdown",
   "metadata": {},
   "source": [
    "<hr style=\"height:1px;border:none;color:#333;background-color:#333;\" />\n",
    "\n",
    "### <u> Tutorial</u> ANDS and ORS in if-statements\n",
    "\n",
    "We can check multiple conditions in an if-statement by using the 'and' and the 'or' operators as shown below.\n"
   ]
  },
  {
   "cell_type": "code",
   "execution_count": 1,
   "metadata": {},
   "outputs": [
    {
     "name": "stdout",
     "output_type": "stream",
     "text": [
      "a is between 10 and 30\n"
     ]
    }
   ],
   "source": [
    "a=20\n",
    "\n",
    "if a < 30 and a>10:\n",
    "    print('a is between 10 and 30')\n",
    "else:\n",
    "    print('otherwise')"
   ]
  },
  {
   "cell_type": "code",
   "execution_count": 2,
   "metadata": {},
   "outputs": [
    {
     "name": "stdout",
     "output_type": "stream",
     "text": [
      "otherwise\n"
     ]
    }
   ],
   "source": [
    "if a >= 30 or a <=10:\n",
    "    print('a is at most 10 or at least 30')\n",
    "else:\n",
    "    print('otherwise')"
   ]
  },
  {
   "cell_type": "markdown",
   "metadata": {},
   "source": [
    "<hr style=\"height:1px;border:none;color:#333;background-color:#333;\" />\n",
    "\n",
    "### 3.b. Next, let's construct 1000 92% confidence intervals for the average homeownership rate of ALL U.S. counties.\n",
    "\n",
    "#### 3.b.i.  [2 pt] Create a function that does the following.\n",
    "* <u>Input</u> The input for your function should take in the following values.\n",
    "    - a lower bound of a confidence interval\n",
    "    - an upper bound of a confidence interval\n",
    "    - a population mean $\\mu$\n",
    "* <u>What it does</u>\n",
    "    - Your function should check whether $lower \\: bound\\leq \\mu\\leq upper\\: bound$.\n",
    "    - If this is the case, it should return True\n",
    "    - If this is not the case, then it should return False."
   ]
  },
  {
   "cell_type": "code",
   "execution_count": 43,
   "metadata": {},
   "outputs": [],
   "source": [
    "def confidence(lower, upper, popu_mean):\n",
    "    if popu_mean >= lower and popu_mean <= upper:\n",
    "        return True;\n",
    "    else:\n",
    "        return False\n"
   ]
  },
  {
   "cell_type": "markdown",
   "metadata": {},
   "source": [
    "#### 3.b.ii.  [1 pt]  Test your function out using the population mean and the confidence interval from 3a."
   ]
  },
  {
   "cell_type": "code",
   "execution_count": 44,
   "metadata": {},
   "outputs": [
    {
     "data": {
      "text/plain": [
       "True"
      ]
     },
     "execution_count": 44,
     "metadata": {},
     "output_type": "execute_result"
    }
   ],
   "source": [
    "confidence(lower_bound, upper_bound, df['homeownership'].mean())"
   ]
  },
  {
   "cell_type": "markdown",
   "metadata": {},
   "source": [
    "#### 3.b.iii.  [2 pt]  Using your function above to do the following:\n",
    "* Collect 1000 random samples (each of size 50 without replacement) from the population of all U.S. county homeownership rates.\n",
    "* Calculate the sample mean homeownership rate and sample standard deviation of each of these random samples.\n",
    "* Create a 92% confidence interval around each of these sample means (assume that you don't know the population standard deviation).\n",
    "\n",
    "What percent of these 1000 confidence intervals *actually* contained the population mean homeownership rate?"
   ]
  },
  {
   "cell_type": "code",
   "execution_count": 46,
   "metadata": {},
   "outputs": [],
   "source": [
    "count = 0\n",
    "for i in range(1000):\n",
    "    df_1000=df.sample(50,replace=False)\n",
    "    sample_home_mean= df_1000[\"homeownership\"].mean()\n",
    "    sample_home_std=df_1000[\"homeownership\"].std()\n",
    "    pop_home_std=df['homeownership'].std()\n",
    "    n_home = df_1000.shape[0]\n",
    "    from scipy.stats import norm\n",
    "    critical_value = norm.ppf(0.96)\n",
    "    lower_bound=sample_home_mean - critical_value*(pop_home_std/np.sqrt(n_home))\n",
    "    upper_bound=sample_home_mean + critical_value*(pop_home_std/np.sqrt(n_home))\n",
    "    if confidence(lower_bound, upper_bound, df[\"homeownership\"].mean()) == True:\n",
    "        count = count + 1    \n",
    "    "
   ]
  },
  {
   "cell_type": "code",
   "execution_count": 47,
   "metadata": {},
   "outputs": [
    {
     "data": {
      "text/plain": [
       "0.922"
      ]
     },
     "execution_count": 47,
     "metadata": {},
     "output_type": "execute_result"
    }
   ],
   "source": [
    "count/1000"
   ]
  },
  {
   "cell_type": "markdown",
   "metadata": {},
   "source": [
    "#### 3.b.iv.  [0.5 pt]  What is the difference between this percentage from (3.b.iii) and your confidence level?"
   ]
  },
  {
   "cell_type": "code",
   "execution_count": 49,
   "metadata": {},
   "outputs": [
    {
     "data": {
      "text/plain": [
       "0.0020000000000000018"
      ]
     },
     "execution_count": 49,
     "metadata": {},
     "output_type": "execute_result"
    }
   ],
   "source": [
    "count/1000 - 0.92"
   ]
  },
  {
   "cell_type": "markdown",
   "metadata": {},
   "source": [
    "## 4. More Probability\n",
    "\n",
    "### 4a.  [0.5 pt]  What is the probability that we randomly select a county from the population that has a homeownership rate that is below 50%?"
   ]
  },
  {
   "cell_type": "code",
   "execution_count": 50,
   "metadata": {},
   "outputs": [
    {
     "data": {
      "text/plain": [
       "0.012412476129853597"
      ]
     },
     "execution_count": 50,
     "metadata": {},
     "output_type": "execute_result"
    }
   ],
   "source": [
    "df_below50 = df[df[\"homeownership\"]< 50]\n",
    "df_below50.shape[0]/df.shape[0]"
   ]
  },
  {
   "cell_type": "markdown",
   "metadata": {},
   "source": [
    "### 4.b. *Suppose* were to collect a random sample of 7 counties from the population of U.S. counties (with replacement). \n",
    "\n",
    "Don't *actually* take a random sample. This is a *theoretical* math problem.\n",
    "\n",
    "#### 4.b.i.  [1 pt] What is the probability that 2 of these counties have a homeownership rate that is below 50%?"
   ]
  },
  {
   "cell_type": "markdown",
   "metadata": {},
   "source": []
  },
  {
   "cell_type": "code",
   "execution_count": 51,
   "metadata": {},
   "outputs": [
    {
     "data": {
      "text/plain": [
       "0.00014474208590927303"
      ]
     },
     "execution_count": 51,
     "metadata": {},
     "output_type": "execute_result"
    }
   ],
   "source": [
    "below_rate = df_below50.shape[0]/df.shape[0]\n",
    "below_rate * below_rate * (1-below_rate) * (1-below_rate) * (1-below_rate) * (1-below_rate) * (1-below_rate)"
   ]
  },
  {
   "cell_type": "markdown",
   "metadata": {},
   "source": [
    "#### 4.b.ii.  [1 pt]  What is the probability that at most 2 counties have a homeownership rate that is below 50%?"
   ]
  },
  {
   "cell_type": "code",
   "execution_count": 52,
   "metadata": {},
   "outputs": [
    {
     "data": {
      "text/plain": [
       "0.9279430353635436"
      ]
     },
     "execution_count": 52,
     "metadata": {},
     "output_type": "execute_result"
    }
   ],
   "source": [
    "rate_0 = (1- below_rate) * (1- below_rate) * (1-below_rate) * (1-below_rate) * (1-below_rate) * (1-below_rate) * (1-below_rate)\n",
    "rate_1 = below_rate * (1-below_rate) * (1-below_rate) * (1-below_rate) * (1-below_rate) * (1-below_rate) * (1-below_rate)\n",
    "rate_2 = below_rate * below_rate * (1-below_rate) * (1-below_rate) * (1-below_rate) * (1-below_rate) * (1-below_rate)\n",
    "total_rate = rate_0 + rate_1 + rate_2\n",
    "total_rate"
   ]
  }
 ],
 "metadata": {
  "kernelspec": {
   "display_name": "Python 3",
   "language": "python",
   "name": "python3"
  },
  "language_info": {
   "codemirror_mode": {
    "name": "ipython",
    "version": 3
   },
   "file_extension": ".py",
   "mimetype": "text/x-python",
   "name": "python",
   "nbconvert_exporter": "python",
   "pygments_lexer": "ipython3",
   "version": "3.8.5"
  }
 },
 "nbformat": 4,
 "nbformat_minor": 2
}
