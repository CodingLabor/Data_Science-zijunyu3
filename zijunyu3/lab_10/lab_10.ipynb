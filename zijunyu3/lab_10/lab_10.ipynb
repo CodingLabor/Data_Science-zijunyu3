{
 "cells": [
  {
   "cell_type": "markdown",
   "metadata": {},
   "source": [
    "# STAT 207 Lab 10: Linear Regression + Logistic Regression - [25 total points] - Solutions"
   ]
  },
  {
   "cell_type": "markdown",
   "metadata": {},
   "source": [
    "Due: Wednesday, April 14 11:59pm CST\n",
    "\n",
    "We will conduct two case studies in this lab.\n",
    "\n",
    "## <u>Case Study 1</u>: What Factors Predict the Number of Instagram Account Followers?\n",
    "First, we are interested to learn more about what aspects of an Instagram account (both fake and real) are useful predictors of the number of *followers* that an Instagram account has. First, we will consider the following explanatory variables.\n",
    "* the number of accounts someone *follows*\n",
    "* whether the account is fake or real\n",
    "* number of characters in the bio\n",
    "* whether they have a profile picture or not\n",
    "* number of words in name\n",
    "* account type\n",
    "\n",
    "\n",
    "## <u>Case Study 2</u>: What Factors Predict Whether an Instagram Account is Fake or Real?\n",
    "Next, we are interested to learn more about what aspects of an Instagram account are useful in predicting whether an account is fake or real. First, we will consider the following explanatory variables.\n",
    "* the number of accounts someone *follows*\n",
    "* whether the account is fake or real\n",
    "* number of characters in the bio\n",
    "* whether they have a profile picture or not\n",
    "* number of words in name\n",
    "* number of *followers*\n",
    "\n",
    "<u>Dataset Collection Information</u>: We will utilized a cleaned version of the fake instagram dataset that we used in the beginning of the class. I deleted some observations that were outliers (in terms of number of followers) and I deleted two accounts that had no followers. We can assume that this dataset is a **random sample** of all Instagram accounts.\n",
    "\n",
    "<hr style=\"height:1px;border:none;color:#333;background-color:#333;\" />\n"
   ]
  },
  {
   "cell_type": "markdown",
   "metadata": {},
   "source": [
    "## Preliminaries"
   ]
  },
  {
   "cell_type": "markdown",
   "metadata": {},
   "source": [
    "### Imports"
   ]
  },
  {
   "cell_type": "code",
   "execution_count": 2,
   "metadata": {},
   "outputs": [],
   "source": [
    "import numpy as np\n",
    "import pandas as pd\n",
    "import seaborn as sns\n",
    "import matplotlib.pyplot as plt\n",
    "\n",
    "import statsmodels.api as sm\n",
    "import statsmodels.formula.api as smf"
   ]
  },
  {
   "cell_type": "markdown",
   "metadata": {},
   "source": [
    "### Read in the fake_insta_cleaned.csv into a dataframe."
   ]
  },
  {
   "cell_type": "code",
   "execution_count": 17,
   "metadata": {},
   "outputs": [
    {
     "data": {
      "text/html": [
       "<div>\n",
       "<style scoped>\n",
       "    .dataframe tbody tr th:only-of-type {\n",
       "        vertical-align: middle;\n",
       "    }\n",
       "\n",
       "    .dataframe tbody tr th {\n",
       "        vertical-align: top;\n",
       "    }\n",
       "\n",
       "    .dataframe thead th {\n",
       "        text-align: right;\n",
       "    }\n",
       "</style>\n",
       "<table border=\"1\" class=\"dataframe\">\n",
       "  <thead>\n",
       "    <tr style=\"text-align: right;\">\n",
       "      <th></th>\n",
       "      <th>has_a_profile_pic</th>\n",
       "      <th>number_of_words_in_name</th>\n",
       "      <th>num_characters_in_bio</th>\n",
       "      <th>number_of_posts</th>\n",
       "      <th>number_of_followers</th>\n",
       "      <th>number_of_follows</th>\n",
       "      <th>account_type</th>\n",
       "    </tr>\n",
       "  </thead>\n",
       "  <tbody>\n",
       "    <tr>\n",
       "      <th>0</th>\n",
       "      <td>yes</td>\n",
       "      <td>1</td>\n",
       "      <td>30</td>\n",
       "      <td>35</td>\n",
       "      <td>488</td>\n",
       "      <td>604</td>\n",
       "      <td>real</td>\n",
       "    </tr>\n",
       "    <tr>\n",
       "      <th>1</th>\n",
       "      <td>yes</td>\n",
       "      <td>5</td>\n",
       "      <td>64</td>\n",
       "      <td>3</td>\n",
       "      <td>35</td>\n",
       "      <td>6</td>\n",
       "      <td>real</td>\n",
       "    </tr>\n",
       "    <tr>\n",
       "      <th>2</th>\n",
       "      <td>yes</td>\n",
       "      <td>2</td>\n",
       "      <td>82</td>\n",
       "      <td>319</td>\n",
       "      <td>328</td>\n",
       "      <td>668</td>\n",
       "      <td>real</td>\n",
       "    </tr>\n",
       "    <tr>\n",
       "      <th>3</th>\n",
       "      <td>yes</td>\n",
       "      <td>1</td>\n",
       "      <td>76</td>\n",
       "      <td>6</td>\n",
       "      <td>225</td>\n",
       "      <td>356</td>\n",
       "      <td>real</td>\n",
       "    </tr>\n",
       "    <tr>\n",
       "      <th>4</th>\n",
       "      <td>yes</td>\n",
       "      <td>1</td>\n",
       "      <td>0</td>\n",
       "      <td>6</td>\n",
       "      <td>362</td>\n",
       "      <td>424</td>\n",
       "      <td>real</td>\n",
       "    </tr>\n",
       "  </tbody>\n",
       "</table>\n",
       "</div>"
      ],
      "text/plain": [
       "  has_a_profile_pic  number_of_words_in_name  num_characters_in_bio  \\\n",
       "0               yes                        1                     30   \n",
       "1               yes                        5                     64   \n",
       "2               yes                        2                     82   \n",
       "3               yes                        1                     76   \n",
       "4               yes                        1                      0   \n",
       "\n",
       "   number_of_posts  number_of_followers  number_of_follows account_type  \n",
       "0               35                  488                604         real  \n",
       "1                3                   35                  6         real  \n",
       "2              319                  328                668         real  \n",
       "3                6                  225                356         real  \n",
       "4                6                  362                424         real  "
      ]
     },
     "execution_count": 17,
     "metadata": {},
     "output_type": "execute_result"
    }
   ],
   "source": [
    "df= pd.read_csv('fake_insta_cleaned.csv')\n",
    "df.head()"
   ]
  },
  {
   "cell_type": "code",
   "execution_count": null,
   "metadata": {},
   "outputs": [],
   "source": []
  },
  {
   "cell_type": "markdown",
   "metadata": {},
   "source": [
    "<hr style=\"height:1px;border:none;color:#333;background-color:#333;\" />\n",
    "\n",
    "\n",
    "## <u>Case Study 1</u>: What Factors Predict the Number of Instagram Account Followers?\n"
   ]
  },
  {
   "cell_type": "markdown",
   "metadata": {},
   "source": [
    "### 1. [1 pt] Create a linear regression model with the following variables. Then print the summary output table.\n",
    "* <u>response variable</u>: number of followers\n",
    "* <u>explanatory variables</u>:\n",
    " - the number of accounts someone *follows*\n",
    " - whether the account is fake or real\n",
    " - number of characters in the bio\n",
    " -whether they have a profile picture or not\n",
    "  - number of words in name\n",
    "  - account type"
   ]
  },
  {
   "cell_type": "code",
   "execution_count": 4,
   "metadata": {},
   "outputs": [
    {
     "data": {
      "text/html": [
       "<table class=\"simpletable\">\n",
       "<caption>OLS Regression Results</caption>\n",
       "<tr>\n",
       "  <th>Dep. Variable:</th>    <td>number_of_followers</td> <th>  R-squared:         </th> <td>   0.369</td>\n",
       "</tr>\n",
       "<tr>\n",
       "  <th>Model:</th>                    <td>OLS</td>         <th>  Adj. R-squared:    </th> <td>   0.339</td>\n",
       "</tr>\n",
       "<tr>\n",
       "  <th>Method:</th>              <td>Least Squares</td>    <th>  F-statistic:       </th> <td>   12.41</td>\n",
       "</tr>\n",
       "<tr>\n",
       "  <th>Date:</th>              <td>Thu, 15 Apr 2021</td>   <th>  Prob (F-statistic):</th> <td>1.75e-09</td>\n",
       "</tr>\n",
       "<tr>\n",
       "  <th>Time:</th>                  <td>01:21:35</td>       <th>  Log-Likelihood:    </th> <td> -849.63</td>\n",
       "</tr>\n",
       "<tr>\n",
       "  <th>No. Observations:</th>       <td>   112</td>        <th>  AIC:               </th> <td>   1711.</td>\n",
       "</tr>\n",
       "<tr>\n",
       "  <th>Df Residuals:</th>           <td>   106</td>        <th>  BIC:               </th> <td>   1728.</td>\n",
       "</tr>\n",
       "<tr>\n",
       "  <th>Df Model:</th>               <td>     5</td>        <th>                     </th>     <td> </td>   \n",
       "</tr>\n",
       "<tr>\n",
       "  <th>Covariance Type:</th>       <td>nonrobust</td>      <th>                     </th>     <td> </td>   \n",
       "</tr>\n",
       "</table>\n",
       "<table class=\"simpletable\">\n",
       "<tr>\n",
       "              <td></td>                <th>coef</th>     <th>std err</th>      <th>t</th>      <th>P>|t|</th>  <th>[0.025</th>    <th>0.975]</th>  \n",
       "</tr>\n",
       "<tr>\n",
       "  <th>Intercept</th>                <td>  163.4064</td> <td>  111.065</td> <td>    1.471</td> <td> 0.144</td> <td>  -56.791</td> <td>  383.604</td>\n",
       "</tr>\n",
       "<tr>\n",
       "  <th>account_type[T.real]</th>     <td>  415.7693</td> <td>  130.481</td> <td>    3.186</td> <td> 0.002</td> <td>  157.077</td> <td>  674.461</td>\n",
       "</tr>\n",
       "<tr>\n",
       "  <th>has_a_profile_pic[T.yes]</th> <td> -130.1005</td> <td>  130.241</td> <td>   -0.999</td> <td> 0.320</td> <td> -388.316</td> <td>  128.115</td>\n",
       "</tr>\n",
       "<tr>\n",
       "  <th>number_of_follows</th>        <td>    0.2803</td> <td>    0.039</td> <td>    7.230</td> <td> 0.000</td> <td>    0.203</td> <td>    0.357</td>\n",
       "</tr>\n",
       "<tr>\n",
       "  <th>num_characters_in_bio</th>    <td>    0.6772</td> <td>    1.514</td> <td>    0.447</td> <td> 0.656</td> <td>   -2.325</td> <td>    3.679</td>\n",
       "</tr>\n",
       "<tr>\n",
       "  <th>number_of_words_in_name</th>  <td>  -31.1877</td> <td>   49.601</td> <td>   -0.629</td> <td> 0.531</td> <td> -129.526</td> <td>   67.151</td>\n",
       "</tr>\n",
       "</table>\n",
       "<table class=\"simpletable\">\n",
       "<tr>\n",
       "  <th>Omnibus:</th>       <td>111.596</td> <th>  Durbin-Watson:     </th> <td>   1.898</td> \n",
       "</tr>\n",
       "<tr>\n",
       "  <th>Prob(Omnibus):</th> <td> 0.000</td>  <th>  Jarque-Bera (JB):  </th> <td>1185.797</td> \n",
       "</tr>\n",
       "<tr>\n",
       "  <th>Skew:</th>          <td> 3.531</td>  <th>  Prob(JB):          </th> <td>3.22e-258</td>\n",
       "</tr>\n",
       "<tr>\n",
       "  <th>Kurtosis:</th>      <td>17.291</td>  <th>  Cond. No.          </th> <td>5.05e+03</td> \n",
       "</tr>\n",
       "</table><br/><br/>Notes:<br/>[1] Standard Errors assume that the covariance matrix of the errors is correctly specified.<br/>[2] The condition number is large, 5.05e+03. This might indicate that there are<br/>strong multicollinearity or other numerical problems."
      ],
      "text/plain": [
       "<class 'statsmodels.iolib.summary.Summary'>\n",
       "\"\"\"\n",
       "                             OLS Regression Results                            \n",
       "===============================================================================\n",
       "Dep. Variable:     number_of_followers   R-squared:                       0.369\n",
       "Model:                             OLS   Adj. R-squared:                  0.339\n",
       "Method:                  Least Squares   F-statistic:                     12.41\n",
       "Date:                 Thu, 15 Apr 2021   Prob (F-statistic):           1.75e-09\n",
       "Time:                         01:21:35   Log-Likelihood:                -849.63\n",
       "No. Observations:                  112   AIC:                             1711.\n",
       "Df Residuals:                      106   BIC:                             1728.\n",
       "Df Model:                            5                                         \n",
       "Covariance Type:             nonrobust                                         \n",
       "============================================================================================\n",
       "                               coef    std err          t      P>|t|      [0.025      0.975]\n",
       "--------------------------------------------------------------------------------------------\n",
       "Intercept                  163.4064    111.065      1.471      0.144     -56.791     383.604\n",
       "account_type[T.real]       415.7693    130.481      3.186      0.002     157.077     674.461\n",
       "has_a_profile_pic[T.yes]  -130.1005    130.241     -0.999      0.320    -388.316     128.115\n",
       "number_of_follows            0.2803      0.039      7.230      0.000       0.203       0.357\n",
       "num_characters_in_bio        0.6772      1.514      0.447      0.656      -2.325       3.679\n",
       "number_of_words_in_name    -31.1877     49.601     -0.629      0.531    -129.526      67.151\n",
       "==============================================================================\n",
       "Omnibus:                      111.596   Durbin-Watson:                   1.898\n",
       "Prob(Omnibus):                  0.000   Jarque-Bera (JB):             1185.797\n",
       "Skew:                           3.531   Prob(JB):                    3.22e-258\n",
       "Kurtosis:                      17.291   Cond. No.                     5.05e+03\n",
       "==============================================================================\n",
       "\n",
       "Notes:\n",
       "[1] Standard Errors assume that the covariance matrix of the errors is correctly specified.\n",
       "[2] The condition number is large, 5.05e+03. This might indicate that there are\n",
       "strong multicollinearity or other numerical problems.\n",
       "\"\"\""
      ]
     },
     "execution_count": 4,
     "metadata": {},
     "output_type": "execute_result"
    }
   ],
   "source": [
    "final_mod = smf.ols('number_of_followers~number_of_follows+account_type+num_characters_in_bio+has_a_profile_pic+number_of_words_in_name',\n",
    "                    data=df).fit()\n",
    "final_mod.summary()"
   ]
  },
  {
   "cell_type": "markdown",
   "metadata": {},
   "source": [
    "### 2. [5 pt] Check the conditions for inference for this model."
   ]
  },
  {
   "cell_type": "markdown",
   "metadata": {},
   "source": [
    "Linearity Condition: Because the distribution of points in the plot below are not evenly distributed above and below the line as we move from left to right, we can say the linearity condition is not met."
   ]
  },
  {
   "cell_type": "code",
   "execution_count": 5,
   "metadata": {},
   "outputs": [
    {
     "data": {
      "image/png": "[encoded data removed]",
      "text/plain": [
       "<Figure size 432x288 with 1 Axes>"
      ]
     },
     "metadata": {
      "needs_background": "light"
     },
     "output_type": "display_data"
    }
   ],
   "source": [
    "sns.regplot(x=final_mod.fittedvalues, y=final_mod.resid, ci=None)\n",
    "plt.ylabel('Residual')\n",
    "plt.xlabel('Fitted Value')\n",
    "plt.show()"
   ]
  },
  {
   "cell_type": "markdown",
   "metadata": {},
   "source": [
    "Constant Variability of Residuals Condition: Because the y-axis spread of points in the plot below slightly change as we move from left to right, we can say that this condition is slightly not met."
   ]
  },
  {
   "cell_type": "code",
   "execution_count": 6,
   "metadata": {},
   "outputs": [
    {
     "data": {
      "image/png": "[encoded data removed]",
      "text/plain": [
       "<Figure size 432x288 with 1 Axes>"
      ]
     },
     "metadata": {
      "needs_background": "light"
     },
     "output_type": "display_data"
    }
   ],
   "source": [
    "sns.regplot(x=final_mod.fittedvalues, y=final_mod.resid, ci=None)\n",
    "plt.ylabel('Residual')\n",
    "plt.xlabel('Fitted Value')\n",
    "plt.show()"
   ]
  },
  {
   "cell_type": "markdown",
   "metadata": {},
   "source": [
    "Normality of Residuals (with Mean of 0) Condition: Because the histogram of residuals is skewed between 500 and 1000, the assumption that the residuals are normally distributed is slightly not met. (However, it does look like the mean is about 0)."
   ]
  },
  {
   "cell_type": "code",
   "execution_count": 7,
   "metadata": {},
   "outputs": [
    {
     "data": {
      "image/png": "[encoded data removed]",
      "text/plain": [
       "<Figure size 432x288 with 1 Axes>"
      ]
     },
     "metadata": {
      "needs_background": "light"
     },
     "output_type": "display_data"
    }
   ],
   "source": [
    "plt.hist(final_mod.resid)\n",
    "plt.xlabel('Residuals')\n",
    "plt.show()"
   ]
  },
  {
   "cell_type": "markdown",
   "metadata": {},
   "source": [
    "Independence of Residuals Condition At the very least, we verify that:\n",
    "\n",
    "the data is randomly sampled and the sample size n=112<10% of all ins accounts Thus the condition for independence of residuals may not be violated in this particular way.\n",
    "\n",
    "However, it may still be the case that these residuals are not independent"
   ]
  },
  {
   "cell_type": "markdown",
   "metadata": {},
   "source": [
    "No Multicollinearity Condition\n",
    "\n",
    "Let's take a look at the relationships between each pair of numerical explanatory variables.\n",
    "\n",
    "We see that there are all weak non-linear relationships between the explanatory variables number of characters in bio, number of words in name and number of follows. Thus the multicollinearity condition is met."
   ]
  },
  {
   "cell_type": "code",
   "execution_count": 22,
   "metadata": {},
   "outputs": [
    {
     "data": {
      "image/png": "[encoded data removed]",
      "text/plain": [
       "<Figure size 360x360 with 6 Axes>"
      ]
     },
     "metadata": {
      "needs_background": "light"
     },
     "output_type": "display_data"
    }
   ],
   "source": [
    "sns.pairplot(df[['number_of_words_in_name','number_of_follows']])\n",
    "plt.show()"
   ]
  },
  {
   "cell_type": "code",
   "execution_count": 23,
   "metadata": {},
   "outputs": [
    {
     "data": {
      "text/html": [
       "<div>\n",
       "<style scoped>\n",
       "    .dataframe tbody tr th:only-of-type {\n",
       "        vertical-align: middle;\n",
       "    }\n",
       "\n",
       "    .dataframe tbody tr th {\n",
       "        vertical-align: top;\n",
       "    }\n",
       "\n",
       "    .dataframe thead th {\n",
       "        text-align: right;\n",
       "    }\n",
       "</style>\n",
       "<table border=\"1\" class=\"dataframe\">\n",
       "  <thead>\n",
       "    <tr style=\"text-align: right;\">\n",
       "      <th></th>\n",
       "      <th>number_of_words_in_name</th>\n",
       "      <th>number_of_follows</th>\n",
       "    </tr>\n",
       "  </thead>\n",
       "  <tbody>\n",
       "    <tr>\n",
       "      <th>number_of_words_in_name</th>\n",
       "      <td>1.000000</td>\n",
       "      <td>-0.034764</td>\n",
       "    </tr>\n",
       "    <tr>\n",
       "      <th>number_of_follows</th>\n",
       "      <td>-0.034764</td>\n",
       "      <td>1.000000</td>\n",
       "    </tr>\n",
       "  </tbody>\n",
       "</table>\n",
       "</div>"
      ],
      "text/plain": [
       "                         number_of_words_in_name  number_of_follows\n",
       "number_of_words_in_name                 1.000000          -0.034764\n",
       "number_of_follows                      -0.034764           1.000000"
      ]
     },
     "execution_count": 23,
     "metadata": {},
     "output_type": "execute_result"
    }
   ],
   "source": [
    "df[['number_of_words_in_name','number_of_follows']].corr()"
   ]
  },
  {
   "cell_type": "markdown",
   "metadata": {},
   "source": [
    "### 3. [1.5 pt] Next, create a new variable in your dataframe that is the natural log of the number of followers variable. "
   ]
  },
  {
   "cell_type": "code",
   "execution_count": 18,
   "metadata": {},
   "outputs": [
    {
     "data": {
      "text/html": [
       "<div>\n",
       "<style scoped>\n",
       "    .dataframe tbody tr th:only-of-type {\n",
       "        vertical-align: middle;\n",
       "    }\n",
       "\n",
       "    .dataframe tbody tr th {\n",
       "        vertical-align: top;\n",
       "    }\n",
       "\n",
       "    .dataframe thead th {\n",
       "        text-align: right;\n",
       "    }\n",
       "</style>\n",
       "<table border=\"1\" class=\"dataframe\">\n",
       "  <thead>\n",
       "    <tr style=\"text-align: right;\">\n",
       "      <th></th>\n",
       "      <th>has_a_profile_pic</th>\n",
       "      <th>number_of_words_in_name</th>\n",
       "      <th>num_characters_in_bio</th>\n",
       "      <th>number_of_posts</th>\n",
       "      <th>number_of_followers</th>\n",
       "      <th>number_of_follows</th>\n",
       "      <th>account_type</th>\n",
       "      <th>log_followers</th>\n",
       "    </tr>\n",
       "  </thead>\n",
       "  <tbody>\n",
       "    <tr>\n",
       "      <th>0</th>\n",
       "      <td>yes</td>\n",
       "      <td>1</td>\n",
       "      <td>30</td>\n",
       "      <td>35</td>\n",
       "      <td>488</td>\n",
       "      <td>604</td>\n",
       "      <td>real</td>\n",
       "      <td>6.190315</td>\n",
       "    </tr>\n",
       "    <tr>\n",
       "      <th>1</th>\n",
       "      <td>yes</td>\n",
       "      <td>5</td>\n",
       "      <td>64</td>\n",
       "      <td>3</td>\n",
       "      <td>35</td>\n",
       "      <td>6</td>\n",
       "      <td>real</td>\n",
       "      <td>3.555348</td>\n",
       "    </tr>\n",
       "    <tr>\n",
       "      <th>2</th>\n",
       "      <td>yes</td>\n",
       "      <td>2</td>\n",
       "      <td>82</td>\n",
       "      <td>319</td>\n",
       "      <td>328</td>\n",
       "      <td>668</td>\n",
       "      <td>real</td>\n",
       "      <td>5.793014</td>\n",
       "    </tr>\n",
       "    <tr>\n",
       "      <th>3</th>\n",
       "      <td>yes</td>\n",
       "      <td>1</td>\n",
       "      <td>76</td>\n",
       "      <td>6</td>\n",
       "      <td>225</td>\n",
       "      <td>356</td>\n",
       "      <td>real</td>\n",
       "      <td>5.416100</td>\n",
       "    </tr>\n",
       "    <tr>\n",
       "      <th>4</th>\n",
       "      <td>yes</td>\n",
       "      <td>1</td>\n",
       "      <td>0</td>\n",
       "      <td>6</td>\n",
       "      <td>362</td>\n",
       "      <td>424</td>\n",
       "      <td>real</td>\n",
       "      <td>5.891644</td>\n",
       "    </tr>\n",
       "  </tbody>\n",
       "</table>\n",
       "</div>"
      ],
      "text/plain": [
       "  has_a_profile_pic  number_of_words_in_name  num_characters_in_bio  \\\n",
       "0               yes                        1                     30   \n",
       "1               yes                        5                     64   \n",
       "2               yes                        2                     82   \n",
       "3               yes                        1                     76   \n",
       "4               yes                        1                      0   \n",
       "\n",
       "   number_of_posts  number_of_followers  number_of_follows account_type  \\\n",
       "0               35                  488                604         real   \n",
       "1                3                   35                  6         real   \n",
       "2              319                  328                668         real   \n",
       "3                6                  225                356         real   \n",
       "4                6                  362                424         real   \n",
       "\n",
       "   log_followers  \n",
       "0       6.190315  \n",
       "1       3.555348  \n",
       "2       5.793014  \n",
       "3       5.416100  \n",
       "4       5.891644  "
      ]
     },
     "execution_count": 18,
     "metadata": {},
     "output_type": "execute_result"
    }
   ],
   "source": [
    "df2 = df\n",
    "df2['log_followers']=np.log(df2['number_of_followers'])\n",
    "\n",
    "df2.head()"
   ]
  },
  {
   "cell_type": "markdown",
   "metadata": {},
   "source": [
    "### 4. [1 pt] Now, create a new linear regression model with the following variables. Then print the summary output table.\n",
    "* <u>response variable</u>: **ln(number of followers)**\n",
    "* <u>explanatory variables</u>:\n",
    " - the number of accounts someone *follows*\n",
    " - whether the account is fake or real\n",
    " - number of characters in the bio\n",
    " -whether they have a profile picture or not\n",
    "  - number of words in name\n",
    "  - account type"
   ]
  },
  {
   "cell_type": "code",
   "execution_count": 9,
   "metadata": {},
   "outputs": [
    {
     "data": {
      "text/html": [
       "<table class=\"simpletable\">\n",
       "<caption>OLS Regression Results</caption>\n",
       "<tr>\n",
       "  <th>Dep. Variable:</th>      <td>log_followers</td>  <th>  R-squared:         </th> <td>   0.629</td>\n",
       "</tr>\n",
       "<tr>\n",
       "  <th>Model:</th>                   <td>OLS</td>       <th>  Adj. R-squared:    </th> <td>   0.612</td>\n",
       "</tr>\n",
       "<tr>\n",
       "  <th>Method:</th>             <td>Least Squares</td>  <th>  F-statistic:       </th> <td>   36.02</td>\n",
       "</tr>\n",
       "<tr>\n",
       "  <th>Date:</th>             <td>Thu, 15 Apr 2021</td> <th>  Prob (F-statistic):</th> <td>2.14e-21</td>\n",
       "</tr>\n",
       "<tr>\n",
       "  <th>Time:</th>                 <td>01:22:51</td>     <th>  Log-Likelihood:    </th> <td> -140.43</td>\n",
       "</tr>\n",
       "<tr>\n",
       "  <th>No. Observations:</th>      <td>   112</td>      <th>  AIC:               </th> <td>   292.9</td>\n",
       "</tr>\n",
       "<tr>\n",
       "  <th>Df Residuals:</th>          <td>   106</td>      <th>  BIC:               </th> <td>   309.2</td>\n",
       "</tr>\n",
       "<tr>\n",
       "  <th>Df Model:</th>              <td>     5</td>      <th>                     </th>     <td> </td>   \n",
       "</tr>\n",
       "<tr>\n",
       "  <th>Covariance Type:</th>      <td>nonrobust</td>    <th>                     </th>     <td> </td>   \n",
       "</tr>\n",
       "</table>\n",
       "<table class=\"simpletable\">\n",
       "<tr>\n",
       "              <td></td>                <th>coef</th>     <th>std err</th>      <th>t</th>      <th>P>|t|</th>  <th>[0.025</th>    <th>0.975]</th>  \n",
       "</tr>\n",
       "<tr>\n",
       "  <th>Intercept</th>                <td>    3.8065</td> <td>    0.198</td> <td>   19.273</td> <td> 0.000</td> <td>    3.415</td> <td>    4.198</td>\n",
       "</tr>\n",
       "<tr>\n",
       "  <th>account_type[T.real]</th>     <td>    1.3512</td> <td>    0.232</td> <td>    5.823</td> <td> 0.000</td> <td>    0.891</td> <td>    1.811</td>\n",
       "</tr>\n",
       "<tr>\n",
       "  <th>has_a_profile_pic[T.yes]</th> <td>    0.6405</td> <td>    0.232</td> <td>    2.765</td> <td> 0.007</td> <td>    0.181</td> <td>    1.100</td>\n",
       "</tr>\n",
       "<tr>\n",
       "  <th>number_of_follows</th>        <td>    0.0007</td> <td> 6.89e-05</td> <td>    9.622</td> <td> 0.000</td> <td>    0.001</td> <td>    0.001</td>\n",
       "</tr>\n",
       "<tr>\n",
       "  <th>num_characters_in_bio</th>    <td>    0.0023</td> <td>    0.003</td> <td>    0.843</td> <td> 0.401</td> <td>   -0.003</td> <td>    0.008</td>\n",
       "</tr>\n",
       "<tr>\n",
       "  <th>number_of_words_in_name</th>  <td>   -0.1631</td> <td>    0.088</td> <td>   -1.850</td> <td> 0.067</td> <td>   -0.338</td> <td>    0.012</td>\n",
       "</tr>\n",
       "</table>\n",
       "<table class=\"simpletable\">\n",
       "<tr>\n",
       "  <th>Omnibus:</th>       <td>31.706</td> <th>  Durbin-Watson:     </th> <td>   2.004</td>\n",
       "</tr>\n",
       "<tr>\n",
       "  <th>Prob(Omnibus):</th> <td> 0.000</td> <th>  Jarque-Bera (JB):  </th> <td>  70.324</td>\n",
       "</tr>\n",
       "<tr>\n",
       "  <th>Skew:</th>          <td> 1.100</td> <th>  Prob(JB):          </th> <td>5.36e-16</td>\n",
       "</tr>\n",
       "<tr>\n",
       "  <th>Kurtosis:</th>      <td> 6.198</td> <th>  Cond. No.          </th> <td>5.05e+03</td>\n",
       "</tr>\n",
       "</table><br/><br/>Notes:<br/>[1] Standard Errors assume that the covariance matrix of the errors is correctly specified.<br/>[2] The condition number is large, 5.05e+03. This might indicate that there are<br/>strong multicollinearity or other numerical problems."
      ],
      "text/plain": [
       "<class 'statsmodels.iolib.summary.Summary'>\n",
       "\"\"\"\n",
       "                            OLS Regression Results                            \n",
       "==============================================================================\n",
       "Dep. Variable:          log_followers   R-squared:                       0.629\n",
       "Model:                            OLS   Adj. R-squared:                  0.612\n",
       "Method:                 Least Squares   F-statistic:                     36.02\n",
       "Date:                Thu, 15 Apr 2021   Prob (F-statistic):           2.14e-21\n",
       "Time:                        01:22:51   Log-Likelihood:                -140.43\n",
       "No. Observations:                 112   AIC:                             292.9\n",
       "Df Residuals:                     106   BIC:                             309.2\n",
       "Df Model:                           5                                         \n",
       "Covariance Type:            nonrobust                                         \n",
       "============================================================================================\n",
       "                               coef    std err          t      P>|t|      [0.025      0.975]\n",
       "--------------------------------------------------------------------------------------------\n",
       "Intercept                    3.8065      0.198     19.273      0.000       3.415       4.198\n",
       "account_type[T.real]         1.3512      0.232      5.823      0.000       0.891       1.811\n",
       "has_a_profile_pic[T.yes]     0.6405      0.232      2.765      0.007       0.181       1.100\n",
       "number_of_follows            0.0007   6.89e-05      9.622      0.000       0.001       0.001\n",
       "num_characters_in_bio        0.0023      0.003      0.843      0.401      -0.003       0.008\n",
       "number_of_words_in_name     -0.1631      0.088     -1.850      0.067      -0.338       0.012\n",
       "==============================================================================\n",
       "Omnibus:                       31.706   Durbin-Watson:                   2.004\n",
       "Prob(Omnibus):                  0.000   Jarque-Bera (JB):               70.324\n",
       "Skew:                           1.100   Prob(JB):                     5.36e-16\n",
       "Kurtosis:                       6.198   Cond. No.                     5.05e+03\n",
       "==============================================================================\n",
       "\n",
       "Notes:\n",
       "[1] Standard Errors assume that the covariance matrix of the errors is correctly specified.\n",
       "[2] The condition number is large, 5.05e+03. This might indicate that there are\n",
       "strong multicollinearity or other numerical problems.\n",
       "\"\"\""
      ]
     },
     "execution_count": 9,
     "metadata": {},
     "output_type": "execute_result"
    }
   ],
   "source": [
    "final_mod2 = smf.ols('log_followers~number_of_follows+account_type+num_characters_in_bio+has_a_profile_pic+number_of_words_in_name',\n",
    "                    data=df2).fit()\n",
    "final_mod2.summary()"
   ]
  },
  {
   "cell_type": "markdown",
   "metadata": {},
   "source": [
    "### 5 [2.5 pts] Check the conditions for inference for this new model. For each of your conditions, comment on whether this condition is now closer to being met than in the previous model."
   ]
  },
  {
   "cell_type": "markdown",
   "metadata": {},
   "source": [
    "Linearity Condition: This condition is now closer to being met than in the previous model."
   ]
  },
  {
   "cell_type": "code",
   "execution_count": 26,
   "metadata": {},
   "outputs": [
    {
     "data": {
      "image/png": "[encoded data removed]",
      "text/plain": [
       "<Figure size 432x288 with 1 Axes>"
      ]
     },
     "metadata": {
      "needs_background": "light"
     },
     "output_type": "display_data"
    }
   ],
   "source": [
    "sns.regplot(x=final_mod2.fittedvalues, y=final_mod2.resid, ci=None)\n",
    "plt.ylabel('Residual')\n",
    "plt.xlabel('Fitted Value')\n",
    "plt.show()"
   ]
  },
  {
   "cell_type": "markdown",
   "metadata": {},
   "source": [
    "Constant Variability of Residuals Condition\n",
    "This condition is now closer to being met than in the previous model."
   ]
  },
  {
   "cell_type": "code",
   "execution_count": 27,
   "metadata": {},
   "outputs": [
    {
     "data": {
      "image/png": "[encoded data removed]",
      "text/plain": [
       "<Figure size 432x288 with 1 Axes>"
      ]
     },
     "metadata": {
      "needs_background": "light"
     },
     "output_type": "display_data"
    }
   ],
   "source": [
    "sns.regplot(x=final_mod2.fittedvalues, y=final_mod2.resid, ci=None)\n",
    "plt.ylabel('Residual')\n",
    "plt.xlabel('Fitted Value')\n",
    "plt.show()"
   ]
  },
  {
   "cell_type": "markdown",
   "metadata": {},
   "source": [
    "Normality of Residuals (with Mean of 0) Condition:\n",
    "Because the histogram of residuals is slightly skewed between around 3, This condition is now closer to being met than in the previous model."
   ]
  },
  {
   "cell_type": "code",
   "execution_count": 28,
   "metadata": {},
   "outputs": [
    {
     "data": {
      "image/png": "[encoded data removed]",
      "text/plain": [
       "<Figure size 432x288 with 1 Axes>"
      ]
     },
     "metadata": {
      "needs_background": "light"
     },
     "output_type": "display_data"
    }
   ],
   "source": [
    "plt.hist(final_mod2.resid)\n",
    "plt.xlabel('Residuals')\n",
    "plt.show()"
   ]
  },
  {
   "cell_type": "markdown",
   "metadata": {},
   "source": [
    "Independence of Residuals Condition At the very least, we verify that:\n",
    "\n",
    "the data is randomly sampled and the sample size n=122<10% of all ins accounts Thus the condition for independence of residuals may not be violated in this particular way.\n",
    "\n",
    "This condition isn't now closer to being met than in the previous model."
   ]
  },
  {
   "cell_type": "markdown",
   "metadata": {},
   "source": [
    "No Multicollinearity Condition\n",
    "\n",
    "Let's take a look at the relationships between each pair of numerical explanatory variables. \n",
    "\n",
    "We see that there are weak non-linear relationships between the explanatory variables of the number of words in name, the chacacters in bio and the number of follows. Thus the multicollinearity condition is met.\n",
    "\n",
    "This condition isn't closer to being met than in the previous model\n"
   ]
  },
  {
   "cell_type": "code",
   "execution_count": 29,
   "metadata": {},
   "outputs": [
    {
     "data": {
      "image/png": "[encoded data removed]",
      "text/plain": [
       "<Figure size 360x360 with 6 Axes>"
      ]
     },
     "metadata": {
      "needs_background": "light"
     },
     "output_type": "display_data"
    }
   ],
   "source": [
    "sns.pairplot(df2[['number_of_words_in_name','number_of_follows']])\n",
    "plt.show()"
   ]
  },
  {
   "cell_type": "code",
   "execution_count": 30,
   "metadata": {},
   "outputs": [
    {
     "data": {
      "text/html": [
       "<div>\n",
       "<style scoped>\n",
       "    .dataframe tbody tr th:only-of-type {\n",
       "        vertical-align: middle;\n",
       "    }\n",
       "\n",
       "    .dataframe tbody tr th {\n",
       "        vertical-align: top;\n",
       "    }\n",
       "\n",
       "    .dataframe thead th {\n",
       "        text-align: right;\n",
       "    }\n",
       "</style>\n",
       "<table border=\"1\" class=\"dataframe\">\n",
       "  <thead>\n",
       "    <tr style=\"text-align: right;\">\n",
       "      <th></th>\n",
       "      <th>number_of_words_in_name</th>\n",
       "      <th>number_of_follows</th>\n",
       "    </tr>\n",
       "  </thead>\n",
       "  <tbody>\n",
       "    <tr>\n",
       "      <th>number_of_words_in_name</th>\n",
       "      <td>1.000000</td>\n",
       "      <td>-0.034764</td>\n",
       "    </tr>\n",
       "    <tr>\n",
       "      <th>number_of_follows</th>\n",
       "      <td>-0.034764</td>\n",
       "      <td>1.000000</td>\n",
       "    </tr>\n",
       "  </tbody>\n",
       "</table>\n",
       "</div>"
      ],
      "text/plain": [
       "                         number_of_words_in_name  number_of_follows\n",
       "number_of_words_in_name                 1.000000          -0.034764\n",
       "number_of_follows                      -0.034764           1.000000"
      ]
     },
     "execution_count": 30,
     "metadata": {},
     "output_type": "execute_result"
    }
   ],
   "source": [
    "df[['number_of_words_in_name','number_of_follows']].corr()"
   ]
  },
  {
   "cell_type": "markdown",
   "metadata": {},
   "source": [
    "### 6. [1 pt] Ariana Grande (currently) has 4776 posts, follows 781 accounts, has two words in the account name, is a real account, has 32 characters in her bio, and has a profile picture. Use this regression equation to predict how many *followers* she has."
   ]
  },
  {
   "cell_type": "code",
   "execution_count": 13,
   "metadata": {},
   "outputs": [
    {
     "data": {
      "text/plain": [
       "0    6.062551\n",
       "dtype: float64"
      ]
     },
     "execution_count": 13,
     "metadata": {},
     "output_type": "execute_result"
    }
   ],
   "source": [
    "final_mod2.predict(exog=dict(number_of_follows=781, number_of_words_in_name=2, account_type=\"real\",num_characters_in_bio=32,has_a_profile_pic=\"yes\"))"
   ]
  },
  {
   "cell_type": "code",
   "execution_count": 14,
   "metadata": {},
   "outputs": [
    {
     "data": {
      "text/plain": [
       "428.37543685928676"
      ]
     },
     "execution_count": 14,
     "metadata": {},
     "output_type": "execute_result"
    }
   ],
   "source": [
    "np.exp(6.06)"
   ]
  },
  {
   "cell_type": "markdown",
   "metadata": {},
   "source": []
  },
  {
   "cell_type": "markdown",
   "metadata": {},
   "source": [
    "### 7  [1 pt] Ariana Grande (currently) actually has about 230,000,000 followers on Instagram. Calculate the residual of this prediction."
   ]
  },
  {
   "cell_type": "code",
   "execution_count": 15,
   "metadata": {},
   "outputs": [
    {
     "data": {
      "text/plain": [
       "0.5940737590658136"
      ]
     },
     "execution_count": 15,
     "metadata": {},
     "output_type": "execute_result"
    }
   ],
   "source": [
    "final_mod3.resid[6]"
   ]
  },
  {
   "cell_type": "markdown",
   "metadata": {},
   "source": [
    "### 8. We have a hunch that at least one of the population slopes for num_characters_in_bio or number_of_words_in_name is non-zero in the population linear regression model with the same set of variables.\n",
    "* <u>response variable</u>: **ln(number of followers)**\n",
    "* <u>explanatory variables</u>:\n",
    " - the number of accounts someone *follows*\n",
    " - whether the account is fake or real\n",
    " - number of characters in the bio\n",
    " -whether they have a profile picture or not\n",
    "  - number of words in name\n",
    "  - account type\n",
    "  \n",
    "### We will conduct a hypothesis test that will test this claim.\n",
    "\n",
    "#### 8.1 [1 pt] Set up your hypotheses here. Make sure you label what any population parameters are that you use."
   ]
  },
  {
   "cell_type": "markdown",
   "metadata": {},
   "source": [
    "Null hypothesis:S1 = S2 = 0\n",
    "Alternative hypothesis:S1 != 0 or S2 != 0\n",
    "S1 is slope of num_characters_in_bio \n",
    "S2 is slope of number_of_words_in_name"
   ]
  },
  {
   "cell_type": "markdown",
   "metadata": {},
   "source": [
    "#### 8.2 [2 pt] Calculate the p-value for this test (however you like)."
   ]
  },
  {
   "cell_type": "code",
   "execution_count": 14,
   "metadata": {},
   "outputs": [
    {
     "data": {
      "text/plain": [
       "0.14146938025563957"
      ]
     },
     "execution_count": 14,
     "metadata": {},
     "output_type": "execute_result"
    }
   ],
   "source": [
    "mod_red = smf.ols('log_followers~number_of_follows+account_type+has_a_profile_pic',\n",
    "                    data=df2).fit()\n",
    "import statsmodels.regression.linear_model as lm\n",
    "\n",
    "test_stat, pvalue, df_diff = final_mod2.compare_f_test(mod_red)\n",
    "pvalue"
   ]
  },
  {
   "cell_type": "code",
   "execution_count": null,
   "metadata": {},
   "outputs": [],
   "source": []
  },
  {
   "cell_type": "markdown",
   "metadata": {},
   "source": [
    "#### 8.3 [1 pt] Use this p-value to make a conclusion using a significance level of $\\alpha=0.01$."
   ]
  },
  {
   "cell_type": "markdown",
   "metadata": {},
   "source": [
    "Because p-value=0.14>a=0.01, we fail to reject the null hypothesis. Thus, there is not sufficient evidence to suggest that at least one of the num_character_in_bio or number_of_words_in_name slopes in the population model (that predicts ln(number_of_followers)) is non-zero."
   ]
  },
  {
   "cell_type": "markdown",
   "metadata": {},
   "source": [
    "<hr style=\"height:1px;border:none;color:#333;background-color:#333;\" />\n",
    "\n",
    "\n",
    "## <u>Case Study 2</u>: What Factors Predict Whether an Instagram Account is Fake or Real?\n",
    "\n",
    "Now, we are interested in creating a logistic regression model that predicts whether an account is fake.\n",
    "\n",
    "### 9. [1 pt] First, create a new variable y in your dataframe that is equal to 1 when the account is fake, and equal to 0 when the account is real.\n"
   ]
  },
  {
   "cell_type": "code",
   "execution_count": 22,
   "metadata": {},
   "outputs": [
    {
     "data": {
      "text/html": [
       "<div>\n",
       "<style scoped>\n",
       "    .dataframe tbody tr th:only-of-type {\n",
       "        vertical-align: middle;\n",
       "    }\n",
       "\n",
       "    .dataframe tbody tr th {\n",
       "        vertical-align: top;\n",
       "    }\n",
       "\n",
       "    .dataframe thead th {\n",
       "        text-align: right;\n",
       "    }\n",
       "</style>\n",
       "<table border=\"1\" class=\"dataframe\">\n",
       "  <thead>\n",
       "    <tr style=\"text-align: right;\">\n",
       "      <th></th>\n",
       "      <th>has_a_profile_pic</th>\n",
       "      <th>number_of_words_in_name</th>\n",
       "      <th>num_characters_in_bio</th>\n",
       "      <th>number_of_posts</th>\n",
       "      <th>number_of_followers</th>\n",
       "      <th>number_of_follows</th>\n",
       "      <th>account_type</th>\n",
       "      <th>log_followers</th>\n",
       "      <th>y</th>\n",
       "    </tr>\n",
       "  </thead>\n",
       "  <tbody>\n",
       "    <tr>\n",
       "      <th>0</th>\n",
       "      <td>yes</td>\n",
       "      <td>1</td>\n",
       "      <td>30</td>\n",
       "      <td>35</td>\n",
       "      <td>488</td>\n",
       "      <td>604</td>\n",
       "      <td>real</td>\n",
       "      <td>6.190315</td>\n",
       "      <td>0</td>\n",
       "    </tr>\n",
       "    <tr>\n",
       "      <th>1</th>\n",
       "      <td>yes</td>\n",
       "      <td>5</td>\n",
       "      <td>64</td>\n",
       "      <td>3</td>\n",
       "      <td>35</td>\n",
       "      <td>6</td>\n",
       "      <td>real</td>\n",
       "      <td>3.555348</td>\n",
       "      <td>0</td>\n",
       "    </tr>\n",
       "    <tr>\n",
       "      <th>2</th>\n",
       "      <td>yes</td>\n",
       "      <td>2</td>\n",
       "      <td>82</td>\n",
       "      <td>319</td>\n",
       "      <td>328</td>\n",
       "      <td>668</td>\n",
       "      <td>real</td>\n",
       "      <td>5.793014</td>\n",
       "      <td>0</td>\n",
       "    </tr>\n",
       "    <tr>\n",
       "      <th>3</th>\n",
       "      <td>yes</td>\n",
       "      <td>1</td>\n",
       "      <td>76</td>\n",
       "      <td>6</td>\n",
       "      <td>225</td>\n",
       "      <td>356</td>\n",
       "      <td>real</td>\n",
       "      <td>5.416100</td>\n",
       "      <td>0</td>\n",
       "    </tr>\n",
       "    <tr>\n",
       "      <th>4</th>\n",
       "      <td>yes</td>\n",
       "      <td>1</td>\n",
       "      <td>0</td>\n",
       "      <td>6</td>\n",
       "      <td>362</td>\n",
       "      <td>424</td>\n",
       "      <td>real</td>\n",
       "      <td>5.891644</td>\n",
       "      <td>0</td>\n",
       "    </tr>\n",
       "  </tbody>\n",
       "</table>\n",
       "</div>"
      ],
      "text/plain": [
       "  has_a_profile_pic  number_of_words_in_name  num_characters_in_bio  \\\n",
       "0               yes                        1                     30   \n",
       "1               yes                        5                     64   \n",
       "2               yes                        2                     82   \n",
       "3               yes                        1                     76   \n",
       "4               yes                        1                      0   \n",
       "\n",
       "   number_of_posts  number_of_followers  number_of_follows account_type  \\\n",
       "0               35                  488                604         real   \n",
       "1                3                   35                  6         real   \n",
       "2              319                  328                668         real   \n",
       "3                6                  225                356         real   \n",
       "4                6                  362                424         real   \n",
       "\n",
       "   log_followers  y  \n",
       "0       6.190315  0  \n",
       "1       3.555348  0  \n",
       "2       5.793014  0  \n",
       "3       5.416100  0  \n",
       "4       5.891644  0  "
      ]
     },
     "execution_count": 22,
     "metadata": {},
     "output_type": "execute_result"
    }
   ],
   "source": [
    "df3 = df\n",
    "df3['y']=df3['account_type'].map({'real':0,'fake':1})\n",
    "df3.head()"
   ]
  },
  {
   "cell_type": "markdown",
   "metadata": {},
   "source": [
    "### 10.  [1.5 pt]  Now, create a logistic regression model which has the following variables. Then print the summary output table.\n",
    "* <u>response variable</u>: account type\n",
    "* <u>explanatory variables</u>:\n",
    "    * the number of accounts someone *follows*\n",
    "    * whether the account is fake or real(disregard)\n",
    "    * number of characters in the bio\n",
    "    * whether they have a profile picture or not\n",
    "    * number of words in name\n",
    "    * number of *followers*\n",
    "    \n",
    "Remember, the level of the account type that we are interested in predicting the probability of is 'fake.'"
   ]
  },
  {
   "cell_type": "code",
   "execution_count": 27,
   "metadata": {},
   "outputs": [
    {
     "name": "stdout",
     "output_type": "stream",
     "text": [
      "Warning: Maximum number of iterations has been exceeded.\n",
      "         Current function value: 0.125713\n",
      "         Iterations: 35\n"
     ]
    },
    {
     "name": "stderr",
     "output_type": "stream",
     "text": [
      "E:\\Miniconda\\lib\\site-packages\\statsmodels\\base\\model.py:566: ConvergenceWarning: Maximum Likelihood optimization failed to converge. Check mle_retvals\n",
      "  warnings.warn(\"Maximum Likelihood optimization failed to \"\n"
     ]
    },
    {
     "data": {
      "text/html": [
       "<table class=\"simpletable\">\n",
       "<caption>Logit Regression Results</caption>\n",
       "<tr>\n",
       "  <th>Dep. Variable:</th>           <td>y</td>        <th>  No. Observations:  </th>  <td>   112</td>  \n",
       "</tr>\n",
       "<tr>\n",
       "  <th>Model:</th>                 <td>Logit</td>      <th>  Df Residuals:      </th>  <td>   106</td>  \n",
       "</tr>\n",
       "<tr>\n",
       "  <th>Method:</th>                 <td>MLE</td>       <th>  Df Model:          </th>  <td>     5</td>  \n",
       "</tr>\n",
       "<tr>\n",
       "  <th>Date:</th>            <td>Thu, 15 Apr 2021</td> <th>  Pseudo R-squ.:     </th>  <td>0.8185</td>  \n",
       "</tr>\n",
       "<tr>\n",
       "  <th>Time:</th>                <td>02:06:11</td>     <th>  Log-Likelihood:    </th> <td> -14.080</td> \n",
       "</tr>\n",
       "<tr>\n",
       "  <th>converged:</th>             <td>False</td>      <th>  LL-Null:           </th> <td> -77.561</td> \n",
       "</tr>\n",
       "<tr>\n",
       "  <th>Covariance Type:</th>     <td>nonrobust</td>    <th>  LLR p-value:       </th> <td>1.050e-25</td>\n",
       "</tr>\n",
       "</table>\n",
       "<table class=\"simpletable\">\n",
       "<tr>\n",
       "              <td></td>                <th>coef</th>     <th>std err</th>      <th>z</th>      <th>P>|z|</th>  <th>[0.025</th>    <th>0.975]</th>  \n",
       "</tr>\n",
       "<tr>\n",
       "  <th>Intercept</th>                <td>  104.2598</td> <td> 5.08e+05</td> <td>    0.000</td> <td> 1.000</td> <td>-9.95e+05</td> <td> 9.95e+05</td>\n",
       "</tr>\n",
       "<tr>\n",
       "  <th>has_a_profile_pic[T.yes]</th> <td>  -99.8255</td> <td> 5.08e+05</td> <td>   -0.000</td> <td> 1.000</td> <td>-9.95e+05</td> <td> 9.95e+05</td>\n",
       "</tr>\n",
       "<tr>\n",
       "  <th>number_of_follows</th>        <td>    0.0091</td> <td>    0.003</td> <td>    3.376</td> <td> 0.001</td> <td>    0.004</td> <td>    0.014</td>\n",
       "</tr>\n",
       "<tr>\n",
       "  <th>num_characters_in_bio</th>    <td>   -0.1103</td> <td>    0.044</td> <td>   -2.496</td> <td> 0.013</td> <td>   -0.197</td> <td>   -0.024</td>\n",
       "</tr>\n",
       "<tr>\n",
       "  <th>number_of_words_in_name</th>  <td>   -1.1747</td> <td>    0.559</td> <td>   -2.103</td> <td> 0.035</td> <td>   -2.269</td> <td>   -0.080</td>\n",
       "</tr>\n",
       "<tr>\n",
       "  <th>number_of_followers</th>      <td>   -0.0280</td> <td>    0.009</td> <td>   -3.194</td> <td> 0.001</td> <td>   -0.045</td> <td>   -0.011</td>\n",
       "</tr>\n",
       "</table><br/><br/>Possibly complete quasi-separation: A fraction 0.50 of observations can be<br/>perfectly predicted. This might indicate that there is complete<br/>quasi-separation. In this case some parameters will not be identified."
      ],
      "text/plain": [
       "<class 'statsmodels.iolib.summary.Summary'>\n",
       "\"\"\"\n",
       "                           Logit Regression Results                           \n",
       "==============================================================================\n",
       "Dep. Variable:                      y   No. Observations:                  112\n",
       "Model:                          Logit   Df Residuals:                      106\n",
       "Method:                           MLE   Df Model:                            5\n",
       "Date:                Thu, 15 Apr 2021   Pseudo R-squ.:                  0.8185\n",
       "Time:                        02:06:11   Log-Likelihood:                -14.080\n",
       "converged:                      False   LL-Null:                       -77.561\n",
       "Covariance Type:            nonrobust   LLR p-value:                 1.050e-25\n",
       "============================================================================================\n",
       "                               coef    std err          z      P>|z|      [0.025      0.975]\n",
       "--------------------------------------------------------------------------------------------\n",
       "Intercept                  104.2598   5.08e+05      0.000      1.000   -9.95e+05    9.95e+05\n",
       "has_a_profile_pic[T.yes]   -99.8255   5.08e+05     -0.000      1.000   -9.95e+05    9.95e+05\n",
       "number_of_follows            0.0091      0.003      3.376      0.001       0.004       0.014\n",
       "num_characters_in_bio       -0.1103      0.044     -2.496      0.013      -0.197      -0.024\n",
       "number_of_words_in_name     -1.1747      0.559     -2.103      0.035      -2.269      -0.080\n",
       "number_of_followers         -0.0280      0.009     -3.194      0.001      -0.045      -0.011\n",
       "============================================================================================\n",
       "\n",
       "Possibly complete quasi-separation: A fraction 0.50 of observations can be\n",
       "perfectly predicted. This might indicate that there is complete\n",
       "quasi-separation. In this case some parameters will not be identified.\n",
       "\"\"\""
      ]
     },
     "execution_count": 27,
     "metadata": {},
     "output_type": "execute_result"
    }
   ],
   "source": [
    "mod1 = smf.logit(formula='y~number_of_follows+num_characters_in_bio+has_a_profile_pic+number_of_words_in_name+number_of_followers', data=df3).fit()\n",
    "mod1.summary()"
   ]
  },
  {
   "cell_type": "markdown",
   "metadata": {},
   "source": [
    "### 11.  [1 pt]  Use this model to predict the probability that Ariana Grande's Instagram account is fake.\n",
    "<u>Remember</u>: This account (currently) has\n",
    "* 4776 posts, \n",
    "* follows 781 accounts, \n",
    "* has two words in the account name,\n",
    "* has 32 characters in her bio, \n",
    "* has a profile picture, and\n",
    "* has 230,000,000 followers."
   ]
  },
  {
   "cell_type": "code",
   "execution_count": 33,
   "metadata": {},
   "outputs": [
    {
     "data": {
      "text/plain": [
       "0.0"
      ]
     },
     "execution_count": 33,
     "metadata": {},
     "output_type": "execute_result"
    }
   ],
   "source": [
    "mod1.predict(exog=dict(number_of_follows=781, number_of_words_in_name=2, account_type=\"real\",num_characters_in_bio=32,has_a_profile_pic=\"yes\",number_of_followers=230000000)).iloc[0]"
   ]
  },
  {
   "cell_type": "markdown",
   "metadata": {},
   "source": [
    "### 12.  [1.5 pt]  If we were to increase the number of followers of an account by 1, by what *multiple* would we expect the odds of this account being fake to change? Would the odds decrease or increase?"
   ]
  },
  {
   "cell_type": "code",
   "execution_count": 29,
   "metadata": {},
   "outputs": [
    {
     "data": {
      "text/plain": [
       "0.0"
      ]
     },
     "execution_count": 29,
     "metadata": {},
     "output_type": "execute_result"
    }
   ],
   "source": [
    "mod1.predict(exog=dict(number_of_follows=781, number_of_words_in_name=2, account_type=\"real\",num_characters_in_bio=32,has_a_profile_pic=\"yes\",number_of_followers=230000001)).iloc[0]"
   ]
  },
  {
   "cell_type": "markdown",
   "metadata": {},
   "source": []
  },
  {
   "cell_type": "markdown",
   "metadata": {},
   "source": [
    "### 13. [3 pt] Create a 99% confidence interval for the population <u>odds multiplier</u>  that corresponds to the number of characters in the bio (ie. $e^{\\beta_3}$)."
   ]
  },
  {
   "cell_type": "code",
   "execution_count": 39,
   "metadata": {},
   "outputs": [
    {
     "name": "stdout",
     "output_type": "stream",
     "text": [
      "Point Estimate -0.1103\n"
     ]
    }
   ],
   "source": [
    "point_estimate=-0.1103\n",
    "print('Point Estimate', point_estimate)\n"
   ]
  },
  {
   "cell_type": "code",
   "execution_count": 40,
   "metadata": {},
   "outputs": [
    {
     "name": "stdout",
     "output_type": "stream",
     "text": [
      "Standard Error: 0.044\n"
     ]
    }
   ],
   "source": [
    "standard_error=0.044\n",
    "print('Standard Error:', standard_error)"
   ]
  },
  {
   "cell_type": "code",
   "execution_count": 41,
   "metadata": {},
   "outputs": [
    {
     "name": "stdout",
     "output_type": "stream",
     "text": [
      "Critical Value 2.5758293035489004\n"
     ]
    }
   ],
   "source": [
    "from scipy.stats import norm\n",
    "critical_value=norm.ppf(0.995)\n",
    "print(\"Critical Value\", critical_value)"
   ]
  },
  {
   "cell_type": "code",
   "execution_count": 43,
   "metadata": {},
   "outputs": [
    {
     "name": "stdout",
     "output_type": "stream",
     "text": [
      "99% Confidence Interval for number of characters in the bio Odds Multiplier 0.7996057467456433 1.0030411041597085\n"
     ]
    }
   ],
   "source": [
    "lower_bound=point_estimate-critical_value*standard_error\n",
    "upper_bound=point_estimate+critical_value*standard_error\n",
    "print('99% Confidence Interval for number of characters in the bio Odds Multiplier', np.exp(lower_bound), np.exp(upper_bound))"
   ]
  },
  {
   "cell_type": "code",
   "execution_count": null,
   "metadata": {},
   "outputs": [],
   "source": []
  }
 ],
 "metadata": {
  "kernelspec": {
   "display_name": "Python 3",
   "language": "python",
   "name": "python3"
  },
  "language_info": {
   "codemirror_mode": {
    "name": "ipython",
    "version": 3
   },
   "file_extension": ".py",
   "mimetype": "text/x-python",
   "name": "python",
   "nbconvert_exporter": "python",
   "pygments_lexer": "ipython3",
   "version": "3.8.5"
  }
 },
 "nbformat": 4,
 "nbformat_minor": 4
}
