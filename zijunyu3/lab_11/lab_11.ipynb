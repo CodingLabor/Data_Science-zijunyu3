{
 "cells": [
  {
   "cell_type": "markdown",
   "metadata": {},
   "source": [
    "# Lab 11 Classification and Predictive Analytics - [25 points]\n",
    "\n",
    "\n",
    "## <u>Case Study</u>: Creating an Accurate Classifier Model of Fake and Real Instagram Accounts\n",
    "\n",
    "We will revisit the fake_insta_cleaned.csv dataset with a different research goal in mind now. In Lab 10, we were more interested in **understanding the relationships** between the explanatory variables and the response variable (fake vs. real) in the **population of fake and real Instagram accounts**.\n",
    "\n",
    "*Now*, we are interested in building a classifier model that gives the most accurate predictions of the observations of the dataset.\n",
    "\n",
    "We will build a logistic regression model that predicts the probability that an account is fake, using the following explanatory variables.\n",
    "* the number of accounts someone *follows*\n",
    "* number of *followers*\n",
    "* number of posts\n",
    "* number of words in name\n",
    "* number of characters in the bio\n",
    "* whether they have a profile picture or not\n",
    "\n",
    "\n"
   ]
  },
  {
   "cell_type": "markdown",
   "metadata": {},
   "source": [
    "## Imports"
   ]
  },
  {
   "cell_type": "code",
   "execution_count": 2,
   "metadata": {},
   "outputs": [],
   "source": [
    "import numpy as np\n",
    "import pandas as pd\n",
    "import seaborn as sns\n",
    "import matplotlib.pyplot as plt\n",
    "\n",
    "import statsmodels.api as sm\n",
    "import statsmodels.formula.api as smf"
   ]
  },
  {
   "cell_type": "markdown",
   "metadata": {},
   "source": [
    "## 1. Data Preliminaries\n",
    "### 1.1 [0.5 pt] Read the fake_insta_cleaned.csv into a dataframe called df."
   ]
  },
  {
   "cell_type": "code",
   "execution_count": 3,
   "metadata": {},
   "outputs": [],
   "source": [
    "df = pd.read_csv('fake_insta_cleaned.csv')"
   ]
  },
  {
   "cell_type": "code",
   "execution_count": 4,
   "metadata": {},
   "outputs": [
    {
     "data": {
      "text/html": [
       "<div>\n",
       "<style scoped>\n",
       "    .dataframe tbody tr th:only-of-type {\n",
       "        vertical-align: middle;\n",
       "    }\n",
       "\n",
       "    .dataframe tbody tr th {\n",
       "        vertical-align: top;\n",
       "    }\n",
       "\n",
       "    .dataframe thead th {\n",
       "        text-align: right;\n",
       "    }\n",
       "</style>\n",
       "<table border=\"1\" class=\"dataframe\">\n",
       "  <thead>\n",
       "    <tr style=\"text-align: right;\">\n",
       "      <th></th>\n",
       "      <th>has_a_profile_pic</th>\n",
       "      <th>number_of_words_in_name</th>\n",
       "      <th>num_characters_in_bio</th>\n",
       "      <th>number_of_posts</th>\n",
       "      <th>number_of_followers</th>\n",
       "      <th>number_of_follows</th>\n",
       "      <th>account_type</th>\n",
       "    </tr>\n",
       "  </thead>\n",
       "  <tbody>\n",
       "    <tr>\n",
       "      <th>0</th>\n",
       "      <td>yes</td>\n",
       "      <td>1</td>\n",
       "      <td>30</td>\n",
       "      <td>35</td>\n",
       "      <td>488</td>\n",
       "      <td>604</td>\n",
       "      <td>real</td>\n",
       "    </tr>\n",
       "    <tr>\n",
       "      <th>1</th>\n",
       "      <td>yes</td>\n",
       "      <td>5</td>\n",
       "      <td>64</td>\n",
       "      <td>3</td>\n",
       "      <td>35</td>\n",
       "      <td>6</td>\n",
       "      <td>real</td>\n",
       "    </tr>\n",
       "    <tr>\n",
       "      <th>2</th>\n",
       "      <td>yes</td>\n",
       "      <td>2</td>\n",
       "      <td>82</td>\n",
       "      <td>319</td>\n",
       "      <td>328</td>\n",
       "      <td>668</td>\n",
       "      <td>real</td>\n",
       "    </tr>\n",
       "    <tr>\n",
       "      <th>3</th>\n",
       "      <td>yes</td>\n",
       "      <td>1</td>\n",
       "      <td>76</td>\n",
       "      <td>6</td>\n",
       "      <td>225</td>\n",
       "      <td>356</td>\n",
       "      <td>real</td>\n",
       "    </tr>\n",
       "    <tr>\n",
       "      <th>4</th>\n",
       "      <td>yes</td>\n",
       "      <td>1</td>\n",
       "      <td>0</td>\n",
       "      <td>6</td>\n",
       "      <td>362</td>\n",
       "      <td>424</td>\n",
       "      <td>real</td>\n",
       "    </tr>\n",
       "  </tbody>\n",
       "</table>\n",
       "</div>"
      ],
      "text/plain": [
       "  has_a_profile_pic  number_of_words_in_name  num_characters_in_bio  \\\n",
       "0               yes                        1                     30   \n",
       "1               yes                        5                     64   \n",
       "2               yes                        2                     82   \n",
       "3               yes                        1                     76   \n",
       "4               yes                        1                      0   \n",
       "\n",
       "   number_of_posts  number_of_followers  number_of_follows account_type  \n",
       "0               35                  488                604         real  \n",
       "1                3                   35                  6         real  \n",
       "2              319                  328                668         real  \n",
       "3                6                  225                356         real  \n",
       "4                6                  362                424         real  "
      ]
     },
     "execution_count": 4,
     "metadata": {},
     "output_type": "execute_result"
    }
   ],
   "source": [
    "df.head()"
   ]
  },
  {
   "cell_type": "markdown",
   "metadata": {},
   "source": [
    "### 1.2. [0.5 pt] Next, create a new variable y in df that is equal to 1 when the the account is fake and that is equal to 0 when the account is real."
   ]
  },
  {
   "cell_type": "code",
   "execution_count": 5,
   "metadata": {},
   "outputs": [
    {
     "data": {
      "text/html": [
       "<div>\n",
       "<style scoped>\n",
       "    .dataframe tbody tr th:only-of-type {\n",
       "        vertical-align: middle;\n",
       "    }\n",
       "\n",
       "    .dataframe tbody tr th {\n",
       "        vertical-align: top;\n",
       "    }\n",
       "\n",
       "    .dataframe thead th {\n",
       "        text-align: right;\n",
       "    }\n",
       "</style>\n",
       "<table border=\"1\" class=\"dataframe\">\n",
       "  <thead>\n",
       "    <tr style=\"text-align: right;\">\n",
       "      <th></th>\n",
       "      <th>has_a_profile_pic</th>\n",
       "      <th>number_of_words_in_name</th>\n",
       "      <th>num_characters_in_bio</th>\n",
       "      <th>number_of_posts</th>\n",
       "      <th>number_of_followers</th>\n",
       "      <th>number_of_follows</th>\n",
       "      <th>account_type</th>\n",
       "      <th>y</th>\n",
       "    </tr>\n",
       "  </thead>\n",
       "  <tbody>\n",
       "    <tr>\n",
       "      <th>0</th>\n",
       "      <td>yes</td>\n",
       "      <td>1</td>\n",
       "      <td>30</td>\n",
       "      <td>35</td>\n",
       "      <td>488</td>\n",
       "      <td>604</td>\n",
       "      <td>real</td>\n",
       "      <td>0</td>\n",
       "    </tr>\n",
       "    <tr>\n",
       "      <th>1</th>\n",
       "      <td>yes</td>\n",
       "      <td>5</td>\n",
       "      <td>64</td>\n",
       "      <td>3</td>\n",
       "      <td>35</td>\n",
       "      <td>6</td>\n",
       "      <td>real</td>\n",
       "      <td>0</td>\n",
       "    </tr>\n",
       "    <tr>\n",
       "      <th>2</th>\n",
       "      <td>yes</td>\n",
       "      <td>2</td>\n",
       "      <td>82</td>\n",
       "      <td>319</td>\n",
       "      <td>328</td>\n",
       "      <td>668</td>\n",
       "      <td>real</td>\n",
       "      <td>0</td>\n",
       "    </tr>\n",
       "    <tr>\n",
       "      <th>3</th>\n",
       "      <td>yes</td>\n",
       "      <td>1</td>\n",
       "      <td>76</td>\n",
       "      <td>6</td>\n",
       "      <td>225</td>\n",
       "      <td>356</td>\n",
       "      <td>real</td>\n",
       "      <td>0</td>\n",
       "    </tr>\n",
       "    <tr>\n",
       "      <th>4</th>\n",
       "      <td>yes</td>\n",
       "      <td>1</td>\n",
       "      <td>0</td>\n",
       "      <td>6</td>\n",
       "      <td>362</td>\n",
       "      <td>424</td>\n",
       "      <td>real</td>\n",
       "      <td>0</td>\n",
       "    </tr>\n",
       "  </tbody>\n",
       "</table>\n",
       "</div>"
      ],
      "text/plain": [
       "  has_a_profile_pic  number_of_words_in_name  num_characters_in_bio  \\\n",
       "0               yes                        1                     30   \n",
       "1               yes                        5                     64   \n",
       "2               yes                        2                     82   \n",
       "3               yes                        1                     76   \n",
       "4               yes                        1                      0   \n",
       "\n",
       "   number_of_posts  number_of_followers  number_of_follows account_type  y  \n",
       "0               35                  488                604         real  0  \n",
       "1                3                   35                  6         real  0  \n",
       "2              319                  328                668         real  0  \n",
       "3                6                  225                356         real  0  \n",
       "4                6                  362                424         real  0  "
      ]
     },
     "execution_count": 5,
     "metadata": {},
     "output_type": "execute_result"
    }
   ],
   "source": [
    "df['y']=df['account_type'].map({'real':0,'fake':1})\n",
    "df.head()"
   ]
  },
  {
   "cell_type": "markdown",
   "metadata": {},
   "source": [
    "## 2. <u>Logistic Regression Model 1</u>\n",
    "\n",
    "\n",
    "### 2.1. [1 pt] Fit a logistic regression model with y and the following explanatory variables:\n",
    "* the number of accounts someone *follows*\n",
    "* number of *followers*\n",
    "* number of posts\n",
    "* number of words in name\n",
    "* number of characters in the bio\n",
    "* whether they have a profile picture or not"
   ]
  },
  {
   "cell_type": "code",
   "execution_count": 6,
   "metadata": {},
   "outputs": [
    {
     "name": "stdout",
     "output_type": "stream",
     "text": [
      "Warning: Maximum number of iterations has been exceeded.\n",
      "         Current function value: 0.125651\n",
      "         Iterations: 35\n"
     ]
    },
    {
     "name": "stderr",
     "output_type": "stream",
     "text": [
      "E:\\Miniconda\\lib\\site-packages\\statsmodels\\base\\model.py:566: ConvergenceWarning: Maximum Likelihood optimization failed to converge. Check mle_retvals\n",
      "  warnings.warn(\"Maximum Likelihood optimization failed to \"\n"
     ]
    },
    {
     "data": {
      "text/html": [
       "<table class=\"simpletable\">\n",
       "<caption>Logit Regression Results</caption>\n",
       "<tr>\n",
       "  <th>Dep. Variable:</th>           <td>y</td>        <th>  No. Observations:  </th>  <td>   112</td>  \n",
       "</tr>\n",
       "<tr>\n",
       "  <th>Model:</th>                 <td>Logit</td>      <th>  Df Residuals:      </th>  <td>   105</td>  \n",
       "</tr>\n",
       "<tr>\n",
       "  <th>Method:</th>                 <td>MLE</td>       <th>  Df Model:          </th>  <td>     6</td>  \n",
       "</tr>\n",
       "<tr>\n",
       "  <th>Date:</th>            <td>Thu, 29 Apr 2021</td> <th>  Pseudo R-squ.:     </th>  <td>0.8186</td>  \n",
       "</tr>\n",
       "<tr>\n",
       "  <th>Time:</th>                <td>06:31:54</td>     <th>  Log-Likelihood:    </th> <td> -14.073</td> \n",
       "</tr>\n",
       "<tr>\n",
       "  <th>converged:</th>             <td>False</td>      <th>  LL-Null:           </th> <td> -77.561</td> \n",
       "</tr>\n",
       "<tr>\n",
       "  <th>Covariance Type:</th>     <td>nonrobust</td>    <th>  LLR p-value:       </th> <td>5.565e-25</td>\n",
       "</tr>\n",
       "</table>\n",
       "<table class=\"simpletable\">\n",
       "<tr>\n",
       "              <td></td>                <th>coef</th>     <th>std err</th>      <th>z</th>      <th>P>|z|</th>  <th>[0.025</th>    <th>0.975]</th>  \n",
       "</tr>\n",
       "<tr>\n",
       "  <th>Intercept</th>                <td>   84.9623</td> <td>   45.105</td> <td>    1.884</td> <td> 0.060</td> <td>   -3.443</td> <td>  173.367</td>\n",
       "</tr>\n",
       "<tr>\n",
       "  <th>has_a_profile_pic[T.yes]</th> <td>  -80.5107</td> <td>   44.506</td> <td>   -1.809</td> <td> 0.070</td> <td> -167.742</td> <td>    6.720</td>\n",
       "</tr>\n",
       "<tr>\n",
       "  <th>number_of_follows</th>        <td>    0.0091</td> <td>    0.003</td> <td>    3.332</td> <td> 0.001</td> <td>    0.004</td> <td>    0.014</td>\n",
       "</tr>\n",
       "<tr>\n",
       "  <th>number_of_followers</th>      <td>   -0.0279</td> <td>    0.009</td> <td>   -3.176</td> <td> 0.001</td> <td>   -0.045</td> <td>   -0.011</td>\n",
       "</tr>\n",
       "<tr>\n",
       "  <th>number_of_posts</th>          <td>   -0.0016</td> <td>    0.013</td> <td>   -0.121</td> <td> 0.904</td> <td>   -0.027</td> <td>    0.024</td>\n",
       "</tr>\n",
       "<tr>\n",
       "  <th>number_of_words_in_name</th>  <td>   -1.1742</td> <td>    0.559</td> <td>   -2.102</td> <td> 0.036</td> <td>   -2.269</td> <td>   -0.080</td>\n",
       "</tr>\n",
       "<tr>\n",
       "  <th>num_characters_in_bio</th>    <td>   -0.1083</td> <td>    0.047</td> <td>   -2.311</td> <td> 0.021</td> <td>   -0.200</td> <td>   -0.016</td>\n",
       "</tr>\n",
       "</table><br/><br/>Possibly complete quasi-separation: A fraction 0.48 of observations can be<br/>perfectly predicted. This might indicate that there is complete<br/>quasi-separation. In this case some parameters will not be identified."
      ],
      "text/plain": [
       "<class 'statsmodels.iolib.summary.Summary'>\n",
       "\"\"\"\n",
       "                           Logit Regression Results                           \n",
       "==============================================================================\n",
       "Dep. Variable:                      y   No. Observations:                  112\n",
       "Model:                          Logit   Df Residuals:                      105\n",
       "Method:                           MLE   Df Model:                            6\n",
       "Date:                Thu, 29 Apr 2021   Pseudo R-squ.:                  0.8186\n",
       "Time:                        06:31:54   Log-Likelihood:                -14.073\n",
       "converged:                      False   LL-Null:                       -77.561\n",
       "Covariance Type:            nonrobust   LLR p-value:                 5.565e-25\n",
       "============================================================================================\n",
       "                               coef    std err          z      P>|z|      [0.025      0.975]\n",
       "--------------------------------------------------------------------------------------------\n",
       "Intercept                   84.9623     45.105      1.884      0.060      -3.443     173.367\n",
       "has_a_profile_pic[T.yes]   -80.5107     44.506     -1.809      0.070    -167.742       6.720\n",
       "number_of_follows            0.0091      0.003      3.332      0.001       0.004       0.014\n",
       "number_of_followers         -0.0279      0.009     -3.176      0.001      -0.045      -0.011\n",
       "number_of_posts             -0.0016      0.013     -0.121      0.904      -0.027       0.024\n",
       "number_of_words_in_name     -1.1742      0.559     -2.102      0.036      -2.269      -0.080\n",
       "num_characters_in_bio       -0.1083      0.047     -2.311      0.021      -0.200      -0.016\n",
       "============================================================================================\n",
       "\n",
       "Possibly complete quasi-separation: A fraction 0.48 of observations can be\n",
       "perfectly predicted. This might indicate that there is complete\n",
       "quasi-separation. In this case some parameters will not be identified.\n",
       "\"\"\""
      ]
     },
     "execution_count": 6,
     "metadata": {},
     "output_type": "execute_result"
    }
   ],
   "source": [
    "mod1 = smf.logit(formula='y ~ number_of_follows+number_of_followers+number_of_posts+number_of_words_in_name+num_characters_in_bio+has_a_profile_pic', data=df).fit()\n",
    "mod1.summary()"
   ]
  },
  {
   "cell_type": "markdown",
   "metadata": {},
   "source": [
    "### 2.2  [1 pt] Which (if any) of the slopes in the logistic regression population model do we have sufficient evidence to suggest are non-zero? Use a signifiance level of $\\alpha=0.05$. Explain your answers."
   ]
  },
  {
   "cell_type": "markdown",
   "metadata": {},
   "source": [
    "The summary output gives us a p-value of number_of_follows = 0.001, p-value of number_of_followers = 0.001,p-value of number_of_words_in_name = 0.036,p-value of num_characters_in_bio = 0.021\n",
    "\n",
    "Thus because all 𝑝−𝑣𝑎𝑙𝑢𝑒s <𝛼=0.05 we reject the null hypothesis. Thus there is sufficient evidence to suggest that  number_of_follows, number_of_followers,number_of_words_in_name and num_characters_in_bio of the population slopes is non-zero."
   ]
  },
  {
   "cell_type": "markdown",
   "metadata": {},
   "source": [
    "## 3. <u>Logistic Regression Model 2</u>\n",
    "### 3.1.  [1 pt] Now, fit another logistic regression model, using only the explanatory variables that you selected in 2.2."
   ]
  },
  {
   "cell_type": "code",
   "execution_count": 7,
   "metadata": {},
   "outputs": [
    {
     "name": "stdout",
     "output_type": "stream",
     "text": [
      "Optimization terminated successfully.\n",
      "         Current function value: 0.400375\n",
      "         Iterations 8\n"
     ]
    },
    {
     "data": {
      "text/html": [
       "<table class=\"simpletable\">\n",
       "<caption>Logit Regression Results</caption>\n",
       "<tr>\n",
       "  <th>Dep. Variable:</th>           <td>y</td>        <th>  No. Observations:  </th>  <td>   112</td>  \n",
       "</tr>\n",
       "<tr>\n",
       "  <th>Model:</th>                 <td>Logit</td>      <th>  Df Residuals:      </th>  <td>   107</td>  \n",
       "</tr>\n",
       "<tr>\n",
       "  <th>Method:</th>                 <td>MLE</td>       <th>  Df Model:          </th>  <td>     4</td>  \n",
       "</tr>\n",
       "<tr>\n",
       "  <th>Date:</th>            <td>Thu, 29 Apr 2021</td> <th>  Pseudo R-squ.:     </th>  <td>0.4218</td>  \n",
       "</tr>\n",
       "<tr>\n",
       "  <th>Time:</th>                <td>06:55:31</td>     <th>  Log-Likelihood:    </th> <td> -44.842</td> \n",
       "</tr>\n",
       "<tr>\n",
       "  <th>converged:</th>             <td>True</td>       <th>  LL-Null:           </th> <td> -77.561</td> \n",
       "</tr>\n",
       "<tr>\n",
       "  <th>Covariance Type:</th>     <td>nonrobust</td>    <th>  LLR p-value:       </th> <td>2.081e-13</td>\n",
       "</tr>\n",
       "</table>\n",
       "<table class=\"simpletable\">\n",
       "<tr>\n",
       "             <td></td>                <th>coef</th>     <th>std err</th>      <th>z</th>      <th>P>|z|</th>  <th>[0.025</th>    <th>0.975]</th>  \n",
       "</tr>\n",
       "<tr>\n",
       "  <th>Intercept</th>               <td>    1.9815</td> <td>    0.583</td> <td>    3.397</td> <td> 0.001</td> <td>    0.838</td> <td>    3.125</td>\n",
       "</tr>\n",
       "<tr>\n",
       "  <th>number_of_follows</th>       <td>    0.0014</td> <td>    0.000</td> <td>    2.838</td> <td> 0.005</td> <td>    0.000</td> <td>    0.002</td>\n",
       "</tr>\n",
       "<tr>\n",
       "  <th>number_of_followers</th>     <td>   -0.0018</td> <td>    0.001</td> <td>   -2.027</td> <td> 0.043</td> <td>   -0.004</td> <td>-6.07e-05</td>\n",
       "</tr>\n",
       "<tr>\n",
       "  <th>number_of_words_in_name</th> <td>   -0.7723</td> <td>    0.354</td> <td>   -2.185</td> <td> 0.029</td> <td>   -1.465</td> <td>   -0.079</td>\n",
       "</tr>\n",
       "<tr>\n",
       "  <th>num_characters_in_bio</th>   <td>   -0.0622</td> <td>    0.018</td> <td>   -3.477</td> <td> 0.001</td> <td>   -0.097</td> <td>   -0.027</td>\n",
       "</tr>\n",
       "</table>"
      ],
      "text/plain": [
       "<class 'statsmodels.iolib.summary.Summary'>\n",
       "\"\"\"\n",
       "                           Logit Regression Results                           \n",
       "==============================================================================\n",
       "Dep. Variable:                      y   No. Observations:                  112\n",
       "Model:                          Logit   Df Residuals:                      107\n",
       "Method:                           MLE   Df Model:                            4\n",
       "Date:                Thu, 29 Apr 2021   Pseudo R-squ.:                  0.4218\n",
       "Time:                        06:55:31   Log-Likelihood:                -44.842\n",
       "converged:                       True   LL-Null:                       -77.561\n",
       "Covariance Type:            nonrobust   LLR p-value:                 2.081e-13\n",
       "===========================================================================================\n",
       "                              coef    std err          z      P>|z|      [0.025      0.975]\n",
       "-------------------------------------------------------------------------------------------\n",
       "Intercept                   1.9815      0.583      3.397      0.001       0.838       3.125\n",
       "number_of_follows           0.0014      0.000      2.838      0.005       0.000       0.002\n",
       "number_of_followers        -0.0018      0.001     -2.027      0.043      -0.004   -6.07e-05\n",
       "number_of_words_in_name    -0.7723      0.354     -2.185      0.029      -1.465      -0.079\n",
       "num_characters_in_bio      -0.0622      0.018     -3.477      0.001      -0.097      -0.027\n",
       "===========================================================================================\n",
       "\"\"\""
      ]
     },
     "execution_count": 7,
     "metadata": {},
     "output_type": "execute_result"
    }
   ],
   "source": [
    "mod2 = smf.logit(formula='y ~ number_of_follows+number_of_followers+number_of_words_in_name+num_characters_in_bio', data=df).fit()\n",
    "mod2.summary()"
   ]
  },
  {
   "cell_type": "markdown",
   "metadata": {},
   "source": [
    "### 3.2.  [1 pt] Which (if any) of the slopes in this new logistic regression population model do we have sufficient evidence to suggest are non-zero? Use a signifiance level of $\\alpha=0.05$. Explain your answers."
   ]
  },
  {
   "cell_type": "markdown",
   "metadata": {},
   "source": [
    "The standard error of number_follows is zero. This means that the slope of number_of_followers is non-zero.\n",
    "As the zero 90% confidence interval doesn't contain the zero in number_followers, number_of_words_in_name and num_characters_in_bio, this means that all three slope are non-zero."
   ]
  },
  {
   "cell_type": "markdown",
   "metadata": {},
   "source": [
    "## 4. ROC and AUC Curve Comparison\n",
    "\n",
    "In #2 and #3 we created two logistic regression models (model 1 and model 2, respectively). First, we would like to select which of these two logistic regression models will be more accurate when classifying the accounts in this dataset as fake or real.\n",
    "\n",
    "### 4.1.  [1.5 pt] Plot the ROC curve and calculate the AUC for model 1."
   ]
  },
  {
   "cell_type": "code",
   "execution_count": 12,
   "metadata": {},
   "outputs": [
    {
     "name": "stdout",
     "output_type": "stream",
     "text": [
      "0.9920178799489144\n"
     ]
    }
   ],
   "source": [
    "from sklearn.metrics import confusion_matrix, roc_curve, roc_auc_score\n",
    "fprs, tprs, thresholds = roc_curve(y_true=df['y'], \n",
    "                            y_score=mod1.fittedvalues)\n",
    "auc = roc_auc_score(y_true=df['y'], \n",
    "                    y_score=mod1.fittedvalues)\n",
    "print(auc)"
   ]
  },
  {
   "cell_type": "code",
   "execution_count": 13,
   "metadata": {},
   "outputs": [],
   "source": [
    "def plot_roc(fpr, tpr, auc, lw=2):\n",
    "    plt.plot(fpr, tpr, color='darkorange', lw=lw,\n",
    "             label='ROC curve (area = '+str(round(auc,3))+')')\n",
    "    plt.plot([0, 1], [0, 1], color='navy', lw=lw, linestyle='--')\n",
    "    plt.xlabel('False Positive Rate')\n",
    "    plt.ylabel('True Positive Rate')\n",
    "    plt.title('ROC Curve')\n",
    "    plt.legend(loc=\"lower right\")\n",
    "    plt.show()"
   ]
  },
  {
   "cell_type": "code",
   "execution_count": 14,
   "metadata": {},
   "outputs": [
    {
     "data": {
      "image/png": "[encoded data removed]",
      "text/plain": [
       "<Figure size 432x288 with 1 Axes>"
      ]
     },
     "metadata": {
      "needs_background": "light"
     },
     "output_type": "display_data"
    }
   ],
   "source": [
    "plot_roc(fprs, tprs, auc)"
   ]
  },
  {
   "cell_type": "markdown",
   "metadata": {},
   "source": [
    "### 4.2.  [1.5 pt] Plot the ROC curve and calculate the AUC for model 2."
   ]
  },
  {
   "cell_type": "code",
   "execution_count": 15,
   "metadata": {},
   "outputs": [
    {
     "name": "stdout",
     "output_type": "stream",
     "text": [
      "0.9169859514687101\n"
     ]
    }
   ],
   "source": [
    "fprs, tprs, thresholds = roc_curve(y_true=df['y'], \n",
    "                            y_score=mod2.fittedvalues)\n",
    "auc = roc_auc_score(y_true=df['y'], \n",
    "                    y_score=mod2.fittedvalues)\n",
    "print(auc)"
   ]
  },
  {
   "cell_type": "code",
   "execution_count": 16,
   "metadata": {},
   "outputs": [],
   "source": [
    "def plot_roc(fpr, tpr, auc, lw=2):\n",
    "    plt.plot(fpr, tpr, color='darkorange', lw=lw,\n",
    "             label='ROC curve (area = '+str(round(auc,3))+')')\n",
    "    plt.plot([0, 1], [0, 1], color='navy', lw=lw, linestyle='--')\n",
    "    plt.xlabel('False Positive Rate')\n",
    "    plt.ylabel('True Positive Rate')\n",
    "    plt.title('ROC Curve')\n",
    "    plt.legend(loc=\"lower right\")\n",
    "    plt.show()"
   ]
  },
  {
   "cell_type": "code",
   "execution_count": 17,
   "metadata": {},
   "outputs": [
    {
     "data": {
      "image/png": "[encoded data removed]",
      "text/plain": [
       "<Figure size 432x288 with 1 Axes>"
      ]
     },
     "metadata": {
      "needs_background": "light"
     },
     "output_type": "display_data"
    }
   ],
   "source": [
    "plot_roc(fprs, tprs, auc)"
   ]
  },
  {
   "cell_type": "markdown",
   "metadata": {},
   "source": [
    "### 4.3.  [1 pt] If we could build an \"ideal\" classifier with this dataset, what would we want the false positive rate and the true positive rate of our classifications to be?"
   ]
  },
  {
   "cell_type": "markdown",
   "metadata": {},
   "source": [
    "Because the AUC is somewhat high (ie. closer to 1 than it is to 0.5), this tells us that there does exist some predictive probability threshold that gets somewhat close to giving us the ideal scenario of a model with a false positive rate of 0 and a true positive rate of 1 with new data."
   ]
  },
  {
   "cell_type": "markdown",
   "metadata": {},
   "source": [
    "### 4.4.  [1 pt] Which of these two logistic regression models is more likely to have a predictive probability threshold that is closer to this \"ideal\" false positive rate and true positive rate? Explain."
   ]
  },
  {
   "cell_type": "markdown",
   "metadata": {},
   "source": [
    "As the AUC in first model more than the AUC in second model(AUC in first model in closer to 1),the first model is more likely to have a predictive probability threshold that cloder to this \"ideal\" false positive and true positive rate."
   ]
  },
  {
   "cell_type": "markdown",
   "metadata": {},
   "source": [
    "\n"
   ]
  },
  {
   "cell_type": "markdown",
   "metadata": {},
   "source": [
    "## 5. Making Classifications with Model 1 and a Predictive Probability Threshold of $p_0=0.9$.\n",
    "\n",
    "Next, for now, let's choose to use logistic regression model 1 and a predictive probability threshold of $p_0=0.9$.\n",
    "\n",
    "### 5.1.  [1 pt] Use this threshold to classify all of the accounts in the dataset as fake (ie. 1) or real (ie. 0). Add these predictions as a column in your dataframe."
   ]
  },
  {
   "cell_type": "code",
   "execution_count": 18,
   "metadata": {},
   "outputs": [
    {
     "data": {
      "text/html": [
       "<div>\n",
       "<style scoped>\n",
       "    .dataframe tbody tr th:only-of-type {\n",
       "        vertical-align: middle;\n",
       "    }\n",
       "\n",
       "    .dataframe tbody tr th {\n",
       "        vertical-align: top;\n",
       "    }\n",
       "\n",
       "    .dataframe thead th {\n",
       "        text-align: right;\n",
       "    }\n",
       "</style>\n",
       "<table border=\"1\" class=\"dataframe\">\n",
       "  <thead>\n",
       "    <tr style=\"text-align: right;\">\n",
       "      <th></th>\n",
       "      <th>has_a_profile_pic</th>\n",
       "      <th>number_of_words_in_name</th>\n",
       "      <th>num_characters_in_bio</th>\n",
       "      <th>number_of_posts</th>\n",
       "      <th>number_of_followers</th>\n",
       "      <th>number_of_follows</th>\n",
       "      <th>account_type</th>\n",
       "      <th>y</th>\n",
       "      <th>predictive_prob</th>\n",
       "    </tr>\n",
       "  </thead>\n",
       "  <tbody>\n",
       "    <tr>\n",
       "      <th>0</th>\n",
       "      <td>yes</td>\n",
       "      <td>1</td>\n",
       "      <td>30</td>\n",
       "      <td>35</td>\n",
       "      <td>488</td>\n",
       "      <td>604</td>\n",
       "      <td>real</td>\n",
       "      <td>0</td>\n",
       "      <td>0.000296</td>\n",
       "    </tr>\n",
       "    <tr>\n",
       "      <th>1</th>\n",
       "      <td>yes</td>\n",
       "      <td>5</td>\n",
       "      <td>64</td>\n",
       "      <td>3</td>\n",
       "      <td>35</td>\n",
       "      <td>6</td>\n",
       "      <td>real</td>\n",
       "      <td>0</td>\n",
       "      <td>0.000094</td>\n",
       "    </tr>\n",
       "    <tr>\n",
       "      <th>2</th>\n",
       "      <td>yes</td>\n",
       "      <td>2</td>\n",
       "      <td>82</td>\n",
       "      <td>319</td>\n",
       "      <td>328</td>\n",
       "      <td>668</td>\n",
       "      <td>real</td>\n",
       "      <td>0</td>\n",
       "      <td>0.000032</td>\n",
       "    </tr>\n",
       "    <tr>\n",
       "      <th>3</th>\n",
       "      <td>yes</td>\n",
       "      <td>1</td>\n",
       "      <td>76</td>\n",
       "      <td>6</td>\n",
       "      <td>225</td>\n",
       "      <td>356</td>\n",
       "      <td>real</td>\n",
       "      <td>0</td>\n",
       "      <td>0.000338</td>\n",
       "    </tr>\n",
       "    <tr>\n",
       "      <th>4</th>\n",
       "      <td>yes</td>\n",
       "      <td>1</td>\n",
       "      <td>0</td>\n",
       "      <td>6</td>\n",
       "      <td>362</td>\n",
       "      <td>424</td>\n",
       "      <td>real</td>\n",
       "      <td>0</td>\n",
       "      <td>0.049266</td>\n",
       "    </tr>\n",
       "    <tr>\n",
       "      <th>...</th>\n",
       "      <td>...</td>\n",
       "      <td>...</td>\n",
       "      <td>...</td>\n",
       "      <td>...</td>\n",
       "      <td>...</td>\n",
       "      <td>...</td>\n",
       "      <td>...</td>\n",
       "      <td>...</td>\n",
       "      <td>...</td>\n",
       "    </tr>\n",
       "    <tr>\n",
       "      <th>107</th>\n",
       "      <td>yes</td>\n",
       "      <td>1</td>\n",
       "      <td>0</td>\n",
       "      <td>13</td>\n",
       "      <td>114</td>\n",
       "      <td>811</td>\n",
       "      <td>fake</td>\n",
       "      <td>1</td>\n",
       "      <td>0.999421</td>\n",
       "    </tr>\n",
       "    <tr>\n",
       "      <th>108</th>\n",
       "      <td>yes</td>\n",
       "      <td>1</td>\n",
       "      <td>0</td>\n",
       "      <td>4</td>\n",
       "      <td>150</td>\n",
       "      <td>164</td>\n",
       "      <td>fake</td>\n",
       "      <td>1</td>\n",
       "      <td>0.642049</td>\n",
       "    </tr>\n",
       "    <tr>\n",
       "      <th>109</th>\n",
       "      <td>yes</td>\n",
       "      <td>2</td>\n",
       "      <td>0</td>\n",
       "      <td>3</td>\n",
       "      <td>833</td>\n",
       "      <td>3572</td>\n",
       "      <td>fake</td>\n",
       "      <td>1</td>\n",
       "      <td>0.999988</td>\n",
       "    </tr>\n",
       "    <tr>\n",
       "      <th>110</th>\n",
       "      <td>no</td>\n",
       "      <td>1</td>\n",
       "      <td>0</td>\n",
       "      <td>1</td>\n",
       "      <td>219</td>\n",
       "      <td>1695</td>\n",
       "      <td>fake</td>\n",
       "      <td>1</td>\n",
       "      <td>1.000000</td>\n",
       "    </tr>\n",
       "    <tr>\n",
       "      <th>111</th>\n",
       "      <td>yes</td>\n",
       "      <td>1</td>\n",
       "      <td>0</td>\n",
       "      <td>3</td>\n",
       "      <td>39</td>\n",
       "      <td>68</td>\n",
       "      <td>fake</td>\n",
       "      <td>1</td>\n",
       "      <td>0.942928</td>\n",
       "    </tr>\n",
       "  </tbody>\n",
       "</table>\n",
       "<p>112 rows × 9 columns</p>\n",
       "</div>"
      ],
      "text/plain": [
       "    has_a_profile_pic  number_of_words_in_name  num_characters_in_bio  \\\n",
       "0                 yes                        1                     30   \n",
       "1                 yes                        5                     64   \n",
       "2                 yes                        2                     82   \n",
       "3                 yes                        1                     76   \n",
       "4                 yes                        1                      0   \n",
       "..                ...                      ...                    ...   \n",
       "107               yes                        1                      0   \n",
       "108               yes                        1                      0   \n",
       "109               yes                        2                      0   \n",
       "110                no                        1                      0   \n",
       "111               yes                        1                      0   \n",
       "\n",
       "     number_of_posts  number_of_followers  number_of_follows account_type  y  \\\n",
       "0                 35                  488                604         real  0   \n",
       "1                  3                   35                  6         real  0   \n",
       "2                319                  328                668         real  0   \n",
       "3                  6                  225                356         real  0   \n",
       "4                  6                  362                424         real  0   \n",
       "..               ...                  ...                ...          ... ..   \n",
       "107               13                  114                811         fake  1   \n",
       "108                4                  150                164         fake  1   \n",
       "109                3                  833               3572         fake  1   \n",
       "110                1                  219               1695         fake  1   \n",
       "111                3                   39                 68         fake  1   \n",
       "\n",
       "     predictive_prob  \n",
       "0           0.000296  \n",
       "1           0.000094  \n",
       "2           0.000032  \n",
       "3           0.000338  \n",
       "4           0.049266  \n",
       "..               ...  \n",
       "107         0.999421  \n",
       "108         0.642049  \n",
       "109         0.999988  \n",
       "110         1.000000  \n",
       "111         0.942928  \n",
       "\n",
       "[112 rows x 9 columns]"
      ]
     },
     "execution_count": 18,
     "metadata": {},
     "output_type": "execute_result"
    }
   ],
   "source": [
    "df1 = df\n",
    "pred_probabilities=mod1.predict(exog=dict(df1)) \n",
    "df1['predictive_prob']=pred_probabilities\n",
    "df1"
   ]
  },
  {
   "cell_type": "code",
   "execution_count": 19,
   "metadata": {},
   "outputs": [
    {
     "data": {
      "text/html": [
       "<div>\n",
       "<style scoped>\n",
       "    .dataframe tbody tr th:only-of-type {\n",
       "        vertical-align: middle;\n",
       "    }\n",
       "\n",
       "    .dataframe tbody tr th {\n",
       "        vertical-align: top;\n",
       "    }\n",
       "\n",
       "    .dataframe thead th {\n",
       "        text-align: right;\n",
       "    }\n",
       "</style>\n",
       "<table border=\"1\" class=\"dataframe\">\n",
       "  <thead>\n",
       "    <tr style=\"text-align: right;\">\n",
       "      <th></th>\n",
       "      <th>has_a_profile_pic</th>\n",
       "      <th>number_of_words_in_name</th>\n",
       "      <th>num_characters_in_bio</th>\n",
       "      <th>number_of_posts</th>\n",
       "      <th>number_of_followers</th>\n",
       "      <th>number_of_follows</th>\n",
       "      <th>account_type</th>\n",
       "      <th>y</th>\n",
       "      <th>predictive_prob</th>\n",
       "      <th>yhat</th>\n",
       "    </tr>\n",
       "  </thead>\n",
       "  <tbody>\n",
       "    <tr>\n",
       "      <th>0</th>\n",
       "      <td>yes</td>\n",
       "      <td>1</td>\n",
       "      <td>30</td>\n",
       "      <td>35</td>\n",
       "      <td>488</td>\n",
       "      <td>604</td>\n",
       "      <td>real</td>\n",
       "      <td>0</td>\n",
       "      <td>0.000296</td>\n",
       "      <td>0</td>\n",
       "    </tr>\n",
       "    <tr>\n",
       "      <th>1</th>\n",
       "      <td>yes</td>\n",
       "      <td>5</td>\n",
       "      <td>64</td>\n",
       "      <td>3</td>\n",
       "      <td>35</td>\n",
       "      <td>6</td>\n",
       "      <td>real</td>\n",
       "      <td>0</td>\n",
       "      <td>0.000094</td>\n",
       "      <td>0</td>\n",
       "    </tr>\n",
       "    <tr>\n",
       "      <th>2</th>\n",
       "      <td>yes</td>\n",
       "      <td>2</td>\n",
       "      <td>82</td>\n",
       "      <td>319</td>\n",
       "      <td>328</td>\n",
       "      <td>668</td>\n",
       "      <td>real</td>\n",
       "      <td>0</td>\n",
       "      <td>0.000032</td>\n",
       "      <td>0</td>\n",
       "    </tr>\n",
       "    <tr>\n",
       "      <th>3</th>\n",
       "      <td>yes</td>\n",
       "      <td>1</td>\n",
       "      <td>76</td>\n",
       "      <td>6</td>\n",
       "      <td>225</td>\n",
       "      <td>356</td>\n",
       "      <td>real</td>\n",
       "      <td>0</td>\n",
       "      <td>0.000338</td>\n",
       "      <td>0</td>\n",
       "    </tr>\n",
       "    <tr>\n",
       "      <th>4</th>\n",
       "      <td>yes</td>\n",
       "      <td>1</td>\n",
       "      <td>0</td>\n",
       "      <td>6</td>\n",
       "      <td>362</td>\n",
       "      <td>424</td>\n",
       "      <td>real</td>\n",
       "      <td>0</td>\n",
       "      <td>0.049266</td>\n",
       "      <td>0</td>\n",
       "    </tr>\n",
       "    <tr>\n",
       "      <th>...</th>\n",
       "      <td>...</td>\n",
       "      <td>...</td>\n",
       "      <td>...</td>\n",
       "      <td>...</td>\n",
       "      <td>...</td>\n",
       "      <td>...</td>\n",
       "      <td>...</td>\n",
       "      <td>...</td>\n",
       "      <td>...</td>\n",
       "      <td>...</td>\n",
       "    </tr>\n",
       "    <tr>\n",
       "      <th>107</th>\n",
       "      <td>yes</td>\n",
       "      <td>1</td>\n",
       "      <td>0</td>\n",
       "      <td>13</td>\n",
       "      <td>114</td>\n",
       "      <td>811</td>\n",
       "      <td>fake</td>\n",
       "      <td>1</td>\n",
       "      <td>0.999421</td>\n",
       "      <td>1</td>\n",
       "    </tr>\n",
       "    <tr>\n",
       "      <th>108</th>\n",
       "      <td>yes</td>\n",
       "      <td>1</td>\n",
       "      <td>0</td>\n",
       "      <td>4</td>\n",
       "      <td>150</td>\n",
       "      <td>164</td>\n",
       "      <td>fake</td>\n",
       "      <td>1</td>\n",
       "      <td>0.642049</td>\n",
       "      <td>0</td>\n",
       "    </tr>\n",
       "    <tr>\n",
       "      <th>109</th>\n",
       "      <td>yes</td>\n",
       "      <td>2</td>\n",
       "      <td>0</td>\n",
       "      <td>3</td>\n",
       "      <td>833</td>\n",
       "      <td>3572</td>\n",
       "      <td>fake</td>\n",
       "      <td>1</td>\n",
       "      <td>0.999988</td>\n",
       "      <td>1</td>\n",
       "    </tr>\n",
       "    <tr>\n",
       "      <th>110</th>\n",
       "      <td>no</td>\n",
       "      <td>1</td>\n",
       "      <td>0</td>\n",
       "      <td>1</td>\n",
       "      <td>219</td>\n",
       "      <td>1695</td>\n",
       "      <td>fake</td>\n",
       "      <td>1</td>\n",
       "      <td>1.000000</td>\n",
       "      <td>1</td>\n",
       "    </tr>\n",
       "    <tr>\n",
       "      <th>111</th>\n",
       "      <td>yes</td>\n",
       "      <td>1</td>\n",
       "      <td>0</td>\n",
       "      <td>3</td>\n",
       "      <td>39</td>\n",
       "      <td>68</td>\n",
       "      <td>fake</td>\n",
       "      <td>1</td>\n",
       "      <td>0.942928</td>\n",
       "      <td>1</td>\n",
       "    </tr>\n",
       "  </tbody>\n",
       "</table>\n",
       "<p>112 rows × 10 columns</p>\n",
       "</div>"
      ],
      "text/plain": [
       "    has_a_profile_pic  number_of_words_in_name  num_characters_in_bio  \\\n",
       "0                 yes                        1                     30   \n",
       "1                 yes                        5                     64   \n",
       "2                 yes                        2                     82   \n",
       "3                 yes                        1                     76   \n",
       "4                 yes                        1                      0   \n",
       "..                ...                      ...                    ...   \n",
       "107               yes                        1                      0   \n",
       "108               yes                        1                      0   \n",
       "109               yes                        2                      0   \n",
       "110                no                        1                      0   \n",
       "111               yes                        1                      0   \n",
       "\n",
       "     number_of_posts  number_of_followers  number_of_follows account_type  y  \\\n",
       "0                 35                  488                604         real  0   \n",
       "1                  3                   35                  6         real  0   \n",
       "2                319                  328                668         real  0   \n",
       "3                  6                  225                356         real  0   \n",
       "4                  6                  362                424         real  0   \n",
       "..               ...                  ...                ...          ... ..   \n",
       "107               13                  114                811         fake  1   \n",
       "108                4                  150                164         fake  1   \n",
       "109                3                  833               3572         fake  1   \n",
       "110                1                  219               1695         fake  1   \n",
       "111                3                   39                 68         fake  1   \n",
       "\n",
       "     predictive_prob  yhat  \n",
       "0           0.000296     0  \n",
       "1           0.000094     0  \n",
       "2           0.000032     0  \n",
       "3           0.000338     0  \n",
       "4           0.049266     0  \n",
       "..               ...   ...  \n",
       "107         0.999421     1  \n",
       "108         0.642049     0  \n",
       "109         0.999988     1  \n",
       "110         1.000000     1  \n",
       "111         0.942928     1  \n",
       "\n",
       "[112 rows x 10 columns]"
      ]
     },
     "execution_count": 19,
     "metadata": {},
     "output_type": "execute_result"
    }
   ],
   "source": [
    "df1['yhat']=1*(df1['predictive_prob']>0.9)\n",
    "df1"
   ]
  },
  {
   "cell_type": "markdown",
   "metadata": {},
   "source": [
    "### 5.2.  [1.5 pt] What is the number of true positives, true negatives, false positives, and false negatives of this classification?"
   ]
  },
  {
   "cell_type": "code",
   "execution_count": 22,
   "metadata": {},
   "outputs": [
    {
     "data": {
      "text/plain": [
       "array([[54,  0],\n",
       "       [11, 47]], dtype=int64)"
      ]
     },
     "execution_count": 22,
     "metadata": {},
     "output_type": "execute_result"
    }
   ],
   "source": [
    "from sklearn.metrics import confusion_matrix, roc_curve, roc_auc_score\n",
    "confusion_matrix(y_true=df1['y'], y_pred=df1['yhat'])"
   ]
  },
  {
   "cell_type": "markdown",
   "metadata": {},
   "source": [
    "true positives:47\n",
    "true negatives:54\n",
    "false positives:0\n",
    "false negatives:11"
   ]
  },
  {
   "cell_type": "markdown",
   "metadata": {},
   "source": [
    "### 5.3.  [1.5pt] What does a true positive, true negative, false positive, and false negative mean in the context of this problem? Ie. put these definitions into words in the context of this problem."
   ]
  },
  {
   "cell_type": "markdown",
   "metadata": {},
   "source": [
    "True positive: If the observation of population of fake ins accounts predicted to have be positive, and it is positive. Thus the classifier has correctly classified this observation\n",
    "True negative: If the observation of population of real ins aacounts predicted to have be negative, and it is negative. Thus the classifier has correctly classified this observation\n",
    "False positive: If the observation of population of fake ins accounts predicted to have be positive, and it is positive. Thus the classifier has incorrectly classified this observation\n",
    "False negative:If the observation of population of real ins accounts predicted to have be negative, and it is negative. Thus the classifier has incorrectly classified this observation"
   ]
  },
  {
   "cell_type": "markdown",
   "metadata": {},
   "source": [
    "### 5.4.  [1 pt] Calculate the sensitivity for this classification."
   ]
  },
  {
   "cell_type": "code",
   "execution_count": 23,
   "metadata": {},
   "outputs": [],
   "source": [
    "tn, fp, fn, tp = confusion_matrix(y_true=df1['y'], \n",
    "                                  y_pred=df1['yhat']).ravel()"
   ]
  },
  {
   "cell_type": "code",
   "execution_count": 24,
   "metadata": {},
   "outputs": [
    {
     "name": "stdout",
     "output_type": "stream",
     "text": [
      "sensitivity: 0.8103448275862069\n"
     ]
    }
   ],
   "source": [
    "sensitivity=tp/(tp+fn)\n",
    "print('sensitivity:', sensitivity)"
   ]
  },
  {
   "cell_type": "markdown",
   "metadata": {},
   "source": [
    "### 5.5.  [1 pt] Calculate the true positive rate for this classification."
   ]
  },
  {
   "cell_type": "code",
   "execution_count": 25,
   "metadata": {},
   "outputs": [
    {
     "name": "stdout",
     "output_type": "stream",
     "text": [
      "sensitivity: 0.8103448275862069\n"
     ]
    }
   ],
   "source": [
    "true_positive=tp/(tp+fn)\n",
    "print('true_postive:', true_positive)"
   ]
  },
  {
   "cell_type": "markdown",
   "metadata": {},
   "source": [
    "### 5.6.  [1 pt] Calculate the specificity for this classification."
   ]
  },
  {
   "cell_type": "code",
   "execution_count": 26,
   "metadata": {},
   "outputs": [
    {
     "name": "stdout",
     "output_type": "stream",
     "text": [
      "specificity: 1.0\n"
     ]
    }
   ],
   "source": [
    "specificity=tn/(tn+fp)\n",
    "print('specificity:', specificity)"
   ]
  },
  {
   "cell_type": "markdown",
   "metadata": {},
   "source": [
    "### 5.7.  [1 pt] Finally, calculate the false positive rate for this classification."
   ]
  },
  {
   "cell_type": "code",
   "execution_count": 27,
   "metadata": {},
   "outputs": [
    {
     "name": "stdout",
     "output_type": "stream",
     "text": [
      "false positive rate: 0.0\n"
     ]
    }
   ],
   "source": [
    "false_positive_rate=fp/(tn+fp)\n",
    "print('false positive rate:', false_positive_rate)"
   ]
  },
  {
   "cell_type": "markdown",
   "metadata": {},
   "source": [
    "## 6. Making Classifications with Model 1 and a Predictive Probability Threshold of $p_0=0.1$.\n",
    "\n",
    "Next, let's choose to use logistic regression model 1 and a predictive probability threshold of $p_0=0.1$.\n",
    "\n",
    "### 6.1.  [1 pt] Use this threshold to classify all of the accounts in the dataset as fake (ie. 1) or real (ie. 0). Add these predictions as a column in your dataframe."
   ]
  },
  {
   "cell_type": "code",
   "execution_count": 28,
   "metadata": {},
   "outputs": [
    {
     "data": {
      "text/html": [
       "<div>\n",
       "<style scoped>\n",
       "    .dataframe tbody tr th:only-of-type {\n",
       "        vertical-align: middle;\n",
       "    }\n",
       "\n",
       "    .dataframe tbody tr th {\n",
       "        vertical-align: top;\n",
       "    }\n",
       "\n",
       "    .dataframe thead th {\n",
       "        text-align: right;\n",
       "    }\n",
       "</style>\n",
       "<table border=\"1\" class=\"dataframe\">\n",
       "  <thead>\n",
       "    <tr style=\"text-align: right;\">\n",
       "      <th></th>\n",
       "      <th>has_a_profile_pic</th>\n",
       "      <th>number_of_words_in_name</th>\n",
       "      <th>num_characters_in_bio</th>\n",
       "      <th>number_of_posts</th>\n",
       "      <th>number_of_followers</th>\n",
       "      <th>number_of_follows</th>\n",
       "      <th>account_type</th>\n",
       "      <th>y</th>\n",
       "      <th>predictive_prob</th>\n",
       "      <th>yhat</th>\n",
       "    </tr>\n",
       "  </thead>\n",
       "  <tbody>\n",
       "    <tr>\n",
       "      <th>0</th>\n",
       "      <td>yes</td>\n",
       "      <td>1</td>\n",
       "      <td>30</td>\n",
       "      <td>35</td>\n",
       "      <td>488</td>\n",
       "      <td>604</td>\n",
       "      <td>real</td>\n",
       "      <td>0</td>\n",
       "      <td>0.000296</td>\n",
       "      <td>0</td>\n",
       "    </tr>\n",
       "    <tr>\n",
       "      <th>1</th>\n",
       "      <td>yes</td>\n",
       "      <td>5</td>\n",
       "      <td>64</td>\n",
       "      <td>3</td>\n",
       "      <td>35</td>\n",
       "      <td>6</td>\n",
       "      <td>real</td>\n",
       "      <td>0</td>\n",
       "      <td>0.000094</td>\n",
       "      <td>0</td>\n",
       "    </tr>\n",
       "    <tr>\n",
       "      <th>2</th>\n",
       "      <td>yes</td>\n",
       "      <td>2</td>\n",
       "      <td>82</td>\n",
       "      <td>319</td>\n",
       "      <td>328</td>\n",
       "      <td>668</td>\n",
       "      <td>real</td>\n",
       "      <td>0</td>\n",
       "      <td>0.000032</td>\n",
       "      <td>0</td>\n",
       "    </tr>\n",
       "    <tr>\n",
       "      <th>3</th>\n",
       "      <td>yes</td>\n",
       "      <td>1</td>\n",
       "      <td>76</td>\n",
       "      <td>6</td>\n",
       "      <td>225</td>\n",
       "      <td>356</td>\n",
       "      <td>real</td>\n",
       "      <td>0</td>\n",
       "      <td>0.000338</td>\n",
       "      <td>0</td>\n",
       "    </tr>\n",
       "    <tr>\n",
       "      <th>4</th>\n",
       "      <td>yes</td>\n",
       "      <td>1</td>\n",
       "      <td>0</td>\n",
       "      <td>6</td>\n",
       "      <td>362</td>\n",
       "      <td>424</td>\n",
       "      <td>real</td>\n",
       "      <td>0</td>\n",
       "      <td>0.049266</td>\n",
       "      <td>0</td>\n",
       "    </tr>\n",
       "    <tr>\n",
       "      <th>...</th>\n",
       "      <td>...</td>\n",
       "      <td>...</td>\n",
       "      <td>...</td>\n",
       "      <td>...</td>\n",
       "      <td>...</td>\n",
       "      <td>...</td>\n",
       "      <td>...</td>\n",
       "      <td>...</td>\n",
       "      <td>...</td>\n",
       "      <td>...</td>\n",
       "    </tr>\n",
       "    <tr>\n",
       "      <th>107</th>\n",
       "      <td>yes</td>\n",
       "      <td>1</td>\n",
       "      <td>0</td>\n",
       "      <td>13</td>\n",
       "      <td>114</td>\n",
       "      <td>811</td>\n",
       "      <td>fake</td>\n",
       "      <td>1</td>\n",
       "      <td>0.999421</td>\n",
       "      <td>1</td>\n",
       "    </tr>\n",
       "    <tr>\n",
       "      <th>108</th>\n",
       "      <td>yes</td>\n",
       "      <td>1</td>\n",
       "      <td>0</td>\n",
       "      <td>4</td>\n",
       "      <td>150</td>\n",
       "      <td>164</td>\n",
       "      <td>fake</td>\n",
       "      <td>1</td>\n",
       "      <td>0.642049</td>\n",
       "      <td>1</td>\n",
       "    </tr>\n",
       "    <tr>\n",
       "      <th>109</th>\n",
       "      <td>yes</td>\n",
       "      <td>2</td>\n",
       "      <td>0</td>\n",
       "      <td>3</td>\n",
       "      <td>833</td>\n",
       "      <td>3572</td>\n",
       "      <td>fake</td>\n",
       "      <td>1</td>\n",
       "      <td>0.999988</td>\n",
       "      <td>1</td>\n",
       "    </tr>\n",
       "    <tr>\n",
       "      <th>110</th>\n",
       "      <td>no</td>\n",
       "      <td>1</td>\n",
       "      <td>0</td>\n",
       "      <td>1</td>\n",
       "      <td>219</td>\n",
       "      <td>1695</td>\n",
       "      <td>fake</td>\n",
       "      <td>1</td>\n",
       "      <td>1.000000</td>\n",
       "      <td>1</td>\n",
       "    </tr>\n",
       "    <tr>\n",
       "      <th>111</th>\n",
       "      <td>yes</td>\n",
       "      <td>1</td>\n",
       "      <td>0</td>\n",
       "      <td>3</td>\n",
       "      <td>39</td>\n",
       "      <td>68</td>\n",
       "      <td>fake</td>\n",
       "      <td>1</td>\n",
       "      <td>0.942928</td>\n",
       "      <td>1</td>\n",
       "    </tr>\n",
       "  </tbody>\n",
       "</table>\n",
       "<p>112 rows × 10 columns</p>\n",
       "</div>"
      ],
      "text/plain": [
       "    has_a_profile_pic  number_of_words_in_name  num_characters_in_bio  \\\n",
       "0                 yes                        1                     30   \n",
       "1                 yes                        5                     64   \n",
       "2                 yes                        2                     82   \n",
       "3                 yes                        1                     76   \n",
       "4                 yes                        1                      0   \n",
       "..                ...                      ...                    ...   \n",
       "107               yes                        1                      0   \n",
       "108               yes                        1                      0   \n",
       "109               yes                        2                      0   \n",
       "110                no                        1                      0   \n",
       "111               yes                        1                      0   \n",
       "\n",
       "     number_of_posts  number_of_followers  number_of_follows account_type  y  \\\n",
       "0                 35                  488                604         real  0   \n",
       "1                  3                   35                  6         real  0   \n",
       "2                319                  328                668         real  0   \n",
       "3                  6                  225                356         real  0   \n",
       "4                  6                  362                424         real  0   \n",
       "..               ...                  ...                ...          ... ..   \n",
       "107               13                  114                811         fake  1   \n",
       "108                4                  150                164         fake  1   \n",
       "109                3                  833               3572         fake  1   \n",
       "110                1                  219               1695         fake  1   \n",
       "111                3                   39                 68         fake  1   \n",
       "\n",
       "     predictive_prob  yhat  \n",
       "0           0.000296     0  \n",
       "1           0.000094     0  \n",
       "2           0.000032     0  \n",
       "3           0.000338     0  \n",
       "4           0.049266     0  \n",
       "..               ...   ...  \n",
       "107         0.999421     1  \n",
       "108         0.642049     1  \n",
       "109         0.999988     1  \n",
       "110         1.000000     1  \n",
       "111         0.942928     1  \n",
       "\n",
       "[112 rows x 10 columns]"
      ]
     },
     "execution_count": 28,
     "metadata": {},
     "output_type": "execute_result"
    }
   ],
   "source": [
    "df1['yhat']=1*(df1['predictive_prob']>0.1)\n",
    "df1"
   ]
  },
  {
   "cell_type": "markdown",
   "metadata": {},
   "source": [
    "### 6.2.  [1 pt] What is the false positive rate and the true positive rate of these classifications?"
   ]
  },
  {
   "cell_type": "code",
   "execution_count": 29,
   "metadata": {},
   "outputs": [],
   "source": [
    "from sklearn.metrics import confusion_matrix, roc_curve, roc_auc_score\n",
    "tn, fp, fn, tp = confusion_matrix(y_true=df1['y'], \n",
    "                                  y_pred=df1['yhat']).ravel()"
   ]
  },
  {
   "cell_type": "code",
   "execution_count": 30,
   "metadata": {},
   "outputs": [
    {
     "name": "stdout",
     "output_type": "stream",
     "text": [
      "true_postive: 0.9827586206896551\n"
     ]
    }
   ],
   "source": [
    "true_positive=tp/(tp+fn)\n",
    "print('true_postive:', true_positive)"
   ]
  },
  {
   "cell_type": "code",
   "execution_count": 31,
   "metadata": {},
   "outputs": [
    {
     "name": "stdout",
     "output_type": "stream",
     "text": [
      "false positive rate: 0.16666666666666666\n"
     ]
    }
   ],
   "source": [
    "false_positive_rate=fp/(tn+fp)\n",
    "print('false positive rate:', false_positive_rate)"
   ]
  },
  {
   "cell_type": "markdown",
   "metadata": {},
   "source": [
    "## 7.  [2 pt] Suggesting a Classifier to a Client\n",
    "\n",
    "Suppose you are a data scientist that works at Instagram and you have two clients with different goals.\n",
    "\n",
    "* <u>Client 1</u>: This client is an aspiring Instagram influencer that cares very much about *only* following real accounts. If the classifier classifies an account as fake, this client will not follow that account. Therefore they would like to be able to identify fake accounts as accurately as possible. However, it is not a big deal if the classifier inaccurately classifies a real account as fake.\n",
    "\n",
    "* <u>Client 2</u>: \"Client 2\" is actually your boss at Instagram, and they tell you to delete all accounts that your classifier model thinks are fake. However, there is a huge penalty for deleting an account that is actually real.\n",
    "\n",
    "\n",
    "### Which client would you choose to recommend predictive probability threshold $p_0=0.9$ to? Which client would you choose to recommend predictive probability threshold $p_0=0.1$ to? Explain."
   ]
  },
  {
   "cell_type": "markdown",
   "metadata": {},
   "source": [
    "I recommend Client 1 to choose probability threshold p = 0.9; I recommend Client 2 to choose probability threshold p = 0.1\n",
    "If we care more about accurately classifying population of fake ins accounts (y = 1) , we would want to pick the threshold of  𝑝0=0.1 that yields a higher sensitivity of 0.81\n",
    "If we care more about accurately classifying poopulation of real ins accounts (ie. actually have y=0), we would want to pick the threshold of  𝑝0=0.9  that yields a higher specificity."
   ]
  },
  {
   "cell_type": "markdown",
   "metadata": {},
   "source": [
    "<hr style=\"height:1px;border:none;color:#333;background-color:#333;\" />\n",
    "\n",
    "## <u>Tutorial</u>: Iterating Through a Range of Values with a Step Size\n",
    "\n",
    "The numpy function **arange(lower_bound, upper_bound, step_size)** produces an array of numbers in which:\n",
    "* lower_bound: is the first number in the array\n",
    "* upper_bound-step_size: is the last number in the array\n",
    "* step_size: is the step size interval in the array.\n",
    "\n",
    "For instance the code below creates an array going from 0 to 9.5 with a step size of 0.5."
   ]
  },
  {
   "cell_type": "code",
   "execution_count": 1,
   "metadata": {},
   "outputs": [
    {
     "name": "stdout",
     "output_type": "stream",
     "text": [
      "0.0\n",
      "0.5\n",
      "1.0\n",
      "1.5\n",
      "2.0\n",
      "2.5\n",
      "3.0\n",
      "3.5\n",
      "4.0\n",
      "4.5\n",
      "5.0\n",
      "5.5\n",
      "6.0\n",
      "6.5\n",
      "7.0\n",
      "7.5\n",
      "8.0\n",
      "8.5\n",
      "9.0\n",
      "9.5\n"
     ]
    }
   ],
   "source": [
    "import numpy as np\n",
    "for i in np.arange(0,10,.5):\n",
    "    print(i)"
   ]
  },
  {
   "cell_type": "markdown",
   "metadata": {},
   "source": [
    "<hr style=\"height:1px;border:none;color:#333;background-color:#333;\" />\n",
    "\n",
    "\n",
    "## 8. Choosing the Predictive Probability Threshold we Want\n",
    "\n",
    "### 8.1.  [2 pt] With logistic regression model 1, calculate the corresponding false positive rate and the true positive rate for each of the predictive probability thresholds of $p_0=0,  p_0=0.01, p_0=0.02, p_0=0.03,...,p_0=1$.\n",
    "\n",
    "You will need a for-loop!"
   ]
  },
  {
   "cell_type": "code",
   "execution_count": 41,
   "metadata": {},
   "outputs": [
    {
     "name": "stdout",
     "output_type": "stream",
     "text": [
      "0.0 :true_postive_rate: 1.0 false_positive_rate: 1.0\n",
      "0.01 :true_postive_rate: 0.9827586206896551 false_positive_rate: 0.3333333333333333\n",
      "0.02 :true_postive_rate: 0.9827586206896551 false_positive_rate: 0.3148148148148148\n",
      "0.03 :true_postive_rate: 0.9827586206896551 false_positive_rate: 0.3148148148148148\n",
      "0.04 :true_postive_rate: 0.9827586206896551 false_positive_rate: 0.25925925925925924\n",
      "0.05 :true_postive_rate: 0.9827586206896551 false_positive_rate: 0.2222222222222222\n",
      "0.06 :true_postive_rate: 0.9827586206896551 false_positive_rate: 0.2222222222222222\n",
      "0.07 :true_postive_rate: 0.9827586206896551 false_positive_rate: 0.18518518518518517\n",
      "0.08 :true_postive_rate: 0.9827586206896551 false_positive_rate: 0.18518518518518517\n",
      "0.09 :true_postive_rate: 0.9827586206896551 false_positive_rate: 0.16666666666666666\n",
      "0.1 :true_postive_rate: 0.9827586206896551 false_positive_rate: 0.16666666666666666\n",
      "0.11 :true_postive_rate: 0.9827586206896551 false_positive_rate: 0.16666666666666666\n",
      "0.12 :true_postive_rate: 0.9827586206896551 false_positive_rate: 0.16666666666666666\n",
      "0.13 :true_postive_rate: 0.9827586206896551 false_positive_rate: 0.16666666666666666\n",
      "0.14 :true_postive_rate: 0.9827586206896551 false_positive_rate: 0.16666666666666666\n",
      "0.15 :true_postive_rate: 0.9827586206896551 false_positive_rate: 0.16666666666666666\n",
      "0.16 :true_postive_rate: 0.9827586206896551 false_positive_rate: 0.12962962962962962\n",
      "0.17 :true_postive_rate: 0.9827586206896551 false_positive_rate: 0.12962962962962962\n",
      "0.18 :true_postive_rate: 0.9827586206896551 false_positive_rate: 0.12962962962962962\n",
      "0.19 :true_postive_rate: 0.9827586206896551 false_positive_rate: 0.12962962962962962\n",
      "0.2 :true_postive_rate: 0.9827586206896551 false_positive_rate: 0.12962962962962962\n",
      "0.21 :true_postive_rate: 0.9827586206896551 false_positive_rate: 0.12962962962962962\n",
      "0.22 :true_postive_rate: 0.9827586206896551 false_positive_rate: 0.12962962962962962\n",
      "0.23 :true_postive_rate: 0.9827586206896551 false_positive_rate: 0.09259259259259259\n",
      "0.24 :true_postive_rate: 0.9827586206896551 false_positive_rate: 0.09259259259259259\n",
      "0.25 :true_postive_rate: 0.9827586206896551 false_positive_rate: 0.09259259259259259\n",
      "0.26 :true_postive_rate: 0.9827586206896551 false_positive_rate: 0.09259259259259259\n",
      "0.27 :true_postive_rate: 0.9827586206896551 false_positive_rate: 0.09259259259259259\n",
      "0.28 :true_postive_rate: 0.9827586206896551 false_positive_rate: 0.09259259259259259\n",
      "0.29 :true_postive_rate: 0.9827586206896551 false_positive_rate: 0.09259259259259259\n",
      "0.3 :true_postive_rate: 0.9827586206896551 false_positive_rate: 0.09259259259259259\n",
      "0.31 :true_postive_rate: 0.9827586206896551 false_positive_rate: 0.09259259259259259\n",
      "0.32 :true_postive_rate: 0.9827586206896551 false_positive_rate: 0.09259259259259259\n",
      "0.33 :true_postive_rate: 0.9827586206896551 false_positive_rate: 0.07407407407407407\n",
      "0.34 :true_postive_rate: 0.9827586206896551 false_positive_rate: 0.07407407407407407\n",
      "0.35000000000000003 :true_postive_rate: 0.9827586206896551 false_positive_rate: 0.07407407407407407\n",
      "0.36 :true_postive_rate: 0.9827586206896551 false_positive_rate: 0.07407407407407407\n",
      "0.37 :true_postive_rate: 0.9827586206896551 false_positive_rate: 0.07407407407407407\n",
      "0.38 :true_postive_rate: 0.9827586206896551 false_positive_rate: 0.07407407407407407\n",
      "0.39 :true_postive_rate: 0.9827586206896551 false_positive_rate: 0.07407407407407407\n",
      "0.4 :true_postive_rate: 0.9827586206896551 false_positive_rate: 0.07407407407407407\n",
      "0.41000000000000003 :true_postive_rate: 0.9827586206896551 false_positive_rate: 0.05555555555555555\n",
      "0.42 :true_postive_rate: 0.9827586206896551 false_positive_rate: 0.05555555555555555\n",
      "0.43 :true_postive_rate: 0.9827586206896551 false_positive_rate: 0.05555555555555555\n",
      "0.44 :true_postive_rate: 0.9827586206896551 false_positive_rate: 0.05555555555555555\n",
      "0.45 :true_postive_rate: 0.9827586206896551 false_positive_rate: 0.05555555555555555\n",
      "0.46 :true_postive_rate: 0.9827586206896551 false_positive_rate: 0.05555555555555555\n",
      "0.47000000000000003 :true_postive_rate: 0.9827586206896551 false_positive_rate: 0.05555555555555555\n",
      "0.48 :true_postive_rate: 0.9827586206896551 false_positive_rate: 0.05555555555555555\n",
      "0.49 :true_postive_rate: 0.9827586206896551 false_positive_rate: 0.05555555555555555\n",
      "0.5 :true_postive_rate: 0.9827586206896551 false_positive_rate: 0.05555555555555555\n",
      "0.51 :true_postive_rate: 0.9827586206896551 false_positive_rate: 0.05555555555555555\n",
      "0.52 :true_postive_rate: 0.9827586206896551 false_positive_rate: 0.037037037037037035\n",
      "0.53 :true_postive_rate: 0.9827586206896551 false_positive_rate: 0.037037037037037035\n",
      "0.54 :true_postive_rate: 0.9827586206896551 false_positive_rate: 0.037037037037037035\n",
      "0.55 :true_postive_rate: 0.9827586206896551 false_positive_rate: 0.037037037037037035\n",
      "0.56 :true_postive_rate: 0.9827586206896551 false_positive_rate: 0.037037037037037035\n",
      "0.5700000000000001 :true_postive_rate: 0.9827586206896551 false_positive_rate: 0.037037037037037035\n",
      "0.58 :true_postive_rate: 0.9827586206896551 false_positive_rate: 0.037037037037037035\n",
      "0.59 :true_postive_rate: 0.9655172413793104 false_positive_rate: 0.037037037037037035\n",
      "0.6 :true_postive_rate: 0.9655172413793104 false_positive_rate: 0.037037037037037035\n",
      "0.61 :true_postive_rate: 0.9482758620689655 false_positive_rate: 0.037037037037037035\n",
      "0.62 :true_postive_rate: 0.9482758620689655 false_positive_rate: 0.037037037037037035\n",
      "0.63 :true_postive_rate: 0.9482758620689655 false_positive_rate: 0.018518518518518517\n",
      "0.64 :true_postive_rate: 0.9482758620689655 false_positive_rate: 0.018518518518518517\n",
      "0.65 :true_postive_rate: 0.9310344827586207 false_positive_rate: 0.018518518518518517\n",
      "0.66 :true_postive_rate: 0.9310344827586207 false_positive_rate: 0.018518518518518517\n",
      "0.67 :true_postive_rate: 0.9310344827586207 false_positive_rate: 0.018518518518518517\n",
      "0.68 :true_postive_rate: 0.9310344827586207 false_positive_rate: 0.018518518518518517\n",
      "0.6900000000000001 :true_postive_rate: 0.9310344827586207 false_positive_rate: 0.018518518518518517\n",
      "0.7000000000000001 :true_postive_rate: 0.9310344827586207 false_positive_rate: 0.018518518518518517\n",
      "0.71 :true_postive_rate: 0.9310344827586207 false_positive_rate: 0.018518518518518517\n",
      "0.72 :true_postive_rate: 0.9310344827586207 false_positive_rate: 0.018518518518518517\n",
      "0.73 :true_postive_rate: 0.9310344827586207 false_positive_rate: 0.018518518518518517\n",
      "0.74 :true_postive_rate: 0.9310344827586207 false_positive_rate: 0.018518518518518517\n",
      "0.75 :true_postive_rate: 0.9137931034482759 false_positive_rate: 0.018518518518518517\n",
      "0.76 :true_postive_rate: 0.9137931034482759 false_positive_rate: 0.018518518518518517\n",
      "0.77 :true_postive_rate: 0.9137931034482759 false_positive_rate: 0.018518518518518517\n",
      "0.78 :true_postive_rate: 0.9137931034482759 false_positive_rate: 0.018518518518518517\n",
      "0.79 :true_postive_rate: 0.9137931034482759 false_positive_rate: 0.0\n",
      "0.8 :true_postive_rate: 0.9137931034482759 false_positive_rate: 0.0\n",
      "0.81 :true_postive_rate: 0.9137931034482759 false_positive_rate: 0.0\n",
      "0.8200000000000001 :true_postive_rate: 0.8793103448275862 false_positive_rate: 0.0\n",
      "0.8300000000000001 :true_postive_rate: 0.8448275862068966 false_positive_rate: 0.0\n",
      "0.84 :true_postive_rate: 0.8448275862068966 false_positive_rate: 0.0\n",
      "0.85 :true_postive_rate: 0.8448275862068966 false_positive_rate: 0.0\n",
      "0.86 :true_postive_rate: 0.8448275862068966 false_positive_rate: 0.0\n",
      "0.87 :true_postive_rate: 0.8275862068965517 false_positive_rate: 0.0\n",
      "0.88 :true_postive_rate: 0.8103448275862069 false_positive_rate: 0.0\n",
      "0.89 :true_postive_rate: 0.8103448275862069 false_positive_rate: 0.0\n",
      "0.9 :true_postive_rate: 0.8103448275862069 false_positive_rate: 0.0\n",
      "0.91 :true_postive_rate: 0.7931034482758621 false_positive_rate: 0.0\n",
      "0.92 :true_postive_rate: 0.7931034482758621 false_positive_rate: 0.0\n",
      "0.93 :true_postive_rate: 0.7931034482758621 false_positive_rate: 0.0\n",
      "0.9400000000000001 :true_postive_rate: 0.7586206896551724 false_positive_rate: 0.0\n",
      "0.9500000000000001 :true_postive_rate: 0.7413793103448276 false_positive_rate: 0.0\n",
      "0.96 :true_postive_rate: 0.7241379310344828 false_positive_rate: 0.0\n",
      "0.97 :true_postive_rate: 0.7068965517241379 false_positive_rate: 0.0\n",
      "0.98 :true_postive_rate: 0.6896551724137931 false_positive_rate: 0.0\n",
      "0.99 :true_postive_rate: 0.6379310344827587 false_positive_rate: 0.0\n"
     ]
    }
   ],
   "source": [
    "import numpy as np\n",
    "for i in np.arange(0,1,0.01):\n",
    "    df1['yhat']=1*(df1['predictive_prob']>i)\n",
    "    tn, fp, fn, tp = confusion_matrix(y_true=df1['y'], \n",
    "                                  y_pred=df1['yhat']).ravel()\n",
    "    print(i,':true_postive_rate:', tp/(tp+fn),'false_positive_rate:',fp/(tn+fp))"
   ]
  },
  {
   "cell_type": "markdown",
   "metadata": {},
   "source": [
    "### 8.2.  [1 pt] Which predictive probability threshold $p_0$ will give us the largest true positive rate with a false positive rate that is 0?"
   ]
  },
  {
   "cell_type": "markdown",
   "metadata": {},
   "source": [
    "From the observation, predictive probability threshold of 0.79,0.8 and 0.81 give us the largest true positive rate with a false positive rate that is 0"
   ]
  }
 ],
 "metadata": {
  "kernelspec": {
   "display_name": "Python 3",
   "language": "python",
   "name": "python3"
  },
  "language_info": {
   "codemirror_mode": {
    "name": "ipython",
    "version": 3
   },
   "file_extension": ".py",
   "mimetype": "text/x-python",
   "name": "python",
   "nbconvert_exporter": "python",
   "pygments_lexer": "ipython3",
   "version": "3.8.5"
  }
 },
 "nbformat": 4,
 "nbformat_minor": 4
}
